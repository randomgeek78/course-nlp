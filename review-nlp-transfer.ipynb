{
 "cells": [
  {
   "cell_type": "markdown",
   "metadata": {},
   "source": [
    "## Quick Start: Training an IMDb sentiment model with *ULMFiT*"
   ]
  },
  {
   "cell_type": "markdown",
   "metadata": {},
   "source": [
    "Let's start with a quick end-to-end example of training a model. We'll train a sentiment classifier on a sample of the popular IMDb data, showing 4 steps:\n",
    "\n",
    "1. Reading and viewing the IMDb data\n",
    "1. Getting your data ready for modeling\n",
    "1. Fine-tuning a language model\n",
    "1. Building a classifier"
   ]
  },
  {
   "cell_type": "code",
   "execution_count": 1,
   "metadata": {},
   "outputs": [],
   "source": [
    "from fastai.text import * "
   ]
  },
  {
   "cell_type": "markdown",
   "metadata": {},
   "source": [
    "Contrary to images in Computer Vision, text can't directly be transformed into numbers to be fed into a model. The first thing we need to do is to preprocess our data so that we change the raw texts to lists of words, or tokens (a step that is called tokenization) then transform these tokens into numbers (a step that is called numericalization). These numbers are then passed to embedding layers that will convert them in arrays of floats before passing them through a model.\n",
    "\n",
    "Steps:\n",
    "\n",
    "1. Get your data preprocessed and ready to use,\n",
    "1. Create a language model with pretrained weights that you can fine-tune to your dataset,\n",
    "1. Create other models such as classifiers on top of the encoder of the language model.\n",
    "\n",
    "To show examples, we have provided a small sample of the [IMDB dataset](https://www.imdb.com/interfaces/) which contains 1,000 reviews of movies with labels (positive or negative)."
   ]
  },
  {
   "cell_type": "code",
   "execution_count": 2,
   "metadata": {},
   "outputs": [],
   "source": [
    "path = untar_data(URLs.IMDB_SAMPLE)"
   ]
  },
  {
   "cell_type": "code",
   "execution_count": 3,
   "metadata": {},
   "outputs": [
    {
     "data": {
      "text/html": [
       "<div>\n",
       "<style scoped>\n",
       "    .dataframe tbody tr th:only-of-type {\n",
       "        vertical-align: middle;\n",
       "    }\n",
       "\n",
       "    .dataframe tbody tr th {\n",
       "        vertical-align: top;\n",
       "    }\n",
       "\n",
       "    .dataframe thead th {\n",
       "        text-align: right;\n",
       "    }\n",
       "</style>\n",
       "<table border=\"1\" class=\"dataframe\">\n",
       "  <thead>\n",
       "    <tr style=\"text-align: right;\">\n",
       "      <th></th>\n",
       "      <th>label</th>\n",
       "      <th>text</th>\n",
       "      <th>is_valid</th>\n",
       "    </tr>\n",
       "  </thead>\n",
       "  <tbody>\n",
       "    <tr>\n",
       "      <th>0</th>\n",
       "      <td>negative</td>\n",
       "      <td>Un-bleeping-believable! Meg Ryan doesn't even ...</td>\n",
       "      <td>False</td>\n",
       "    </tr>\n",
       "    <tr>\n",
       "      <th>1</th>\n",
       "      <td>positive</td>\n",
       "      <td>This is a extremely well-made film. The acting...</td>\n",
       "      <td>False</td>\n",
       "    </tr>\n",
       "    <tr>\n",
       "      <th>2</th>\n",
       "      <td>negative</td>\n",
       "      <td>Every once in a long while a movie will come a...</td>\n",
       "      <td>False</td>\n",
       "    </tr>\n",
       "    <tr>\n",
       "      <th>3</th>\n",
       "      <td>positive</td>\n",
       "      <td>Name just says it all. I watched this movie wi...</td>\n",
       "      <td>False</td>\n",
       "    </tr>\n",
       "    <tr>\n",
       "      <th>4</th>\n",
       "      <td>negative</td>\n",
       "      <td>This movie succeeds at being one of the most u...</td>\n",
       "      <td>False</td>\n",
       "    </tr>\n",
       "  </tbody>\n",
       "</table>\n",
       "</div>"
      ],
      "text/plain": [
       "      label                                               text  is_valid\n",
       "0  negative  Un-bleeping-believable! Meg Ryan doesn't even ...     False\n",
       "1  positive  This is a extremely well-made film. The acting...     False\n",
       "2  negative  Every once in a long while a movie will come a...     False\n",
       "3  positive  Name just says it all. I watched this movie wi...     False\n",
       "4  negative  This movie succeeds at being one of the most u...     False"
      ]
     },
     "execution_count": 3,
     "metadata": {},
     "output_type": "execute_result"
    }
   ],
   "source": [
    "df = pd.read_csv(path/'texts.csv')\n",
    "df.head()"
   ]
  },
  {
   "cell_type": "markdown",
   "metadata": {},
   "source": [
    "#### Get the data and create a `databunch` object to use for a language model"
   ]
  },
  {
   "cell_type": "code",
   "execution_count": 4,
   "metadata": {},
   "outputs": [
    {
     "data": {
      "text/html": [],
      "text/plain": [
       "<IPython.core.display.HTML object>"
      ]
     },
     "metadata": {},
     "output_type": "display_data"
    },
    {
     "data": {
      "text/html": [],
      "text/plain": [
       "<IPython.core.display.HTML object>"
      ]
     },
     "metadata": {},
     "output_type": "display_data"
    },
    {
     "name": "stdout",
     "output_type": "stream",
     "text": [
      "failure count is 0\n",
      "\n",
      "CPU times: user 457 ms, sys: 227 ms, total: 684 ms\n",
      "Wall time: 3.07 s\n"
     ]
    }
   ],
   "source": [
    "%%time\n",
    "\n",
    "# throws `BrokenProcessPool` Error sometimes. Keep trying `till it works!\n",
    "count = 0\n",
    "error = True\n",
    "while error:\n",
    "    try: \n",
    "        # The following line throws `AttributeError: backwards` on the learning step, below\n",
    "        # data_lm = TextDataBunch.from_csv(path, 'texts.csv')\n",
    "        # This Fastai Forum post shows the solution:\n",
    "        #      https://forums.fast.ai/t/backwards-attributes-not-found-in-nlp-text-learner/51340?u=jcatanza\n",
    "        # We implement the solution on the following line:\n",
    "        data_lm = TextLMDataBunch.from_csv(path, 'texts.csv')\n",
    "        error = False\n",
    "        print(f'failure count is {count}\\n')    \n",
    "    except: # catch *all* exceptions\n",
    "        # accumulate failure count\n",
    "        count = count + 1\n",
    "        print(f'failure count is {count}')"
   ]
  },
  {
   "cell_type": "markdown",
   "metadata": {},
   "source": [
    "#### Get the data again, this time form a `databunch` object for use in a classifier model"
   ]
  },
  {
   "cell_type": "code",
   "execution_count": 5,
   "metadata": {},
   "outputs": [
    {
     "data": {
      "text/html": [],
      "text/plain": [
       "<IPython.core.display.HTML object>"
      ]
     },
     "metadata": {},
     "output_type": "display_data"
    },
    {
     "data": {
      "text/html": [],
      "text/plain": [
       "<IPython.core.display.HTML object>"
      ]
     },
     "metadata": {},
     "output_type": "display_data"
    },
    {
     "name": "stdout",
     "output_type": "stream",
     "text": [
      "failure count is 0\n",
      "\n",
      "CPU times: user 721 ms, sys: 229 ms, total: 950 ms\n",
      "Wall time: 3.15 s\n"
     ]
    }
   ],
   "source": [
    "%%time\n",
    "\n",
    "# throws `BrokenProcessPool` Error sometimes. Keep trying `till it works!\n",
    "count = 0\n",
    "error = True\n",
    "while error:\n",
    "    try: \n",
    "        # Create the databunch for the classifier model\n",
    "        data_clas = TextClasDataBunch.from_csv(path, 'texts.csv', vocab=data_lm.train_ds.vocab, bs=32)\n",
    "        error = False\n",
    "        print(f'failure count is {count}\\n')    \n",
    "    except: # catch *all* exceptions\n",
    "        # accumulate failure count\n",
    "        count = count + 1\n",
    "        print(f'failure count is {count}')\n"
   ]
  },
  {
   "cell_type": "markdown",
   "metadata": {},
   "source": [
    "#### Save the `databunch` objects for later use"
   ]
  },
  {
   "cell_type": "code",
   "execution_count": 6,
   "metadata": {},
   "outputs": [],
   "source": [
    "data_lm.save('data_lm_export.pkl')\n",
    "data_clas.save('data_clas_export.pkl')"
   ]
  },
  {
   "cell_type": "markdown",
   "metadata": {},
   "source": [
    "#### Load the `databunch` objects\n",
    "Note that you can load the data with different [`DataBunch`](/basic_data.html#DataBunch) parameters (batch size, `bptt`,...)"
   ]
  },
  {
   "cell_type": "code",
   "execution_count": 7,
   "metadata": {},
   "outputs": [],
   "source": [
    "#bs=192\n",
    "#bs=48\n",
    "bs=32"
   ]
  },
  {
   "cell_type": "code",
   "execution_count": 8,
   "metadata": {},
   "outputs": [],
   "source": [
    "data_lm = load_data(path, 'data_lm_export.pkl', bs=bs)\n",
    "data_clas = load_data(path, 'data_clas_export.pkl', bs=bs)"
   ]
  },
  {
   "cell_type": "markdown",
   "metadata": {},
   "source": [
    "### 1. Build and fine-tune a language model"
   ]
  },
  {
   "cell_type": "markdown",
   "metadata": {},
   "source": [
    "We can use the `data_lm` object we created earlier to fine-tune a pretrained language model. [fast.ai](http://www.fast.ai/) has an English model with an AWD-LSTM architecture available that we can download. We can create a learner object that will directly create a model, download the pretrained weights and be ready for fine-tuning."
   ]
  },
  {
   "cell_type": "markdown",
   "metadata": {},
   "source": [
    "#### Set up to use the GPU"
   ]
  },
  {
   "cell_type": "code",
   "execution_count": 9,
   "metadata": {},
   "outputs": [],
   "source": [
    "# torch.cuda.set_device(1)\n",
    "torch.cuda.set_device(0)"
   ]
  },
  {
   "cell_type": "markdown",
   "metadata": {},
   "source": [
    "#### Build the IMDb language model, initializing with the hpretrained weights from `wikitext-103`"
   ]
  },
  {
   "cell_type": "code",
   "execution_count": 10,
   "metadata": {},
   "outputs": [],
   "source": [
    "learn = language_model_learner(data_lm, AWD_LSTM, drop_mult=0.5)"
   ]
  },
  {
   "cell_type": "markdown",
   "metadata": {},
   "source": [
    "#### Start training\n",
    "By default this step unfreezes and trains the weights for the last layer. Training updates the weights to values more applicable to the language of IMDb reviews."
   ]
  },
  {
   "cell_type": "code",
   "execution_count": 11,
   "metadata": {},
   "outputs": [
    {
     "data": {
      "text/html": [
       "<table border=\"1\" class=\"dataframe\">\n",
       "  <thead>\n",
       "    <tr style=\"text-align: left;\">\n",
       "      <th>epoch</th>\n",
       "      <th>train_loss</th>\n",
       "      <th>valid_loss</th>\n",
       "      <th>accuracy</th>\n",
       "      <th>time</th>\n",
       "    </tr>\n",
       "  </thead>\n",
       "  <tbody>\n",
       "    <tr>\n",
       "      <td>0</td>\n",
       "      <td>4.299138</td>\n",
       "      <td>3.914893</td>\n",
       "      <td>0.280446</td>\n",
       "      <td>00:09</td>\n",
       "    </tr>\n",
       "  </tbody>\n",
       "</table>"
      ],
      "text/plain": [
       "<IPython.core.display.HTML object>"
      ]
     },
     "metadata": {},
     "output_type": "display_data"
    }
   ],
   "source": [
    "learn.fit_one_cycle(1, 1e-2)"
   ]
  },
  {
   "cell_type": "code",
   "execution_count": 12,
   "metadata": {},
   "outputs": [],
   "source": [
    "language_model_learner??"
   ]
  },
  {
   "cell_type": "code",
   "execution_count": null,
   "metadata": {},
   "outputs": [],
   "source": [
    "learn.load_pretrained??"
   ]
  },
  {
   "cell_type": "code",
   "execution_count": null,
   "metadata": {},
   "outputs": [],
   "source": [
    "convert_weights??"
   ]
  },
  {
   "cell_type": "markdown",
   "metadata": {},
   "source": [
    "You can use [Visual Studio Code](https://code.visualstudio.com/) (vscode - open source editor that comes with recent versions of Anaconda, or can be installed separately), or most editors and IDEs, to browse code. vscode things to know:\n",
    "\n",
    "- Command palette (<kbd>Ctrl-shift-p</kbd>)\n",
    "- Go to symbol (<kbd>Ctrl-t</kbd>)\n",
    "- Find references (<kbd>Shift-F12</kbd>)\n",
    "- Go to definition (<kbd>F12</kbd>)\n",
    "- Go back (<kbd>alt-left</kbd>)\n",
    "- View documentation\n",
    "- Hide sidebar (<kbd>Ctrl-b</kbd>)\n",
    "- Zen mode (<kbd>Ctrl-k,z</kbd>)"
   ]
  },
  {
   "cell_type": "markdown",
   "metadata": {},
   "source": [
    "#### Unfreeze the weights and train some more"
   ]
  },
  {
   "cell_type": "markdown",
   "metadata": {},
   "source": [
    "Like a computer vision model, we can then unfreeze the model and fine-tune it.\n",
    "In this step we are allowing the model to update *all* the weights with values more suitable to the language of IMDb reviews. But we are mindful that the pretrained weights from wikitext-103 are likely already near their optimal values. For this we train the weights in the \"earlier\" layers with a much lower learning rate."
   ]
  },
  {
   "cell_type": "code",
   "execution_count": 13,
   "metadata": {},
   "outputs": [
    {
     "data": {
      "text/html": [
       "<table border=\"1\" class=\"dataframe\">\n",
       "  <thead>\n",
       "    <tr style=\"text-align: left;\">\n",
       "      <th>epoch</th>\n",
       "      <th>train_loss</th>\n",
       "      <th>valid_loss</th>\n",
       "      <th>accuracy</th>\n",
       "      <th>time</th>\n",
       "    </tr>\n",
       "  </thead>\n",
       "  <tbody>\n",
       "    <tr>\n",
       "      <td>0</td>\n",
       "      <td>3.990114</td>\n",
       "      <td>3.925152</td>\n",
       "      <td>0.280937</td>\n",
       "      <td>00:11</td>\n",
       "    </tr>\n",
       "    <tr>\n",
       "      <td>1</td>\n",
       "      <td>3.674947</td>\n",
       "      <td>3.901868</td>\n",
       "      <td>0.282381</td>\n",
       "      <td>00:11</td>\n",
       "    </tr>\n",
       "    <tr>\n",
       "      <td>2</td>\n",
       "      <td>3.109032</td>\n",
       "      <td>3.941258</td>\n",
       "      <td>0.280536</td>\n",
       "      <td>00:11</td>\n",
       "    </tr>\n",
       "  </tbody>\n",
       "</table>"
      ],
      "text/plain": [
       "<IPython.core.display.HTML object>"
      ]
     },
     "metadata": {},
     "output_type": "display_data"
    }
   ],
   "source": [
    "learn.unfreeze()\n",
    "learn.fit_one_cycle(3, slice(1e-4,1e-2))"
   ]
  },
  {
   "cell_type": "markdown",
   "metadata": {},
   "source": [
    "#### Test the language model"
   ]
  },
  {
   "cell_type": "markdown",
   "metadata": {},
   "source": [
    "To evaluate your language model, you can run the [`Learner.predict`](/basic_train.html#Learner.predict) method and specify the number of words you want it to guess."
   ]
  },
  {
   "cell_type": "code",
   "execution_count": 14,
   "metadata": {},
   "outputs": [
    {
     "data": {
      "text/plain": [
       "'This is a review about Major Payne , showing the pivotal moment of'"
      ]
     },
     "execution_count": 14,
     "metadata": {},
     "output_type": "execute_result"
    }
   ],
   "source": [
    "learn.predict(\"This is a review about\", n_words=10)"
   ]
  },
  {
   "cell_type": "code",
   "execution_count": 15,
   "metadata": {},
   "outputs": [
    {
     "data": {
      "text/plain": [
       "\"In the hierarchy of horror movies this has to be near the top. The actual gore , light and then you 're\""
      ]
     },
     "execution_count": 15,
     "metadata": {},
     "output_type": "execute_result"
    }
   ],
   "source": [
    "learn.predict(\"In the hierarchy of horror movies this has to be near the top.\", n_words=10)"
   ]
  },
  {
   "cell_type": "markdown",
   "metadata": {},
   "source": [
    "Sometimes the generated text doesn't make much sense because we have a tiny vocabulary and didn't train much. But note that the model respects basic grammar, which comes from the pretrained model.\n",
    "\n",
    "Finally we save the encoder to be able to use it for classification in the next section."
   ]
  },
  {
   "cell_type": "markdown",
   "metadata": {},
   "source": [
    "#### Save the encoder"
   ]
  },
  {
   "cell_type": "code",
   "execution_count": 16,
   "metadata": {},
   "outputs": [],
   "source": [
    "learn.save('mini_imdb_language_model')\n",
    "learn.save_encoder('mini_imdb_language_model_encoder')"
   ]
  },
  {
   "cell_type": "markdown",
   "metadata": {},
   "source": [
    "### 2. Build a movie review classifier\n",
    "We use mixed precision (`.to_fp16()`)for greater speed, smaller memory footprint, and a regularizing effect."
   ]
  },
  {
   "cell_type": "code",
   "execution_count": 17,
   "metadata": {},
   "outputs": [
    {
     "data": {
      "text/plain": [
       "RNNLearner(data=TextClasDataBunch;\n",
       "\n",
       "Train: LabelList (799 items)\n",
       "x: TextList\n",
       "xxbos xxmaj absolutely awful movie . xxmaj utter waste of time . \n",
       " \n",
       "  background music is so loud that you can not understand speech . xxmaj well if you really listen closely , whatever they speak is actually unintelligible . \n",
       " \n",
       "  xxmaj camera work is bad , editing is not present , background score gives a headache , action is shoddy , dialogs are unintelligible , xxmaj acting is abysmal and well xxmaj xxunk used to look like a wrestler , now she looks like a xxunk wrestler . xxmaj hell you can slim down but you can not gain grace . \n",
       " \n",
       "  xxmaj after spending three hours watching a movie i want to like it , but this movie would not even allow me that pleasure . \n",
       " \n",
       "  xxmaj please if you want to torture yourself , go ahead watch this .,xxbos i had read many good things about this adaptation of my favorite novel ... so invariably my expectations were crushed . xxmaj but they were crushed more than should be expected . xxmaj the movie would have been a decent movie if i had not read the novel beforehand , which perhaps ruined it for me . \n",
       " \n",
       "  xxmaj in any event , for some reason they changed the labor camp at xxmaj xxunk to a ship full of xxunk slaves . xxmaj the scene at xxmaj bishop xxmaj xxunk 's was fine . xxmaj in fact , other than the xxunk , things survived up until the dismissal of xxmaj fantine . xxmaj because we do not want to have bad things happen to a good woman , she does not cut her hair , sell her teeth , or become a prostitute . xxmaj the worst she does is run into the mayor 's office and spit on his face . xxmaj xxunk is entirely xxunk . xxmaj because having children out of xxunk should also not be xxunk about , xxmaj xxunk is xxmaj fantine 's dead husband , rather than an irresponsible dandy . xxmaj valjean is able to xxunk xxmaj cosette for xxmaj fantine before the xxmaj xxunk affair , so they reunite happily , yet another change . xxmaj then comes the convent , which is a pretty difficult scene to screw up . xxmaj thankfully , it was saved . xxmaj after this three minutes of accuracy , however , the movie again begins to xxunk towards xxmaj classic xxmaj novel xxmaj xxunk . \n",
       " \n",
       "  xxmaj as xxmaj cosette and xxmaj valjean are riding through the park , they come across xxmaj marius giving a speech at a meeting . xxmaj about prison reform . xxmaj when he comes to hand out xxunk to xxmaj valjean and xxmaj cosette , he says the one line in the movie that set me screaming at the xxup tv set . \" xxmaj we are n't revolutionaries . \" i could hear xxmaj victor xxmaj hugo xxunk in his grave . xxup of xxup course xxup they xxup are xxup revolutionaries ! xxmaj they want to revolt against the pseudo - xxunk that is in place in favor of another republic , you dumb screenwriters ! xxmaj it 's a historical xxup fact that there was an xxunk against the government in xxunk . \n",
       " \n",
       "  xxmaj at one point xxmaj cosette goes to give xxmaj marius a xxunk from her father for the reform movement and meets xxmaj eponine . xxmaj except ... not xxmaj eponine . xxmaj or at least not the xxmaj eponine of the book . xxmaj this xxmaj eponine appears to be a well - to - do secretary girl working for the prison reformers ( who are working out of the xxmaj cafe xxmaj universal as opposed to the xxmaj cafe xxmaj xxunk ) . xxmaj not to mention the audience is already made to dislike her thanks to her not - period , low - cut , tight - fitting dress and her xxunk mannerisms . \n",
       " \n",
       "  xxmaj the prison reformers ( xxmaj lead by the most poorly cast xxmaj enjolras that i have xxup ever seen ) decide that xxunk out xxunk is n't good enough anymore . xxmaj so they 're going to build barricades . i do n't know about you , but i have never heard of reform movements tearing up the streets and building barricades and attacking government troops . xxmaj about three hundred people ( it was not supposed to be so many ) start attacking the xxmaj national xxmaj guard and building a bunch of barricades , etc . xxmaj eponine does die for xxmaj marius , thankfully . \n",
       " \n",
       "  xxmaj the rest of the movie is sort of accurate , except that xxmaj javert 's suicide again seems hard to understand thanks to his minuscule screen time and odd character interpretation . xxmaj the movie ends with xxmaj valjean watching xxmaj javert jump into the river . xxmaj this is again inaccurate because xxmaj valjean would never have let xxmaj javert drown . xxmaj he saved the man 's life earlier , why let him die now ? xxmaj then there 's the whole skipping of xxmaj valjean 's confession to xxmaj marius , his xxunk , and his redemption on his deathbed with xxmaj marius and xxmaj cosette by his side . \n",
       " \n",
       "  xxmaj overall , i can blame the script mostly for the problems . xxmaj while i am glad xxmaj enjolras and xxmaj eponine were at least present in the film , they were terribly xxunk , as was the entire barricade scene . xxmaj the xxunk of xxmaj fantine 's suffering xxunk us from feeling too much pity for her . xxmaj that xxmaj cosette knows xxmaj valjean 's past from the start messes with the plot a good deal . i did not even see xxmaj thenardier , and xxmaj xxunk . xxmaj thenardier only had a few seconds of screen time . xxmaj the same with xxmaj xxunk . i did like xxmaj xxunk xxmaj march 's interpretation of xxmaj valjean a lot , however , which was one of the redeeming features of the movie . xxmaj on the other hand , xxmaj charles xxmaj xxunk , for all his great acting in other movies , seems to have missed the mark with xxmaj javert . xxmaj the lip tremble , the unnecessary shouting , and his acting in general all just felt very wrong . xxmaj he also , like many xxmaj xxunk i have seen , did not appear at all menacing , something required of the character . \n",
       " \n",
       "  xxmaj again , this film would probably feel much better if i had not read the book . i would not recommend it to book purists , though . i would also say that the movie would have been a good adaptation for the time had not the xxunk accurate xxmaj french version come out the year before .,xxbos xxmaj xxunk the opening credits sequence is a xxunk man having a strange , all - too - real nightmare . xxmaj closing in on its xxunk xxunk xxmaj paris , the film begins to follow a woman into a xxunk club , where she and a xxmaj xxunk xxunk xxunk outside on the deck . xxmaj they xxunk xxunk at each other to the effect that she xxunk him more money although she believes she 's paid it all . xxmaj another woman xxunk the xxunk violence , only to have a bitter fight with the woman herself . xxmaj the initial woman xxunk out , and she is kidnapped . xxmaj christian xxmaj xxunk 's xxmaj renaissance appears to be another one in an assembly line of recent motion - capture - animated sci - fi noir pictures , but in spite of whether or not that is essentially true , it tells a xxunk xxunk , xxunk xxunk detective story that keeps us in the dark in its opening minutes , even whilst xxunk xxmaj xxunk , the hard - xxunk cop we recognize from the beginning as the man xxunk from a terrible dream . \n",
       " \n",
       "  xxmaj the xxunk of classic film noir are all hit upon without any xxunk changes , for all xxunk and xxunk . xxmaj it is in the xxunk of its xxunk that xxmaj xxunk 's xxmaj french thriller has followed no example . xxmaj for the film 's xxunk , xxunk by the challenges of physical lighting that would normally be faced , have been able to begin with a totally black frame , and to xxunk utter pitch - white according to the action on screen . xxmaj as they xxunk xxunk the effects of real light xxunk throughout the frame , the xxunk of black and white here is full - blown without even any of the slightest shades of gray to tone with the characters ' less xxunk definite moral codes , and the outcome is a harsh and judgmental vision of the direction in which commercial civilization is going , xxunk caused to xxunk the most xxunk and ruthless of xxunk . xxmaj it is the artistic study of film noir taken to their visual xxunk of its philosophy , and nothing before has ever shared quite the same execution of this visual concept . \n",
       " \n",
       "  xxmaj all the characters in this decent xxunk film seem as if to have been walk off with purely from a xxmaj gothic comic book in black xxunk , but all together their physical xxunk , their xxunk and the nuances of their facial expressions look xxunk within a clear humanity . xxmaj normally , films that try out new developments in animation allow their technical xxunk upstage all other xxunk of production . xxmaj sin xxmaj city , for example , left substance and overall good screen adaptation from its source material to be desired . \n",
       " \n",
       "  xxmaj it may not be mind - blowing , it may have its narrative conventions and its voice - over cast may simply be adequate , but xxmaj renaissance , made for $ xxunk million over six years , not only feels like actual noir instead of a xxunk xxunk xxunk , but also is not xxunk to all the visual innovation , which is played as if to be incidental . xxmaj one leaves thinking not so much about how cool it is when xxmaj xxunk is xxunk bullets shot through a xxunk glass xxmaj parisian street , but more about its xxunk of life and death , how life 's tragedies , such as death , make life meaningful .,xxbos xxmaj sisters xxmaj in xxmaj law is made by the same directors of the rather curiously fascinating ' xxmaj divorce , xxmaj iranian xxmaj style ' which was as exactly as it stated , as we got a glimpse of xxmaj divorce court in xxmaj iran . xxmaj now they 've turned their attention to the court system in xxmaj xxunk , xxmaj africa . xxmaj what 's great about this court is that 2 of the xxunk are xxmaj women , which is unusual for such a country like this . xxmaj xxunk , they deal with plenty of men used to getting their way around the women , but this film is remarkable in the fact that it appears that women has made great xxunk in society , with divorce legal and women 's rights being recognized . xxmaj so the judges often xxunk the men for behaving in a primitive way in these times . xxmaj not to say that the women who appear at the court get the xxunk treatment . xxmaj one of the prime focuses of the film is a case of child abuse done by an xxmaj aunt . xxmaj the judges waste no time in xxunk out at the woman with fury . xxmaj and who said that justice is n't served anymore ? xxmaj with these 2 behind the bench . xxmaj they often carry out maximum xxunk ! xxmaj ya ! xxmaj you go girl !,xxbos xxmaj for those fans of xxmaj laurel and xxmaj hardy , the 1940s and beyond were a very sad time for the team . xxmaj their xxunk with xxmaj xxunk xxmaj roach xxmaj studios had xxunk and now they were \" free xxunk to work for any studio who offered them a job . xxmaj unfortunately , xxmaj fox , xxup rko , xxup mgm ( without xxmaj roach ) and even a xxmaj french film company who hired the boys had absolutely no touch for their comedic talents . xxmaj plus , xxmaj stan and xxmaj ollie were a lot older and seeing these xxunk men taking xxunk seemed sad , not particularly funny . xxmaj stan looked very ragged and xxmaj ollie 's weight had xxunk up to the point where he could barely walk -- and so it made me feel uncomfortable laughing at their very , very xxunk antics . \n",
       " \n",
       "  xxmaj in addition to their age , this particular film suffers because xxmaj fox xxmaj studios oddly cast them in a supporting role and created a parallel plot involving a young couple -- something that reduced their time on screen xxup and turned them into insipid \" xxunk on \" instead of just being themselves . a cute and xxunk xxmaj stan and xxmaj ollie is very foreign to the old xxmaj laurel and xxmaj hardy of the xxunk and 30s -- and just seemed awfully strange and suited them poorly . \n",
       " \n",
       "  xxmaj now even with their age , this xxup could have been a decent movie if it had been given decent writing and if it appeared the studio cared -- and it 's quite obvious they were using the \" b unit \" here -- with , at best , second class support . xxmaj in particular , there are very few laughs and the last 10 minutes of the film is simply dreadful -- xxunk xxunk on a sloppy rear - projected screen for the stupid chase scene -- which might just rank as one of the worst of its kind in film history . \n",
       " \n",
       "  xxmaj for mind - xxunk zombie lovers of xxmaj laurel and xxmaj hardy , it 's probably a film they will love . xxmaj but , for lovers of the team who are willing to honestly evaluate this film relative to their amazing earlier films , it simply comes up wanting indeed . xxmaj in fact , of all their full - length films xxunk , i ca n't think of one i liked less than xxup dancing xxup masters . xxmaj unfortunately , of the xxunk films , this might just be one of their better ones . xxmaj sadly , it got a lot worse -- with wretched films like xxup the xxup big xxup noise and xxup nothing xxup but xxup trouble . i just wish the boys had just retired after xxup xxunk xxup at xxup sea . \n",
       " \n",
       "  xxmaj finally , i wonder if all the generally positive reviews for this film on imdb might reflect the reviewers ' love of the team more than it 's an indication that this is a good film ? xxmaj for an audience who are xxup not already in love with the team , i do n't know xxup how this film will do anything but bore the audience -- it certainly xxup xxunk convince anyone that xxmaj laurel and xxmaj hardy were comedic geniuses . xxmaj but even comedic geniuses need material worthy of their talents .\n",
       "y: CategoryList\n",
       "negative,negative,positive,positive,negative\n",
       "Path: /root/.fastai/data/imdb_sample;\n",
       "\n",
       "Valid: LabelList (201 items)\n",
       "x: TextList\n",
       "xxbos i was required to watch the movie for my work , so i did n't pay for it ( on the contrary , i got paid ) , but i still found the movie to suck far more than average . xxmaj the jokes were lame , the two lead actresses ... well , to use the \" xxmaj first wives club \" division of women 's ages in xxmaj hollywood , they are no longer in their \" hot chick \" age but more in their \" xxunk xxunk \" age . xxmaj what xxunk me most about the movie was the main plot line , which pretty much completely xxunk \" xxmaj xxunk & xxmaj xxunk xxmaj do xxmaj america \" ( in which the boys are all xxunk up about some dude offering them money to \" do his wife \" , not realizing they 're expected to xxunk her ) . xxmaj all in all , a bland piece of crap .,xxbos i just saw xxunk yesterday , and i was xxup really xxunk . xxmaj despite all the xxmaj oscar buzz , this is nothing special . xxmaj anyone who was really impressed by this film has never bothered to see any of the true movie musical classics . xxmaj except for xxmaj eddie xxmaj murphy 's great musical and dramatic performance , xxmaj xxunk is just a xxunk xxup tv movie with no style or flair . xxmaj just a bunch of xxunk singing xxup at each other ! \n",
       " \n",
       "  xxmaj now , the first half hour was good , but i was irritated at how xxmaj eddie xxmaj murphy 's terrific xxunk performances were xxunk and interrupted by xxunk . xxmaj those were easily the best songs and best performances in the film . xxmaj and the \" rise to the top \" portion of the film was the only part of the film that had a consistent point of view or any xxunk . xxmaj the remaining hour and 45 minutes was a xxunk , rambling mess that was neither realistic nor fantastic enough to be interesting . xxmaj it was also visually dull and included too many sound - alike tunes . \n",
       " \n",
       "  xxmaj xxunk did n't try to turn any of the tunes into big show pieces as i 'd expected they would . xxmaj each number in the 2nd half was just one xxunk after another of people \" singing \" xxup at each other . xxmaj and the way they shot xxmaj hudson 's big \" love me \" number was criminal ! xxmaj xxunk just shot her xxunk around the stage -- no drama at all ! xxmaj god it sucked ! \n",
       " \n",
       "  xxup and note to all involved -- that \" sing - talking dialog \" stuff might work on stage , but it xxup does xxup not xxup work xxup in xxup movies ( see embarrassing failures of xxmaj xxunk and xxmaj phantom ) . xxmaj all that \" i 'll t xxrep 4 e xxunk xxunk xxrep 4 u something xxmaj xxunk - i xxrep 4 e ! \" crap should have been left on the editing room floor . xxmaj those are n't \" songs . \" \n",
       " \n",
       "  xxmaj again , the film -- except for xxmaj eddie xxmaj murphy 's amazing performance -- was nothing more than a xxunk xxup tv movie . xxmaj there must have been xxunk behind the xxup xxunk work for this film ! i wonder how much money was spent to give it that pre - release \" one to beat \" xxmaj oscar buzz ? xxmaj as a whole this film was , except for xxmaj eddie , xxup nowhere xxup near an xxmaj oscar caliber movie ! ( except for xxmaj eddie ) i 'd rank it right up there with xxmaj xxunk 2 . xxup big disappointment , especially after all the ( very xxunk ) hype !,xxbos i grew up xxmaj xxunk and i know the story this movie is trying to tell , although i no longer believe the story . i 'll give the movie kudos for being as good as the average xxmaj lifetime xxmaj movie of the xxmaj week . xxmaj mildly interesting , mediocre acting , a bit slow , the script is predictable , the music is sappy , and it is a bit melodramatic . xxmaj and all the people left behind have got to be the xxunk clean non - xxmaj christians , ever . xxmaj not a single curse word from any of them . xxmaj but i laughed out loud when the actor playing the man who runs the xxmaj united xxmaj nations xxunk \" nuclear \" as \" nu - cu - ler , \" just like xxmaj bush . xxmaj is there some xxmaj christian code of honor that xxunk that since xxmaj bush claims he , too , is called by xxmaj god , that all xxmaj christians must cover up his ignorance by xxunk that word the same way he does ? xxup xxunk ! i really had a difficult time taking the movie seriously at all after that . xxmaj after the \" nu - cu - ler \" incident , the movie began to feel like xxunk , manipulative propaganda . i was looking for something bold . xxmaj actually , i was looking for something that might make me think , but i did n't find it here . xxmaj if you 're looking for mindless entertainment , stop here - it 's good for killing a rainy afternoon . xxmaj but if you 're looking for intelligence , look elsewhere .,xxbos xxmaj xxunk 3 is bad ... awfully bad . xxmaj bad to the point where it is funny . xxmaj how matter how much i try to convince myself , i just ca n't believe anyone in this world could find this entertaining for serious reasons . i mean , come on , even the cover is bad ! xxup ok , the special effects are absolutely ridiculous . xxmaj those \" xxmaj carnosaurs \" are really ridiculous . a scientist tells the soldiers that they move incredibly fast , yet when you see them run , they run at the speed of ... an actor in a rubber suit trying to run as much as he can . xxmaj and the explosions are xxunk is no other word to describe it ) . xxmaj at the beginning , a bullet hits a xxmaj xxunk xxup after a guys says \" xxmaj what was that ? \" ... xxmaj and the other explosions are also laughable . xxmaj but the worst thing is the screenplay and the so - called story . xxmaj you do n't expect a good xxunk , i do n't think anyone renting this movie expects a good movie ) but at least the story has to try to make sense . i mean , how hard is it to make a story about dinosaurs killing people at least coherent . xxmaj incredibly hard if you look at this . xxmaj oh , and if you think that it 's easy to makes believable commandos as your characters , tell it to the writers of this awful , awful piece of crap . i mean , what sick human being would make cheap jokes after one of his buddies is dead ? xxmaj and they do lots of it . xxmaj and if you think that a movie about dinosaurs killing soldiers can only be at least action - packed , xxup wake xxup up ! ! ! xxmaj this movie is incredibly dull . xxmaj the xxunk invented this lame name anyway ? ) xxunk boring action sequences where you do n't see much happening ) . xxmaj the soldiers think of how to beat xxunk incredibly funny scenes where they try real hard to be serious but ca n't seem to convince even just one second ) . xxmaj so , then , they attack the carnosaurs , but their idea does n't xxunk laughable action sequence ) . xxmaj back to xxunk a few lame jokes thrown in ) in another ridiculous scene . xxmaj and this goes on , and on , and on . xxmaj and let 's not forget the acting which is about as convincing as the special effects ... and the story ... xxmaj oh xxup ok , this movie simply sucks from a to xxup z. \n",
       " \n",
       " ,xxbos xxup dvd has become the equivalent of the old late night double - bill xxunk , the last chance to catch old movies on the verge of being completely forgotten like xxmaj the xxmaj border . xxmaj there were great expectations for this back in xxunk  a script co - written by xxmaj the xxmaj wild xxmaj bunch 's xxmaj xxunk xxmaj green , xxmaj jack xxmaj nicholson in the days when he could still act without xxunk and a great supporting cast ( xxmaj harvey xxmaj xxunk , xxmaj warren xxmaj oates , xxmaj valerie xxmaj xxunk ) , xxmaj tony xxmaj richardson directing ( although he was pretty much a spent force by then )  but now it does n't even turn up on xxup tv . xxmaj the material certainly offers a rich xxunk of possibilities for comment on the 80s xxmaj american xxmaj dreams of capitalism and xxunk xxunk , with xxmaj nicholson 's border xxunk turning a blind eye to the odd drug deal or bit of people xxunk to xxunk his wife 's xxunk xxunk , until he xxunk his xxunk when he finds out his partners are also in the baby selling business . xxmaj unfortunately , he never really gets his hands dirty , barely even turning a blind eye before his xxunk rises to the surface . xxmaj the film feels always xxunk down as if too many xxunk and too many xxunk have left it xxunk and , sadly , the recent xxup dvd release is a missed opportunity to xxunk the original , xxunk ending where xxmaj nicholson goes over the edge and xxunk the border xxunk station that was cut after xxunk audiences found it too downbeat but which still featured xxunk in the film 's trailers . \n",
       " \n",
       "  xxmaj while that probably was n't too convincing considering how low - key xxmaj nicholson 's crisis of xxunk is in the film , it had to be better than the crude xxunk climax where the film xxunk logic and even basic rules of continuity : at one point he 's holding characters at xxunk , then he 's somewhere else and they 're free trying to kill him , one character goes from injured at his house to xxunk around like a xxunk on the xxunk of the xxmaj xxunk xxmaj xxunk while xxmaj valerie xxmaj xxunk 's character gets dumber on an xxunk level . xxmaj the villains of the piece are xxunk of with absurd ease ( and one impressive car stunt ) in time for a xxunk edited happy ending and you start wondering if you somehow found yourself watching another film entirely . xxmaj what makes it all the more clumsy is that the rest of the film is so flat and xxunk that the sudden xxunk into melodrama is all the more jarring . xxmaj unfortunately xxmaj xxunk xxmaj xxunk 's beautiful title song , xxmaj across the xxmaj xxunk , says it all much more economically . xxmaj but if you want to know the film 's real crime , it 's completely wasting the great xxmaj warren xxmaj oates in a nothing bit part . xxmaj when even he ca n't make an impression , you know something 's really wrong . xxmaj all in all , all too easy to remember why i found this so forgettable at the time .\n",
       "y: CategoryList\n",
       "negative,negative,negative,negative,negative\n",
       "Path: /root/.fastai/data/imdb_sample;\n",
       "\n",
       "Test: None, model=SequentialRNN(\n",
       "  (0): MultiBatchEncoder(\n",
       "    (module): AWD_LSTM(\n",
       "      (encoder): Embedding(8880, 400, padding_idx=1)\n",
       "      (encoder_dp): EmbeddingDropout(\n",
       "        (emb): Embedding(8880, 400, padding_idx=1)\n",
       "      )\n",
       "      (rnns): ModuleList(\n",
       "        (0): WeightDropout(\n",
       "          (module): LSTM(400, 1152, batch_first=True)\n",
       "        )\n",
       "        (1): WeightDropout(\n",
       "          (module): LSTM(1152, 1152, batch_first=True)\n",
       "        )\n",
       "        (2): WeightDropout(\n",
       "          (module): LSTM(1152, 400, batch_first=True)\n",
       "        )\n",
       "      )\n",
       "      (input_dp): RNNDropout()\n",
       "      (hidden_dps): ModuleList(\n",
       "        (0): RNNDropout()\n",
       "        (1): RNNDropout()\n",
       "        (2): RNNDropout()\n",
       "      )\n",
       "    )\n",
       "  )\n",
       "  (1): PoolingLinearClassifier(\n",
       "    (layers): Sequential(\n",
       "      (0): BatchNorm1d(1200, eps=1e-05, momentum=0.1, affine=True, track_running_stats=True)\n",
       "      (1): Dropout(p=0.2, inplace=False)\n",
       "      (2): Linear(in_features=1200, out_features=50, bias=True)\n",
       "      (3): ReLU(inplace=True)\n",
       "      (4): BatchNorm1d(50, eps=1e-05, momentum=0.1, affine=True, track_running_stats=True)\n",
       "      (5): Dropout(p=0.1, inplace=False)\n",
       "      (6): Linear(in_features=50, out_features=2, bias=True)\n",
       "    )\n",
       "  )\n",
       "), opt_func=functools.partial(<class 'torch.optim.adam.Adam'>, betas=(0.9, 0.99)), loss_func=FlattenedLoss of CrossEntropyLoss(), metrics=[<function accuracy at 0x7faa02448598>], true_wd=True, bn_wd=True, wd=0.01, train_bn=True, path=PosixPath('/root/.fastai/data/imdb_sample'), model_dir='models', callback_fns=[functools.partial(<class 'fastai.basic_train.Recorder'>, add_time=True, silent=False)], callbacks=[RNNTrainer\n",
       "learn: RNNLearner(data=TextClasDataBunch;\n",
       "\n",
       "Train: LabelList (799 items)\n",
       "x: TextList\n",
       "xxbos xxmaj absolutely awful movie . xxmaj utter waste of time . \n",
       " \n",
       "  background music is so loud that you can not understand speech . xxmaj well if you really listen closely , whatever they speak is actually unintelligible . \n",
       " \n",
       "  xxmaj camera work is bad , editing is not present , background score gives a headache , action is shoddy , dialogs are unintelligible , xxmaj acting is abysmal and well xxmaj xxunk used to look like a wrestler , now she looks like a xxunk wrestler . xxmaj hell you can slim down but you can not gain grace . \n",
       " \n",
       "  xxmaj after spending three hours watching a movie i want to like it , but this movie would not even allow me that pleasure . \n",
       " \n",
       "  xxmaj please if you want to torture yourself , go ahead watch this .,xxbos i had read many good things about this adaptation of my favorite novel ... so invariably my expectations were crushed . xxmaj but they were crushed more than should be expected . xxmaj the movie would have been a decent movie if i had not read the novel beforehand , which perhaps ruined it for me . \n",
       " \n",
       "  xxmaj in any event , for some reason they changed the labor camp at xxmaj xxunk to a ship full of xxunk slaves . xxmaj the scene at xxmaj bishop xxmaj xxunk 's was fine . xxmaj in fact , other than the xxunk , things survived up until the dismissal of xxmaj fantine . xxmaj because we do not want to have bad things happen to a good woman , she does not cut her hair , sell her teeth , or become a prostitute . xxmaj the worst she does is run into the mayor 's office and spit on his face . xxmaj xxunk is entirely xxunk . xxmaj because having children out of xxunk should also not be xxunk about , xxmaj xxunk is xxmaj fantine 's dead husband , rather than an irresponsible dandy . xxmaj valjean is able to xxunk xxmaj cosette for xxmaj fantine before the xxmaj xxunk affair , so they reunite happily , yet another change . xxmaj then comes the convent , which is a pretty difficult scene to screw up . xxmaj thankfully , it was saved . xxmaj after this three minutes of accuracy , however , the movie again begins to xxunk towards xxmaj classic xxmaj novel xxmaj xxunk . \n",
       " \n",
       "  xxmaj as xxmaj cosette and xxmaj valjean are riding through the park , they come across xxmaj marius giving a speech at a meeting . xxmaj about prison reform . xxmaj when he comes to hand out xxunk to xxmaj valjean and xxmaj cosette , he says the one line in the movie that set me screaming at the xxup tv set . \" xxmaj we are n't revolutionaries . \" i could hear xxmaj victor xxmaj hugo xxunk in his grave . xxup of xxup course xxup they xxup are xxup revolutionaries ! xxmaj they want to revolt against the pseudo - xxunk that is in place in favor of another republic , you dumb screenwriters ! xxmaj it 's a historical xxup fact that there was an xxunk against the government in xxunk . \n",
       " \n",
       "  xxmaj at one point xxmaj cosette goes to give xxmaj marius a xxunk from her father for the reform movement and meets xxmaj eponine . xxmaj except ... not xxmaj eponine . xxmaj or at least not the xxmaj eponine of the book . xxmaj this xxmaj eponine appears to be a well - to - do secretary girl working for the prison reformers ( who are working out of the xxmaj cafe xxmaj universal as opposed to the xxmaj cafe xxmaj xxunk ) . xxmaj not to mention the audience is already made to dislike her thanks to her not - period , low - cut , tight - fitting dress and her xxunk mannerisms . \n",
       " \n",
       "  xxmaj the prison reformers ( xxmaj lead by the most poorly cast xxmaj enjolras that i have xxup ever seen ) decide that xxunk out xxunk is n't good enough anymore . xxmaj so they 're going to build barricades . i do n't know about you , but i have never heard of reform movements tearing up the streets and building barricades and attacking government troops . xxmaj about three hundred people ( it was not supposed to be so many ) start attacking the xxmaj national xxmaj guard and building a bunch of barricades , etc . xxmaj eponine does die for xxmaj marius , thankfully . \n",
       " \n",
       "  xxmaj the rest of the movie is sort of accurate , except that xxmaj javert 's suicide again seems hard to understand thanks to his minuscule screen time and odd character interpretation . xxmaj the movie ends with xxmaj valjean watching xxmaj javert jump into the river . xxmaj this is again inaccurate because xxmaj valjean would never have let xxmaj javert drown . xxmaj he saved the man 's life earlier , why let him die now ? xxmaj then there 's the whole skipping of xxmaj valjean 's confession to xxmaj marius , his xxunk , and his redemption on his deathbed with xxmaj marius and xxmaj cosette by his side . \n",
       " \n",
       "  xxmaj overall , i can blame the script mostly for the problems . xxmaj while i am glad xxmaj enjolras and xxmaj eponine were at least present in the film , they were terribly xxunk , as was the entire barricade scene . xxmaj the xxunk of xxmaj fantine 's suffering xxunk us from feeling too much pity for her . xxmaj that xxmaj cosette knows xxmaj valjean 's past from the start messes with the plot a good deal . i did not even see xxmaj thenardier , and xxmaj xxunk . xxmaj thenardier only had a few seconds of screen time . xxmaj the same with xxmaj xxunk . i did like xxmaj xxunk xxmaj march 's interpretation of xxmaj valjean a lot , however , which was one of the redeeming features of the movie . xxmaj on the other hand , xxmaj charles xxmaj xxunk , for all his great acting in other movies , seems to have missed the mark with xxmaj javert . xxmaj the lip tremble , the unnecessary shouting , and his acting in general all just felt very wrong . xxmaj he also , like many xxmaj xxunk i have seen , did not appear at all menacing , something required of the character . \n",
       " \n",
       "  xxmaj again , this film would probably feel much better if i had not read the book . i would not recommend it to book purists , though . i would also say that the movie would have been a good adaptation for the time had not the xxunk accurate xxmaj french version come out the year before .,xxbos xxmaj xxunk the opening credits sequence is a xxunk man having a strange , all - too - real nightmare . xxmaj closing in on its xxunk xxunk xxmaj paris , the film begins to follow a woman into a xxunk club , where she and a xxmaj xxunk xxunk xxunk outside on the deck . xxmaj they xxunk xxunk at each other to the effect that she xxunk him more money although she believes she 's paid it all . xxmaj another woman xxunk the xxunk violence , only to have a bitter fight with the woman herself . xxmaj the initial woman xxunk out , and she is kidnapped . xxmaj christian xxmaj xxunk 's xxmaj renaissance appears to be another one in an assembly line of recent motion - capture - animated sci - fi noir pictures , but in spite of whether or not that is essentially true , it tells a xxunk xxunk , xxunk xxunk detective story that keeps us in the dark in its opening minutes , even whilst xxunk xxmaj xxunk , the hard - xxunk cop we recognize from the beginning as the man xxunk from a terrible dream . \n",
       " \n",
       "  xxmaj the xxunk of classic film noir are all hit upon without any xxunk changes , for all xxunk and xxunk . xxmaj it is in the xxunk of its xxunk that xxmaj xxunk 's xxmaj french thriller has followed no example . xxmaj for the film 's xxunk , xxunk by the challenges of physical lighting that would normally be faced , have been able to begin with a totally black frame , and to xxunk utter pitch - white according to the action on screen . xxmaj as they xxunk xxunk the effects of real light xxunk throughout the frame , the xxunk of black and white here is full - blown without even any of the slightest shades of gray to tone with the characters ' less xxunk definite moral codes , and the outcome is a harsh and judgmental vision of the direction in which commercial civilization is going , xxunk caused to xxunk the most xxunk and ruthless of xxunk . xxmaj it is the artistic study of film noir taken to their visual xxunk of its philosophy , and nothing before has ever shared quite the same execution of this visual concept . \n",
       " \n",
       "  xxmaj all the characters in this decent xxunk film seem as if to have been walk off with purely from a xxmaj gothic comic book in black xxunk , but all together their physical xxunk , their xxunk and the nuances of their facial expressions look xxunk within a clear humanity . xxmaj normally , films that try out new developments in animation allow their technical xxunk upstage all other xxunk of production . xxmaj sin xxmaj city , for example , left substance and overall good screen adaptation from its source material to be desired . \n",
       " \n",
       "  xxmaj it may not be mind - blowing , it may have its narrative conventions and its voice - over cast may simply be adequate , but xxmaj renaissance , made for $ xxunk million over six years , not only feels like actual noir instead of a xxunk xxunk xxunk , but also is not xxunk to all the visual innovation , which is played as if to be incidental . xxmaj one leaves thinking not so much about how cool it is when xxmaj xxunk is xxunk bullets shot through a xxunk glass xxmaj parisian street , but more about its xxunk of life and death , how life 's tragedies , such as death , make life meaningful .,xxbos xxmaj sisters xxmaj in xxmaj law is made by the same directors of the rather curiously fascinating ' xxmaj divorce , xxmaj iranian xxmaj style ' which was as exactly as it stated , as we got a glimpse of xxmaj divorce court in xxmaj iran . xxmaj now they 've turned their attention to the court system in xxmaj xxunk , xxmaj africa . xxmaj what 's great about this court is that 2 of the xxunk are xxmaj women , which is unusual for such a country like this . xxmaj xxunk , they deal with plenty of men used to getting their way around the women , but this film is remarkable in the fact that it appears that women has made great xxunk in society , with divorce legal and women 's rights being recognized . xxmaj so the judges often xxunk the men for behaving in a primitive way in these times . xxmaj not to say that the women who appear at the court get the xxunk treatment . xxmaj one of the prime focuses of the film is a case of child abuse done by an xxmaj aunt . xxmaj the judges waste no time in xxunk out at the woman with fury . xxmaj and who said that justice is n't served anymore ? xxmaj with these 2 behind the bench . xxmaj they often carry out maximum xxunk ! xxmaj ya ! xxmaj you go girl !,xxbos xxmaj for those fans of xxmaj laurel and xxmaj hardy , the 1940s and beyond were a very sad time for the team . xxmaj their xxunk with xxmaj xxunk xxmaj roach xxmaj studios had xxunk and now they were \" free xxunk to work for any studio who offered them a job . xxmaj unfortunately , xxmaj fox , xxup rko , xxup mgm ( without xxmaj roach ) and even a xxmaj french film company who hired the boys had absolutely no touch for their comedic talents . xxmaj plus , xxmaj stan and xxmaj ollie were a lot older and seeing these xxunk men taking xxunk seemed sad , not particularly funny . xxmaj stan looked very ragged and xxmaj ollie 's weight had xxunk up to the point where he could barely walk -- and so it made me feel uncomfortable laughing at their very , very xxunk antics . \n",
       " \n",
       "  xxmaj in addition to their age , this particular film suffers because xxmaj fox xxmaj studios oddly cast them in a supporting role and created a parallel plot involving a young couple -- something that reduced their time on screen xxup and turned them into insipid \" xxunk on \" instead of just being themselves . a cute and xxunk xxmaj stan and xxmaj ollie is very foreign to the old xxmaj laurel and xxmaj hardy of the xxunk and 30s -- and just seemed awfully strange and suited them poorly . \n",
       " \n",
       "  xxmaj now even with their age , this xxup could have been a decent movie if it had been given decent writing and if it appeared the studio cared -- and it 's quite obvious they were using the \" b unit \" here -- with , at best , second class support . xxmaj in particular , there are very few laughs and the last 10 minutes of the film is simply dreadful -- xxunk xxunk on a sloppy rear - projected screen for the stupid chase scene -- which might just rank as one of the worst of its kind in film history . \n",
       " \n",
       "  xxmaj for mind - xxunk zombie lovers of xxmaj laurel and xxmaj hardy , it 's probably a film they will love . xxmaj but , for lovers of the team who are willing to honestly evaluate this film relative to their amazing earlier films , it simply comes up wanting indeed . xxmaj in fact , of all their full - length films xxunk , i ca n't think of one i liked less than xxup dancing xxup masters . xxmaj unfortunately , of the xxunk films , this might just be one of their better ones . xxmaj sadly , it got a lot worse -- with wretched films like xxup the xxup big xxup noise and xxup nothing xxup but xxup trouble . i just wish the boys had just retired after xxup xxunk xxup at xxup sea . \n",
       " \n",
       "  xxmaj finally , i wonder if all the generally positive reviews for this film on imdb might reflect the reviewers ' love of the team more than it 's an indication that this is a good film ? xxmaj for an audience who are xxup not already in love with the team , i do n't know xxup how this film will do anything but bore the audience -- it certainly xxup xxunk convince anyone that xxmaj laurel and xxmaj hardy were comedic geniuses . xxmaj but even comedic geniuses need material worthy of their talents .\n",
       "y: CategoryList\n",
       "negative,negative,positive,positive,negative\n",
       "Path: /root/.fastai/data/imdb_sample;\n",
       "\n",
       "Valid: LabelList (201 items)\n",
       "x: TextList\n",
       "xxbos i was required to watch the movie for my work , so i did n't pay for it ( on the contrary , i got paid ) , but i still found the movie to suck far more than average . xxmaj the jokes were lame , the two lead actresses ... well , to use the \" xxmaj first wives club \" division of women 's ages in xxmaj hollywood , they are no longer in their \" hot chick \" age but more in their \" xxunk xxunk \" age . xxmaj what xxunk me most about the movie was the main plot line , which pretty much completely xxunk \" xxmaj xxunk & xxmaj xxunk xxmaj do xxmaj america \" ( in which the boys are all xxunk up about some dude offering them money to \" do his wife \" , not realizing they 're expected to xxunk her ) . xxmaj all in all , a bland piece of crap .,xxbos i just saw xxunk yesterday , and i was xxup really xxunk . xxmaj despite all the xxmaj oscar buzz , this is nothing special . xxmaj anyone who was really impressed by this film has never bothered to see any of the true movie musical classics . xxmaj except for xxmaj eddie xxmaj murphy 's great musical and dramatic performance , xxmaj xxunk is just a xxunk xxup tv movie with no style or flair . xxmaj just a bunch of xxunk singing xxup at each other ! \n",
       " \n",
       "  xxmaj now , the first half hour was good , but i was irritated at how xxmaj eddie xxmaj murphy 's terrific xxunk performances were xxunk and interrupted by xxunk . xxmaj those were easily the best songs and best performances in the film . xxmaj and the \" rise to the top \" portion of the film was the only part of the film that had a consistent point of view or any xxunk . xxmaj the remaining hour and 45 minutes was a xxunk , rambling mess that was neither realistic nor fantastic enough to be interesting . xxmaj it was also visually dull and included too many sound - alike tunes . \n",
       " \n",
       "  xxmaj xxunk did n't try to turn any of the tunes into big show pieces as i 'd expected they would . xxmaj each number in the 2nd half was just one xxunk after another of people \" singing \" xxup at each other . xxmaj and the way they shot xxmaj hudson 's big \" love me \" number was criminal ! xxmaj xxunk just shot her xxunk around the stage -- no drama at all ! xxmaj god it sucked ! \n",
       " \n",
       "  xxup and note to all involved -- that \" sing - talking dialog \" stuff might work on stage , but it xxup does xxup not xxup work xxup in xxup movies ( see embarrassing failures of xxmaj xxunk and xxmaj phantom ) . xxmaj all that \" i 'll t xxrep 4 e xxunk xxunk xxrep 4 u something xxmaj xxunk - i xxrep 4 e ! \" crap should have been left on the editing room floor . xxmaj those are n't \" songs . \" \n",
       " \n",
       "  xxmaj again , the film -- except for xxmaj eddie xxmaj murphy 's amazing performance -- was nothing more than a xxunk xxup tv movie . xxmaj there must have been xxunk behind the xxup xxunk work for this film ! i wonder how much money was spent to give it that pre - release \" one to beat \" xxmaj oscar buzz ? xxmaj as a whole this film was , except for xxmaj eddie , xxup nowhere xxup near an xxmaj oscar caliber movie ! ( except for xxmaj eddie ) i 'd rank it right up there with xxmaj xxunk 2 . xxup big disappointment , especially after all the ( very xxunk ) hype !,xxbos i grew up xxmaj xxunk and i know the story this movie is trying to tell , although i no longer believe the story . i 'll give the movie kudos for being as good as the average xxmaj lifetime xxmaj movie of the xxmaj week . xxmaj mildly interesting , mediocre acting , a bit slow , the script is predictable , the music is sappy , and it is a bit melodramatic . xxmaj and all the people left behind have got to be the xxunk clean non - xxmaj christians , ever . xxmaj not a single curse word from any of them . xxmaj but i laughed out loud when the actor playing the man who runs the xxmaj united xxmaj nations xxunk \" nuclear \" as \" nu - cu - ler , \" just like xxmaj bush . xxmaj is there some xxmaj christian code of honor that xxunk that since xxmaj bush claims he , too , is called by xxmaj god , that all xxmaj christians must cover up his ignorance by xxunk that word the same way he does ? xxup xxunk ! i really had a difficult time taking the movie seriously at all after that . xxmaj after the \" nu - cu - ler \" incident , the movie began to feel like xxunk , manipulative propaganda . i was looking for something bold . xxmaj actually , i was looking for something that might make me think , but i did n't find it here . xxmaj if you 're looking for mindless entertainment , stop here - it 's good for killing a rainy afternoon . xxmaj but if you 're looking for intelligence , look elsewhere .,xxbos xxmaj xxunk 3 is bad ... awfully bad . xxmaj bad to the point where it is funny . xxmaj how matter how much i try to convince myself , i just ca n't believe anyone in this world could find this entertaining for serious reasons . i mean , come on , even the cover is bad ! xxup ok , the special effects are absolutely ridiculous . xxmaj those \" xxmaj carnosaurs \" are really ridiculous . a scientist tells the soldiers that they move incredibly fast , yet when you see them run , they run at the speed of ... an actor in a rubber suit trying to run as much as he can . xxmaj and the explosions are xxunk is no other word to describe it ) . xxmaj at the beginning , a bullet hits a xxmaj xxunk xxup after a guys says \" xxmaj what was that ? \" ... xxmaj and the other explosions are also laughable . xxmaj but the worst thing is the screenplay and the so - called story . xxmaj you do n't expect a good xxunk , i do n't think anyone renting this movie expects a good movie ) but at least the story has to try to make sense . i mean , how hard is it to make a story about dinosaurs killing people at least coherent . xxmaj incredibly hard if you look at this . xxmaj oh , and if you think that it 's easy to makes believable commandos as your characters , tell it to the writers of this awful , awful piece of crap . i mean , what sick human being would make cheap jokes after one of his buddies is dead ? xxmaj and they do lots of it . xxmaj and if you think that a movie about dinosaurs killing soldiers can only be at least action - packed , xxup wake xxup up ! ! ! xxmaj this movie is incredibly dull . xxmaj the xxunk invented this lame name anyway ? ) xxunk boring action sequences where you do n't see much happening ) . xxmaj the soldiers think of how to beat xxunk incredibly funny scenes where they try real hard to be serious but ca n't seem to convince even just one second ) . xxmaj so , then , they attack the carnosaurs , but their idea does n't xxunk laughable action sequence ) . xxmaj back to xxunk a few lame jokes thrown in ) in another ridiculous scene . xxmaj and this goes on , and on , and on . xxmaj and let 's not forget the acting which is about as convincing as the special effects ... and the story ... xxmaj oh xxup ok , this movie simply sucks from a to xxup z. \n",
       " \n",
       " ,xxbos xxup dvd has become the equivalent of the old late night double - bill xxunk , the last chance to catch old movies on the verge of being completely forgotten like xxmaj the xxmaj border . xxmaj there were great expectations for this back in xxunk  a script co - written by xxmaj the xxmaj wild xxmaj bunch 's xxmaj xxunk xxmaj green , xxmaj jack xxmaj nicholson in the days when he could still act without xxunk and a great supporting cast ( xxmaj harvey xxmaj xxunk , xxmaj warren xxmaj oates , xxmaj valerie xxmaj xxunk ) , xxmaj tony xxmaj richardson directing ( although he was pretty much a spent force by then )  but now it does n't even turn up on xxup tv . xxmaj the material certainly offers a rich xxunk of possibilities for comment on the 80s xxmaj american xxmaj dreams of capitalism and xxunk xxunk , with xxmaj nicholson 's border xxunk turning a blind eye to the odd drug deal or bit of people xxunk to xxunk his wife 's xxunk xxunk , until he xxunk his xxunk when he finds out his partners are also in the baby selling business . xxmaj unfortunately , he never really gets his hands dirty , barely even turning a blind eye before his xxunk rises to the surface . xxmaj the film feels always xxunk down as if too many xxunk and too many xxunk have left it xxunk and , sadly , the recent xxup dvd release is a missed opportunity to xxunk the original , xxunk ending where xxmaj nicholson goes over the edge and xxunk the border xxunk station that was cut after xxunk audiences found it too downbeat but which still featured xxunk in the film 's trailers . \n",
       " \n",
       "  xxmaj while that probably was n't too convincing considering how low - key xxmaj nicholson 's crisis of xxunk is in the film , it had to be better than the crude xxunk climax where the film xxunk logic and even basic rules of continuity : at one point he 's holding characters at xxunk , then he 's somewhere else and they 're free trying to kill him , one character goes from injured at his house to xxunk around like a xxunk on the xxunk of the xxmaj xxunk xxmaj xxunk while xxmaj valerie xxmaj xxunk 's character gets dumber on an xxunk level . xxmaj the villains of the piece are xxunk of with absurd ease ( and one impressive car stunt ) in time for a xxunk edited happy ending and you start wondering if you somehow found yourself watching another film entirely . xxmaj what makes it all the more clumsy is that the rest of the film is so flat and xxunk that the sudden xxunk into melodrama is all the more jarring . xxmaj unfortunately xxmaj xxunk xxmaj xxunk 's beautiful title song , xxmaj across the xxmaj xxunk , says it all much more economically . xxmaj but if you want to know the film 's real crime , it 's completely wasting the great xxmaj warren xxmaj oates in a nothing bit part . xxmaj when even he ca n't make an impression , you know something 's really wrong . xxmaj all in all , all too easy to remember why i found this so forgettable at the time .\n",
       "y: CategoryList\n",
       "negative,negative,negative,negative,negative\n",
       "Path: /root/.fastai/data/imdb_sample;\n",
       "\n",
       "Test: None, model=SequentialRNN(\n",
       "  (0): MultiBatchEncoder(\n",
       "    (module): AWD_LSTM(\n",
       "      (encoder): Embedding(8880, 400, padding_idx=1)\n",
       "      (encoder_dp): EmbeddingDropout(\n",
       "        (emb): Embedding(8880, 400, padding_idx=1)\n",
       "      )\n",
       "      (rnns): ModuleList(\n",
       "        (0): WeightDropout(\n",
       "          (module): LSTM(400, 1152, batch_first=True)\n",
       "        )\n",
       "        (1): WeightDropout(\n",
       "          (module): LSTM(1152, 1152, batch_first=True)\n",
       "        )\n",
       "        (2): WeightDropout(\n",
       "          (module): LSTM(1152, 400, batch_first=True)\n",
       "        )\n",
       "      )\n",
       "      (input_dp): RNNDropout()\n",
       "      (hidden_dps): ModuleList(\n",
       "        (0): RNNDropout()\n",
       "        (1): RNNDropout()\n",
       "        (2): RNNDropout()\n",
       "      )\n",
       "    )\n",
       "  )\n",
       "  (1): PoolingLinearClassifier(\n",
       "    (layers): Sequential(\n",
       "      (0): BatchNorm1d(1200, eps=1e-05, momentum=0.1, affine=True, track_running_stats=True)\n",
       "      (1): Dropout(p=0.2, inplace=False)\n",
       "      (2): Linear(in_features=1200, out_features=50, bias=True)\n",
       "      (3): ReLU(inplace=True)\n",
       "      (4): BatchNorm1d(50, eps=1e-05, momentum=0.1, affine=True, track_running_stats=True)\n",
       "      (5): Dropout(p=0.1, inplace=False)\n",
       "      (6): Linear(in_features=50, out_features=2, bias=True)\n",
       "    )\n",
       "  )\n",
       "), opt_func=functools.partial(<class 'torch.optim.adam.Adam'>, betas=(0.9, 0.99)), loss_func=FlattenedLoss of CrossEntropyLoss(), metrics=[<function accuracy at 0x7faa02448598>], true_wd=True, bn_wd=True, wd=0.01, train_bn=True, path=PosixPath('/root/.fastai/data/imdb_sample'), model_dir='models', callback_fns=[functools.partial(<class 'fastai.basic_train.Recorder'>, add_time=True, silent=False)], callbacks=[...], layer_groups=[Sequential(\n",
       "  (0): Embedding(8880, 400, padding_idx=1)\n",
       "  (1): EmbeddingDropout(\n",
       "    (emb): Embedding(8880, 400, padding_idx=1)\n",
       "  )\n",
       "), Sequential(\n",
       "  (0): WeightDropout(\n",
       "    (module): LSTM(400, 1152, batch_first=True)\n",
       "  )\n",
       "  (1): RNNDropout()\n",
       "), Sequential(\n",
       "  (0): WeightDropout(\n",
       "    (module): LSTM(1152, 1152, batch_first=True)\n",
       "  )\n",
       "  (1): RNNDropout()\n",
       "), Sequential(\n",
       "  (0): WeightDropout(\n",
       "    (module): LSTM(1152, 400, batch_first=True)\n",
       "  )\n",
       "  (1): RNNDropout()\n",
       "), Sequential(\n",
       "  (0): PoolingLinearClassifier(\n",
       "    (layers): Sequential(\n",
       "      (0): BatchNorm1d(1200, eps=1e-05, momentum=0.1, affine=True, track_running_stats=True)\n",
       "      (1): Dropout(p=0.2, inplace=False)\n",
       "      (2): Linear(in_features=1200, out_features=50, bias=True)\n",
       "      (3): ReLU(inplace=True)\n",
       "      (4): BatchNorm1d(50, eps=1e-05, momentum=0.1, affine=True, track_running_stats=True)\n",
       "      (5): Dropout(p=0.1, inplace=False)\n",
       "      (6): Linear(in_features=50, out_features=2, bias=True)\n",
       "    )\n",
       "  )\n",
       ")], add_time=True, silent=False)\n",
       "alpha: 2.0\n",
       "beta: 1.0, MixedPrecision\n",
       "learn: RNNLearner(data=TextClasDataBunch;\n",
       "\n",
       "Train: LabelList (799 items)\n",
       "x: TextList\n",
       "xxbos xxmaj absolutely awful movie . xxmaj utter waste of time . \n",
       " \n",
       "  background music is so loud that you can not understand speech . xxmaj well if you really listen closely , whatever they speak is actually unintelligible . \n",
       " \n",
       "  xxmaj camera work is bad , editing is not present , background score gives a headache , action is shoddy , dialogs are unintelligible , xxmaj acting is abysmal and well xxmaj xxunk used to look like a wrestler , now she looks like a xxunk wrestler . xxmaj hell you can slim down but you can not gain grace . \n",
       " \n",
       "  xxmaj after spending three hours watching a movie i want to like it , but this movie would not even allow me that pleasure . \n",
       " \n",
       "  xxmaj please if you want to torture yourself , go ahead watch this .,xxbos i had read many good things about this adaptation of my favorite novel ... so invariably my expectations were crushed . xxmaj but they were crushed more than should be expected . xxmaj the movie would have been a decent movie if i had not read the novel beforehand , which perhaps ruined it for me . \n",
       " \n",
       "  xxmaj in any event , for some reason they changed the labor camp at xxmaj xxunk to a ship full of xxunk slaves . xxmaj the scene at xxmaj bishop xxmaj xxunk 's was fine . xxmaj in fact , other than the xxunk , things survived up until the dismissal of xxmaj fantine . xxmaj because we do not want to have bad things happen to a good woman , she does not cut her hair , sell her teeth , or become a prostitute . xxmaj the worst she does is run into the mayor 's office and spit on his face . xxmaj xxunk is entirely xxunk . xxmaj because having children out of xxunk should also not be xxunk about , xxmaj xxunk is xxmaj fantine 's dead husband , rather than an irresponsible dandy . xxmaj valjean is able to xxunk xxmaj cosette for xxmaj fantine before the xxmaj xxunk affair , so they reunite happily , yet another change . xxmaj then comes the convent , which is a pretty difficult scene to screw up . xxmaj thankfully , it was saved . xxmaj after this three minutes of accuracy , however , the movie again begins to xxunk towards xxmaj classic xxmaj novel xxmaj xxunk . \n",
       " \n",
       "  xxmaj as xxmaj cosette and xxmaj valjean are riding through the park , they come across xxmaj marius giving a speech at a meeting . xxmaj about prison reform . xxmaj when he comes to hand out xxunk to xxmaj valjean and xxmaj cosette , he says the one line in the movie that set me screaming at the xxup tv set . \" xxmaj we are n't revolutionaries . \" i could hear xxmaj victor xxmaj hugo xxunk in his grave . xxup of xxup course xxup they xxup are xxup revolutionaries ! xxmaj they want to revolt against the pseudo - xxunk that is in place in favor of another republic , you dumb screenwriters ! xxmaj it 's a historical xxup fact that there was an xxunk against the government in xxunk . \n",
       " \n",
       "  xxmaj at one point xxmaj cosette goes to give xxmaj marius a xxunk from her father for the reform movement and meets xxmaj eponine . xxmaj except ... not xxmaj eponine . xxmaj or at least not the xxmaj eponine of the book . xxmaj this xxmaj eponine appears to be a well - to - do secretary girl working for the prison reformers ( who are working out of the xxmaj cafe xxmaj universal as opposed to the xxmaj cafe xxmaj xxunk ) . xxmaj not to mention the audience is already made to dislike her thanks to her not - period , low - cut , tight - fitting dress and her xxunk mannerisms . \n",
       " \n",
       "  xxmaj the prison reformers ( xxmaj lead by the most poorly cast xxmaj enjolras that i have xxup ever seen ) decide that xxunk out xxunk is n't good enough anymore . xxmaj so they 're going to build barricades . i do n't know about you , but i have never heard of reform movements tearing up the streets and building barricades and attacking government troops . xxmaj about three hundred people ( it was not supposed to be so many ) start attacking the xxmaj national xxmaj guard and building a bunch of barricades , etc . xxmaj eponine does die for xxmaj marius , thankfully . \n",
       " \n",
       "  xxmaj the rest of the movie is sort of accurate , except that xxmaj javert 's suicide again seems hard to understand thanks to his minuscule screen time and odd character interpretation . xxmaj the movie ends with xxmaj valjean watching xxmaj javert jump into the river . xxmaj this is again inaccurate because xxmaj valjean would never have let xxmaj javert drown . xxmaj he saved the man 's life earlier , why let him die now ? xxmaj then there 's the whole skipping of xxmaj valjean 's confession to xxmaj marius , his xxunk , and his redemption on his deathbed with xxmaj marius and xxmaj cosette by his side . \n",
       " \n",
       "  xxmaj overall , i can blame the script mostly for the problems . xxmaj while i am glad xxmaj enjolras and xxmaj eponine were at least present in the film , they were terribly xxunk , as was the entire barricade scene . xxmaj the xxunk of xxmaj fantine 's suffering xxunk us from feeling too much pity for her . xxmaj that xxmaj cosette knows xxmaj valjean 's past from the start messes with the plot a good deal . i did not even see xxmaj thenardier , and xxmaj xxunk . xxmaj thenardier only had a few seconds of screen time . xxmaj the same with xxmaj xxunk . i did like xxmaj xxunk xxmaj march 's interpretation of xxmaj valjean a lot , however , which was one of the redeeming features of the movie . xxmaj on the other hand , xxmaj charles xxmaj xxunk , for all his great acting in other movies , seems to have missed the mark with xxmaj javert . xxmaj the lip tremble , the unnecessary shouting , and his acting in general all just felt very wrong . xxmaj he also , like many xxmaj xxunk i have seen , did not appear at all menacing , something required of the character . \n",
       " \n",
       "  xxmaj again , this film would probably feel much better if i had not read the book . i would not recommend it to book purists , though . i would also say that the movie would have been a good adaptation for the time had not the xxunk accurate xxmaj french version come out the year before .,xxbos xxmaj xxunk the opening credits sequence is a xxunk man having a strange , all - too - real nightmare . xxmaj closing in on its xxunk xxunk xxmaj paris , the film begins to follow a woman into a xxunk club , where she and a xxmaj xxunk xxunk xxunk outside on the deck . xxmaj they xxunk xxunk at each other to the effect that she xxunk him more money although she believes she 's paid it all . xxmaj another woman xxunk the xxunk violence , only to have a bitter fight with the woman herself . xxmaj the initial woman xxunk out , and she is kidnapped . xxmaj christian xxmaj xxunk 's xxmaj renaissance appears to be another one in an assembly line of recent motion - capture - animated sci - fi noir pictures , but in spite of whether or not that is essentially true , it tells a xxunk xxunk , xxunk xxunk detective story that keeps us in the dark in its opening minutes , even whilst xxunk xxmaj xxunk , the hard - xxunk cop we recognize from the beginning as the man xxunk from a terrible dream . \n",
       " \n",
       "  xxmaj the xxunk of classic film noir are all hit upon without any xxunk changes , for all xxunk and xxunk . xxmaj it is in the xxunk of its xxunk that xxmaj xxunk 's xxmaj french thriller has followed no example . xxmaj for the film 's xxunk , xxunk by the challenges of physical lighting that would normally be faced , have been able to begin with a totally black frame , and to xxunk utter pitch - white according to the action on screen . xxmaj as they xxunk xxunk the effects of real light xxunk throughout the frame , the xxunk of black and white here is full - blown without even any of the slightest shades of gray to tone with the characters ' less xxunk definite moral codes , and the outcome is a harsh and judgmental vision of the direction in which commercial civilization is going , xxunk caused to xxunk the most xxunk and ruthless of xxunk . xxmaj it is the artistic study of film noir taken to their visual xxunk of its philosophy , and nothing before has ever shared quite the same execution of this visual concept . \n",
       " \n",
       "  xxmaj all the characters in this decent xxunk film seem as if to have been walk off with purely from a xxmaj gothic comic book in black xxunk , but all together their physical xxunk , their xxunk and the nuances of their facial expressions look xxunk within a clear humanity . xxmaj normally , films that try out new developments in animation allow their technical xxunk upstage all other xxunk of production . xxmaj sin xxmaj city , for example , left substance and overall good screen adaptation from its source material to be desired . \n",
       " \n",
       "  xxmaj it may not be mind - blowing , it may have its narrative conventions and its voice - over cast may simply be adequate , but xxmaj renaissance , made for $ xxunk million over six years , not only feels like actual noir instead of a xxunk xxunk xxunk , but also is not xxunk to all the visual innovation , which is played as if to be incidental . xxmaj one leaves thinking not so much about how cool it is when xxmaj xxunk is xxunk bullets shot through a xxunk glass xxmaj parisian street , but more about its xxunk of life and death , how life 's tragedies , such as death , make life meaningful .,xxbos xxmaj sisters xxmaj in xxmaj law is made by the same directors of the rather curiously fascinating ' xxmaj divorce , xxmaj iranian xxmaj style ' which was as exactly as it stated , as we got a glimpse of xxmaj divorce court in xxmaj iran . xxmaj now they 've turned their attention to the court system in xxmaj xxunk , xxmaj africa . xxmaj what 's great about this court is that 2 of the xxunk are xxmaj women , which is unusual for such a country like this . xxmaj xxunk , they deal with plenty of men used to getting their way around the women , but this film is remarkable in the fact that it appears that women has made great xxunk in society , with divorce legal and women 's rights being recognized . xxmaj so the judges often xxunk the men for behaving in a primitive way in these times . xxmaj not to say that the women who appear at the court get the xxunk treatment . xxmaj one of the prime focuses of the film is a case of child abuse done by an xxmaj aunt . xxmaj the judges waste no time in xxunk out at the woman with fury . xxmaj and who said that justice is n't served anymore ? xxmaj with these 2 behind the bench . xxmaj they often carry out maximum xxunk ! xxmaj ya ! xxmaj you go girl !,xxbos xxmaj for those fans of xxmaj laurel and xxmaj hardy , the 1940s and beyond were a very sad time for the team . xxmaj their xxunk with xxmaj xxunk xxmaj roach xxmaj studios had xxunk and now they were \" free xxunk to work for any studio who offered them a job . xxmaj unfortunately , xxmaj fox , xxup rko , xxup mgm ( without xxmaj roach ) and even a xxmaj french film company who hired the boys had absolutely no touch for their comedic talents . xxmaj plus , xxmaj stan and xxmaj ollie were a lot older and seeing these xxunk men taking xxunk seemed sad , not particularly funny . xxmaj stan looked very ragged and xxmaj ollie 's weight had xxunk up to the point where he could barely walk -- and so it made me feel uncomfortable laughing at their very , very xxunk antics . \n",
       " \n",
       "  xxmaj in addition to their age , this particular film suffers because xxmaj fox xxmaj studios oddly cast them in a supporting role and created a parallel plot involving a young couple -- something that reduced their time on screen xxup and turned them into insipid \" xxunk on \" instead of just being themselves . a cute and xxunk xxmaj stan and xxmaj ollie is very foreign to the old xxmaj laurel and xxmaj hardy of the xxunk and 30s -- and just seemed awfully strange and suited them poorly . \n",
       " \n",
       "  xxmaj now even with their age , this xxup could have been a decent movie if it had been given decent writing and if it appeared the studio cared -- and it 's quite obvious they were using the \" b unit \" here -- with , at best , second class support . xxmaj in particular , there are very few laughs and the last 10 minutes of the film is simply dreadful -- xxunk xxunk on a sloppy rear - projected screen for the stupid chase scene -- which might just rank as one of the worst of its kind in film history . \n",
       " \n",
       "  xxmaj for mind - xxunk zombie lovers of xxmaj laurel and xxmaj hardy , it 's probably a film they will love . xxmaj but , for lovers of the team who are willing to honestly evaluate this film relative to their amazing earlier films , it simply comes up wanting indeed . xxmaj in fact , of all their full - length films xxunk , i ca n't think of one i liked less than xxup dancing xxup masters . xxmaj unfortunately , of the xxunk films , this might just be one of their better ones . xxmaj sadly , it got a lot worse -- with wretched films like xxup the xxup big xxup noise and xxup nothing xxup but xxup trouble . i just wish the boys had just retired after xxup xxunk xxup at xxup sea . \n",
       " \n",
       "  xxmaj finally , i wonder if all the generally positive reviews for this film on imdb might reflect the reviewers ' love of the team more than it 's an indication that this is a good film ? xxmaj for an audience who are xxup not already in love with the team , i do n't know xxup how this film will do anything but bore the audience -- it certainly xxup xxunk convince anyone that xxmaj laurel and xxmaj hardy were comedic geniuses . xxmaj but even comedic geniuses need material worthy of their talents .\n",
       "y: CategoryList\n",
       "negative,negative,positive,positive,negative\n",
       "Path: /root/.fastai/data/imdb_sample;\n",
       "\n",
       "Valid: LabelList (201 items)\n",
       "x: TextList\n",
       "xxbos i was required to watch the movie for my work , so i did n't pay for it ( on the contrary , i got paid ) , but i still found the movie to suck far more than average . xxmaj the jokes were lame , the two lead actresses ... well , to use the \" xxmaj first wives club \" division of women 's ages in xxmaj hollywood , they are no longer in their \" hot chick \" age but more in their \" xxunk xxunk \" age . xxmaj what xxunk me most about the movie was the main plot line , which pretty much completely xxunk \" xxmaj xxunk & xxmaj xxunk xxmaj do xxmaj america \" ( in which the boys are all xxunk up about some dude offering them money to \" do his wife \" , not realizing they 're expected to xxunk her ) . xxmaj all in all , a bland piece of crap .,xxbos i just saw xxunk yesterday , and i was xxup really xxunk . xxmaj despite all the xxmaj oscar buzz , this is nothing special . xxmaj anyone who was really impressed by this film has never bothered to see any of the true movie musical classics . xxmaj except for xxmaj eddie xxmaj murphy 's great musical and dramatic performance , xxmaj xxunk is just a xxunk xxup tv movie with no style or flair . xxmaj just a bunch of xxunk singing xxup at each other ! \n",
       " \n",
       "  xxmaj now , the first half hour was good , but i was irritated at how xxmaj eddie xxmaj murphy 's terrific xxunk performances were xxunk and interrupted by xxunk . xxmaj those were easily the best songs and best performances in the film . xxmaj and the \" rise to the top \" portion of the film was the only part of the film that had a consistent point of view or any xxunk . xxmaj the remaining hour and 45 minutes was a xxunk , rambling mess that was neither realistic nor fantastic enough to be interesting . xxmaj it was also visually dull and included too many sound - alike tunes . \n",
       " \n",
       "  xxmaj xxunk did n't try to turn any of the tunes into big show pieces as i 'd expected they would . xxmaj each number in the 2nd half was just one xxunk after another of people \" singing \" xxup at each other . xxmaj and the way they shot xxmaj hudson 's big \" love me \" number was criminal ! xxmaj xxunk just shot her xxunk around the stage -- no drama at all ! xxmaj god it sucked ! \n",
       " \n",
       "  xxup and note to all involved -- that \" sing - talking dialog \" stuff might work on stage , but it xxup does xxup not xxup work xxup in xxup movies ( see embarrassing failures of xxmaj xxunk and xxmaj phantom ) . xxmaj all that \" i 'll t xxrep 4 e xxunk xxunk xxrep 4 u something xxmaj xxunk - i xxrep 4 e ! \" crap should have been left on the editing room floor . xxmaj those are n't \" songs . \" \n",
       " \n",
       "  xxmaj again , the film -- except for xxmaj eddie xxmaj murphy 's amazing performance -- was nothing more than a xxunk xxup tv movie . xxmaj there must have been xxunk behind the xxup xxunk work for this film ! i wonder how much money was spent to give it that pre - release \" one to beat \" xxmaj oscar buzz ? xxmaj as a whole this film was , except for xxmaj eddie , xxup nowhere xxup near an xxmaj oscar caliber movie ! ( except for xxmaj eddie ) i 'd rank it right up there with xxmaj xxunk 2 . xxup big disappointment , especially after all the ( very xxunk ) hype !,xxbos i grew up xxmaj xxunk and i know the story this movie is trying to tell , although i no longer believe the story . i 'll give the movie kudos for being as good as the average xxmaj lifetime xxmaj movie of the xxmaj week . xxmaj mildly interesting , mediocre acting , a bit slow , the script is predictable , the music is sappy , and it is a bit melodramatic . xxmaj and all the people left behind have got to be the xxunk clean non - xxmaj christians , ever . xxmaj not a single curse word from any of them . xxmaj but i laughed out loud when the actor playing the man who runs the xxmaj united xxmaj nations xxunk \" nuclear \" as \" nu - cu - ler , \" just like xxmaj bush . xxmaj is there some xxmaj christian code of honor that xxunk that since xxmaj bush claims he , too , is called by xxmaj god , that all xxmaj christians must cover up his ignorance by xxunk that word the same way he does ? xxup xxunk ! i really had a difficult time taking the movie seriously at all after that . xxmaj after the \" nu - cu - ler \" incident , the movie began to feel like xxunk , manipulative propaganda . i was looking for something bold . xxmaj actually , i was looking for something that might make me think , but i did n't find it here . xxmaj if you 're looking for mindless entertainment , stop here - it 's good for killing a rainy afternoon . xxmaj but if you 're looking for intelligence , look elsewhere .,xxbos xxmaj xxunk 3 is bad ... awfully bad . xxmaj bad to the point where it is funny . xxmaj how matter how much i try to convince myself , i just ca n't believe anyone in this world could find this entertaining for serious reasons . i mean , come on , even the cover is bad ! xxup ok , the special effects are absolutely ridiculous . xxmaj those \" xxmaj carnosaurs \" are really ridiculous . a scientist tells the soldiers that they move incredibly fast , yet when you see them run , they run at the speed of ... an actor in a rubber suit trying to run as much as he can . xxmaj and the explosions are xxunk is no other word to describe it ) . xxmaj at the beginning , a bullet hits a xxmaj xxunk xxup after a guys says \" xxmaj what was that ? \" ... xxmaj and the other explosions are also laughable . xxmaj but the worst thing is the screenplay and the so - called story . xxmaj you do n't expect a good xxunk , i do n't think anyone renting this movie expects a good movie ) but at least the story has to try to make sense . i mean , how hard is it to make a story about dinosaurs killing people at least coherent . xxmaj incredibly hard if you look at this . xxmaj oh , and if you think that it 's easy to makes believable commandos as your characters , tell it to the writers of this awful , awful piece of crap . i mean , what sick human being would make cheap jokes after one of his buddies is dead ? xxmaj and they do lots of it . xxmaj and if you think that a movie about dinosaurs killing soldiers can only be at least action - packed , xxup wake xxup up ! ! ! xxmaj this movie is incredibly dull . xxmaj the xxunk invented this lame name anyway ? ) xxunk boring action sequences where you do n't see much happening ) . xxmaj the soldiers think of how to beat xxunk incredibly funny scenes where they try real hard to be serious but ca n't seem to convince even just one second ) . xxmaj so , then , they attack the carnosaurs , but their idea does n't xxunk laughable action sequence ) . xxmaj back to xxunk a few lame jokes thrown in ) in another ridiculous scene . xxmaj and this goes on , and on , and on . xxmaj and let 's not forget the acting which is about as convincing as the special effects ... and the story ... xxmaj oh xxup ok , this movie simply sucks from a to xxup z. \n",
       " \n",
       " ,xxbos xxup dvd has become the equivalent of the old late night double - bill xxunk , the last chance to catch old movies on the verge of being completely forgotten like xxmaj the xxmaj border . xxmaj there were great expectations for this back in xxunk  a script co - written by xxmaj the xxmaj wild xxmaj bunch 's xxmaj xxunk xxmaj green , xxmaj jack xxmaj nicholson in the days when he could still act without xxunk and a great supporting cast ( xxmaj harvey xxmaj xxunk , xxmaj warren xxmaj oates , xxmaj valerie xxmaj xxunk ) , xxmaj tony xxmaj richardson directing ( although he was pretty much a spent force by then )  but now it does n't even turn up on xxup tv . xxmaj the material certainly offers a rich xxunk of possibilities for comment on the 80s xxmaj american xxmaj dreams of capitalism and xxunk xxunk , with xxmaj nicholson 's border xxunk turning a blind eye to the odd drug deal or bit of people xxunk to xxunk his wife 's xxunk xxunk , until he xxunk his xxunk when he finds out his partners are also in the baby selling business . xxmaj unfortunately , he never really gets his hands dirty , barely even turning a blind eye before his xxunk rises to the surface . xxmaj the film feels always xxunk down as if too many xxunk and too many xxunk have left it xxunk and , sadly , the recent xxup dvd release is a missed opportunity to xxunk the original , xxunk ending where xxmaj nicholson goes over the edge and xxunk the border xxunk station that was cut after xxunk audiences found it too downbeat but which still featured xxunk in the film 's trailers . \n",
       " \n",
       "  xxmaj while that probably was n't too convincing considering how low - key xxmaj nicholson 's crisis of xxunk is in the film , it had to be better than the crude xxunk climax where the film xxunk logic and even basic rules of continuity : at one point he 's holding characters at xxunk , then he 's somewhere else and they 're free trying to kill him , one character goes from injured at his house to xxunk around like a xxunk on the xxunk of the xxmaj xxunk xxmaj xxunk while xxmaj valerie xxmaj xxunk 's character gets dumber on an xxunk level . xxmaj the villains of the piece are xxunk of with absurd ease ( and one impressive car stunt ) in time for a xxunk edited happy ending and you start wondering if you somehow found yourself watching another film entirely . xxmaj what makes it all the more clumsy is that the rest of the film is so flat and xxunk that the sudden xxunk into melodrama is all the more jarring . xxmaj unfortunately xxmaj xxunk xxmaj xxunk 's beautiful title song , xxmaj across the xxmaj xxunk , says it all much more economically . xxmaj but if you want to know the film 's real crime , it 's completely wasting the great xxmaj warren xxmaj oates in a nothing bit part . xxmaj when even he ca n't make an impression , you know something 's really wrong . xxmaj all in all , all too easy to remember why i found this so forgettable at the time .\n",
       "y: CategoryList\n",
       "negative,negative,negative,negative,negative\n",
       "Path: /root/.fastai/data/imdb_sample;\n",
       "\n",
       "Test: None, model=SequentialRNN(\n",
       "  (0): MultiBatchEncoder(\n",
       "    (module): AWD_LSTM(\n",
       "      (encoder): Embedding(8880, 400, padding_idx=1)\n",
       "      (encoder_dp): EmbeddingDropout(\n",
       "        (emb): Embedding(8880, 400, padding_idx=1)\n",
       "      )\n",
       "      (rnns): ModuleList(\n",
       "        (0): WeightDropout(\n",
       "          (module): LSTM(400, 1152, batch_first=True)\n",
       "        )\n",
       "        (1): WeightDropout(\n",
       "          (module): LSTM(1152, 1152, batch_first=True)\n",
       "        )\n",
       "        (2): WeightDropout(\n",
       "          (module): LSTM(1152, 400, batch_first=True)\n",
       "        )\n",
       "      )\n",
       "      (input_dp): RNNDropout()\n",
       "      (hidden_dps): ModuleList(\n",
       "        (0): RNNDropout()\n",
       "        (1): RNNDropout()\n",
       "        (2): RNNDropout()\n",
       "      )\n",
       "    )\n",
       "  )\n",
       "  (1): PoolingLinearClassifier(\n",
       "    (layers): Sequential(\n",
       "      (0): BatchNorm1d(1200, eps=1e-05, momentum=0.1, affine=True, track_running_stats=True)\n",
       "      (1): Dropout(p=0.2, inplace=False)\n",
       "      (2): Linear(in_features=1200, out_features=50, bias=True)\n",
       "      (3): ReLU(inplace=True)\n",
       "      (4): BatchNorm1d(50, eps=1e-05, momentum=0.1, affine=True, track_running_stats=True)\n",
       "      (5): Dropout(p=0.1, inplace=False)\n",
       "      (6): Linear(in_features=50, out_features=2, bias=True)\n",
       "    )\n",
       "  )\n",
       "), opt_func=functools.partial(<class 'torch.optim.adam.Adam'>, betas=(0.9, 0.99)), loss_func=FlattenedLoss of CrossEntropyLoss(), metrics=[<function accuracy at 0x7faa02448598>], true_wd=True, bn_wd=True, wd=0.01, train_bn=True, path=PosixPath('/root/.fastai/data/imdb_sample'), model_dir='models', callback_fns=[functools.partial(<class 'fastai.basic_train.Recorder'>, add_time=True, silent=False)], callbacks=[...], layer_groups=[Sequential(\n",
       "  (0): Embedding(8880, 400, padding_idx=1)\n",
       "  (1): EmbeddingDropout(\n",
       "    (emb): Embedding(8880, 400, padding_idx=1)\n",
       "  )\n",
       "), Sequential(\n",
       "  (0): WeightDropout(\n",
       "    (module): LSTM(400, 1152, batch_first=True)\n",
       "  )\n",
       "  (1): RNNDropout()\n",
       "), Sequential(\n",
       "  (0): WeightDropout(\n",
       "    (module): LSTM(1152, 1152, batch_first=True)\n",
       "  )\n",
       "  (1): RNNDropout()\n",
       "), Sequential(\n",
       "  (0): WeightDropout(\n",
       "    (module): LSTM(1152, 400, batch_first=True)\n",
       "  )\n",
       "  (1): RNNDropout()\n",
       "), Sequential(\n",
       "  (0): PoolingLinearClassifier(\n",
       "    (layers): Sequential(\n",
       "      (0): BatchNorm1d(1200, eps=1e-05, momentum=0.1, affine=True, track_running_stats=True)\n",
       "      (1): Dropout(p=0.2, inplace=False)\n",
       "      (2): Linear(in_features=1200, out_features=50, bias=True)\n",
       "      (3): ReLU(inplace=True)\n",
       "      (4): BatchNorm1d(50, eps=1e-05, momentum=0.1, affine=True, track_running_stats=True)\n",
       "      (5): Dropout(p=0.1, inplace=False)\n",
       "      (6): Linear(in_features=50, out_features=2, bias=True)\n",
       "    )\n",
       "  )\n",
       ")], add_time=True, silent=False)\n",
       "loss_scale: 65536\n",
       "max_noskip: 1000\n",
       "dynamic: True\n",
       "clip: None\n",
       "flat_master: False\n",
       "max_scale: 16777216\n",
       "loss_fp32: True], layer_groups=[Sequential(\n",
       "  (0): Embedding(8880, 400, padding_idx=1)\n",
       "  (1): EmbeddingDropout(\n",
       "    (emb): Embedding(8880, 400, padding_idx=1)\n",
       "  )\n",
       "), Sequential(\n",
       "  (0): WeightDropout(\n",
       "    (module): LSTM(400, 1152, batch_first=True)\n",
       "  )\n",
       "  (1): RNNDropout()\n",
       "), Sequential(\n",
       "  (0): WeightDropout(\n",
       "    (module): LSTM(1152, 1152, batch_first=True)\n",
       "  )\n",
       "  (1): RNNDropout()\n",
       "), Sequential(\n",
       "  (0): WeightDropout(\n",
       "    (module): LSTM(1152, 400, batch_first=True)\n",
       "  )\n",
       "  (1): RNNDropout()\n",
       "), Sequential(\n",
       "  (0): PoolingLinearClassifier(\n",
       "    (layers): Sequential(\n",
       "      (0): BatchNorm1d(1200, eps=1e-05, momentum=0.1, affine=True, track_running_stats=True)\n",
       "      (1): Dropout(p=0.2, inplace=False)\n",
       "      (2): Linear(in_features=1200, out_features=50, bias=True)\n",
       "      (3): ReLU(inplace=True)\n",
       "      (4): BatchNorm1d(50, eps=1e-05, momentum=0.1, affine=True, track_running_stats=True)\n",
       "      (5): Dropout(p=0.1, inplace=False)\n",
       "      (6): Linear(in_features=50, out_features=2, bias=True)\n",
       "    )\n",
       "  )\n",
       ")], add_time=True, silent=False)"
      ]
     },
     "execution_count": 17,
     "metadata": {},
     "output_type": "execute_result"
    }
   ],
   "source": [
    "learn = text_classifier_learner(data_clas, AWD_LSTM, drop_mult=0.5).to_fp16()\n",
    "learn.load_encoder('mini_imdb_language_model_encoder')"
   ]
  },
  {
   "cell_type": "code",
   "execution_count": 18,
   "metadata": {},
   "outputs": [
    {
     "data": {
      "text/html": [
       "<table border=\"1\" class=\"dataframe\">\n",
       "  <thead>\n",
       "    <tr style=\"text-align: right;\">\n",
       "      <th>text</th>\n",
       "      <th>target</th>\n",
       "    </tr>\n",
       "  </thead>\n",
       "  <tbody>\n",
       "    <tr>\n",
       "      <td>xxbos xxmaj raising xxmaj victor xxmaj vargas : a xxmaj review \\n \\n  xxmaj you know , xxmaj raising xxmaj victor xxmaj vargas is like sticking your hands into a big , steaming bowl of xxunk . xxmaj it 's warm and gooey , but you 're not sure if it feels right . xxmaj try as i might , no matter how warm and gooey xxmaj raising xxmaj</td>\n",
       "      <td>negative</td>\n",
       "    </tr>\n",
       "    <tr>\n",
       "      <td>xxbos xxup the xxup shop xxup around xxup the xxup corner is one of the sweetest and most feel - good romantic comedies ever made . xxmaj there 's just no getting around that , and it 's hard to actually put one 's feeling for this film into words . xxmaj it 's not one of those films that tries too hard , nor does it come up with</td>\n",
       "      <td>positive</td>\n",
       "    </tr>\n",
       "    <tr>\n",
       "      <td>xxbos xxmaj now that xxmaj che(2008 ) has finished its relatively short xxmaj australian cinema run ( extremely limited xxunk screen in xxmaj sydney , after xxunk ) , i can xxunk join both xxunk of \" xxmaj at xxmaj the xxmaj movies \" in taking xxmaj steven xxmaj soderbergh to task . \\n \\n  xxmaj it 's usually satisfying to watch a film director change his style /</td>\n",
       "      <td>negative</td>\n",
       "    </tr>\n",
       "    <tr>\n",
       "      <td>xxbos xxmaj this film sat on my xxmaj tivo for weeks before i watched it . i dreaded a self - indulgent xxunk flick about relationships gone bad . i was wrong ; this was an xxunk xxunk into the screwed - up xxunk of xxmaj new xxmaj xxunk . \\n \\n  xxmaj the format is the same as xxmaj max xxmaj xxunk ' \" xxmaj la xxmaj ronde</td>\n",
       "      <td>positive</td>\n",
       "    </tr>\n",
       "    <tr>\n",
       "      <td>xxbos xxmaj many neglect that this is n't just a classic due to the fact that it 's the first xxup 3d game , or even the first xxunk - up . xxmaj it 's also one of the first xxunk games , one of the xxunk definitely the first ) truly claustrophobic games , and just a pretty well - xxunk xxunk experience in general . xxmaj with graphics</td>\n",
       "      <td>positive</td>\n",
       "    </tr>\n",
       "  </tbody>\n",
       "</table>"
      ],
      "text/plain": [
       "<IPython.core.display.HTML object>"
      ]
     },
     "metadata": {},
     "output_type": "display_data"
    }
   ],
   "source": [
    "data_clas.show_batch()"
   ]
  },
  {
   "cell_type": "markdown",
   "metadata": {},
   "source": [
    "#### Train the last layer of the classifier"
   ]
  },
  {
   "cell_type": "code",
   "execution_count": 19,
   "metadata": {},
   "outputs": [
    {
     "data": {
      "text/html": [
       "<table border=\"1\" class=\"dataframe\">\n",
       "  <thead>\n",
       "    <tr style=\"text-align: left;\">\n",
       "      <th>epoch</th>\n",
       "      <th>train_loss</th>\n",
       "      <th>valid_loss</th>\n",
       "      <th>accuracy</th>\n",
       "      <th>time</th>\n",
       "    </tr>\n",
       "  </thead>\n",
       "  <tbody>\n",
       "    <tr>\n",
       "      <td>0</td>\n",
       "      <td>0.601477</td>\n",
       "      <td>0.626736</td>\n",
       "      <td>0.606965</td>\n",
       "      <td>00:07</td>\n",
       "    </tr>\n",
       "  </tbody>\n",
       "</table>"
      ],
      "text/plain": [
       "<IPython.core.display.HTML object>"
      ]
     },
     "metadata": {},
     "output_type": "display_data"
    }
   ],
   "source": [
    "learn.fit_one_cycle(1, 1e-2)"
   ]
  },
  {
   "cell_type": "markdown",
   "metadata": {},
   "source": [
    "#### Unfreeze the classifier model and fine-tune"
   ]
  },
  {
   "cell_type": "code",
   "execution_count": 20,
   "metadata": {},
   "outputs": [
    {
     "data": {
      "text/html": [
       "<table border=\"1\" class=\"dataframe\">\n",
       "  <thead>\n",
       "    <tr style=\"text-align: left;\">\n",
       "      <th>epoch</th>\n",
       "      <th>train_loss</th>\n",
       "      <th>valid_loss</th>\n",
       "      <th>accuracy</th>\n",
       "      <th>time</th>\n",
       "    </tr>\n",
       "  </thead>\n",
       "  <tbody>\n",
       "    <tr>\n",
       "      <td>0</td>\n",
       "      <td>0.441964</td>\n",
       "      <td>0.484579</td>\n",
       "      <td>0.791045</td>\n",
       "      <td>00:11</td>\n",
       "    </tr>\n",
       "    <tr>\n",
       "      <td>1</td>\n",
       "      <td>0.381773</td>\n",
       "      <td>0.432320</td>\n",
       "      <td>0.776119</td>\n",
       "      <td>00:11</td>\n",
       "    </tr>\n",
       "    <tr>\n",
       "      <td>2</td>\n",
       "      <td>0.296648</td>\n",
       "      <td>0.372120</td>\n",
       "      <td>0.830846</td>\n",
       "      <td>00:12</td>\n",
       "    </tr>\n",
       "  </tbody>\n",
       "</table>"
      ],
      "text/plain": [
       "<IPython.core.display.HTML object>"
      ]
     },
     "metadata": {},
     "output_type": "display_data"
    }
   ],
   "source": [
    "learn.unfreeze()\n",
    "learn.fit_one_cycle(3, slice(1e-4, 1e-2))"
   ]
  },
  {
   "cell_type": "markdown",
   "metadata": {},
   "source": [
    "#### Test the classifier\n",
    "We can use our model to predict on a few example of movie review-like raw text by using the [`Learner.predict`](/basic_train.html#Learner.predict) method. "
   ]
  },
  {
   "cell_type": "markdown",
   "metadata": {},
   "source": [
    "Our model is 70% sure that this is a positive review."
   ]
  },
  {
   "cell_type": "code",
   "execution_count": 21,
   "metadata": {},
   "outputs": [
    {
     "data": {
      "text/plain": [
       "(Category tensor(0), tensor(0), tensor([0.6514, 0.3486]))"
      ]
     },
     "execution_count": 21,
     "metadata": {},
     "output_type": "execute_result"
    }
   ],
   "source": [
    "learn.predict('Although there was lots of blood and violence, I did not think this film was scary enough.')"
   ]
  },
  {
   "cell_type": "markdown",
   "metadata": {},
   "source": [
    "Our model is 83% sure that this is a positive review:"
   ]
  },
  {
   "cell_type": "code",
   "execution_count": 22,
   "metadata": {},
   "outputs": [
    {
     "data": {
      "text/plain": [
       "(Category tensor(1), tensor(1), tensor([0.0560, 0.9440]))"
      ]
     },
     "execution_count": 22,
     "metadata": {},
     "output_type": "execute_result"
    }
   ],
   "source": [
    "learn.predict('Not so good World War II epic film')"
   ]
  },
  {
   "cell_type": "markdown",
   "metadata": {},
   "source": [
    "Bottom line: the model did not do a good job, misclassifying both reviews (with high confidence, to boot!)"
   ]
  },
  {
   "cell_type": "markdown",
   "metadata": {},
   "source": [
    "#### Let's train some more, and re-try these examples to see if we can do better"
   ]
  },
  {
   "cell_type": "code",
   "execution_count": 23,
   "metadata": {},
   "outputs": [
    {
     "data": {
      "text/html": [
       "<table border=\"1\" class=\"dataframe\">\n",
       "  <thead>\n",
       "    <tr style=\"text-align: left;\">\n",
       "      <th>epoch</th>\n",
       "      <th>train_loss</th>\n",
       "      <th>valid_loss</th>\n",
       "      <th>accuracy</th>\n",
       "      <th>time</th>\n",
       "    </tr>\n",
       "  </thead>\n",
       "  <tbody>\n",
       "    <tr>\n",
       "      <td>0</td>\n",
       "      <td>0.250756</td>\n",
       "      <td>0.421156</td>\n",
       "      <td>0.815920</td>\n",
       "      <td>00:12</td>\n",
       "    </tr>\n",
       "    <tr>\n",
       "      <td>1</td>\n",
       "      <td>0.224827</td>\n",
       "      <td>0.450621</td>\n",
       "      <td>0.796020</td>\n",
       "      <td>00:12</td>\n",
       "    </tr>\n",
       "    <tr>\n",
       "      <td>2</td>\n",
       "      <td>0.167750</td>\n",
       "      <td>0.360277</td>\n",
       "      <td>0.850746</td>\n",
       "      <td>00:12</td>\n",
       "    </tr>\n",
       "  </tbody>\n",
       "</table>"
      ],
      "text/plain": [
       "<IPython.core.display.HTML object>"
      ]
     },
     "metadata": {},
     "output_type": "display_data"
    }
   ],
   "source": [
    "learn.unfreeze()\n",
    "learn.fit_one_cycle(3, slice(1e-4, 1e-2))"
   ]
  },
  {
   "cell_type": "markdown",
   "metadata": {},
   "source": [
    "#### Re-try the above examples "
   ]
  },
  {
   "cell_type": "code",
   "execution_count": 30,
   "metadata": {},
   "outputs": [
    {
     "name": "stderr",
     "output_type": "stream",
     "text": [
      "C:\\Users\\cross-entropy\\Anaconda3\\envs\\fastai\\lib\\site-packages\\fastai\\torch_core.py:83: UserWarning: Tensor is int32: upgrading to int64; for better performance use int64 input\n",
      "  warn('Tensor is int32: upgrading to int64; for better performance use int64 input')\n"
     ]
    },
    {
     "data": {
      "text/plain": [
       "(Category negative, tensor(0), tensor([0.9879, 0.0121]))"
      ]
     },
     "execution_count": 30,
     "metadata": {},
     "output_type": "execute_result"
    }
   ],
   "source": [
    "learn.predict('Although there was lots of blood and violence, I did not think this film was scary enough.')"
   ]
  },
  {
   "cell_type": "code",
   "execution_count": 31,
   "metadata": {},
   "outputs": [
    {
     "name": "stderr",
     "output_type": "stream",
     "text": [
      "C:\\Users\\cross-entropy\\Anaconda3\\envs\\fastai\\lib\\site-packages\\fastai\\torch_core.py:83: UserWarning: Tensor is int32: upgrading to int64; for better performance use int64 input\n",
      "  warn('Tensor is int32: upgrading to int64; for better performance use int64 input')\n"
     ]
    },
    {
     "data": {
      "text/plain": [
       "(Category negative, tensor(0), tensor([0.7353, 0.2647]))"
      ]
     },
     "execution_count": 31,
     "metadata": {},
     "output_type": "execute_result"
    }
   ],
   "source": [
    "learn.predict('Not so good World War II epic film')"
   ]
  },
  {
   "cell_type": "markdown",
   "metadata": {},
   "source": [
    "The model seems to have benefitted from the extra training, since it now correctly classifies both reviews as `negative`, with high confidence."
   ]
  },
  {
   "cell_type": "markdown",
   "metadata": {},
   "source": [
    "#### Make up your own text in the style of a movie review. Then use our classifier to see what it thinks!"
   ]
  },
  {
   "cell_type": "code",
   "execution_count": null,
   "metadata": {},
   "outputs": [],
   "source": []
  }
 ],
 "metadata": {
  "jekyll": {
   "keywords": "fastai",
   "summary": "Application to NLP, including ULMFiT fine-tuning",
   "title": "text"
  },
  "jupytext": {
   "formats": "ipynb,py:percent"
  },
  "kernelspec": {
   "display_name": "Python 3",
   "language": "python",
   "name": "python3"
  },
  "language_info": {
   "codemirror_mode": {
    "name": "ipython",
    "version": 3
   },
   "file_extension": ".py",
   "mimetype": "text/x-python",
   "name": "python",
   "nbconvert_exporter": "python",
   "pygments_lexer": "ipython3",
   "version": "3.6.9"
  }
 },
 "nbformat": 4,
 "nbformat_minor": 2
}
