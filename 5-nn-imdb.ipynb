{
 "cells": [
  {
   "cell_type": "markdown",
   "metadata": {},
   "source": [
    "This lesson was adapted from the end of [lesson 3](https://course.fast.ai/videos/?lesson=3) and beginning of [lesson 4](https://course.fast.ai/videos/?lesson=4) of the latest fast.ai Practical Deep Learning for Coders course.  We will cover all the material you need here in this notebook, so no need to have taken the Deep Learning course.  Even if you have taken the DL class, we will go slower and get into more detail here!"
   ]
  },
  {
   "cell_type": "markdown",
   "metadata": {},
   "source": [
    "# Transfer Learning for Natural Language Modeling\n",
    "### Contructing a Language Model and a Sentiment Classifier for IMDB movie reviews"
   ]
  },
  {
   "cell_type": "markdown",
   "metadata": {},
   "source": [
    "Transfer learning has been widely used with great success in computer vision for several years, but only in the last year or so has it been successfully applied to NLP (beginning with ULMFit, which we will use here, which was built upon by BERT and GPT-2).\n",
    "\n",
    "As Sebastian Ruder wrote in [The Gradient](https://thegradient.pub/) last summer, [NLP's ImageNet moment has arrived](https://thegradient.pub/nlp-imagenet/).\n",
    "\n",
    "We will first build a language model for IMDB movie reviews.  Next we will build a sentiment classifier, which will predict whether a review is negative or positive, based on its text. For both of these tasks, we will use **transfer learning**. Starting with the pre-trained weights from the `wikitext-103` language model, we will tune these weights to specialize to the language of `IMDb` movie reviews. "
   ]
  },
  {
   "cell_type": "markdown",
   "metadata": {
    "heading_collapsed": true
   },
   "source": [
    "## Language Models"
   ]
  },
  {
   "cell_type": "markdown",
   "metadata": {
    "hidden": true
   },
   "source": [
    "Language modeling can be a fun creative form. Research scientist [Janelle Shane blogs](https://aiweirdness.com/) & [tweets](https://twitter.com/JanelleCShane) about her creative AI explorations, which often involve text.  For instance, see her:\n",
    "\n",
    "- [Why did the neural network cross the road?](https://aiweirdness.com/post/174691534037/why-did-the-neural-network-cross-the-road)\n",
    "- [Try these neural network-generated recipes at your own risk.](https://aiweirdness.com/post/163878889437/try-these-neural-network-generated-recipes-at-your)\n",
    "- [D&D character bios - now making slightly more sense](https://aiweirdness.com/post/183471928977/dd-character-bios-now-making-slightly-more)"
   ]
  },
  {
   "cell_type": "markdown",
   "metadata": {},
   "source": [
    "## Using a GPU"
   ]
  },
  {
   "cell_type": "markdown",
   "metadata": {},
   "source": [
    "You will need to have the fastai library installed for this lesson, and you will want to use a GPU to train your neural net.  If you don't have a GPU you can use in your computer (currently, only Nvidia GPUs are fully supported by the main deep learning libraries), no worries!  There are a number of cloud options you can consider:\n",
    "\n",
    "[GPU Cloud Options](https://course.fast.ai/#using-a-gpu)\n",
    "\n",
    "**Reminder: If you are using a cloud GPU, always be sure to shut it down when you are done!!! Otherwise, you could end up with an expensive bill!**"
   ]
  },
  {
   "cell_type": "code",
   "execution_count": 3,
   "metadata": {},
   "outputs": [],
   "source": [
    "%reload_ext autoreload\n",
    "%autoreload 2\n",
    "%matplotlib inline"
   ]
  },
  {
   "cell_type": "code",
   "execution_count": 4,
   "metadata": {},
   "outputs": [],
   "source": [
    "from fastai import *\n",
    "from fastai.text import *\n",
    "from scipy.spatial.distance import cosine as dist"
   ]
  },
  {
   "cell_type": "markdown",
   "metadata": {},
   "source": [
    "Note that language models can use a lot of GPU, so you may need to decrease batchsize here."
   ]
  },
  {
   "cell_type": "code",
   "execution_count": 3,
   "metadata": {},
   "outputs": [],
   "source": [
    "# bs=192\n",
    "bs=48\n",
    "# bs=24"
   ]
  },
  {
   "cell_type": "markdown",
   "metadata": {},
   "source": [
    "### Fix this line: should be `device(0)` instead of `device(2)`"
   ]
  },
  {
   "cell_type": "code",
   "execution_count": 5,
   "metadata": {},
   "outputs": [],
   "source": [
    "#torch.cuda.set_device(2)\n",
    "torch.cuda.set_device(0)"
   ]
  },
  {
   "cell_type": "markdown",
   "metadata": {
    "heading_collapsed": true
   },
   "source": [
    "## 1. Prepare the IMDb data (on a sample)"
   ]
  },
  {
   "cell_type": "markdown",
   "metadata": {
    "hidden": true
   },
   "source": [
    "First let's download the dataset we are going to study. The `IMDb` [dataset](http://ai.stanford.edu/~amaas/data/sentiment/) has been curated by Andrew Maas et al. and contains a total of 100,000 reviews on IMDB. 25,000 of them are labelled as positive and negative for training, another 25,000 are labelled for testing (in both cases they are highly polarized). The remaning 50,000 is an additional unlabelled data (but we will find a use for it nonetheless).\n",
    "\n",
    "We'll begin with a sample we've prepared for you, so that things run quickly before going over the full dataset."
   ]
  },
  {
   "cell_type": "code",
   "execution_count": 5,
   "metadata": {},
   "outputs": [],
   "source": [
    "URLs.IMDB_SAMPLE = 'https://skrisna-data-east-public.s3.amazonaws.com/imdb_sample'"
   ]
  },
  {
   "cell_type": "code",
   "execution_count": 6,
   "metadata": {
    "hidden": true
   },
   "outputs": [
    {
     "name": "stdout",
     "output_type": "stream",
     "text": [
      "Downloading https://skrisna-data-east-public.s3.amazonaws.com/imdb_sample.tgz\n"
     ]
    },
    {
     "data": {
      "text/html": [],
      "text/plain": [
       "<IPython.core.display.HTML object>"
      ]
     },
     "metadata": {},
     "output_type": "display_data"
    },
    {
     "data": {
      "text/plain": [
       "[PosixPath('/root/.fastai/data/imdb_sample/texts.csv')]"
      ]
     },
     "execution_count": 6,
     "metadata": {},
     "output_type": "execute_result"
    }
   ],
   "source": [
    "path = untar_data(URLs.IMDB_SAMPLE)\n",
    "path.ls()"
   ]
  },
  {
   "cell_type": "code",
   "execution_count": 7,
   "metadata": {},
   "outputs": [
    {
     "data": {
      "text/plain": [
       "<bound method PurePath.as_uri of PosixPath('/root/.fastai/data/imdb_sample')>"
      ]
     },
     "execution_count": 7,
     "metadata": {},
     "output_type": "execute_result"
    }
   ],
   "source": [
    "path.as_uri"
   ]
  },
  {
   "cell_type": "markdown",
   "metadata": {
    "hidden": true
   },
   "source": [
    "It only contains one csv file, let's have a look at it."
   ]
  },
  {
   "cell_type": "markdown",
   "metadata": {
    "hidden": true
   },
   "source": [
    "It contains one line per review, with the label ('negative' or 'positive'), the text and a flag to determine if it should be part of the validation set or the training set. If we ignore this flag, we can create a `DataBunch` containing this data in one line of code:"
   ]
  },
  {
   "cell_type": "markdown",
   "metadata": {},
   "source": [
    "### Load and preprocess the data and form a `databunch`\n",
    "Add workaround for the bug in the `fastai Text API`"
   ]
  },
  {
   "cell_type": "code",
   "execution_count": 8,
   "metadata": {
    "hidden": true
   },
   "outputs": [
    {
     "data": {
      "text/html": [],
      "text/plain": [
       "<IPython.core.display.HTML object>"
      ]
     },
     "metadata": {},
     "output_type": "display_data"
    },
    {
     "data": {
      "text/html": [],
      "text/plain": [
       "<IPython.core.display.HTML object>"
      ]
     },
     "metadata": {},
     "output_type": "display_data"
    },
    {
     "name": "stdout",
     "output_type": "stream",
     "text": [
      "failure count is 0\n",
      "\n",
      "CPU times: user 798 ms, sys: 251 ms, total: 1.05 s\n",
      "Wall time: 3.6 s\n"
     ]
    }
   ],
   "source": [
    "%%time\n",
    "\n",
    "# throws `BrokenProcessPool' Error sometimes. Keep trying `till it works!\n",
    "count = 0\n",
    "error = True\n",
    "while error:\n",
    "    try: \n",
    "        # Preprocessing steps\n",
    "        data_lm = TextDataBunch.from_csv(path, 'texts.csv')\n",
    "        error = False\n",
    "        print(f'failure count is {count}\\n')    \n",
    "    except: # catch *all* exceptions\n",
    "        # accumulate failure count\n",
    "        count = count + 1\n",
    "        print(f'failure count is {count}')"
   ]
  },
  {
   "cell_type": "markdown",
   "metadata": {
    "hidden": true
   },
   "source": [
    "By executing this line a process was launched that took a bit of time. Let's dig a bit into it. Images could be fed (almost) directly into a model because they're just a big array of pixel values that are floats between 0 and 1. A text is composed of words, and we can't apply mathematical functions to them directly. We first have to convert them to numbers. This is done in two differents steps: tokenization and numericalization. A `TextDataBunch` does all of that behind the scenes for you."
   ]
  },
  {
   "cell_type": "markdown",
   "metadata": {
    "heading_collapsed": true,
    "hidden": true
   },
   "source": [
    "### Tokenization"
   ]
  },
  {
   "cell_type": "markdown",
   "metadata": {
    "hidden": true
   },
   "source": [
    "The first step of processing we make texts go through is to split the raw sentences into words, or more exactly tokens. The easiest way to do this would be to split the string on spaces, but we can be smarter:\n",
    "\n",
    "- we need to take care of punctuation\n",
    "- some words are contractions of two different words, like isn't or don't\n",
    "- we may need to clean some parts of our texts, if there's HTML code for instance\n",
    "\n",
    "To see what the tokenizer had done behind the scenes, let's have a look at a few texts in a batch."
   ]
  },
  {
   "cell_type": "markdown",
   "metadata": {
    "hidden": true
   },
   "source": [
    "The texts are truncated at 100 tokens for more readability. We can see that it did more than just split on space and punctuation symbols: \n",
    "- the \"'s\" are grouped together in one token\n",
    "- the contractions are separated like his: \"did\", \"n't\"\n",
    "- content has been cleaned for any HTML symbol and lower cased\n",
    "- there are several special tokens (all those that begin by xx), to replace unkown tokens (see below) or to introduce different text fields (here we only have one)."
   ]
  },
  {
   "cell_type": "markdown",
   "metadata": {
    "heading_collapsed": true,
    "hidden": true
   },
   "source": [
    "### Numericalization"
   ]
  },
  {
   "cell_type": "markdown",
   "metadata": {
    "hidden": true
   },
   "source": [
    "Once we have extracted tokens from our texts, we convert to integers by creating a list of all the words used. We only keep the ones that appear at list twice with a maximum vocabulary size of 60,000 (by default) and replace the ones that don't make the cut by the unknown token `UNK`.\n",
    "\n",
    "The correspondance from ids tokens is stored in the `vocab` attribute of our datasets, in a dictionary called `itos` (for int to string)."
   ]
  },
  {
   "cell_type": "code",
   "execution_count": 9,
   "metadata": {
    "hidden": true
   },
   "outputs": [
    {
     "data": {
      "text/plain": [
       "['xxunk',\n",
       " 'xxpad',\n",
       " 'xxbos',\n",
       " 'xxeos',\n",
       " 'xxfld',\n",
       " 'xxmaj',\n",
       " 'xxup',\n",
       " 'xxrep',\n",
       " 'xxwrep',\n",
       " 'the']"
      ]
     },
     "execution_count": 9,
     "metadata": {},
     "output_type": "execute_result"
    }
   ],
   "source": [
    "data_lm.vocab.itos[:10]"
   ]
  },
  {
   "cell_type": "markdown",
   "metadata": {
    "hidden": true
   },
   "source": [
    "And if we look at what a what's in our datasets, we'll see the tokenized text as a representation:"
   ]
  },
  {
   "cell_type": "markdown",
   "metadata": {
    "hidden": true
   },
   "source": [
    "But the underlying data is all numbers"
   ]
  },
  {
   "cell_type": "code",
   "execution_count": 10,
   "metadata": {
    "hidden": true
   },
   "outputs": [
    {
     "data": {
      "text/plain": [
       "array([   2,    5,   44,   14,    9,  106, 3214,  946,   14,   13])"
      ]
     },
     "execution_count": 10,
     "metadata": {},
     "output_type": "execute_result"
    }
   ],
   "source": [
    "data_lm.train_ds[0][0].data[:10]"
   ]
  },
  {
   "cell_type": "markdown",
   "metadata": {
    "heading_collapsed": true,
    "hidden": true
   },
   "source": [
    "### Alternative approach: with the `data block API`"
   ]
  },
  {
   "cell_type": "markdown",
   "metadata": {
    "hidden": true
   },
   "source": [
    "We can use the data block API with NLP and have a lot more flexibility than what the default factory methods offer. In the previous example for instance, the data was randomly split between train and validation instead of reading the third column of the csv.\n",
    "\n",
    "With the data block API though, we have to manually call the tokenize and numericalize steps. This allows more flexibility, and if you're not using the defaults from fastai, the various arguments to pass will appear in the step they're revelant, so it'll be more readable."
   ]
  },
  {
   "cell_type": "markdown",
   "metadata": {},
   "source": [
    "### Load and preprocess the data and form a `datablock`\n",
    "Add workaround for the bug in the `fastai Text API`"
   ]
  },
  {
   "cell_type": "code",
   "execution_count": 11,
   "metadata": {
    "hidden": true
   },
   "outputs": [
    {
     "data": {
      "text/html": [],
      "text/plain": [
       "<IPython.core.display.HTML object>"
      ]
     },
     "metadata": {},
     "output_type": "display_data"
    },
    {
     "data": {
      "text/html": [],
      "text/plain": [
       "<IPython.core.display.HTML object>"
      ]
     },
     "metadata": {},
     "output_type": "display_data"
    },
    {
     "name": "stdout",
     "output_type": "stream",
     "text": [
      "failure count is 0\n",
      "\n",
      "CPU times: user 928 ms, sys: 267 ms, total: 1.19 s\n",
      "Wall time: 3.93 s\n"
     ]
    }
   ],
   "source": [
    "%%time\n",
    "\n",
    "# throws `BrokenProcessPool' Error sometimes. Keep trying `till it works!\n",
    "count = 0\n",
    "error = True\n",
    "while error:\n",
    "    try: \n",
    "        # Preprocessing steps\n",
    "        data = (TextList.from_csv(path, 'texts.csv', cols='text')\n",
    "                .split_from_df(col=2)\n",
    "                .label_from_df(cols=0)\n",
    "                .databunch())        \n",
    "        error = False\n",
    "        print(f'failure count is {count}\\n')    \n",
    "    except: # catch *all* exceptions\n",
    "        # accumulate failure count\n",
    "        count = count + 1\n",
    "        print(f'failure count is {count}')"
   ]
  },
  {
   "cell_type": "markdown",
   "metadata": {},
   "source": [
    "## 2. Transfer Learning <br>\n",
    "### We are going to create an `IMDb` language model starting with the pretrained weights from the `wikitext-103` language model."
   ]
  },
  {
   "cell_type": "markdown",
   "metadata": {},
   "source": [
    "Now let's grab the full `IMDb` dataset for what follows."
   ]
  },
  {
   "cell_type": "code",
   "execution_count": 6,
   "metadata": {},
   "outputs": [
    {
     "data": {
      "text/plain": [
       "[PosixPath('/root/.fastai/data/imdb/test'),\n",
       " PosixPath('/root/.fastai/data/imdb/tmp_clas'),\n",
       " PosixPath('/root/.fastai/data/imdb/README'),\n",
       " PosixPath('/root/.fastai/data/imdb/unsup'),\n",
       " PosixPath('/root/.fastai/data/imdb/train'),\n",
       " PosixPath('/root/.fastai/data/imdb/tmp_lm'),\n",
       " PosixPath('/root/.fastai/data/imdb/imdb.vocab'),\n",
       " PosixPath('/root/.fastai/data/imdb/data_save.pkl'),\n",
       " PosixPath('/root/.fastai/data/imdb/models'),\n",
       " PosixPath('/root/.fastai/data/imdb/imdb_textlist_class')]"
      ]
     },
     "execution_count": 6,
     "metadata": {},
     "output_type": "execute_result"
    }
   ],
   "source": [
    "path = untar_data(URLs.IMDB)\n",
    "path.ls()"
   ]
  },
  {
   "cell_type": "code",
   "execution_count": 7,
   "metadata": {},
   "outputs": [
    {
     "data": {
      "text/plain": [
       "[PosixPath('/root/.fastai/data/imdb/train/neg'),\n",
       " PosixPath('/root/.fastai/data/imdb/train/unsupBow.feat'),\n",
       " PosixPath('/root/.fastai/data/imdb/train/pos'),\n",
       " PosixPath('/root/.fastai/data/imdb/train/labeledBow.feat')]"
      ]
     },
     "execution_count": 7,
     "metadata": {},
     "output_type": "execute_result"
    }
   ],
   "source": [
    "(path/'train').ls()"
   ]
  },
  {
   "cell_type": "markdown",
   "metadata": {},
   "source": [
    "The reviews are in a training and test set following an imagenet structure. The only difference is that there is an `unsup` folder in `train` that contains the unlabelled data.\n",
    "\n",
    "We're not going to train a model that classifies the reviews from scratch. Like in computer vision, we'll use a model pretrained on a bigger dataset (a cleaned subset of wikipedia called [wikitext-103](https://s3.amazonaws.com/research.metamind.io/wikitext/wikitext-103-v1.zip)). That model has been trained to guess what the next word, its input being all the previous words. It has a recurrent structure and a hidden state that is updated each time it sees a new word. This hidden state thus contains information about the sentence up to that point.\n",
    "\n",
    "We are going to use that 'knowledge' of the English language to build our classifier, but first, like for computer vision, we need to fine-tune the pretrained model to our particular dataset. Because the English of the reviews left by people on IMDB isn't the same as the English of wikipedia, we'll need to adjust a little bit the parameters of our model. Plus there might be some words extremely common in that dataset that were barely present in wikipedia, and therefore might no be part of the vocabulary the model was trained on."
   ]
  },
  {
   "cell_type": "markdown",
   "metadata": {
    "heading_collapsed": true
   },
   "source": [
    "### More about WikiText-103"
   ]
  },
  {
   "cell_type": "markdown",
   "metadata": {
    "hidden": true
   },
   "source": [
    "We will be using the `WikiText-103` dataset created by [Stephen Merity](https://smerity.com/) to pre-train a language model.\n",
    "\n",
    "To quote [Stephen's post](https://blog.einstein.ai/the-wikitext-long-term-dependency-language-modeling-dataset/):\n",
    "\n",
    "*The WikiText language modeling dataset is a collection of over 100 million tokens extracted from the set of verified Good and Featured articles on Wikipedia. The dataset is available under the Creative Commons Attribution-ShareAlike License.*\n",
    "\n",
    "*Compared to the preprocessed version of Penn Treebank (PTB), WikiText-2 is over 2 times larger and WikiText-103 is over 110 times larger. The WikiText dataset also features a far larger vocabulary and retains the original case, punctuation and numbers - all of which are removed in PTB. As it is composed of full articles, the dataset is well suited for models that can take advantage of long term dependencies.*"
   ]
  },
  {
   "cell_type": "markdown",
   "metadata": {},
   "source": [
    "[Download wikitext-103](https://s3.amazonaws.com/research.metamind.io/wikitext/wikitext-103-v1.zip). Unzip it into the `.fastai/data/` folder on your computer."
   ]
  },
  {
   "cell_type": "markdown",
   "metadata": {
    "heading_collapsed": true
   },
   "source": [
    "### 2A. Package the `IMDb` data into a language model `databunch`"
   ]
  },
  {
   "cell_type": "markdown",
   "metadata": {
    "hidden": true
   },
   "source": [
    "This is where the unlabelled data is going to be useful to us, as we can use it to fine-tune our model. Let's create our data object with the data block API (this takes a few minutes).\n",
    "\n",
    "We'll to use a special kind of `TextDataBunch` for the language model, that ignores the labels (that's why we put 0 everywhere), will shuffle the texts at each epoch before concatenating them all together (only for training; we don't shuffle for the validation set) and will send batches that read that text in order with targets that are the next word in the sentence.\n",
    "\n",
    "Add a `try-except` wrapper as a workaround for the bug in the `fastai Text API`"
   ]
  },
  {
   "cell_type": "code",
   "execution_count": 6,
   "metadata": {
    "hidden": true
   },
   "outputs": [
    {
     "name": "stdout",
     "output_type": "stream",
     "text": [
      "failure count is 0\n",
      "\n",
      "CPU times: user 3.61 s, sys: 15.5 ms, total: 3.62 s\n",
      "Wall time: 3.62 s\n"
     ]
    }
   ],
   "source": [
    "%%time\n",
    "\n",
    "# throws `BrokenProcessPool` Error sometimes. Keep trying `till it works!\n",
    "count = 0\n",
    "error = True\n",
    "while error:\n",
    "    try: \n",
    "        # Preprocessing steps\n",
    "        data_lm = (TextList.from_folder(path)\n",
    "           #Inputs: all the text files in path\n",
    "            .filter_by_folder(include=['train', 'test', 'unsup']) \n",
    "           # notebook 3-logreg-nb-imbd used .split_by_folder instead of .filter_by_folder\n",
    "            # and this took less time to run. Can we do the same here?\n",
    "           #We may have other temp folders that contain text files so we only keep what's in train and test\n",
    "            .split_by_rand_pct(0.1, seed=42))\n",
    "           #We randomly split and keep 10% (10,000 reviews) for validation\n",
    "            #.label_for_lm()           \n",
    "           #We want to make a language model so we label accordingly\n",
    "            #.databunch(bs=bs, num_workers=1))\n",
    "        error = False\n",
    "        print(f'failure count is {count}\\n')    \n",
    "    except: # catch *all* exceptions\n",
    "        # accumulate failure count\n",
    "        count = count + 1\n",
    "        print(f'failure count is {count}')"
   ]
  },
  {
   "cell_type": "code",
   "execution_count": 7,
   "metadata": {},
   "outputs": [
    {
     "data": {
      "text/plain": [
       "PosixPath('/root/.fastai/data/imdb')"
      ]
     },
     "execution_count": 7,
     "metadata": {},
     "output_type": "execute_result"
    }
   ],
   "source": [
    "path"
   ]
  },
  {
   "cell_type": "markdown",
   "metadata": {},
   "source": [
    "#### I got faster results when I do the last two steps in a separate cell:"
   ]
  },
  {
   "cell_type": "code",
   "execution_count": null,
   "metadata": {},
   "outputs": [
    {
     "data": {
      "text/html": [],
      "text/plain": [
       "<IPython.core.display.HTML object>"
      ]
     },
     "metadata": {},
     "output_type": "display_data"
    },
    {
     "data": {
      "text/html": [],
      "text/plain": [
       "<IPython.core.display.HTML object>"
      ]
     },
     "metadata": {},
     "output_type": "display_data"
    },
    {
     "name": "stdout",
     "output_type": "stream",
     "text": [
      "failure count is 1\n"
     ]
    },
    {
     "data": {
      "text/html": [],
      "text/plain": [
       "<IPython.core.display.HTML object>"
      ]
     },
     "metadata": {},
     "output_type": "display_data"
    },
    {
     "data": {
      "text/html": [],
      "text/plain": [
       "<IPython.core.display.HTML object>"
      ]
     },
     "metadata": {},
     "output_type": "display_data"
    },
    {
     "name": "stdout",
     "output_type": "stream",
     "text": [
      "failure count is 2\n"
     ]
    },
    {
     "data": {
      "text/html": [],
      "text/plain": [
       "<IPython.core.display.HTML object>"
      ]
     },
     "metadata": {},
     "output_type": "display_data"
    },
    {
     "data": {
      "text/html": [],
      "text/plain": [
       "<IPython.core.display.HTML object>"
      ]
     },
     "metadata": {},
     "output_type": "display_data"
    },
    {
     "name": "stdout",
     "output_type": "stream",
     "text": [
      "failure count is 3\n"
     ]
    }
   ],
   "source": [
    "%%time\n",
    "\n",
    "# throws `BrokenProcessPool' Error sometimes. Keep trying `till it works!\n",
    "count = 0\n",
    "error = True\n",
    "while error:\n",
    "    try: \n",
    "        # Preprocessing steps\n",
    "        #     the next step is the bottleneck\n",
    "        data_lm = (data_lm.label_for_lm()           \n",
    "           #We want to make a language model so we label accordingly\n",
    "            .databunch(bs=bs, num_workers=1))\n",
    "        error = False\n",
    "        print(f'failure count is {count}\\n')    \n",
    "    except: # catch *all* exceptions\n",
    "        # accumulate failure count\n",
    "        count = count + 1\n",
    "        print(f'failure count is {count}')"
   ]
  },
  {
   "cell_type": "code",
   "execution_count": 17,
   "metadata": {
    "hidden": true,
    "scrolled": true
   },
   "outputs": [
    {
     "data": {
      "text/plain": [
       "(60000, 90000)"
      ]
     },
     "execution_count": 17,
     "metadata": {},
     "output_type": "execute_result"
    }
   ],
   "source": [
    "len(data_lm.vocab.itos),len(data_lm.train_ds)"
   ]
  },
  {
   "cell_type": "code",
   "execution_count": 18,
   "metadata": {
    "hidden": true
   },
   "outputs": [
    {
     "data": {
      "text/html": [
       "<table border=\"1\" class=\"dataframe\">\n",
       "  <thead>\n",
       "    <tr style=\"text-align: right;\">\n",
       "      <th>idx</th>\n",
       "      <th>text</th>\n",
       "    </tr>\n",
       "  </thead>\n",
       "  <tbody>\n",
       "    <tr>\n",
       "      <td>0</td>\n",
       "      <td>original script that xxmaj david xxmaj dhawan has worked on . xxmaj this one was a complete bit y bit rip off xxmaj hitch . i have nothing against remakes as such , but this one is just so lousy that it makes you even hate the original one ( which was pretty decent ) . i fail to understand what actors like xxmaj salman and xxmaj govinda saw in</td>\n",
       "    </tr>\n",
       "    <tr>\n",
       "      <td>1</td>\n",
       "      <td>sign of xxmaj four \" feels like a xxmaj grand - xxmaj guignol - esque episode of \" xxmaj murder , xxmaj she xxmaj wrote \" ( right from the opening credits , that are of the worst possible kind : a montage of scenes from the movie ) as directed by xxmaj mel xxmaj brooks . xxmaj ian xxmaj richardson is a fine actor , and certainly looks the</td>\n",
       "    </tr>\n",
       "    <tr>\n",
       "      <td>2</td>\n",
       "      <td>the second tape . \\n \\n  xxmaj the actors are to be commended for playing their roles well , despite a smarmy , overwrought script . xxmaj they are to be insulted , though , for accepting the roles in the first place . xxbos i 've seen all 3 now . i just ca n't believe how bad xxmaj naqoyqatsi is . xxmaj not in comparison to the</td>\n",
       "    </tr>\n",
       "    <tr>\n",
       "      <td>3</td>\n",
       "      <td>the opening scene \" xxmaj judge \" and xxmaj xxunk , the town 's museum operator . xxmaj she does n't trust any of them , and it 's true they do n't inspire any trust . xxmaj she 's rather crabby throughout the whole movie . xxmaj she wants to check her grandmother into a hospital . xxmaj the men in the town want her house , and the</td>\n",
       "    </tr>\n",
       "    <tr>\n",
       "      <td>4</td>\n",
       "      <td>in the process , the cult dude has a heart attack and it taken to the hospital . xxmaj he apparently dies , but it also seems like many of these hospital scenes are missing and a few of them appear much later in the film . xxmaj in other words , when you see the film , he appears to have possibly recovered -- only to hear later that</td>\n",
       "    </tr>\n",
       "  </tbody>\n",
       "</table>"
      ],
      "text/plain": [
       "<IPython.core.display.HTML object>"
      ]
     },
     "metadata": {},
     "output_type": "display_data"
    }
   ],
   "source": [
    "data_lm.show_batch()"
   ]
  },
  {
   "cell_type": "markdown",
   "metadata": {
    "hidden": true
   },
   "source": [
    "#### Save the `databunch` for next time."
   ]
  },
  {
   "cell_type": "code",
   "execution_count": 19,
   "metadata": {},
   "outputs": [],
   "source": [
    "data_lm.save()"
   ]
  },
  {
   "cell_type": "markdown",
   "metadata": {},
   "source": [
    "#### Load the saved data"
   ]
  },
  {
   "cell_type": "code",
   "execution_count": 20,
   "metadata": {},
   "outputs": [],
   "source": [
    "?? load_data"
   ]
  },
  {
   "cell_type": "code",
   "execution_count": 9,
   "metadata": {},
   "outputs": [],
   "source": [
    "data_lm = load_data(path, bs=bs)"
   ]
  },
  {
   "cell_type": "markdown",
   "metadata": {},
   "source": [
    "### 2B. The **Transfer Learning** step.\n",
    "#### This is where the magic happens!\n",
    "#### The `AWD_LSTM` object contains the pretrained weights and the neural net architecture of the `wikitext-103` language model. These will be downloaded the first time you execute the following line, and stored in `~/.fastai/models/` (or elsewhere if you specified different paths in your config file). \n",
    "\n",
    "We import these into the `language_model_learner` object for our `IMDb` language model as follows:"
   ]
  },
  {
   "cell_type": "code",
   "execution_count": 22,
   "metadata": {},
   "outputs": [
    {
     "data": {
      "text/plain": [
       "fastai.text.models.awd_lstm.AWD_LSTM"
      ]
     },
     "execution_count": 22,
     "metadata": {},
     "output_type": "execute_result"
    }
   ],
   "source": [
    "AWD_LSTM"
   ]
  },
  {
   "cell_type": "code",
   "execution_count": 23,
   "metadata": {
    "scrolled": true
   },
   "outputs": [
    {
     "name": "stdout",
     "output_type": "stream",
     "text": [
      "Downloading https://s3.amazonaws.com/fast-ai-modelzoo/wt103-fwd.tgz\n"
     ]
    },
    {
     "data": {
      "text/html": [],
      "text/plain": [
       "<IPython.core.display.HTML object>"
      ]
     },
     "metadata": {},
     "output_type": "display_data"
    }
   ],
   "source": [
    "learn_lm = language_model_learner(data_lm, AWD_LSTM, drop_mult=0.3)"
   ]
  },
  {
   "cell_type": "markdown",
   "metadata": {},
   "source": [
    "#### Get the `IMDb` language model `vocabulary`"
   ]
  },
  {
   "cell_type": "code",
   "execution_count": 24,
   "metadata": {},
   "outputs": [],
   "source": [
    "vocab = data_lm.vocab"
   ]
  },
  {
   "cell_type": "code",
   "execution_count": 25,
   "metadata": {
    "scrolled": true
   },
   "outputs": [
    {
     "data": {
      "text/plain": [
       "37232"
      ]
     },
     "execution_count": 25,
     "metadata": {},
     "output_type": "execute_result"
    }
   ],
   "source": [
    "vocab.stoi[\"stingray\"]"
   ]
  },
  {
   "cell_type": "code",
   "execution_count": 26,
   "metadata": {},
   "outputs": [
    {
     "data": {
      "text/plain": [
       "'stingray'"
      ]
     },
     "execution_count": 26,
     "metadata": {},
     "output_type": "execute_result"
    }
   ],
   "source": [
    "vocab.itos[vocab.stoi[\"stingray\"]]"
   ]
  },
  {
   "cell_type": "code",
   "execution_count": 27,
   "metadata": {},
   "outputs": [
    {
     "data": {
      "text/plain": [
       "'xxunk'"
      ]
     },
     "execution_count": 27,
     "metadata": {},
     "output_type": "execute_result"
    }
   ],
   "source": [
    "vocab.itos[vocab.stoi[\"mobula\"]]"
   ]
  },
  {
   "cell_type": "code",
   "execution_count": 28,
   "metadata": {},
   "outputs": [],
   "source": [
    "awd = learn_lm.model[0]"
   ]
  },
  {
   "cell_type": "code",
   "execution_count": 29,
   "metadata": {},
   "outputs": [
    {
     "data": {
      "text/plain": [
       "AWD_LSTM(\n",
       "  (encoder): Embedding(60000, 400, padding_idx=1)\n",
       "  (encoder_dp): EmbeddingDropout(\n",
       "    (emb): Embedding(60000, 400, padding_idx=1)\n",
       "  )\n",
       "  (rnns): ModuleList(\n",
       "    (0): WeightDropout(\n",
       "      (module): LSTM(400, 1152, batch_first=True)\n",
       "    )\n",
       "    (1): WeightDropout(\n",
       "      (module): LSTM(1152, 1152, batch_first=True)\n",
       "    )\n",
       "    (2): WeightDropout(\n",
       "      (module): LSTM(1152, 400, batch_first=True)\n",
       "    )\n",
       "  )\n",
       "  (input_dp): RNNDropout()\n",
       "  (hidden_dps): ModuleList(\n",
       "    (0): RNNDropout()\n",
       "    (1): RNNDropout()\n",
       "    (2): RNNDropout()\n",
       "  )\n",
       ")"
      ]
     },
     "execution_count": 29,
     "metadata": {},
     "output_type": "execute_result"
    }
   ],
   "source": [
    "awd"
   ]
  },
  {
   "cell_type": "markdown",
   "metadata": {},
   "source": [
    "#### Get the `IMDb` language model `encoder`. Recall that the `encoder` translates tokens into numerical vectors in the space defined by the `IMDb` vocabulary."
   ]
  },
  {
   "cell_type": "code",
   "execution_count": 30,
   "metadata": {},
   "outputs": [],
   "source": [
    "enc = learn_lm.model[0].encoder"
   ]
  },
  {
   "cell_type": "code",
   "execution_count": 31,
   "metadata": {},
   "outputs": [
    {
     "data": {
      "text/plain": [
       "torch.Size([60000, 400])"
      ]
     },
     "execution_count": 31,
     "metadata": {},
     "output_type": "execute_result"
    }
   ],
   "source": [
    "enc.weight.size()"
   ]
  },
  {
   "cell_type": "markdown",
   "metadata": {
    "heading_collapsed": true
   },
   "source": [
    "#### Difference in vocabulary between IMDB and Wikipedia language models"
   ]
  },
  {
   "cell_type": "markdown",
   "metadata": {
    "hidden": true
   },
   "source": [
    "We are going to load `wiki_itos` (the index-to-string list) from the `wikitext 103` language model.  We will compare the vocabularies of `wikitext-103` and `IMDB`.  It is to be expected that the two sets have some different vocabulary words, and that is no problem for transfer learning!"
   ]
  },
  {
   "cell_type": "code",
   "execution_count": 32,
   "metadata": {},
   "outputs": [],
   "source": [
    "#wiki_itos = pickle.load(open(Config().model_path()/'wt103-1/itos_wt103.pkl', 'rb'))\n",
    "wiki_itos = pickle.load(open(Config().model_path()/'wt103-fwd/itos_wt103.pkl', 'rb'))"
   ]
  },
  {
   "cell_type": "code",
   "execution_count": 33,
   "metadata": {
    "scrolled": true
   },
   "outputs": [
    {
     "data": {
      "text/plain": [
       "['xxunk',\n",
       " 'xxpad',\n",
       " 'xxbos',\n",
       " 'xxeos',\n",
       " 'xxfld',\n",
       " 'xxmaj',\n",
       " 'xxup',\n",
       " 'xxrep',\n",
       " 'xxwrep',\n",
       " 'the']"
      ]
     },
     "execution_count": 33,
     "metadata": {},
     "output_type": "execute_result"
    }
   ],
   "source": [
    "wiki_itos[:10]"
   ]
  },
  {
   "cell_type": "code",
   "execution_count": 34,
   "metadata": {
    "hidden": true
   },
   "outputs": [
    {
     "data": {
      "text/plain": [
       "60000"
      ]
     },
     "execution_count": 34,
     "metadata": {},
     "output_type": "execute_result"
    }
   ],
   "source": [
    "len(wiki_itos)"
   ]
  },
  {
   "cell_type": "code",
   "execution_count": 35,
   "metadata": {
    "hidden": true
   },
   "outputs": [
    {
     "data": {
      "text/plain": [
       "60000"
      ]
     },
     "execution_count": 35,
     "metadata": {},
     "output_type": "execute_result"
    }
   ],
   "source": [
    "len(vocab.itos)"
   ]
  },
  {
   "cell_type": "code",
   "execution_count": 36,
   "metadata": {
    "hidden": true
   },
   "outputs": [],
   "source": [
    "i, unks = 0, []\n",
    "while len(unks) < 50:\n",
    "    if data_lm.vocab.itos[i] not in wiki_itos: unks.append((i,data_lm.vocab.itos[i]))\n",
    "    i += 1"
   ]
  },
  {
   "cell_type": "code",
   "execution_count": 37,
   "metadata": {
    "hidden": true
   },
   "outputs": [],
   "source": [
    "wiki_words = set(wiki_itos)"
   ]
  },
  {
   "cell_type": "code",
   "execution_count": 38,
   "metadata": {
    "hidden": true
   },
   "outputs": [],
   "source": [
    "imdb_words = set(vocab.itos)"
   ]
  },
  {
   "cell_type": "code",
   "execution_count": 39,
   "metadata": {
    "hidden": true
   },
   "outputs": [],
   "source": [
    "wiki_not_imbdb = wiki_words.difference(imdb_words)"
   ]
  },
  {
   "cell_type": "code",
   "execution_count": 40,
   "metadata": {
    "hidden": true
   },
   "outputs": [],
   "source": [
    "imdb_not_wiki = imdb_words.difference(wiki_words)"
   ]
  },
  {
   "cell_type": "code",
   "execution_count": 41,
   "metadata": {},
   "outputs": [
    {
     "data": {
      "text/plain": [
       "(24226, 24226)"
      ]
     },
     "execution_count": 41,
     "metadata": {},
     "output_type": "execute_result"
    }
   ],
   "source": [
    "len(wiki_not_imbdb), len(imdb_not_wiki)"
   ]
  },
  {
   "cell_type": "code",
   "execution_count": 42,
   "metadata": {
    "hidden": true
   },
   "outputs": [],
   "source": [
    "wiki_not_imdb_list = []\n",
    "\n",
    "for i in range(100):\n",
    "    word = wiki_not_imbdb.pop()\n",
    "    wiki_not_imdb_list.append(word)\n",
    "    wiki_not_imbdb.add(word)"
   ]
  },
  {
   "cell_type": "code",
   "execution_count": 43,
   "metadata": {
    "hidden": true,
    "scrolled": true
   },
   "outputs": [
    {
     "data": {
      "text/plain": [
       "['osijek',\n",
       " '361',\n",
       " 'mediators',\n",
       " 'periodicity',\n",
       " 'æsir',\n",
       " 'nuckelavee',\n",
       " 'birdwatching',\n",
       " 'i-96',\n",
       " 'kristiania',\n",
       " 'starscream',\n",
       " 'avonmouth',\n",
       " 'marlinspike',\n",
       " 'nymphe',\n",
       " 'thơ',\n",
       " 'enna']"
      ]
     },
     "execution_count": 43,
     "metadata": {},
     "output_type": "execute_result"
    }
   ],
   "source": [
    "wiki_not_imdb_list[:15]"
   ]
  },
  {
   "cell_type": "code",
   "execution_count": 44,
   "metadata": {
    "hidden": true
   },
   "outputs": [],
   "source": [
    "imdb_not_wiki_list = []\n",
    "\n",
    "for i in range(100):\n",
    "    word = imdb_not_wiki.pop()\n",
    "    imdb_not_wiki_list.append(word)\n",
    "    imdb_not_wiki.add(word)"
   ]
  },
  {
   "cell_type": "code",
   "execution_count": 45,
   "metadata": {
    "hidden": true
   },
   "outputs": [
    {
     "data": {
      "text/plain": [
       "['pollifax',\n",
       " 'energizer',\n",
       " 'ffviii',\n",
       " 'bratt',\n",
       " 'noqreh',\n",
       " 'norinaga',\n",
       " 'hsiao',\n",
       " 'feasted',\n",
       " 'bullwhip',\n",
       " 'deven',\n",
       " 'booger',\n",
       " 'ambitiously',\n",
       " 'unibrow',\n",
       " 'daughter-',\n",
       " 'netforce']"
      ]
     },
     "execution_count": 45,
     "metadata": {},
     "output_type": "execute_result"
    }
   ],
   "source": [
    "imdb_not_wiki_list[:15]"
   ]
  },
  {
   "cell_type": "markdown",
   "metadata": {
    "hidden": true
   },
   "source": [
    "All words that appear in the `IMDB` vocab, but not the `wikitext-103` vocab, will be initialized to the same random vector in a model.  As the model trains, we will learn their weights."
   ]
  },
  {
   "cell_type": "code",
   "execution_count": 46,
   "metadata": {
    "hidden": true
   },
   "outputs": [
    {
     "data": {
      "text/plain": [
       "0"
      ]
     },
     "execution_count": 46,
     "metadata": {},
     "output_type": "execute_result"
    }
   ],
   "source": [
    "vocab.stoi[\"modernisation\"]"
   ]
  },
  {
   "cell_type": "code",
   "execution_count": 47,
   "metadata": {
    "hidden": true
   },
   "outputs": [
    {
     "data": {
      "text/plain": [
       "True"
      ]
     },
     "execution_count": 47,
     "metadata": {},
     "output_type": "execute_result"
    }
   ],
   "source": [
    "\"modernisation\" in wiki_words"
   ]
  },
  {
   "cell_type": "code",
   "execution_count": 48,
   "metadata": {
    "hidden": true
   },
   "outputs": [
    {
     "data": {
      "text/plain": [
       "25292"
      ]
     },
     "execution_count": 48,
     "metadata": {},
     "output_type": "execute_result"
    }
   ],
   "source": [
    "vocab.stoi[\"30-something\"]"
   ]
  },
  {
   "cell_type": "code",
   "execution_count": 49,
   "metadata": {
    "hidden": true
   },
   "outputs": [
    {
     "data": {
      "text/plain": [
       "(False, True)"
      ]
     },
     "execution_count": 49,
     "metadata": {},
     "output_type": "execute_result"
    }
   ],
   "source": [
    "\"30-something\" in wiki_words, \"30-something\" in imdb_words"
   ]
  },
  {
   "cell_type": "code",
   "execution_count": 50,
   "metadata": {
    "hidden": true
   },
   "outputs": [
    {
     "data": {
      "text/plain": [
       "16250"
      ]
     },
     "execution_count": 50,
     "metadata": {},
     "output_type": "execute_result"
    }
   ],
   "source": [
    "vocab.stoi[\"linklater\"]"
   ]
  },
  {
   "cell_type": "code",
   "execution_count": 51,
   "metadata": {
    "hidden": true
   },
   "outputs": [
    {
     "data": {
      "text/plain": [
       "(False, True)"
      ]
     },
     "execution_count": 51,
     "metadata": {},
     "output_type": "execute_result"
    }
   ],
   "source": [
    "\"linklater\" in wiki_words, \"linklater\" in imdb_words"
   ]
  },
  {
   "cell_type": "code",
   "execution_count": 52,
   "metadata": {
    "hidden": true,
    "scrolled": true
   },
   "outputs": [
    {
     "data": {
      "text/plain": [
       "(True, True)"
      ]
     },
     "execution_count": 52,
     "metadata": {},
     "output_type": "execute_result"
    }
   ],
   "source": [
    "\"house\" in wiki_words, \"house\" in imdb_words"
   ]
  },
  {
   "cell_type": "code",
   "execution_count": 53,
   "metadata": {
    "hidden": true
   },
   "outputs": [
    {
     "data": {
      "text/plain": [
       "True"
      ]
     },
     "execution_count": 53,
     "metadata": {},
     "output_type": "execute_result"
    }
   ],
   "source": [
    "np.allclose(enc.weight[vocab.stoi[\"30-something\"], :].cpu().detach().numpy(), \n",
    "            enc.weight[vocab.stoi[\"linklater\"], :].cpu().detach().numpy())"
   ]
  },
  {
   "cell_type": "code",
   "execution_count": 54,
   "metadata": {
    "hidden": true
   },
   "outputs": [
    {
     "data": {
      "text/plain": [
       "False"
      ]
     },
     "execution_count": 54,
     "metadata": {},
     "output_type": "execute_result"
    }
   ],
   "source": [
    "np.allclose(enc.weight[vocab.stoi[\"30-something\"], :].cpu().detach().numpy(), \n",
    "            enc.weight[vocab.stoi[\"house\"], :].cpu().detach().numpy())"
   ]
  },
  {
   "cell_type": "code",
   "execution_count": 55,
   "metadata": {
    "hidden": true
   },
   "outputs": [],
   "source": [
    "new_word_vec = enc.weight[vocab.stoi[\"linklater\"], :]"
   ]
  },
  {
   "cell_type": "markdown",
   "metadata": {
    "heading_collapsed": true
   },
   "source": [
    "#### Generating fake movie review-like text with the **untrained** `IMDb` language model"
   ]
  },
  {
   "cell_type": "code",
   "execution_count": 56,
   "metadata": {
    "hidden": true
   },
   "outputs": [],
   "source": [
    "TEXT = \"The color of the sky is\"\n",
    "N_WORDS = 40\n",
    "N_SENTENCES = 2"
   ]
  },
  {
   "cell_type": "code",
   "execution_count": 57,
   "metadata": {
    "hidden": true,
    "scrolled": false
   },
   "outputs": [
    {
     "name": "stdout",
     "output_type": "stream",
     "text": [
      "The color of the sky is blue , yellow , and yellow . The blue and grey sky is also the symbol of the sky . The sky , light , and dark sky are heavily coloured . The sky is composed of\n",
      "The color of the sky is a dark dark brown and the air should be white or blue . The color of the sky is a dark yellow and yellow from the sky . The air is pale and dark , but the skies\n"
     ]
    }
   ],
   "source": [
    "print(\"\\n\".join(learn_lm.predict(TEXT, N_WORDS, temperature=0.75) for _ in range(N_SENTENCES)))"
   ]
  },
  {
   "cell_type": "code",
   "execution_count": 58,
   "metadata": {
    "hidden": true
   },
   "outputs": [],
   "source": [
    "TEXT = \"I hated this movie\"\n",
    "N_WORDS = 30\n",
    "N_SENTENCES = 2"
   ]
  },
  {
   "cell_type": "code",
   "execution_count": 59,
   "metadata": {
    "hidden": true
   },
   "outputs": [
    {
     "name": "stdout",
     "output_type": "stream",
     "text": [
      "I hated this movie episode for workers who were seductive and convicted for looting , and the Windsor Palace Police Department was hurt . The crime scene had a\n",
      "I hated this movie for that reason , it was never released , but it was included in the 2003 film The Great American Tragedy . The film 's\n"
     ]
    }
   ],
   "source": [
    "print(\"\\n\".join(learn_lm.predict(TEXT, N_WORDS, temperature=0.75) for _ in range(N_SENTENCES)))"
   ]
  },
  {
   "cell_type": "code",
   "execution_count": 60,
   "metadata": {
    "hidden": true,
    "scrolled": true
   },
   "outputs": [
    {
     "name": "stdout",
     "output_type": "stream",
     "text": [
      "I hated this movie as one of the most popular films of the year . This is one of the most controversial films of this era . It was used in films\n",
      "I hated this movie by James Bond . In his book Bad Reality , Michael Moore , Steve Smith and Daniel Craig stated\n"
     ]
    }
   ],
   "source": [
    "print(\"\\n\".join(learn_lm.predict(TEXT, N_WORDS, temperature=0.75) for _ in range(N_SENTENCES)))"
   ]
  },
  {
   "cell_type": "code",
   "execution_count": 61,
   "metadata": {
    "hidden": true
   },
   "outputs": [],
   "source": [
    "doc(LanguageLearner.predict)"
   ]
  },
  {
   "cell_type": "markdown",
   "metadata": {
    "hidden": true
   },
   "source": [
    "Lowering the `temperature` will make the texts less randomized."
   ]
  },
  {
   "cell_type": "code",
   "execution_count": 62,
   "metadata": {
    "hidden": true,
    "scrolled": true
   },
   "outputs": [
    {
     "name": "stdout",
     "output_type": "stream",
     "text": [
      "I hated this movie by John Lennon , and he was a fan of the Beatles . He said that he was \" very proud \" of the film ,\n",
      "I hated this movie by James Cameron , Jr . , The Lord of the Rings , and The Lord of the Rings :\n"
     ]
    }
   ],
   "source": [
    "print(\"\\n\".join(learn_lm.predict(TEXT, N_WORDS, temperature=0.10) for _ in range(N_SENTENCES)))"
   ]
  },
  {
   "cell_type": "code",
   "execution_count": 63,
   "metadata": {
    "hidden": true
   },
   "outputs": [],
   "source": [
    "doc(LanguageLearner.predict)"
   ]
  },
  {
   "cell_type": "code",
   "execution_count": 64,
   "metadata": {
    "hidden": true
   },
   "outputs": [
    {
     "name": "stdout",
     "output_type": "stream",
     "text": [
      "I hated this movie by John Lennon , and he said that he was \" a little bit more interested in the idea of a movie than a movie . \"\n",
      "I hated this movie by John Lennon , and he said , \" i ' m not sure what i ' m doing . It 's a bad thing . \"\n"
     ]
    }
   ],
   "source": [
    "print(\"\\n\".join(learn_lm.predict(TEXT, N_WORDS, temperature=0.10) for _ in range(N_SENTENCES)))"
   ]
  },
  {
   "cell_type": "markdown",
   "metadata": {},
   "source": [
    "### 2C. Training (fine-tuning) the `IMDb` language model\n",
    "#### Starting with the `wikitext-103` pretrained weights, we'll fine-tune the model to \"learn\" the structure in the \"language\" of IMDb movie reviews."
   ]
  },
  {
   "cell_type": "markdown",
   "metadata": {},
   "source": [
    "#### Choose an appropriate learning rate."
   ]
  },
  {
   "cell_type": "code",
   "execution_count": 65,
   "metadata": {},
   "outputs": [],
   "source": [
    "learn_lm.data = data_lm"
   ]
  },
  {
   "cell_type": "code",
   "execution_count": 66,
   "metadata": {},
   "outputs": [
    {
     "data": {
      "text/html": [
       "\n",
       "    <div>\n",
       "        <style>\n",
       "            /* Turns off some styling */\n",
       "            progress {\n",
       "                /* gets rid of default border in Firefox and Opera. */\n",
       "                border: none;\n",
       "                /* Needs to be in here for Safari polyfill so background images work as expected. */\n",
       "                background-size: auto;\n",
       "            }\n",
       "            .progress-bar-interrupted, .progress-bar-interrupted::-webkit-progress-bar {\n",
       "                background: #F44336;\n",
       "            }\n",
       "        </style>\n",
       "      <progress value='0' class='' max='1' style='width:300px; height:20px; vertical-align: middle;'></progress>\n",
       "      0.00% [0/1 00:00<00:00]\n",
       "    </div>\n",
       "    \n",
       "<table border=\"1\" class=\"dataframe\">\n",
       "  <thead>\n",
       "    <tr style=\"text-align: left;\">\n",
       "      <th>epoch</th>\n",
       "      <th>train_loss</th>\n",
       "      <th>valid_loss</th>\n",
       "      <th>accuracy</th>\n",
       "      <th>time</th>\n",
       "    </tr>\n",
       "  </thead>\n",
       "  <tbody>\n",
       "  </tbody>\n",
       "</table><p>\n",
       "\n",
       "    <div>\n",
       "        <style>\n",
       "            /* Turns off some styling */\n",
       "            progress {\n",
       "                /* gets rid of default border in Firefox and Opera. */\n",
       "                border: none;\n",
       "                /* Needs to be in here for Safari polyfill so background images work as expected. */\n",
       "                background-size: auto;\n",
       "            }\n",
       "            .progress-bar-interrupted, .progress-bar-interrupted::-webkit-progress-bar {\n",
       "                background: #F44336;\n",
       "            }\n",
       "        </style>\n",
       "      <progress value='99' class='' max='8060' style='width:300px; height:20px; vertical-align: middle;'></progress>\n",
       "      1.23% [99/8060 00:20<27:29 11.0332]\n",
       "    </div>\n",
       "    "
      ],
      "text/plain": [
       "<IPython.core.display.HTML object>"
      ]
     },
     "metadata": {},
     "output_type": "display_data"
    },
    {
     "name": "stdout",
     "output_type": "stream",
     "text": [
      "LR Finder is complete, type {learner_name}.recorder.plot() to see the graph.\n"
     ]
    }
   ],
   "source": [
    "learn_lm.lr_find()"
   ]
  },
  {
   "cell_type": "code",
   "execution_count": 67,
   "metadata": {},
   "outputs": [
    {
     "data": {
      "image/png": "[encoded data removed]",
      "text/plain": [
       "<Figure size 432x288 with 1 Axes>"
      ]
     },
     "metadata": {
      "needs_background": "light"
     },
     "output_type": "display_data"
    }
   ],
   "source": [
    "learn_lm.recorder.plot(skip_end=15)"
   ]
  },
  {
   "cell_type": "code",
   "execution_count": 68,
   "metadata": {},
   "outputs": [],
   "source": [
    "lr = 1e-3\n",
    "lr *= bs/48"
   ]
  },
  {
   "cell_type": "markdown",
   "metadata": {},
   "source": [
    "#### Use the mixed-precision option, if you have it, otherwise omit this step"
   ]
  },
  {
   "cell_type": "code",
   "execution_count": 69,
   "metadata": {},
   "outputs": [
    {
     "data": {
      "text/plain": [
       "LanguageLearner(data=TextLMDataBunch;\n",
       "\n",
       "Train: LabelList (90000 items)\n",
       "x: LMTextList\n",
       "xxbos i did n't know what to expect when i started watching this movie , by the end of it i was pulling my hairs out . xxmaj this was one of the most pathetic movies of this year ... in fact , in the last ten years . xxmaj david xxmaj dhawan should just give up his career as a director . i am yet to come across one original script that xxmaj david xxmaj dhawan has worked on . xxmaj this one was a complete bit y bit rip off xxmaj hitch . i have nothing against remakes as such , but this one is just so lousy that it makes you even hate the original one ( which was pretty decent ) . i fail to understand what actors like xxmaj salman and xxmaj govinda saw in this script . i read somewhere , that this was supposed to be xxmaj govinda 's comeback vehicle . xxmaj if that s true , then only xxmaj god can save his career . xxmaj salman just overacted to the hilt . xxmaj govinda who i think is an actor of very high caliber was completely wasted . xxmaj katrina xxmaj kaif and lara xxmaj dutta had nothing to do apart form wearing designer clothes and smiling for no rhyme or reason . xxmaj please stay away form this one !,xxbos xxmaj for several reasons , this movie is simply awful . xxmaj other posters have listed some of this movie 's historical errors . xxmaj well , i have a layman 's knowledge of xxmaj roman history and even i found the inaccuracies flagrant . i usually forgive errors in historical movies because i understand that the purpose is to entertain not educate . xxmaj and shrinking a long saga down to a two hour feature requires some , let 's say , historical license . xxmaj but this movie goes well beyond mere rounding . \n",
       " \n",
       "  xxmaj there 's worse . xxmaj to tell a story from a distant period , the movie uses flashbacks which just make the story more confusing . xxmaj unless viewers have some prior knowledge of the period , they will quickly be lost . xxmaj in addition , the movie was obviously filmed simultaneously in xxmaj italian and xxmaj english with various actors being dubbed later . xxmaj at times , the actors seem as if they were in completely different movies which were then edited together . xxmaj in fact , this is not far wrong . xxmaj the actors were obviously pasted onto a cheesy computer generated ancient xxmaj rome . \n",
       " \n",
       "  xxmaj the only reason i give this boring mess any stars is because i always find xxmaj peter o'toole entertaining . xxmaj but that is no reason to rent it . xxmaj if you are curious about xxmaj roman history , there are much better movies available .,xxbos xxmaj remember those terrible war movies your grandmother forced you to watch 25 or so years ago on your old xxup vhs recorder ? \" xxmaj the xxmaj fallen \" is just a bad executed remake of those movies ! xxmaj the story is terrible , the direction is terrible , the editing is terrible , the music is terrible , and all together make an unbearable nightmare . \n",
       " \n",
       "  xxmaj it is also terribly slow ! xxmaj very slow ! i tried to sleep while watching it but i could n't do it because i had nightmares of it . \n",
       " \n",
       "  xxmaj please do n't watch this movie ! xxmaj it is xxup that bad ! xxmaj ten lines is a lot so i do n't know what else to say . \n",
       " \n",
       "  xxmaj press the eject button xxup now and you wo nt regret it !,xxbos a post - apocalyptic warrior goes off to save some kind of xxmaj nun and on the way meets some cyber - punks on skates who want to kick his ass . xxmaj this is one of the hardest to watch films ever , xxmaj there are scenes with silence that seems to last hours before somebody comes out with the next badly written , badly acted line . xxmaj there are action sequences that keep repeating - and we 're not talking the quickfire 1 - 2 - 3 action repeat on a particularly good kick that was made popular by eastern directors , we 're talking many , many repeats of long , bad fight sequences . xxmaj this is incredibly confusing at first but then quickly becomes annoying as you 're watching a 30 second sequence for the 2nd , 3rd and 4th time . xxmaj any kind of plot or vision is lost within the confusing continuity , the only thing that s keeps this film in the xxunk ( apart from the bet from a friend that i could n't watch it all the way through without begging for it to be turned off and disposed off safely so it may harm no - one else ) is the fact that although painful , this film is unintentionally hilarious , i 'm not at all a fan of those \" so bad that it 's funny \" type of films but at parts i was in tears . xxmaj other points to note are the quality of the sound and picture but this is forgiveable as it 's obvious money was a major problem in the making of this film . xxmaj final verdict - xxmaj king of the \" so bad they 're funny \" genre , anybody having that kind of genre video night should get themselves a copy . xxmaj also lets not forget that it is actually the worst film i 've ever seen .,xxbos i believe that this movie was a terrible waste of my time , and i would know after watching it 5 times in class . this movie does not show what absolutely perfectly happened during these times . no one can truly say that these things happened to the letter . if anything the only good part would be the actors , even tho that they were really really xxunk were reading the script without expression . quite boring . i would rather watch play school . so i would definitely like to never ever see this movie again in my whole life . it is a complete waste of time unless you want your time to be wasted and if you would like to see an unrealistic view of what happened back in 1981 .\n",
       "y: LMLabelList\n",
       ",,,,\n",
       "Path: /root/.fastai/data/imdb;\n",
       "\n",
       "Valid: LabelList (10000 items)\n",
       "x: LMTextList\n",
       "xxbos xxmaj this film is really bad , so bad that even xxmaj christopher xxmaj lee can not save it . a poor story an even poorer script and just plain bad direction makes this a truly outstanding horror film , the outstanding part being that it is the only horror film that i can honestly say i would never ever watch again . xxmaj this garbage make xxmaj plan nine from outerspace look like oscar material .,xxbos xxmaj for those deciding whether or not to watch this movie and are reading these comments for insight , i first offer these four words : xxmaj do n't waste your time ! \" xxmaj chungking xxmaj express \" was shoddily filmed , slapped together quickly and seems as though it were conceived in its entirety by someone standing in line at a xxmaj hong xxmaj kong xxmaj burger xxmaj king . i ca n't remember ever watching a film with an assortment of such one - dimensional characters trying to work their way through a script this mundane ! xxmaj it 's an absurd effort with philosophically ridiculous dialog ( a man wanders into his flooded apartment and offers the stunning revelation that \" tears can be dried with a tissue , but water takes time to mop up \" ) . xxmaj the same character is also seen carrying on a deep , meaningful rapport with his towels , soap , stuffed animals , dirty laundry , etc . xxmaj the shaky , wandering , hand - held camera - work was another annoying feature i could have done without . xxmaj and if that is n't enough to make you puke in your popcorn , we hear the old 60 's ode \" xxmaj california xxmaj dreaming \" by the xxmaj mamas and xxmaj papas blaring over the soundtrack over and over again during a particularly lengthy sequence . \n",
       " \n",
       "  xxmaj quentin xxmaj tarantino was responsible for bringing this loser to xxmaj america through his xxmaj rolling xxmaj thunder xxmaj productions company , though i can not for the life of me figure out why a man with his talent would bother . xxmaj he was known to have remarked , \" i 'm happy to love a movie this much . \" a lot of us , though , hope he will concentrate on making his audiences happy with more worthwhile discoveries in the future .,xxbos i had never heard of this film till it popped up on cable xxup tv and i ca n't understand why . xxmaj geena outdoes xxmaj arnold as an action hero in this film ! xxmaj geena is an ex - xxup cia assassin who is brainwashed and given an identity as a schoolteacher with a quiet family life in a rural town . xxmaj she continues that life for 8 years with a husband and daughter . xxmaj clues start coming to her that she may have been someone else , especially when someone tries to kill her . xxmaj it seems that her former employers have discovered that she never died and want to make sure that she does . xxmaj she hires xxmaj samuel xxup l. xxmaj jackson , who is a former police officer . xxmaj together they form a pair that is as entertaining as xxmaj mel xxmaj gibson & xxmaj danny xxmaj glover . xxmaj when xxmaj geena finally regains her memory she undergoes a transformation into the killing machine she once was with the song \" xxmaj she 's xxmaj not xxmaj there \" playing in the background . xxmaj what follows is xxmaj geena and xxmaj samuel have to go after the bad guys and hopefully stay alive . xxmaj all through the rest of the film xxmaj geena has to decide who she really is . xxmaj the killing unfeeling machine ? xxmaj the mother / schoolteacher with the quiet family life ? xxmaj or a combination of both ? xxmaj especially , since the bad guys grab xxmaj geena 's daughter . xxmaj great action scenes that rank up with any of the xxmaj die xxmaj hard movies !,xxbos ' xxmaj mojo ' is a story of fifties xxmaj london , a world of budding rock stars , violence and forced homosexuality . ' xxmaj mojo ' uses a technique for shooting the 1950s often seen in films that stresses the physical differences to our own time but also represents dialogue in a highly exaggerated fashion ( owing much to the way that speech was represented in films made in that period ) ; i have no idea if people actually spoke like this outside of the movies , but no films made today and set in contemporary times use such stylised language . xxmaj it 's as if the stilted discourse of 1950s screenwriters serves a common shorthand for a past that seems , in consequence , a very distant country indeed ; and therefore stresses the particular , rather than the universal , in the story . ' xxmaj mojo ' features a strong performance from xxmaj ian xxmaj hart and annoying ones from xxmaj aiden xxmaj xxunk and xxmaj ewan xxmaj bremner , the latter still struggling to build a xxunk ' career ; but feels like a period piece , a modern film incomprehensibly structured in an outdated idiom . xxmaj rather dull , actually .,xxbos i have to say , as a xxup bsg fan i was n't exactly sure what i 'd think of this show . i saw it on the big screen at the xxmaj xxunk cinema tonight ( as part of the xxmaj xxunk xxmaj center screenings ) , and the cast and film makers spoke after - wards . xxmaj ron xxmaj moore said they ' wanted to make a clean break from xxmaj battlestar , and do something different , and that yes they would lose some fans but hopefully they 'd gain others \" . \n",
       " \n",
       "  xxmaj even without their talk , i am now a fan of the new show . xxmaj but here 's what i thought of the film . \n",
       " \n",
       "  i loved it . xxmaj it was really very good . i guess i 'm a true sci - fi ( or ' syfy ' - do i really have to type that ? ) geek , because i 'd totally watch this as a series . xxmaj it has a strong and rich story , and kept my interest . \n",
       " \n",
       "  xxmaj it starts with a small group of teenagers plotting something , which to me was the weakest part and a bit confusing . xxmaj the actor playing \" xxmaj ben \" should have given us more of a glimpse into his intense beliefs . xxmaj the actress playing \" xxmaj zoe \" seemed a little xxunk , but she was playing a teenager ( and i 'm sure i wo n't be the only one who thought \" xxmaj zoe \" was a cylon at first , perils of being a xxup bsg geek ) . xxmaj if they 're hoping these will be the new xxmaj bamber / xxmaj xxunk / xxmaj park , they may want to rethink it . xxmaj surprisingly , it was the adults that captured the audiences attention . \n",
       " \n",
       "  xxmaj eric xxmaj stoltz gives a stellar performance as xxmaj daniel xxmaj xxunk , a man so haunted by his family tragedy that he jumps at the first chance of getting out of his grief and does n't let go . xxmaj he does a chilling and enthralling job of conveying his character 's sly knowledge of the inner world of computers and people , especially in a scene in which he spins a web for the young teenage friend of his daughters , traps her , then dismisses and releases her . xxmaj no sign at all of the ' serial killer ' he played on xxmaj gray 's xxmaj anatomy , really impressive acting . \n",
       " \n",
       "  xxmaj equally as strong though not in it nearly as much is xxmaj paula xxmaj xxunk as his wife xxmaj amanda xxmaj xxunk . xxmaj she is just as smart and well written and beautifully played as xxmaj stoltz 's part , and i completely believed that they are a couple , and a couple that have been together forever and have a strong relationship , something rarely seen these days . i look forward to seeing what happens with this family , and hope they give her as much to do as xxmaj roslin in xxup xxunk she is strong and smart and when she lashes out at her kid , you cringe , it 's really great . xxmaj not to mention her eyes , which could hold magical powers , that 's how intense they are . xxmaj the scene where she takes on the government xxunk very short scene , but beautifully xxunk really gives you an idea of her power . \n",
       " \n",
       "  xxmaj the other part of the show that did not work 100 % for me were the scenes with xxmaj esai xxmaj morales , and the mafia type clan of his . xxmaj he does a good job overall , but i did not believe in this mobs power , nor intimidated by their threats . i found myself wishing that this whole story line was a bit more mysterious and hard to figure out ; the way it is presented is almost an homage to the xxmaj godfather , they kind of hit you over the head with it a bit . xxmaj but given time , i can see how this will develop into an interesting ' xxmaj upstairs / downstairs ' kind of thing , with the poor minorities ( xxmaj morales et al ) versus the rich folk who rule the planet ( xxmaj stolz et al ) . xxmaj and to be honest , i did enjoy it when he spoke to his son about the origin of their name- that was a very well played scene . \n",
       " \n",
       "  xxmaj note to xxup bsg fans , the boy playing ' xxmaj willy xxmaj adama ' does n't really look much like xxmaj olmos , but he 's just a kid . xxmaj whether or not he 'll be featured any more than he was in this film , who knows ? i sure could n't tell . xxmaj but it did n't bother me , because he was n't as interesting as everything else going on around him . \n",
       " \n",
       "  xxmaj polly xxmaj walker plays ' xxmaj sister xxmaj clarice ' , and she 's chilling and odd in every scene she 's in . i 'm not sure where she 'll go or who she 'll end up with , but i was very impressed with her acting . xxmaj in this film she was sort of on the side , but obviously being set up to play a very important part later on . xxmaj she was nothing like her character in \" xxmaj rome \" , something i always find impressive in actors . \n",
       " \n",
       "  xxmaj one nice xxunk the music is actually better and less obvious than xxup bsg , even though it 's the same guy doing it , xxmaj bear xxunk . xxmaj it has a haunting and unusual approach that took me by surprise , i 'd buy this score if i had the chance . \n",
       " \n",
       "  xxmaj as to the ' panel discussion ' after the show , it was hosted by xxmaj seth xxmaj green . xxmaj ron xxmaj moore was very smart and articulate , xxmaj david xxmaj xxunk was cracking wise ( much like his video diaries ) , xxmaj esai xxmaj morales told a long story about how he was cast , and xxmaj eric xxmaj stoltz was very funny and did n't really answer the questions ( but i 've always had a thing for him ) . xxmaj paula xxmaj xxunk was tough ( she took xxmaj seth xxmaj green to task for mistakenly saying she was on ' 24 ' ) , and the girls who played xxmaj zooey and xxmaj lacey were both darling . xxmaj grace xxmaj park and xxmaj tricia xxmaj xxunk were there as well , answering questions about how they did the scenes acting with themselves on xxup bsg . xxmaj overall a very interesting and wonderful evening . \n",
       " \n",
       "  i 'm giving the show a 9 out of 10 , and very much looking forward to watching it all unfold . \n",
       " \n",
       "  xxup note : i just watched this a second time and really hope they explore what the xxup xxunk was originally made for . i have no idea what that may be , but it holds a great deal of fascination to me .\n",
       "y: LMLabelList\n",
       ",,,,\n",
       "Path: /root/.fastai/data/imdb;\n",
       "\n",
       "Test: None, model=SequentialRNN(\n",
       "  (0): AWD_LSTM(\n",
       "    (encoder): Embedding(60000, 400, padding_idx=1)\n",
       "    (encoder_dp): EmbeddingDropout(\n",
       "      (emb): Embedding(60000, 400, padding_idx=1)\n",
       "    )\n",
       "    (rnns): ModuleList(\n",
       "      (0): WeightDropout(\n",
       "        (module): LSTM(400, 1152, batch_first=True)\n",
       "      )\n",
       "      (1): WeightDropout(\n",
       "        (module): LSTM(1152, 1152, batch_first=True)\n",
       "      )\n",
       "      (2): WeightDropout(\n",
       "        (module): LSTM(1152, 400, batch_first=True)\n",
       "      )\n",
       "    )\n",
       "    (input_dp): RNNDropout()\n",
       "    (hidden_dps): ModuleList(\n",
       "      (0): RNNDropout()\n",
       "      (1): RNNDropout()\n",
       "      (2): RNNDropout()\n",
       "    )\n",
       "  )\n",
       "  (1): LinearDecoder(\n",
       "    (decoder): Linear(in_features=400, out_features=60000, bias=True)\n",
       "    (output_dp): RNNDropout()\n",
       "  )\n",
       "), opt_func=functools.partial(<class 'torch.optim.adam.Adam'>, betas=(0.9, 0.99)), loss_func=FlattenedLoss of CrossEntropyLoss(), metrics=[<function accuracy at 0x7f8020f049d8>], true_wd=True, bn_wd=True, wd=0.01, train_bn=True, path=PosixPath('/root/.fastai/data/imdb'), model_dir='models', callback_fns=[functools.partial(<class 'fastai.basic_train.Recorder'>, add_time=True, silent=False)], callbacks=[RNNTrainer\n",
       "learn: LanguageLearner(data=TextLMDataBunch;\n",
       "\n",
       "Train: LabelList (90000 items)\n",
       "x: LMTextList\n",
       "xxbos i did n't know what to expect when i started watching this movie , by the end of it i was pulling my hairs out . xxmaj this was one of the most pathetic movies of this year ... in fact , in the last ten years . xxmaj david xxmaj dhawan should just give up his career as a director . i am yet to come across one original script that xxmaj david xxmaj dhawan has worked on . xxmaj this one was a complete bit y bit rip off xxmaj hitch . i have nothing against remakes as such , but this one is just so lousy that it makes you even hate the original one ( which was pretty decent ) . i fail to understand what actors like xxmaj salman and xxmaj govinda saw in this script . i read somewhere , that this was supposed to be xxmaj govinda 's comeback vehicle . xxmaj if that s true , then only xxmaj god can save his career . xxmaj salman just overacted to the hilt . xxmaj govinda who i think is an actor of very high caliber was completely wasted . xxmaj katrina xxmaj kaif and lara xxmaj dutta had nothing to do apart form wearing designer clothes and smiling for no rhyme or reason . xxmaj please stay away form this one !,xxbos xxmaj for several reasons , this movie is simply awful . xxmaj other posters have listed some of this movie 's historical errors . xxmaj well , i have a layman 's knowledge of xxmaj roman history and even i found the inaccuracies flagrant . i usually forgive errors in historical movies because i understand that the purpose is to entertain not educate . xxmaj and shrinking a long saga down to a two hour feature requires some , let 's say , historical license . xxmaj but this movie goes well beyond mere rounding . \n",
       " \n",
       "  xxmaj there 's worse . xxmaj to tell a story from a distant period , the movie uses flashbacks which just make the story more confusing . xxmaj unless viewers have some prior knowledge of the period , they will quickly be lost . xxmaj in addition , the movie was obviously filmed simultaneously in xxmaj italian and xxmaj english with various actors being dubbed later . xxmaj at times , the actors seem as if they were in completely different movies which were then edited together . xxmaj in fact , this is not far wrong . xxmaj the actors were obviously pasted onto a cheesy computer generated ancient xxmaj rome . \n",
       " \n",
       "  xxmaj the only reason i give this boring mess any stars is because i always find xxmaj peter o'toole entertaining . xxmaj but that is no reason to rent it . xxmaj if you are curious about xxmaj roman history , there are much better movies available .,xxbos xxmaj remember those terrible war movies your grandmother forced you to watch 25 or so years ago on your old xxup vhs recorder ? \" xxmaj the xxmaj fallen \" is just a bad executed remake of those movies ! xxmaj the story is terrible , the direction is terrible , the editing is terrible , the music is terrible , and all together make an unbearable nightmare . \n",
       " \n",
       "  xxmaj it is also terribly slow ! xxmaj very slow ! i tried to sleep while watching it but i could n't do it because i had nightmares of it . \n",
       " \n",
       "  xxmaj please do n't watch this movie ! xxmaj it is xxup that bad ! xxmaj ten lines is a lot so i do n't know what else to say . \n",
       " \n",
       "  xxmaj press the eject button xxup now and you wo nt regret it !,xxbos a post - apocalyptic warrior goes off to save some kind of xxmaj nun and on the way meets some cyber - punks on skates who want to kick his ass . xxmaj this is one of the hardest to watch films ever , xxmaj there are scenes with silence that seems to last hours before somebody comes out with the next badly written , badly acted line . xxmaj there are action sequences that keep repeating - and we 're not talking the quickfire 1 - 2 - 3 action repeat on a particularly good kick that was made popular by eastern directors , we 're talking many , many repeats of long , bad fight sequences . xxmaj this is incredibly confusing at first but then quickly becomes annoying as you 're watching a 30 second sequence for the 2nd , 3rd and 4th time . xxmaj any kind of plot or vision is lost within the confusing continuity , the only thing that s keeps this film in the xxunk ( apart from the bet from a friend that i could n't watch it all the way through without begging for it to be turned off and disposed off safely so it may harm no - one else ) is the fact that although painful , this film is unintentionally hilarious , i 'm not at all a fan of those \" so bad that it 's funny \" type of films but at parts i was in tears . xxmaj other points to note are the quality of the sound and picture but this is forgiveable as it 's obvious money was a major problem in the making of this film . xxmaj final verdict - xxmaj king of the \" so bad they 're funny \" genre , anybody having that kind of genre video night should get themselves a copy . xxmaj also lets not forget that it is actually the worst film i 've ever seen .,xxbos i believe that this movie was a terrible waste of my time , and i would know after watching it 5 times in class . this movie does not show what absolutely perfectly happened during these times . no one can truly say that these things happened to the letter . if anything the only good part would be the actors , even tho that they were really really xxunk were reading the script without expression . quite boring . i would rather watch play school . so i would definitely like to never ever see this movie again in my whole life . it is a complete waste of time unless you want your time to be wasted and if you would like to see an unrealistic view of what happened back in 1981 .\n",
       "y: LMLabelList\n",
       ",,,,\n",
       "Path: /root/.fastai/data/imdb;\n",
       "\n",
       "Valid: LabelList (10000 items)\n",
       "x: LMTextList\n",
       "xxbos xxmaj this film is really bad , so bad that even xxmaj christopher xxmaj lee can not save it . a poor story an even poorer script and just plain bad direction makes this a truly outstanding horror film , the outstanding part being that it is the only horror film that i can honestly say i would never ever watch again . xxmaj this garbage make xxmaj plan nine from outerspace look like oscar material .,xxbos xxmaj for those deciding whether or not to watch this movie and are reading these comments for insight , i first offer these four words : xxmaj do n't waste your time ! \" xxmaj chungking xxmaj express \" was shoddily filmed , slapped together quickly and seems as though it were conceived in its entirety by someone standing in line at a xxmaj hong xxmaj kong xxmaj burger xxmaj king . i ca n't remember ever watching a film with an assortment of such one - dimensional characters trying to work their way through a script this mundane ! xxmaj it 's an absurd effort with philosophically ridiculous dialog ( a man wanders into his flooded apartment and offers the stunning revelation that \" tears can be dried with a tissue , but water takes time to mop up \" ) . xxmaj the same character is also seen carrying on a deep , meaningful rapport with his towels , soap , stuffed animals , dirty laundry , etc . xxmaj the shaky , wandering , hand - held camera - work was another annoying feature i could have done without . xxmaj and if that is n't enough to make you puke in your popcorn , we hear the old 60 's ode \" xxmaj california xxmaj dreaming \" by the xxmaj mamas and xxmaj papas blaring over the soundtrack over and over again during a particularly lengthy sequence . \n",
       " \n",
       "  xxmaj quentin xxmaj tarantino was responsible for bringing this loser to xxmaj america through his xxmaj rolling xxmaj thunder xxmaj productions company , though i can not for the life of me figure out why a man with his talent would bother . xxmaj he was known to have remarked , \" i 'm happy to love a movie this much . \" a lot of us , though , hope he will concentrate on making his audiences happy with more worthwhile discoveries in the future .,xxbos i had never heard of this film till it popped up on cable xxup tv and i ca n't understand why . xxmaj geena outdoes xxmaj arnold as an action hero in this film ! xxmaj geena is an ex - xxup cia assassin who is brainwashed and given an identity as a schoolteacher with a quiet family life in a rural town . xxmaj she continues that life for 8 years with a husband and daughter . xxmaj clues start coming to her that she may have been someone else , especially when someone tries to kill her . xxmaj it seems that her former employers have discovered that she never died and want to make sure that she does . xxmaj she hires xxmaj samuel xxup l. xxmaj jackson , who is a former police officer . xxmaj together they form a pair that is as entertaining as xxmaj mel xxmaj gibson & xxmaj danny xxmaj glover . xxmaj when xxmaj geena finally regains her memory she undergoes a transformation into the killing machine she once was with the song \" xxmaj she 's xxmaj not xxmaj there \" playing in the background . xxmaj what follows is xxmaj geena and xxmaj samuel have to go after the bad guys and hopefully stay alive . xxmaj all through the rest of the film xxmaj geena has to decide who she really is . xxmaj the killing unfeeling machine ? xxmaj the mother / schoolteacher with the quiet family life ? xxmaj or a combination of both ? xxmaj especially , since the bad guys grab xxmaj geena 's daughter . xxmaj great action scenes that rank up with any of the xxmaj die xxmaj hard movies !,xxbos ' xxmaj mojo ' is a story of fifties xxmaj london , a world of budding rock stars , violence and forced homosexuality . ' xxmaj mojo ' uses a technique for shooting the 1950s often seen in films that stresses the physical differences to our own time but also represents dialogue in a highly exaggerated fashion ( owing much to the way that speech was represented in films made in that period ) ; i have no idea if people actually spoke like this outside of the movies , but no films made today and set in contemporary times use such stylised language . xxmaj it 's as if the stilted discourse of 1950s screenwriters serves a common shorthand for a past that seems , in consequence , a very distant country indeed ; and therefore stresses the particular , rather than the universal , in the story . ' xxmaj mojo ' features a strong performance from xxmaj ian xxmaj hart and annoying ones from xxmaj aiden xxmaj xxunk and xxmaj ewan xxmaj bremner , the latter still struggling to build a xxunk ' career ; but feels like a period piece , a modern film incomprehensibly structured in an outdated idiom . xxmaj rather dull , actually .,xxbos i have to say , as a xxup bsg fan i was n't exactly sure what i 'd think of this show . i saw it on the big screen at the xxmaj xxunk cinema tonight ( as part of the xxmaj xxunk xxmaj center screenings ) , and the cast and film makers spoke after - wards . xxmaj ron xxmaj moore said they ' wanted to make a clean break from xxmaj battlestar , and do something different , and that yes they would lose some fans but hopefully they 'd gain others \" . \n",
       " \n",
       "  xxmaj even without their talk , i am now a fan of the new show . xxmaj but here 's what i thought of the film . \n",
       " \n",
       "  i loved it . xxmaj it was really very good . i guess i 'm a true sci - fi ( or ' syfy ' - do i really have to type that ? ) geek , because i 'd totally watch this as a series . xxmaj it has a strong and rich story , and kept my interest . \n",
       " \n",
       "  xxmaj it starts with a small group of teenagers plotting something , which to me was the weakest part and a bit confusing . xxmaj the actor playing \" xxmaj ben \" should have given us more of a glimpse into his intense beliefs . xxmaj the actress playing \" xxmaj zoe \" seemed a little xxunk , but she was playing a teenager ( and i 'm sure i wo n't be the only one who thought \" xxmaj zoe \" was a cylon at first , perils of being a xxup bsg geek ) . xxmaj if they 're hoping these will be the new xxmaj bamber / xxmaj xxunk / xxmaj park , they may want to rethink it . xxmaj surprisingly , it was the adults that captured the audiences attention . \n",
       " \n",
       "  xxmaj eric xxmaj stoltz gives a stellar performance as xxmaj daniel xxmaj xxunk , a man so haunted by his family tragedy that he jumps at the first chance of getting out of his grief and does n't let go . xxmaj he does a chilling and enthralling job of conveying his character 's sly knowledge of the inner world of computers and people , especially in a scene in which he spins a web for the young teenage friend of his daughters , traps her , then dismisses and releases her . xxmaj no sign at all of the ' serial killer ' he played on xxmaj gray 's xxmaj anatomy , really impressive acting . \n",
       " \n",
       "  xxmaj equally as strong though not in it nearly as much is xxmaj paula xxmaj xxunk as his wife xxmaj amanda xxmaj xxunk . xxmaj she is just as smart and well written and beautifully played as xxmaj stoltz 's part , and i completely believed that they are a couple , and a couple that have been together forever and have a strong relationship , something rarely seen these days . i look forward to seeing what happens with this family , and hope they give her as much to do as xxmaj roslin in xxup xxunk she is strong and smart and when she lashes out at her kid , you cringe , it 's really great . xxmaj not to mention her eyes , which could hold magical powers , that 's how intense they are . xxmaj the scene where she takes on the government xxunk very short scene , but beautifully xxunk really gives you an idea of her power . \n",
       " \n",
       "  xxmaj the other part of the show that did not work 100 % for me were the scenes with xxmaj esai xxmaj morales , and the mafia type clan of his . xxmaj he does a good job overall , but i did not believe in this mobs power , nor intimidated by their threats . i found myself wishing that this whole story line was a bit more mysterious and hard to figure out ; the way it is presented is almost an homage to the xxmaj godfather , they kind of hit you over the head with it a bit . xxmaj but given time , i can see how this will develop into an interesting ' xxmaj upstairs / downstairs ' kind of thing , with the poor minorities ( xxmaj morales et al ) versus the rich folk who rule the planet ( xxmaj stolz et al ) . xxmaj and to be honest , i did enjoy it when he spoke to his son about the origin of their name- that was a very well played scene . \n",
       " \n",
       "  xxmaj note to xxup bsg fans , the boy playing ' xxmaj willy xxmaj adama ' does n't really look much like xxmaj olmos , but he 's just a kid . xxmaj whether or not he 'll be featured any more than he was in this film , who knows ? i sure could n't tell . xxmaj but it did n't bother me , because he was n't as interesting as everything else going on around him . \n",
       " \n",
       "  xxmaj polly xxmaj walker plays ' xxmaj sister xxmaj clarice ' , and she 's chilling and odd in every scene she 's in . i 'm not sure where she 'll go or who she 'll end up with , but i was very impressed with her acting . xxmaj in this film she was sort of on the side , but obviously being set up to play a very important part later on . xxmaj she was nothing like her character in \" xxmaj rome \" , something i always find impressive in actors . \n",
       " \n",
       "  xxmaj one nice xxunk the music is actually better and less obvious than xxup bsg , even though it 's the same guy doing it , xxmaj bear xxunk . xxmaj it has a haunting and unusual approach that took me by surprise , i 'd buy this score if i had the chance . \n",
       " \n",
       "  xxmaj as to the ' panel discussion ' after the show , it was hosted by xxmaj seth xxmaj green . xxmaj ron xxmaj moore was very smart and articulate , xxmaj david xxmaj xxunk was cracking wise ( much like his video diaries ) , xxmaj esai xxmaj morales told a long story about how he was cast , and xxmaj eric xxmaj stoltz was very funny and did n't really answer the questions ( but i 've always had a thing for him ) . xxmaj paula xxmaj xxunk was tough ( she took xxmaj seth xxmaj green to task for mistakenly saying she was on ' 24 ' ) , and the girls who played xxmaj zooey and xxmaj lacey were both darling . xxmaj grace xxmaj park and xxmaj tricia xxmaj xxunk were there as well , answering questions about how they did the scenes acting with themselves on xxup bsg . xxmaj overall a very interesting and wonderful evening . \n",
       " \n",
       "  i 'm giving the show a 9 out of 10 , and very much looking forward to watching it all unfold . \n",
       " \n",
       "  xxup note : i just watched this a second time and really hope they explore what the xxup xxunk was originally made for . i have no idea what that may be , but it holds a great deal of fascination to me .\n",
       "y: LMLabelList\n",
       ",,,,\n",
       "Path: /root/.fastai/data/imdb;\n",
       "\n",
       "Test: None, model=SequentialRNN(\n",
       "  (0): AWD_LSTM(\n",
       "    (encoder): Embedding(60000, 400, padding_idx=1)\n",
       "    (encoder_dp): EmbeddingDropout(\n",
       "      (emb): Embedding(60000, 400, padding_idx=1)\n",
       "    )\n",
       "    (rnns): ModuleList(\n",
       "      (0): WeightDropout(\n",
       "        (module): LSTM(400, 1152, batch_first=True)\n",
       "      )\n",
       "      (1): WeightDropout(\n",
       "        (module): LSTM(1152, 1152, batch_first=True)\n",
       "      )\n",
       "      (2): WeightDropout(\n",
       "        (module): LSTM(1152, 400, batch_first=True)\n",
       "      )\n",
       "    )\n",
       "    (input_dp): RNNDropout()\n",
       "    (hidden_dps): ModuleList(\n",
       "      (0): RNNDropout()\n",
       "      (1): RNNDropout()\n",
       "      (2): RNNDropout()\n",
       "    )\n",
       "  )\n",
       "  (1): LinearDecoder(\n",
       "    (decoder): Linear(in_features=400, out_features=60000, bias=True)\n",
       "    (output_dp): RNNDropout()\n",
       "  )\n",
       "), opt_func=functools.partial(<class 'torch.optim.adam.Adam'>, betas=(0.9, 0.99)), loss_func=FlattenedLoss of CrossEntropyLoss(), metrics=[<function accuracy at 0x7f8020f049d8>], true_wd=True, bn_wd=True, wd=0.01, train_bn=True, path=PosixPath('/root/.fastai/data/imdb'), model_dir='models', callback_fns=[functools.partial(<class 'fastai.basic_train.Recorder'>, add_time=True, silent=False)], callbacks=[...], layer_groups=[Sequential(\n",
       "  (0): WeightDropout(\n",
       "    (module): LSTM(400, 1152, batch_first=True)\n",
       "  )\n",
       "  (1): RNNDropout()\n",
       "), Sequential(\n",
       "  (0): WeightDropout(\n",
       "    (module): LSTM(1152, 1152, batch_first=True)\n",
       "  )\n",
       "  (1): RNNDropout()\n",
       "), Sequential(\n",
       "  (0): WeightDropout(\n",
       "    (module): LSTM(1152, 400, batch_first=True)\n",
       "  )\n",
       "  (1): RNNDropout()\n",
       "), Sequential(\n",
       "  (0): Embedding(60000, 400, padding_idx=1)\n",
       "  (1): EmbeddingDropout(\n",
       "    (emb): Embedding(60000, 400, padding_idx=1)\n",
       "  )\n",
       "  (2): LinearDecoder(\n",
       "    (decoder): Linear(in_features=400, out_features=60000, bias=True)\n",
       "    (output_dp): RNNDropout()\n",
       "  )\n",
       ")], add_time=True, silent=False)\n",
       "alpha: 2.0\n",
       "beta: 1.0, MixedPrecision\n",
       "learn: LanguageLearner(data=TextLMDataBunch;\n",
       "\n",
       "Train: LabelList (90000 items)\n",
       "x: LMTextList\n",
       "xxbos i did n't know what to expect when i started watching this movie , by the end of it i was pulling my hairs out . xxmaj this was one of the most pathetic movies of this year ... in fact , in the last ten years . xxmaj david xxmaj dhawan should just give up his career as a director . i am yet to come across one original script that xxmaj david xxmaj dhawan has worked on . xxmaj this one was a complete bit y bit rip off xxmaj hitch . i have nothing against remakes as such , but this one is just so lousy that it makes you even hate the original one ( which was pretty decent ) . i fail to understand what actors like xxmaj salman and xxmaj govinda saw in this script . i read somewhere , that this was supposed to be xxmaj govinda 's comeback vehicle . xxmaj if that s true , then only xxmaj god can save his career . xxmaj salman just overacted to the hilt . xxmaj govinda who i think is an actor of very high caliber was completely wasted . xxmaj katrina xxmaj kaif and lara xxmaj dutta had nothing to do apart form wearing designer clothes and smiling for no rhyme or reason . xxmaj please stay away form this one !,xxbos xxmaj for several reasons , this movie is simply awful . xxmaj other posters have listed some of this movie 's historical errors . xxmaj well , i have a layman 's knowledge of xxmaj roman history and even i found the inaccuracies flagrant . i usually forgive errors in historical movies because i understand that the purpose is to entertain not educate . xxmaj and shrinking a long saga down to a two hour feature requires some , let 's say , historical license . xxmaj but this movie goes well beyond mere rounding . \n",
       " \n",
       "  xxmaj there 's worse . xxmaj to tell a story from a distant period , the movie uses flashbacks which just make the story more confusing . xxmaj unless viewers have some prior knowledge of the period , they will quickly be lost . xxmaj in addition , the movie was obviously filmed simultaneously in xxmaj italian and xxmaj english with various actors being dubbed later . xxmaj at times , the actors seem as if they were in completely different movies which were then edited together . xxmaj in fact , this is not far wrong . xxmaj the actors were obviously pasted onto a cheesy computer generated ancient xxmaj rome . \n",
       " \n",
       "  xxmaj the only reason i give this boring mess any stars is because i always find xxmaj peter o'toole entertaining . xxmaj but that is no reason to rent it . xxmaj if you are curious about xxmaj roman history , there are much better movies available .,xxbos xxmaj remember those terrible war movies your grandmother forced you to watch 25 or so years ago on your old xxup vhs recorder ? \" xxmaj the xxmaj fallen \" is just a bad executed remake of those movies ! xxmaj the story is terrible , the direction is terrible , the editing is terrible , the music is terrible , and all together make an unbearable nightmare . \n",
       " \n",
       "  xxmaj it is also terribly slow ! xxmaj very slow ! i tried to sleep while watching it but i could n't do it because i had nightmares of it . \n",
       " \n",
       "  xxmaj please do n't watch this movie ! xxmaj it is xxup that bad ! xxmaj ten lines is a lot so i do n't know what else to say . \n",
       " \n",
       "  xxmaj press the eject button xxup now and you wo nt regret it !,xxbos a post - apocalyptic warrior goes off to save some kind of xxmaj nun and on the way meets some cyber - punks on skates who want to kick his ass . xxmaj this is one of the hardest to watch films ever , xxmaj there are scenes with silence that seems to last hours before somebody comes out with the next badly written , badly acted line . xxmaj there are action sequences that keep repeating - and we 're not talking the quickfire 1 - 2 - 3 action repeat on a particularly good kick that was made popular by eastern directors , we 're talking many , many repeats of long , bad fight sequences . xxmaj this is incredibly confusing at first but then quickly becomes annoying as you 're watching a 30 second sequence for the 2nd , 3rd and 4th time . xxmaj any kind of plot or vision is lost within the confusing continuity , the only thing that s keeps this film in the xxunk ( apart from the bet from a friend that i could n't watch it all the way through without begging for it to be turned off and disposed off safely so it may harm no - one else ) is the fact that although painful , this film is unintentionally hilarious , i 'm not at all a fan of those \" so bad that it 's funny \" type of films but at parts i was in tears . xxmaj other points to note are the quality of the sound and picture but this is forgiveable as it 's obvious money was a major problem in the making of this film . xxmaj final verdict - xxmaj king of the \" so bad they 're funny \" genre , anybody having that kind of genre video night should get themselves a copy . xxmaj also lets not forget that it is actually the worst film i 've ever seen .,xxbos i believe that this movie was a terrible waste of my time , and i would know after watching it 5 times in class . this movie does not show what absolutely perfectly happened during these times . no one can truly say that these things happened to the letter . if anything the only good part would be the actors , even tho that they were really really xxunk were reading the script without expression . quite boring . i would rather watch play school . so i would definitely like to never ever see this movie again in my whole life . it is a complete waste of time unless you want your time to be wasted and if you would like to see an unrealistic view of what happened back in 1981 .\n",
       "y: LMLabelList\n",
       ",,,,\n",
       "Path: /root/.fastai/data/imdb;\n",
       "\n",
       "Valid: LabelList (10000 items)\n",
       "x: LMTextList\n",
       "xxbos xxmaj this film is really bad , so bad that even xxmaj christopher xxmaj lee can not save it . a poor story an even poorer script and just plain bad direction makes this a truly outstanding horror film , the outstanding part being that it is the only horror film that i can honestly say i would never ever watch again . xxmaj this garbage make xxmaj plan nine from outerspace look like oscar material .,xxbos xxmaj for those deciding whether or not to watch this movie and are reading these comments for insight , i first offer these four words : xxmaj do n't waste your time ! \" xxmaj chungking xxmaj express \" was shoddily filmed , slapped together quickly and seems as though it were conceived in its entirety by someone standing in line at a xxmaj hong xxmaj kong xxmaj burger xxmaj king . i ca n't remember ever watching a film with an assortment of such one - dimensional characters trying to work their way through a script this mundane ! xxmaj it 's an absurd effort with philosophically ridiculous dialog ( a man wanders into his flooded apartment and offers the stunning revelation that \" tears can be dried with a tissue , but water takes time to mop up \" ) . xxmaj the same character is also seen carrying on a deep , meaningful rapport with his towels , soap , stuffed animals , dirty laundry , etc . xxmaj the shaky , wandering , hand - held camera - work was another annoying feature i could have done without . xxmaj and if that is n't enough to make you puke in your popcorn , we hear the old 60 's ode \" xxmaj california xxmaj dreaming \" by the xxmaj mamas and xxmaj papas blaring over the soundtrack over and over again during a particularly lengthy sequence . \n",
       " \n",
       "  xxmaj quentin xxmaj tarantino was responsible for bringing this loser to xxmaj america through his xxmaj rolling xxmaj thunder xxmaj productions company , though i can not for the life of me figure out why a man with his talent would bother . xxmaj he was known to have remarked , \" i 'm happy to love a movie this much . \" a lot of us , though , hope he will concentrate on making his audiences happy with more worthwhile discoveries in the future .,xxbos i had never heard of this film till it popped up on cable xxup tv and i ca n't understand why . xxmaj geena outdoes xxmaj arnold as an action hero in this film ! xxmaj geena is an ex - xxup cia assassin who is brainwashed and given an identity as a schoolteacher with a quiet family life in a rural town . xxmaj she continues that life for 8 years with a husband and daughter . xxmaj clues start coming to her that she may have been someone else , especially when someone tries to kill her . xxmaj it seems that her former employers have discovered that she never died and want to make sure that she does . xxmaj she hires xxmaj samuel xxup l. xxmaj jackson , who is a former police officer . xxmaj together they form a pair that is as entertaining as xxmaj mel xxmaj gibson & xxmaj danny xxmaj glover . xxmaj when xxmaj geena finally regains her memory she undergoes a transformation into the killing machine she once was with the song \" xxmaj she 's xxmaj not xxmaj there \" playing in the background . xxmaj what follows is xxmaj geena and xxmaj samuel have to go after the bad guys and hopefully stay alive . xxmaj all through the rest of the film xxmaj geena has to decide who she really is . xxmaj the killing unfeeling machine ? xxmaj the mother / schoolteacher with the quiet family life ? xxmaj or a combination of both ? xxmaj especially , since the bad guys grab xxmaj geena 's daughter . xxmaj great action scenes that rank up with any of the xxmaj die xxmaj hard movies !,xxbos ' xxmaj mojo ' is a story of fifties xxmaj london , a world of budding rock stars , violence and forced homosexuality . ' xxmaj mojo ' uses a technique for shooting the 1950s often seen in films that stresses the physical differences to our own time but also represents dialogue in a highly exaggerated fashion ( owing much to the way that speech was represented in films made in that period ) ; i have no idea if people actually spoke like this outside of the movies , but no films made today and set in contemporary times use such stylised language . xxmaj it 's as if the stilted discourse of 1950s screenwriters serves a common shorthand for a past that seems , in consequence , a very distant country indeed ; and therefore stresses the particular , rather than the universal , in the story . ' xxmaj mojo ' features a strong performance from xxmaj ian xxmaj hart and annoying ones from xxmaj aiden xxmaj xxunk and xxmaj ewan xxmaj bremner , the latter still struggling to build a xxunk ' career ; but feels like a period piece , a modern film incomprehensibly structured in an outdated idiom . xxmaj rather dull , actually .,xxbos i have to say , as a xxup bsg fan i was n't exactly sure what i 'd think of this show . i saw it on the big screen at the xxmaj xxunk cinema tonight ( as part of the xxmaj xxunk xxmaj center screenings ) , and the cast and film makers spoke after - wards . xxmaj ron xxmaj moore said they ' wanted to make a clean break from xxmaj battlestar , and do something different , and that yes they would lose some fans but hopefully they 'd gain others \" . \n",
       " \n",
       "  xxmaj even without their talk , i am now a fan of the new show . xxmaj but here 's what i thought of the film . \n",
       " \n",
       "  i loved it . xxmaj it was really very good . i guess i 'm a true sci - fi ( or ' syfy ' - do i really have to type that ? ) geek , because i 'd totally watch this as a series . xxmaj it has a strong and rich story , and kept my interest . \n",
       " \n",
       "  xxmaj it starts with a small group of teenagers plotting something , which to me was the weakest part and a bit confusing . xxmaj the actor playing \" xxmaj ben \" should have given us more of a glimpse into his intense beliefs . xxmaj the actress playing \" xxmaj zoe \" seemed a little xxunk , but she was playing a teenager ( and i 'm sure i wo n't be the only one who thought \" xxmaj zoe \" was a cylon at first , perils of being a xxup bsg geek ) . xxmaj if they 're hoping these will be the new xxmaj bamber / xxmaj xxunk / xxmaj park , they may want to rethink it . xxmaj surprisingly , it was the adults that captured the audiences attention . \n",
       " \n",
       "  xxmaj eric xxmaj stoltz gives a stellar performance as xxmaj daniel xxmaj xxunk , a man so haunted by his family tragedy that he jumps at the first chance of getting out of his grief and does n't let go . xxmaj he does a chilling and enthralling job of conveying his character 's sly knowledge of the inner world of computers and people , especially in a scene in which he spins a web for the young teenage friend of his daughters , traps her , then dismisses and releases her . xxmaj no sign at all of the ' serial killer ' he played on xxmaj gray 's xxmaj anatomy , really impressive acting . \n",
       " \n",
       "  xxmaj equally as strong though not in it nearly as much is xxmaj paula xxmaj xxunk as his wife xxmaj amanda xxmaj xxunk . xxmaj she is just as smart and well written and beautifully played as xxmaj stoltz 's part , and i completely believed that they are a couple , and a couple that have been together forever and have a strong relationship , something rarely seen these days . i look forward to seeing what happens with this family , and hope they give her as much to do as xxmaj roslin in xxup xxunk she is strong and smart and when she lashes out at her kid , you cringe , it 's really great . xxmaj not to mention her eyes , which could hold magical powers , that 's how intense they are . xxmaj the scene where she takes on the government xxunk very short scene , but beautifully xxunk really gives you an idea of her power . \n",
       " \n",
       "  xxmaj the other part of the show that did not work 100 % for me were the scenes with xxmaj esai xxmaj morales , and the mafia type clan of his . xxmaj he does a good job overall , but i did not believe in this mobs power , nor intimidated by their threats . i found myself wishing that this whole story line was a bit more mysterious and hard to figure out ; the way it is presented is almost an homage to the xxmaj godfather , they kind of hit you over the head with it a bit . xxmaj but given time , i can see how this will develop into an interesting ' xxmaj upstairs / downstairs ' kind of thing , with the poor minorities ( xxmaj morales et al ) versus the rich folk who rule the planet ( xxmaj stolz et al ) . xxmaj and to be honest , i did enjoy it when he spoke to his son about the origin of their name- that was a very well played scene . \n",
       " \n",
       "  xxmaj note to xxup bsg fans , the boy playing ' xxmaj willy xxmaj adama ' does n't really look much like xxmaj olmos , but he 's just a kid . xxmaj whether or not he 'll be featured any more than he was in this film , who knows ? i sure could n't tell . xxmaj but it did n't bother me , because he was n't as interesting as everything else going on around him . \n",
       " \n",
       "  xxmaj polly xxmaj walker plays ' xxmaj sister xxmaj clarice ' , and she 's chilling and odd in every scene she 's in . i 'm not sure where she 'll go or who she 'll end up with , but i was very impressed with her acting . xxmaj in this film she was sort of on the side , but obviously being set up to play a very important part later on . xxmaj she was nothing like her character in \" xxmaj rome \" , something i always find impressive in actors . \n",
       " \n",
       "  xxmaj one nice xxunk the music is actually better and less obvious than xxup bsg , even though it 's the same guy doing it , xxmaj bear xxunk . xxmaj it has a haunting and unusual approach that took me by surprise , i 'd buy this score if i had the chance . \n",
       " \n",
       "  xxmaj as to the ' panel discussion ' after the show , it was hosted by xxmaj seth xxmaj green . xxmaj ron xxmaj moore was very smart and articulate , xxmaj david xxmaj xxunk was cracking wise ( much like his video diaries ) , xxmaj esai xxmaj morales told a long story about how he was cast , and xxmaj eric xxmaj stoltz was very funny and did n't really answer the questions ( but i 've always had a thing for him ) . xxmaj paula xxmaj xxunk was tough ( she took xxmaj seth xxmaj green to task for mistakenly saying she was on ' 24 ' ) , and the girls who played xxmaj zooey and xxmaj lacey were both darling . xxmaj grace xxmaj park and xxmaj tricia xxmaj xxunk were there as well , answering questions about how they did the scenes acting with themselves on xxup bsg . xxmaj overall a very interesting and wonderful evening . \n",
       " \n",
       "  i 'm giving the show a 9 out of 10 , and very much looking forward to watching it all unfold . \n",
       " \n",
       "  xxup note : i just watched this a second time and really hope they explore what the xxup xxunk was originally made for . i have no idea what that may be , but it holds a great deal of fascination to me .\n",
       "y: LMLabelList\n",
       ",,,,\n",
       "Path: /root/.fastai/data/imdb;\n",
       "\n",
       "Test: None, model=SequentialRNN(\n",
       "  (0): AWD_LSTM(\n",
       "    (encoder): Embedding(60000, 400, padding_idx=1)\n",
       "    (encoder_dp): EmbeddingDropout(\n",
       "      (emb): Embedding(60000, 400, padding_idx=1)\n",
       "    )\n",
       "    (rnns): ModuleList(\n",
       "      (0): WeightDropout(\n",
       "        (module): LSTM(400, 1152, batch_first=True)\n",
       "      )\n",
       "      (1): WeightDropout(\n",
       "        (module): LSTM(1152, 1152, batch_first=True)\n",
       "      )\n",
       "      (2): WeightDropout(\n",
       "        (module): LSTM(1152, 400, batch_first=True)\n",
       "      )\n",
       "    )\n",
       "    (input_dp): RNNDropout()\n",
       "    (hidden_dps): ModuleList(\n",
       "      (0): RNNDropout()\n",
       "      (1): RNNDropout()\n",
       "      (2): RNNDropout()\n",
       "    )\n",
       "  )\n",
       "  (1): LinearDecoder(\n",
       "    (decoder): Linear(in_features=400, out_features=60000, bias=True)\n",
       "    (output_dp): RNNDropout()\n",
       "  )\n",
       "), opt_func=functools.partial(<class 'torch.optim.adam.Adam'>, betas=(0.9, 0.99)), loss_func=FlattenedLoss of CrossEntropyLoss(), metrics=[<function accuracy at 0x7f8020f049d8>], true_wd=True, bn_wd=True, wd=0.01, train_bn=True, path=PosixPath('/root/.fastai/data/imdb'), model_dir='models', callback_fns=[functools.partial(<class 'fastai.basic_train.Recorder'>, add_time=True, silent=False)], callbacks=[...], layer_groups=[Sequential(\n",
       "  (0): WeightDropout(\n",
       "    (module): LSTM(400, 1152, batch_first=True)\n",
       "  )\n",
       "  (1): RNNDropout()\n",
       "), Sequential(\n",
       "  (0): WeightDropout(\n",
       "    (module): LSTM(1152, 1152, batch_first=True)\n",
       "  )\n",
       "  (1): RNNDropout()\n",
       "), Sequential(\n",
       "  (0): WeightDropout(\n",
       "    (module): LSTM(1152, 400, batch_first=True)\n",
       "  )\n",
       "  (1): RNNDropout()\n",
       "), Sequential(\n",
       "  (0): Embedding(60000, 400, padding_idx=1)\n",
       "  (1): EmbeddingDropout(\n",
       "    (emb): Embedding(60000, 400, padding_idx=1)\n",
       "  )\n",
       "  (2): LinearDecoder(\n",
       "    (decoder): Linear(in_features=400, out_features=60000, bias=True)\n",
       "    (output_dp): RNNDropout()\n",
       "  )\n",
       ")], add_time=True, silent=False)\n",
       "loss_scale: 65536\n",
       "max_noskip: 1000\n",
       "dynamic: True\n",
       "clip: None\n",
       "flat_master: False\n",
       "max_scale: 16777216\n",
       "loss_fp32: True], layer_groups=[Sequential(\n",
       "  (0): WeightDropout(\n",
       "    (module): LSTM(400, 1152, batch_first=True)\n",
       "  )\n",
       "  (1): RNNDropout()\n",
       "), Sequential(\n",
       "  (0): WeightDropout(\n",
       "    (module): LSTM(1152, 1152, batch_first=True)\n",
       "  )\n",
       "  (1): RNNDropout()\n",
       "), Sequential(\n",
       "  (0): WeightDropout(\n",
       "    (module): LSTM(1152, 400, batch_first=True)\n",
       "  )\n",
       "  (1): RNNDropout()\n",
       "), Sequential(\n",
       "  (0): Embedding(60000, 400, padding_idx=1)\n",
       "  (1): EmbeddingDropout(\n",
       "    (emb): Embedding(60000, 400, padding_idx=1)\n",
       "  )\n",
       "  (2): LinearDecoder(\n",
       "    (decoder): Linear(in_features=400, out_features=60000, bias=True)\n",
       "    (output_dp): RNNDropout()\n",
       "  )\n",
       ")], add_time=True, silent=False)"
      ]
     },
     "execution_count": 69,
     "metadata": {},
     "output_type": "execute_result"
    }
   ],
   "source": [
    "learn_lm.to_fp16()"
   ]
  },
  {
   "cell_type": "markdown",
   "metadata": {},
   "source": [
    "#### The first step in fine-tuning is to train only the last layer of the model. \n",
    "This takes about a half-hour on an NVIDIA RTX-2070 GPU"
   ]
  },
  {
   "cell_type": "code",
   "execution_count": 70,
   "metadata": {},
   "outputs": [
    {
     "data": {
      "text/html": [
       "<table border=\"1\" class=\"dataframe\">\n",
       "  <thead>\n",
       "    <tr style=\"text-align: left;\">\n",
       "      <th>epoch</th>\n",
       "      <th>train_loss</th>\n",
       "      <th>valid_loss</th>\n",
       "      <th>accuracy</th>\n",
       "      <th>time</th>\n",
       "    </tr>\n",
       "  </thead>\n",
       "  <tbody>\n",
       "    <tr>\n",
       "      <td>0</td>\n",
       "      <td>4.162468</td>\n",
       "      <td>3.714455</td>\n",
       "      <td>0.214286</td>\n",
       "      <td>27:25</td>\n",
       "    </tr>\n",
       "  </tbody>\n",
       "</table>"
      ],
      "text/plain": [
       "<IPython.core.display.HTML object>"
      ]
     },
     "metadata": {},
     "output_type": "display_data"
    }
   ],
   "source": [
    "learn_lm.fit_one_cycle(1, lr*10, moms=(0.8,0.7))"
   ]
  },
  {
   "cell_type": "markdown",
   "metadata": {},
   "source": [
    "Since this is relatively slow to train, we will save our weights:"
   ]
  },
  {
   "cell_type": "code",
   "execution_count": 76,
   "metadata": {},
   "outputs": [],
   "source": [
    "learn_lm.save('fit_1')"
   ]
  },
  {
   "cell_type": "code",
   "execution_count": 77,
   "metadata": {},
   "outputs": [
    {
     "data": {
      "text/plain": [
       "LanguageLearner(data=TextLMDataBunch;\n",
       "\n",
       "Train: LabelList (90000 items)\n",
       "x: LMTextList\n",
       "xxbos i did n't know what to expect when i started watching this movie , by the end of it i was pulling my hairs out . xxmaj this was one of the most pathetic movies of this year ... in fact , in the last ten years . xxmaj david xxmaj dhawan should just give up his career as a director . i am yet to come across one original script that xxmaj david xxmaj dhawan has worked on . xxmaj this one was a complete bit y bit rip off xxmaj hitch . i have nothing against remakes as such , but this one is just so lousy that it makes you even hate the original one ( which was pretty decent ) . i fail to understand what actors like xxmaj salman and xxmaj govinda saw in this script . i read somewhere , that this was supposed to be xxmaj govinda 's comeback vehicle . xxmaj if that s true , then only xxmaj god can save his career . xxmaj salman just overacted to the hilt . xxmaj govinda who i think is an actor of very high caliber was completely wasted . xxmaj katrina xxmaj kaif and lara xxmaj dutta had nothing to do apart form wearing designer clothes and smiling for no rhyme or reason . xxmaj please stay away form this one !,xxbos xxmaj for several reasons , this movie is simply awful . xxmaj other posters have listed some of this movie 's historical errors . xxmaj well , i have a layman 's knowledge of xxmaj roman history and even i found the inaccuracies flagrant . i usually forgive errors in historical movies because i understand that the purpose is to entertain not educate . xxmaj and shrinking a long saga down to a two hour feature requires some , let 's say , historical license . xxmaj but this movie goes well beyond mere rounding . \n",
       " \n",
       "  xxmaj there 's worse . xxmaj to tell a story from a distant period , the movie uses flashbacks which just make the story more confusing . xxmaj unless viewers have some prior knowledge of the period , they will quickly be lost . xxmaj in addition , the movie was obviously filmed simultaneously in xxmaj italian and xxmaj english with various actors being dubbed later . xxmaj at times , the actors seem as if they were in completely different movies which were then edited together . xxmaj in fact , this is not far wrong . xxmaj the actors were obviously pasted onto a cheesy computer generated ancient xxmaj rome . \n",
       " \n",
       "  xxmaj the only reason i give this boring mess any stars is because i always find xxmaj peter o'toole entertaining . xxmaj but that is no reason to rent it . xxmaj if you are curious about xxmaj roman history , there are much better movies available .,xxbos xxmaj remember those terrible war movies your grandmother forced you to watch 25 or so years ago on your old xxup vhs recorder ? \" xxmaj the xxmaj fallen \" is just a bad executed remake of those movies ! xxmaj the story is terrible , the direction is terrible , the editing is terrible , the music is terrible , and all together make an unbearable nightmare . \n",
       " \n",
       "  xxmaj it is also terribly slow ! xxmaj very slow ! i tried to sleep while watching it but i could n't do it because i had nightmares of it . \n",
       " \n",
       "  xxmaj please do n't watch this movie ! xxmaj it is xxup that bad ! xxmaj ten lines is a lot so i do n't know what else to say . \n",
       " \n",
       "  xxmaj press the eject button xxup now and you wo nt regret it !,xxbos a post - apocalyptic warrior goes off to save some kind of xxmaj nun and on the way meets some cyber - punks on skates who want to kick his ass . xxmaj this is one of the hardest to watch films ever , xxmaj there are scenes with silence that seems to last hours before somebody comes out with the next badly written , badly acted line . xxmaj there are action sequences that keep repeating - and we 're not talking the quickfire 1 - 2 - 3 action repeat on a particularly good kick that was made popular by eastern directors , we 're talking many , many repeats of long , bad fight sequences . xxmaj this is incredibly confusing at first but then quickly becomes annoying as you 're watching a 30 second sequence for the 2nd , 3rd and 4th time . xxmaj any kind of plot or vision is lost within the confusing continuity , the only thing that s keeps this film in the xxunk ( apart from the bet from a friend that i could n't watch it all the way through without begging for it to be turned off and disposed off safely so it may harm no - one else ) is the fact that although painful , this film is unintentionally hilarious , i 'm not at all a fan of those \" so bad that it 's funny \" type of films but at parts i was in tears . xxmaj other points to note are the quality of the sound and picture but this is forgiveable as it 's obvious money was a major problem in the making of this film . xxmaj final verdict - xxmaj king of the \" so bad they 're funny \" genre , anybody having that kind of genre video night should get themselves a copy . xxmaj also lets not forget that it is actually the worst film i 've ever seen .,xxbos i believe that this movie was a terrible waste of my time , and i would know after watching it 5 times in class . this movie does not show what absolutely perfectly happened during these times . no one can truly say that these things happened to the letter . if anything the only good part would be the actors , even tho that they were really really xxunk were reading the script without expression . quite boring . i would rather watch play school . so i would definitely like to never ever see this movie again in my whole life . it is a complete waste of time unless you want your time to be wasted and if you would like to see an unrealistic view of what happened back in 1981 .\n",
       "y: LMLabelList\n",
       ",,,,\n",
       "Path: /root/.fastai/data/imdb;\n",
       "\n",
       "Valid: LabelList (10000 items)\n",
       "x: LMTextList\n",
       "xxbos xxmaj this film is really bad , so bad that even xxmaj christopher xxmaj lee can not save it . a poor story an even poorer script and just plain bad direction makes this a truly outstanding horror film , the outstanding part being that it is the only horror film that i can honestly say i would never ever watch again . xxmaj this garbage make xxmaj plan nine from outerspace look like oscar material .,xxbos xxmaj for those deciding whether or not to watch this movie and are reading these comments for insight , i first offer these four words : xxmaj do n't waste your time ! \" xxmaj chungking xxmaj express \" was shoddily filmed , slapped together quickly and seems as though it were conceived in its entirety by someone standing in line at a xxmaj hong xxmaj kong xxmaj burger xxmaj king . i ca n't remember ever watching a film with an assortment of such one - dimensional characters trying to work their way through a script this mundane ! xxmaj it 's an absurd effort with philosophically ridiculous dialog ( a man wanders into his flooded apartment and offers the stunning revelation that \" tears can be dried with a tissue , but water takes time to mop up \" ) . xxmaj the same character is also seen carrying on a deep , meaningful rapport with his towels , soap , stuffed animals , dirty laundry , etc . xxmaj the shaky , wandering , hand - held camera - work was another annoying feature i could have done without . xxmaj and if that is n't enough to make you puke in your popcorn , we hear the old 60 's ode \" xxmaj california xxmaj dreaming \" by the xxmaj mamas and xxmaj papas blaring over the soundtrack over and over again during a particularly lengthy sequence . \n",
       " \n",
       "  xxmaj quentin xxmaj tarantino was responsible for bringing this loser to xxmaj america through his xxmaj rolling xxmaj thunder xxmaj productions company , though i can not for the life of me figure out why a man with his talent would bother . xxmaj he was known to have remarked , \" i 'm happy to love a movie this much . \" a lot of us , though , hope he will concentrate on making his audiences happy with more worthwhile discoveries in the future .,xxbos i had never heard of this film till it popped up on cable xxup tv and i ca n't understand why . xxmaj geena outdoes xxmaj arnold as an action hero in this film ! xxmaj geena is an ex - xxup cia assassin who is brainwashed and given an identity as a schoolteacher with a quiet family life in a rural town . xxmaj she continues that life for 8 years with a husband and daughter . xxmaj clues start coming to her that she may have been someone else , especially when someone tries to kill her . xxmaj it seems that her former employers have discovered that she never died and want to make sure that she does . xxmaj she hires xxmaj samuel xxup l. xxmaj jackson , who is a former police officer . xxmaj together they form a pair that is as entertaining as xxmaj mel xxmaj gibson & xxmaj danny xxmaj glover . xxmaj when xxmaj geena finally regains her memory she undergoes a transformation into the killing machine she once was with the song \" xxmaj she 's xxmaj not xxmaj there \" playing in the background . xxmaj what follows is xxmaj geena and xxmaj samuel have to go after the bad guys and hopefully stay alive . xxmaj all through the rest of the film xxmaj geena has to decide who she really is . xxmaj the killing unfeeling machine ? xxmaj the mother / schoolteacher with the quiet family life ? xxmaj or a combination of both ? xxmaj especially , since the bad guys grab xxmaj geena 's daughter . xxmaj great action scenes that rank up with any of the xxmaj die xxmaj hard movies !,xxbos ' xxmaj mojo ' is a story of fifties xxmaj london , a world of budding rock stars , violence and forced homosexuality . ' xxmaj mojo ' uses a technique for shooting the 1950s often seen in films that stresses the physical differences to our own time but also represents dialogue in a highly exaggerated fashion ( owing much to the way that speech was represented in films made in that period ) ; i have no idea if people actually spoke like this outside of the movies , but no films made today and set in contemporary times use such stylised language . xxmaj it 's as if the stilted discourse of 1950s screenwriters serves a common shorthand for a past that seems , in consequence , a very distant country indeed ; and therefore stresses the particular , rather than the universal , in the story . ' xxmaj mojo ' features a strong performance from xxmaj ian xxmaj hart and annoying ones from xxmaj aiden xxmaj xxunk and xxmaj ewan xxmaj bremner , the latter still struggling to build a xxunk ' career ; but feels like a period piece , a modern film incomprehensibly structured in an outdated idiom . xxmaj rather dull , actually .,xxbos i have to say , as a xxup bsg fan i was n't exactly sure what i 'd think of this show . i saw it on the big screen at the xxmaj xxunk cinema tonight ( as part of the xxmaj xxunk xxmaj center screenings ) , and the cast and film makers spoke after - wards . xxmaj ron xxmaj moore said they ' wanted to make a clean break from xxmaj battlestar , and do something different , and that yes they would lose some fans but hopefully they 'd gain others \" . \n",
       " \n",
       "  xxmaj even without their talk , i am now a fan of the new show . xxmaj but here 's what i thought of the film . \n",
       " \n",
       "  i loved it . xxmaj it was really very good . i guess i 'm a true sci - fi ( or ' syfy ' - do i really have to type that ? ) geek , because i 'd totally watch this as a series . xxmaj it has a strong and rich story , and kept my interest . \n",
       " \n",
       "  xxmaj it starts with a small group of teenagers plotting something , which to me was the weakest part and a bit confusing . xxmaj the actor playing \" xxmaj ben \" should have given us more of a glimpse into his intense beliefs . xxmaj the actress playing \" xxmaj zoe \" seemed a little xxunk , but she was playing a teenager ( and i 'm sure i wo n't be the only one who thought \" xxmaj zoe \" was a cylon at first , perils of being a xxup bsg geek ) . xxmaj if they 're hoping these will be the new xxmaj bamber / xxmaj xxunk / xxmaj park , they may want to rethink it . xxmaj surprisingly , it was the adults that captured the audiences attention . \n",
       " \n",
       "  xxmaj eric xxmaj stoltz gives a stellar performance as xxmaj daniel xxmaj xxunk , a man so haunted by his family tragedy that he jumps at the first chance of getting out of his grief and does n't let go . xxmaj he does a chilling and enthralling job of conveying his character 's sly knowledge of the inner world of computers and people , especially in a scene in which he spins a web for the young teenage friend of his daughters , traps her , then dismisses and releases her . xxmaj no sign at all of the ' serial killer ' he played on xxmaj gray 's xxmaj anatomy , really impressive acting . \n",
       " \n",
       "  xxmaj equally as strong though not in it nearly as much is xxmaj paula xxmaj xxunk as his wife xxmaj amanda xxmaj xxunk . xxmaj she is just as smart and well written and beautifully played as xxmaj stoltz 's part , and i completely believed that they are a couple , and a couple that have been together forever and have a strong relationship , something rarely seen these days . i look forward to seeing what happens with this family , and hope they give her as much to do as xxmaj roslin in xxup xxunk she is strong and smart and when she lashes out at her kid , you cringe , it 's really great . xxmaj not to mention her eyes , which could hold magical powers , that 's how intense they are . xxmaj the scene where she takes on the government xxunk very short scene , but beautifully xxunk really gives you an idea of her power . \n",
       " \n",
       "  xxmaj the other part of the show that did not work 100 % for me were the scenes with xxmaj esai xxmaj morales , and the mafia type clan of his . xxmaj he does a good job overall , but i did not believe in this mobs power , nor intimidated by their threats . i found myself wishing that this whole story line was a bit more mysterious and hard to figure out ; the way it is presented is almost an homage to the xxmaj godfather , they kind of hit you over the head with it a bit . xxmaj but given time , i can see how this will develop into an interesting ' xxmaj upstairs / downstairs ' kind of thing , with the poor minorities ( xxmaj morales et al ) versus the rich folk who rule the planet ( xxmaj stolz et al ) . xxmaj and to be honest , i did enjoy it when he spoke to his son about the origin of their name- that was a very well played scene . \n",
       " \n",
       "  xxmaj note to xxup bsg fans , the boy playing ' xxmaj willy xxmaj adama ' does n't really look much like xxmaj olmos , but he 's just a kid . xxmaj whether or not he 'll be featured any more than he was in this film , who knows ? i sure could n't tell . xxmaj but it did n't bother me , because he was n't as interesting as everything else going on around him . \n",
       " \n",
       "  xxmaj polly xxmaj walker plays ' xxmaj sister xxmaj clarice ' , and she 's chilling and odd in every scene she 's in . i 'm not sure where she 'll go or who she 'll end up with , but i was very impressed with her acting . xxmaj in this film she was sort of on the side , but obviously being set up to play a very important part later on . xxmaj she was nothing like her character in \" xxmaj rome \" , something i always find impressive in actors . \n",
       " \n",
       "  xxmaj one nice xxunk the music is actually better and less obvious than xxup bsg , even though it 's the same guy doing it , xxmaj bear xxunk . xxmaj it has a haunting and unusual approach that took me by surprise , i 'd buy this score if i had the chance . \n",
       " \n",
       "  xxmaj as to the ' panel discussion ' after the show , it was hosted by xxmaj seth xxmaj green . xxmaj ron xxmaj moore was very smart and articulate , xxmaj david xxmaj xxunk was cracking wise ( much like his video diaries ) , xxmaj esai xxmaj morales told a long story about how he was cast , and xxmaj eric xxmaj stoltz was very funny and did n't really answer the questions ( but i 've always had a thing for him ) . xxmaj paula xxmaj xxunk was tough ( she took xxmaj seth xxmaj green to task for mistakenly saying she was on ' 24 ' ) , and the girls who played xxmaj zooey and xxmaj lacey were both darling . xxmaj grace xxmaj park and xxmaj tricia xxmaj xxunk were there as well , answering questions about how they did the scenes acting with themselves on xxup bsg . xxmaj overall a very interesting and wonderful evening . \n",
       " \n",
       "  i 'm giving the show a 9 out of 10 , and very much looking forward to watching it all unfold . \n",
       " \n",
       "  xxup note : i just watched this a second time and really hope they explore what the xxup xxunk was originally made for . i have no idea what that may be , but it holds a great deal of fascination to me .\n",
       "y: LMLabelList\n",
       ",,,,\n",
       "Path: /root/.fastai/data/imdb;\n",
       "\n",
       "Test: None, model=SequentialRNN(\n",
       "  (0): AWD_LSTM(\n",
       "    (encoder): Embedding(60000, 400, padding_idx=1)\n",
       "    (encoder_dp): EmbeddingDropout(\n",
       "      (emb): Embedding(60000, 400, padding_idx=1)\n",
       "    )\n",
       "    (rnns): ModuleList(\n",
       "      (0): WeightDropout(\n",
       "        (module): LSTM(400, 1152, batch_first=True)\n",
       "      )\n",
       "      (1): WeightDropout(\n",
       "        (module): LSTM(1152, 1152, batch_first=True)\n",
       "      )\n",
       "      (2): WeightDropout(\n",
       "        (module): LSTM(1152, 400, batch_first=True)\n",
       "      )\n",
       "    )\n",
       "    (input_dp): RNNDropout()\n",
       "    (hidden_dps): ModuleList(\n",
       "      (0): RNNDropout()\n",
       "      (1): RNNDropout()\n",
       "      (2): RNNDropout()\n",
       "    )\n",
       "  )\n",
       "  (1): LinearDecoder(\n",
       "    (decoder): Linear(in_features=400, out_features=60000, bias=True)\n",
       "    (output_dp): RNNDropout()\n",
       "  )\n",
       "), opt_func=functools.partial(<class 'torch.optim.adam.Adam'>, betas=(0.9, 0.99)), loss_func=FlattenedLoss of CrossEntropyLoss(), metrics=[<function accuracy at 0x7f8020f049d8>], true_wd=True, bn_wd=True, wd=0.01, train_bn=True, path=PosixPath('/root/.fastai/data/imdb'), model_dir='models', callback_fns=[functools.partial(<class 'fastai.basic_train.Recorder'>, add_time=True, silent=False)], callbacks=[RNNTrainer\n",
       "learn: LanguageLearner(data=TextLMDataBunch;\n",
       "\n",
       "Train: LabelList (90000 items)\n",
       "x: LMTextList\n",
       "xxbos i did n't know what to expect when i started watching this movie , by the end of it i was pulling my hairs out . xxmaj this was one of the most pathetic movies of this year ... in fact , in the last ten years . xxmaj david xxmaj dhawan should just give up his career as a director . i am yet to come across one original script that xxmaj david xxmaj dhawan has worked on . xxmaj this one was a complete bit y bit rip off xxmaj hitch . i have nothing against remakes as such , but this one is just so lousy that it makes you even hate the original one ( which was pretty decent ) . i fail to understand what actors like xxmaj salman and xxmaj govinda saw in this script . i read somewhere , that this was supposed to be xxmaj govinda 's comeback vehicle . xxmaj if that s true , then only xxmaj god can save his career . xxmaj salman just overacted to the hilt . xxmaj govinda who i think is an actor of very high caliber was completely wasted . xxmaj katrina xxmaj kaif and lara xxmaj dutta had nothing to do apart form wearing designer clothes and smiling for no rhyme or reason . xxmaj please stay away form this one !,xxbos xxmaj for several reasons , this movie is simply awful . xxmaj other posters have listed some of this movie 's historical errors . xxmaj well , i have a layman 's knowledge of xxmaj roman history and even i found the inaccuracies flagrant . i usually forgive errors in historical movies because i understand that the purpose is to entertain not educate . xxmaj and shrinking a long saga down to a two hour feature requires some , let 's say , historical license . xxmaj but this movie goes well beyond mere rounding . \n",
       " \n",
       "  xxmaj there 's worse . xxmaj to tell a story from a distant period , the movie uses flashbacks which just make the story more confusing . xxmaj unless viewers have some prior knowledge of the period , they will quickly be lost . xxmaj in addition , the movie was obviously filmed simultaneously in xxmaj italian and xxmaj english with various actors being dubbed later . xxmaj at times , the actors seem as if they were in completely different movies which were then edited together . xxmaj in fact , this is not far wrong . xxmaj the actors were obviously pasted onto a cheesy computer generated ancient xxmaj rome . \n",
       " \n",
       "  xxmaj the only reason i give this boring mess any stars is because i always find xxmaj peter o'toole entertaining . xxmaj but that is no reason to rent it . xxmaj if you are curious about xxmaj roman history , there are much better movies available .,xxbos xxmaj remember those terrible war movies your grandmother forced you to watch 25 or so years ago on your old xxup vhs recorder ? \" xxmaj the xxmaj fallen \" is just a bad executed remake of those movies ! xxmaj the story is terrible , the direction is terrible , the editing is terrible , the music is terrible , and all together make an unbearable nightmare . \n",
       " \n",
       "  xxmaj it is also terribly slow ! xxmaj very slow ! i tried to sleep while watching it but i could n't do it because i had nightmares of it . \n",
       " \n",
       "  xxmaj please do n't watch this movie ! xxmaj it is xxup that bad ! xxmaj ten lines is a lot so i do n't know what else to say . \n",
       " \n",
       "  xxmaj press the eject button xxup now and you wo nt regret it !,xxbos a post - apocalyptic warrior goes off to save some kind of xxmaj nun and on the way meets some cyber - punks on skates who want to kick his ass . xxmaj this is one of the hardest to watch films ever , xxmaj there are scenes with silence that seems to last hours before somebody comes out with the next badly written , badly acted line . xxmaj there are action sequences that keep repeating - and we 're not talking the quickfire 1 - 2 - 3 action repeat on a particularly good kick that was made popular by eastern directors , we 're talking many , many repeats of long , bad fight sequences . xxmaj this is incredibly confusing at first but then quickly becomes annoying as you 're watching a 30 second sequence for the 2nd , 3rd and 4th time . xxmaj any kind of plot or vision is lost within the confusing continuity , the only thing that s keeps this film in the xxunk ( apart from the bet from a friend that i could n't watch it all the way through without begging for it to be turned off and disposed off safely so it may harm no - one else ) is the fact that although painful , this film is unintentionally hilarious , i 'm not at all a fan of those \" so bad that it 's funny \" type of films but at parts i was in tears . xxmaj other points to note are the quality of the sound and picture but this is forgiveable as it 's obvious money was a major problem in the making of this film . xxmaj final verdict - xxmaj king of the \" so bad they 're funny \" genre , anybody having that kind of genre video night should get themselves a copy . xxmaj also lets not forget that it is actually the worst film i 've ever seen .,xxbos i believe that this movie was a terrible waste of my time , and i would know after watching it 5 times in class . this movie does not show what absolutely perfectly happened during these times . no one can truly say that these things happened to the letter . if anything the only good part would be the actors , even tho that they were really really xxunk were reading the script without expression . quite boring . i would rather watch play school . so i would definitely like to never ever see this movie again in my whole life . it is a complete waste of time unless you want your time to be wasted and if you would like to see an unrealistic view of what happened back in 1981 .\n",
       "y: LMLabelList\n",
       ",,,,\n",
       "Path: /root/.fastai/data/imdb;\n",
       "\n",
       "Valid: LabelList (10000 items)\n",
       "x: LMTextList\n",
       "xxbos xxmaj this film is really bad , so bad that even xxmaj christopher xxmaj lee can not save it . a poor story an even poorer script and just plain bad direction makes this a truly outstanding horror film , the outstanding part being that it is the only horror film that i can honestly say i would never ever watch again . xxmaj this garbage make xxmaj plan nine from outerspace look like oscar material .,xxbos xxmaj for those deciding whether or not to watch this movie and are reading these comments for insight , i first offer these four words : xxmaj do n't waste your time ! \" xxmaj chungking xxmaj express \" was shoddily filmed , slapped together quickly and seems as though it were conceived in its entirety by someone standing in line at a xxmaj hong xxmaj kong xxmaj burger xxmaj king . i ca n't remember ever watching a film with an assortment of such one - dimensional characters trying to work their way through a script this mundane ! xxmaj it 's an absurd effort with philosophically ridiculous dialog ( a man wanders into his flooded apartment and offers the stunning revelation that \" tears can be dried with a tissue , but water takes time to mop up \" ) . xxmaj the same character is also seen carrying on a deep , meaningful rapport with his towels , soap , stuffed animals , dirty laundry , etc . xxmaj the shaky , wandering , hand - held camera - work was another annoying feature i could have done without . xxmaj and if that is n't enough to make you puke in your popcorn , we hear the old 60 's ode \" xxmaj california xxmaj dreaming \" by the xxmaj mamas and xxmaj papas blaring over the soundtrack over and over again during a particularly lengthy sequence . \n",
       " \n",
       "  xxmaj quentin xxmaj tarantino was responsible for bringing this loser to xxmaj america through his xxmaj rolling xxmaj thunder xxmaj productions company , though i can not for the life of me figure out why a man with his talent would bother . xxmaj he was known to have remarked , \" i 'm happy to love a movie this much . \" a lot of us , though , hope he will concentrate on making his audiences happy with more worthwhile discoveries in the future .,xxbos i had never heard of this film till it popped up on cable xxup tv and i ca n't understand why . xxmaj geena outdoes xxmaj arnold as an action hero in this film ! xxmaj geena is an ex - xxup cia assassin who is brainwashed and given an identity as a schoolteacher with a quiet family life in a rural town . xxmaj she continues that life for 8 years with a husband and daughter . xxmaj clues start coming to her that she may have been someone else , especially when someone tries to kill her . xxmaj it seems that her former employers have discovered that she never died and want to make sure that she does . xxmaj she hires xxmaj samuel xxup l. xxmaj jackson , who is a former police officer . xxmaj together they form a pair that is as entertaining as xxmaj mel xxmaj gibson & xxmaj danny xxmaj glover . xxmaj when xxmaj geena finally regains her memory she undergoes a transformation into the killing machine she once was with the song \" xxmaj she 's xxmaj not xxmaj there \" playing in the background . xxmaj what follows is xxmaj geena and xxmaj samuel have to go after the bad guys and hopefully stay alive . xxmaj all through the rest of the film xxmaj geena has to decide who she really is . xxmaj the killing unfeeling machine ? xxmaj the mother / schoolteacher with the quiet family life ? xxmaj or a combination of both ? xxmaj especially , since the bad guys grab xxmaj geena 's daughter . xxmaj great action scenes that rank up with any of the xxmaj die xxmaj hard movies !,xxbos ' xxmaj mojo ' is a story of fifties xxmaj london , a world of budding rock stars , violence and forced homosexuality . ' xxmaj mojo ' uses a technique for shooting the 1950s often seen in films that stresses the physical differences to our own time but also represents dialogue in a highly exaggerated fashion ( owing much to the way that speech was represented in films made in that period ) ; i have no idea if people actually spoke like this outside of the movies , but no films made today and set in contemporary times use such stylised language . xxmaj it 's as if the stilted discourse of 1950s screenwriters serves a common shorthand for a past that seems , in consequence , a very distant country indeed ; and therefore stresses the particular , rather than the universal , in the story . ' xxmaj mojo ' features a strong performance from xxmaj ian xxmaj hart and annoying ones from xxmaj aiden xxmaj xxunk and xxmaj ewan xxmaj bremner , the latter still struggling to build a xxunk ' career ; but feels like a period piece , a modern film incomprehensibly structured in an outdated idiom . xxmaj rather dull , actually .,xxbos i have to say , as a xxup bsg fan i was n't exactly sure what i 'd think of this show . i saw it on the big screen at the xxmaj xxunk cinema tonight ( as part of the xxmaj xxunk xxmaj center screenings ) , and the cast and film makers spoke after - wards . xxmaj ron xxmaj moore said they ' wanted to make a clean break from xxmaj battlestar , and do something different , and that yes they would lose some fans but hopefully they 'd gain others \" . \n",
       " \n",
       "  xxmaj even without their talk , i am now a fan of the new show . xxmaj but here 's what i thought of the film . \n",
       " \n",
       "  i loved it . xxmaj it was really very good . i guess i 'm a true sci - fi ( or ' syfy ' - do i really have to type that ? ) geek , because i 'd totally watch this as a series . xxmaj it has a strong and rich story , and kept my interest . \n",
       " \n",
       "  xxmaj it starts with a small group of teenagers plotting something , which to me was the weakest part and a bit confusing . xxmaj the actor playing \" xxmaj ben \" should have given us more of a glimpse into his intense beliefs . xxmaj the actress playing \" xxmaj zoe \" seemed a little xxunk , but she was playing a teenager ( and i 'm sure i wo n't be the only one who thought \" xxmaj zoe \" was a cylon at first , perils of being a xxup bsg geek ) . xxmaj if they 're hoping these will be the new xxmaj bamber / xxmaj xxunk / xxmaj park , they may want to rethink it . xxmaj surprisingly , it was the adults that captured the audiences attention . \n",
       " \n",
       "  xxmaj eric xxmaj stoltz gives a stellar performance as xxmaj daniel xxmaj xxunk , a man so haunted by his family tragedy that he jumps at the first chance of getting out of his grief and does n't let go . xxmaj he does a chilling and enthralling job of conveying his character 's sly knowledge of the inner world of computers and people , especially in a scene in which he spins a web for the young teenage friend of his daughters , traps her , then dismisses and releases her . xxmaj no sign at all of the ' serial killer ' he played on xxmaj gray 's xxmaj anatomy , really impressive acting . \n",
       " \n",
       "  xxmaj equally as strong though not in it nearly as much is xxmaj paula xxmaj xxunk as his wife xxmaj amanda xxmaj xxunk . xxmaj she is just as smart and well written and beautifully played as xxmaj stoltz 's part , and i completely believed that they are a couple , and a couple that have been together forever and have a strong relationship , something rarely seen these days . i look forward to seeing what happens with this family , and hope they give her as much to do as xxmaj roslin in xxup xxunk she is strong and smart and when she lashes out at her kid , you cringe , it 's really great . xxmaj not to mention her eyes , which could hold magical powers , that 's how intense they are . xxmaj the scene where she takes on the government xxunk very short scene , but beautifully xxunk really gives you an idea of her power . \n",
       " \n",
       "  xxmaj the other part of the show that did not work 100 % for me were the scenes with xxmaj esai xxmaj morales , and the mafia type clan of his . xxmaj he does a good job overall , but i did not believe in this mobs power , nor intimidated by their threats . i found myself wishing that this whole story line was a bit more mysterious and hard to figure out ; the way it is presented is almost an homage to the xxmaj godfather , they kind of hit you over the head with it a bit . xxmaj but given time , i can see how this will develop into an interesting ' xxmaj upstairs / downstairs ' kind of thing , with the poor minorities ( xxmaj morales et al ) versus the rich folk who rule the planet ( xxmaj stolz et al ) . xxmaj and to be honest , i did enjoy it when he spoke to his son about the origin of their name- that was a very well played scene . \n",
       " \n",
       "  xxmaj note to xxup bsg fans , the boy playing ' xxmaj willy xxmaj adama ' does n't really look much like xxmaj olmos , but he 's just a kid . xxmaj whether or not he 'll be featured any more than he was in this film , who knows ? i sure could n't tell . xxmaj but it did n't bother me , because he was n't as interesting as everything else going on around him . \n",
       " \n",
       "  xxmaj polly xxmaj walker plays ' xxmaj sister xxmaj clarice ' , and she 's chilling and odd in every scene she 's in . i 'm not sure where she 'll go or who she 'll end up with , but i was very impressed with her acting . xxmaj in this film she was sort of on the side , but obviously being set up to play a very important part later on . xxmaj she was nothing like her character in \" xxmaj rome \" , something i always find impressive in actors . \n",
       " \n",
       "  xxmaj one nice xxunk the music is actually better and less obvious than xxup bsg , even though it 's the same guy doing it , xxmaj bear xxunk . xxmaj it has a haunting and unusual approach that took me by surprise , i 'd buy this score if i had the chance . \n",
       " \n",
       "  xxmaj as to the ' panel discussion ' after the show , it was hosted by xxmaj seth xxmaj green . xxmaj ron xxmaj moore was very smart and articulate , xxmaj david xxmaj xxunk was cracking wise ( much like his video diaries ) , xxmaj esai xxmaj morales told a long story about how he was cast , and xxmaj eric xxmaj stoltz was very funny and did n't really answer the questions ( but i 've always had a thing for him ) . xxmaj paula xxmaj xxunk was tough ( she took xxmaj seth xxmaj green to task for mistakenly saying she was on ' 24 ' ) , and the girls who played xxmaj zooey and xxmaj lacey were both darling . xxmaj grace xxmaj park and xxmaj tricia xxmaj xxunk were there as well , answering questions about how they did the scenes acting with themselves on xxup bsg . xxmaj overall a very interesting and wonderful evening . \n",
       " \n",
       "  i 'm giving the show a 9 out of 10 , and very much looking forward to watching it all unfold . \n",
       " \n",
       "  xxup note : i just watched this a second time and really hope they explore what the xxup xxunk was originally made for . i have no idea what that may be , but it holds a great deal of fascination to me .\n",
       "y: LMLabelList\n",
       ",,,,\n",
       "Path: /root/.fastai/data/imdb;\n",
       "\n",
       "Test: None, model=SequentialRNN(\n",
       "  (0): AWD_LSTM(\n",
       "    (encoder): Embedding(60000, 400, padding_idx=1)\n",
       "    (encoder_dp): EmbeddingDropout(\n",
       "      (emb): Embedding(60000, 400, padding_idx=1)\n",
       "    )\n",
       "    (rnns): ModuleList(\n",
       "      (0): WeightDropout(\n",
       "        (module): LSTM(400, 1152, batch_first=True)\n",
       "      )\n",
       "      (1): WeightDropout(\n",
       "        (module): LSTM(1152, 1152, batch_first=True)\n",
       "      )\n",
       "      (2): WeightDropout(\n",
       "        (module): LSTM(1152, 400, batch_first=True)\n",
       "      )\n",
       "    )\n",
       "    (input_dp): RNNDropout()\n",
       "    (hidden_dps): ModuleList(\n",
       "      (0): RNNDropout()\n",
       "      (1): RNNDropout()\n",
       "      (2): RNNDropout()\n",
       "    )\n",
       "  )\n",
       "  (1): LinearDecoder(\n",
       "    (decoder): Linear(in_features=400, out_features=60000, bias=True)\n",
       "    (output_dp): RNNDropout()\n",
       "  )\n",
       "), opt_func=functools.partial(<class 'torch.optim.adam.Adam'>, betas=(0.9, 0.99)), loss_func=FlattenedLoss of CrossEntropyLoss(), metrics=[<function accuracy at 0x7f8020f049d8>], true_wd=True, bn_wd=True, wd=0.01, train_bn=True, path=PosixPath('/root/.fastai/data/imdb'), model_dir='models', callback_fns=[functools.partial(<class 'fastai.basic_train.Recorder'>, add_time=True, silent=False)], callbacks=[...], layer_groups=[Sequential(\n",
       "  (0): WeightDropout(\n",
       "    (module): LSTM(400, 1152, batch_first=True)\n",
       "  )\n",
       "  (1): RNNDropout()\n",
       "), Sequential(\n",
       "  (0): WeightDropout(\n",
       "    (module): LSTM(1152, 1152, batch_first=True)\n",
       "  )\n",
       "  (1): RNNDropout()\n",
       "), Sequential(\n",
       "  (0): WeightDropout(\n",
       "    (module): LSTM(1152, 400, batch_first=True)\n",
       "  )\n",
       "  (1): RNNDropout()\n",
       "), Sequential(\n",
       "  (0): Embedding(60000, 400, padding_idx=1)\n",
       "  (1): EmbeddingDropout(\n",
       "    (emb): Embedding(60000, 400, padding_idx=1)\n",
       "  )\n",
       "  (2): LinearDecoder(\n",
       "    (decoder): Linear(in_features=400, out_features=60000, bias=True)\n",
       "    (output_dp): RNNDropout()\n",
       "  )\n",
       ")], add_time=True, silent=False)\n",
       "alpha: 2.0\n",
       "beta: 1.0, MixedPrecision\n",
       "learn: LanguageLearner(data=TextLMDataBunch;\n",
       "\n",
       "Train: LabelList (90000 items)\n",
       "x: LMTextList\n",
       "xxbos i did n't know what to expect when i started watching this movie , by the end of it i was pulling my hairs out . xxmaj this was one of the most pathetic movies of this year ... in fact , in the last ten years . xxmaj david xxmaj dhawan should just give up his career as a director . i am yet to come across one original script that xxmaj david xxmaj dhawan has worked on . xxmaj this one was a complete bit y bit rip off xxmaj hitch . i have nothing against remakes as such , but this one is just so lousy that it makes you even hate the original one ( which was pretty decent ) . i fail to understand what actors like xxmaj salman and xxmaj govinda saw in this script . i read somewhere , that this was supposed to be xxmaj govinda 's comeback vehicle . xxmaj if that s true , then only xxmaj god can save his career . xxmaj salman just overacted to the hilt . xxmaj govinda who i think is an actor of very high caliber was completely wasted . xxmaj katrina xxmaj kaif and lara xxmaj dutta had nothing to do apart form wearing designer clothes and smiling for no rhyme or reason . xxmaj please stay away form this one !,xxbos xxmaj for several reasons , this movie is simply awful . xxmaj other posters have listed some of this movie 's historical errors . xxmaj well , i have a layman 's knowledge of xxmaj roman history and even i found the inaccuracies flagrant . i usually forgive errors in historical movies because i understand that the purpose is to entertain not educate . xxmaj and shrinking a long saga down to a two hour feature requires some , let 's say , historical license . xxmaj but this movie goes well beyond mere rounding . \n",
       " \n",
       "  xxmaj there 's worse . xxmaj to tell a story from a distant period , the movie uses flashbacks which just make the story more confusing . xxmaj unless viewers have some prior knowledge of the period , they will quickly be lost . xxmaj in addition , the movie was obviously filmed simultaneously in xxmaj italian and xxmaj english with various actors being dubbed later . xxmaj at times , the actors seem as if they were in completely different movies which were then edited together . xxmaj in fact , this is not far wrong . xxmaj the actors were obviously pasted onto a cheesy computer generated ancient xxmaj rome . \n",
       " \n",
       "  xxmaj the only reason i give this boring mess any stars is because i always find xxmaj peter o'toole entertaining . xxmaj but that is no reason to rent it . xxmaj if you are curious about xxmaj roman history , there are much better movies available .,xxbos xxmaj remember those terrible war movies your grandmother forced you to watch 25 or so years ago on your old xxup vhs recorder ? \" xxmaj the xxmaj fallen \" is just a bad executed remake of those movies ! xxmaj the story is terrible , the direction is terrible , the editing is terrible , the music is terrible , and all together make an unbearable nightmare . \n",
       " \n",
       "  xxmaj it is also terribly slow ! xxmaj very slow ! i tried to sleep while watching it but i could n't do it because i had nightmares of it . \n",
       " \n",
       "  xxmaj please do n't watch this movie ! xxmaj it is xxup that bad ! xxmaj ten lines is a lot so i do n't know what else to say . \n",
       " \n",
       "  xxmaj press the eject button xxup now and you wo nt regret it !,xxbos a post - apocalyptic warrior goes off to save some kind of xxmaj nun and on the way meets some cyber - punks on skates who want to kick his ass . xxmaj this is one of the hardest to watch films ever , xxmaj there are scenes with silence that seems to last hours before somebody comes out with the next badly written , badly acted line . xxmaj there are action sequences that keep repeating - and we 're not talking the quickfire 1 - 2 - 3 action repeat on a particularly good kick that was made popular by eastern directors , we 're talking many , many repeats of long , bad fight sequences . xxmaj this is incredibly confusing at first but then quickly becomes annoying as you 're watching a 30 second sequence for the 2nd , 3rd and 4th time . xxmaj any kind of plot or vision is lost within the confusing continuity , the only thing that s keeps this film in the xxunk ( apart from the bet from a friend that i could n't watch it all the way through without begging for it to be turned off and disposed off safely so it may harm no - one else ) is the fact that although painful , this film is unintentionally hilarious , i 'm not at all a fan of those \" so bad that it 's funny \" type of films but at parts i was in tears . xxmaj other points to note are the quality of the sound and picture but this is forgiveable as it 's obvious money was a major problem in the making of this film . xxmaj final verdict - xxmaj king of the \" so bad they 're funny \" genre , anybody having that kind of genre video night should get themselves a copy . xxmaj also lets not forget that it is actually the worst film i 've ever seen .,xxbos i believe that this movie was a terrible waste of my time , and i would know after watching it 5 times in class . this movie does not show what absolutely perfectly happened during these times . no one can truly say that these things happened to the letter . if anything the only good part would be the actors , even tho that they were really really xxunk were reading the script without expression . quite boring . i would rather watch play school . so i would definitely like to never ever see this movie again in my whole life . it is a complete waste of time unless you want your time to be wasted and if you would like to see an unrealistic view of what happened back in 1981 .\n",
       "y: LMLabelList\n",
       ",,,,\n",
       "Path: /root/.fastai/data/imdb;\n",
       "\n",
       "Valid: LabelList (10000 items)\n",
       "x: LMTextList\n",
       "xxbos xxmaj this film is really bad , so bad that even xxmaj christopher xxmaj lee can not save it . a poor story an even poorer script and just plain bad direction makes this a truly outstanding horror film , the outstanding part being that it is the only horror film that i can honestly say i would never ever watch again . xxmaj this garbage make xxmaj plan nine from outerspace look like oscar material .,xxbos xxmaj for those deciding whether or not to watch this movie and are reading these comments for insight , i first offer these four words : xxmaj do n't waste your time ! \" xxmaj chungking xxmaj express \" was shoddily filmed , slapped together quickly and seems as though it were conceived in its entirety by someone standing in line at a xxmaj hong xxmaj kong xxmaj burger xxmaj king . i ca n't remember ever watching a film with an assortment of such one - dimensional characters trying to work their way through a script this mundane ! xxmaj it 's an absurd effort with philosophically ridiculous dialog ( a man wanders into his flooded apartment and offers the stunning revelation that \" tears can be dried with a tissue , but water takes time to mop up \" ) . xxmaj the same character is also seen carrying on a deep , meaningful rapport with his towels , soap , stuffed animals , dirty laundry , etc . xxmaj the shaky , wandering , hand - held camera - work was another annoying feature i could have done without . xxmaj and if that is n't enough to make you puke in your popcorn , we hear the old 60 's ode \" xxmaj california xxmaj dreaming \" by the xxmaj mamas and xxmaj papas blaring over the soundtrack over and over again during a particularly lengthy sequence . \n",
       " \n",
       "  xxmaj quentin xxmaj tarantino was responsible for bringing this loser to xxmaj america through his xxmaj rolling xxmaj thunder xxmaj productions company , though i can not for the life of me figure out why a man with his talent would bother . xxmaj he was known to have remarked , \" i 'm happy to love a movie this much . \" a lot of us , though , hope he will concentrate on making his audiences happy with more worthwhile discoveries in the future .,xxbos i had never heard of this film till it popped up on cable xxup tv and i ca n't understand why . xxmaj geena outdoes xxmaj arnold as an action hero in this film ! xxmaj geena is an ex - xxup cia assassin who is brainwashed and given an identity as a schoolteacher with a quiet family life in a rural town . xxmaj she continues that life for 8 years with a husband and daughter . xxmaj clues start coming to her that she may have been someone else , especially when someone tries to kill her . xxmaj it seems that her former employers have discovered that she never died and want to make sure that she does . xxmaj she hires xxmaj samuel xxup l. xxmaj jackson , who is a former police officer . xxmaj together they form a pair that is as entertaining as xxmaj mel xxmaj gibson & xxmaj danny xxmaj glover . xxmaj when xxmaj geena finally regains her memory she undergoes a transformation into the killing machine she once was with the song \" xxmaj she 's xxmaj not xxmaj there \" playing in the background . xxmaj what follows is xxmaj geena and xxmaj samuel have to go after the bad guys and hopefully stay alive . xxmaj all through the rest of the film xxmaj geena has to decide who she really is . xxmaj the killing unfeeling machine ? xxmaj the mother / schoolteacher with the quiet family life ? xxmaj or a combination of both ? xxmaj especially , since the bad guys grab xxmaj geena 's daughter . xxmaj great action scenes that rank up with any of the xxmaj die xxmaj hard movies !,xxbos ' xxmaj mojo ' is a story of fifties xxmaj london , a world of budding rock stars , violence and forced homosexuality . ' xxmaj mojo ' uses a technique for shooting the 1950s often seen in films that stresses the physical differences to our own time but also represents dialogue in a highly exaggerated fashion ( owing much to the way that speech was represented in films made in that period ) ; i have no idea if people actually spoke like this outside of the movies , but no films made today and set in contemporary times use such stylised language . xxmaj it 's as if the stilted discourse of 1950s screenwriters serves a common shorthand for a past that seems , in consequence , a very distant country indeed ; and therefore stresses the particular , rather than the universal , in the story . ' xxmaj mojo ' features a strong performance from xxmaj ian xxmaj hart and annoying ones from xxmaj aiden xxmaj xxunk and xxmaj ewan xxmaj bremner , the latter still struggling to build a xxunk ' career ; but feels like a period piece , a modern film incomprehensibly structured in an outdated idiom . xxmaj rather dull , actually .,xxbos i have to say , as a xxup bsg fan i was n't exactly sure what i 'd think of this show . i saw it on the big screen at the xxmaj xxunk cinema tonight ( as part of the xxmaj xxunk xxmaj center screenings ) , and the cast and film makers spoke after - wards . xxmaj ron xxmaj moore said they ' wanted to make a clean break from xxmaj battlestar , and do something different , and that yes they would lose some fans but hopefully they 'd gain others \" . \n",
       " \n",
       "  xxmaj even without their talk , i am now a fan of the new show . xxmaj but here 's what i thought of the film . \n",
       " \n",
       "  i loved it . xxmaj it was really very good . i guess i 'm a true sci - fi ( or ' syfy ' - do i really have to type that ? ) geek , because i 'd totally watch this as a series . xxmaj it has a strong and rich story , and kept my interest . \n",
       " \n",
       "  xxmaj it starts with a small group of teenagers plotting something , which to me was the weakest part and a bit confusing . xxmaj the actor playing \" xxmaj ben \" should have given us more of a glimpse into his intense beliefs . xxmaj the actress playing \" xxmaj zoe \" seemed a little xxunk , but she was playing a teenager ( and i 'm sure i wo n't be the only one who thought \" xxmaj zoe \" was a cylon at first , perils of being a xxup bsg geek ) . xxmaj if they 're hoping these will be the new xxmaj bamber / xxmaj xxunk / xxmaj park , they may want to rethink it . xxmaj surprisingly , it was the adults that captured the audiences attention . \n",
       " \n",
       "  xxmaj eric xxmaj stoltz gives a stellar performance as xxmaj daniel xxmaj xxunk , a man so haunted by his family tragedy that he jumps at the first chance of getting out of his grief and does n't let go . xxmaj he does a chilling and enthralling job of conveying his character 's sly knowledge of the inner world of computers and people , especially in a scene in which he spins a web for the young teenage friend of his daughters , traps her , then dismisses and releases her . xxmaj no sign at all of the ' serial killer ' he played on xxmaj gray 's xxmaj anatomy , really impressive acting . \n",
       " \n",
       "  xxmaj equally as strong though not in it nearly as much is xxmaj paula xxmaj xxunk as his wife xxmaj amanda xxmaj xxunk . xxmaj she is just as smart and well written and beautifully played as xxmaj stoltz 's part , and i completely believed that they are a couple , and a couple that have been together forever and have a strong relationship , something rarely seen these days . i look forward to seeing what happens with this family , and hope they give her as much to do as xxmaj roslin in xxup xxunk she is strong and smart and when she lashes out at her kid , you cringe , it 's really great . xxmaj not to mention her eyes , which could hold magical powers , that 's how intense they are . xxmaj the scene where she takes on the government xxunk very short scene , but beautifully xxunk really gives you an idea of her power . \n",
       " \n",
       "  xxmaj the other part of the show that did not work 100 % for me were the scenes with xxmaj esai xxmaj morales , and the mafia type clan of his . xxmaj he does a good job overall , but i did not believe in this mobs power , nor intimidated by their threats . i found myself wishing that this whole story line was a bit more mysterious and hard to figure out ; the way it is presented is almost an homage to the xxmaj godfather , they kind of hit you over the head with it a bit . xxmaj but given time , i can see how this will develop into an interesting ' xxmaj upstairs / downstairs ' kind of thing , with the poor minorities ( xxmaj morales et al ) versus the rich folk who rule the planet ( xxmaj stolz et al ) . xxmaj and to be honest , i did enjoy it when he spoke to his son about the origin of their name- that was a very well played scene . \n",
       " \n",
       "  xxmaj note to xxup bsg fans , the boy playing ' xxmaj willy xxmaj adama ' does n't really look much like xxmaj olmos , but he 's just a kid . xxmaj whether or not he 'll be featured any more than he was in this film , who knows ? i sure could n't tell . xxmaj but it did n't bother me , because he was n't as interesting as everything else going on around him . \n",
       " \n",
       "  xxmaj polly xxmaj walker plays ' xxmaj sister xxmaj clarice ' , and she 's chilling and odd in every scene she 's in . i 'm not sure where she 'll go or who she 'll end up with , but i was very impressed with her acting . xxmaj in this film she was sort of on the side , but obviously being set up to play a very important part later on . xxmaj she was nothing like her character in \" xxmaj rome \" , something i always find impressive in actors . \n",
       " \n",
       "  xxmaj one nice xxunk the music is actually better and less obvious than xxup bsg , even though it 's the same guy doing it , xxmaj bear xxunk . xxmaj it has a haunting and unusual approach that took me by surprise , i 'd buy this score if i had the chance . \n",
       " \n",
       "  xxmaj as to the ' panel discussion ' after the show , it was hosted by xxmaj seth xxmaj green . xxmaj ron xxmaj moore was very smart and articulate , xxmaj david xxmaj xxunk was cracking wise ( much like his video diaries ) , xxmaj esai xxmaj morales told a long story about how he was cast , and xxmaj eric xxmaj stoltz was very funny and did n't really answer the questions ( but i 've always had a thing for him ) . xxmaj paula xxmaj xxunk was tough ( she took xxmaj seth xxmaj green to task for mistakenly saying she was on ' 24 ' ) , and the girls who played xxmaj zooey and xxmaj lacey were both darling . xxmaj grace xxmaj park and xxmaj tricia xxmaj xxunk were there as well , answering questions about how they did the scenes acting with themselves on xxup bsg . xxmaj overall a very interesting and wonderful evening . \n",
       " \n",
       "  i 'm giving the show a 9 out of 10 , and very much looking forward to watching it all unfold . \n",
       " \n",
       "  xxup note : i just watched this a second time and really hope they explore what the xxup xxunk was originally made for . i have no idea what that may be , but it holds a great deal of fascination to me .\n",
       "y: LMLabelList\n",
       ",,,,\n",
       "Path: /root/.fastai/data/imdb;\n",
       "\n",
       "Test: None, model=SequentialRNN(\n",
       "  (0): AWD_LSTM(\n",
       "    (encoder): Embedding(60000, 400, padding_idx=1)\n",
       "    (encoder_dp): EmbeddingDropout(\n",
       "      (emb): Embedding(60000, 400, padding_idx=1)\n",
       "    )\n",
       "    (rnns): ModuleList(\n",
       "      (0): WeightDropout(\n",
       "        (module): LSTM(400, 1152, batch_first=True)\n",
       "      )\n",
       "      (1): WeightDropout(\n",
       "        (module): LSTM(1152, 1152, batch_first=True)\n",
       "      )\n",
       "      (2): WeightDropout(\n",
       "        (module): LSTM(1152, 400, batch_first=True)\n",
       "      )\n",
       "    )\n",
       "    (input_dp): RNNDropout()\n",
       "    (hidden_dps): ModuleList(\n",
       "      (0): RNNDropout()\n",
       "      (1): RNNDropout()\n",
       "      (2): RNNDropout()\n",
       "    )\n",
       "  )\n",
       "  (1): LinearDecoder(\n",
       "    (decoder): Linear(in_features=400, out_features=60000, bias=True)\n",
       "    (output_dp): RNNDropout()\n",
       "  )\n",
       "), opt_func=functools.partial(<class 'torch.optim.adam.Adam'>, betas=(0.9, 0.99)), loss_func=FlattenedLoss of CrossEntropyLoss(), metrics=[<function accuracy at 0x7f8020f049d8>], true_wd=True, bn_wd=True, wd=0.01, train_bn=True, path=PosixPath('/root/.fastai/data/imdb'), model_dir='models', callback_fns=[functools.partial(<class 'fastai.basic_train.Recorder'>, add_time=True, silent=False)], callbacks=[...], layer_groups=[Sequential(\n",
       "  (0): WeightDropout(\n",
       "    (module): LSTM(400, 1152, batch_first=True)\n",
       "  )\n",
       "  (1): RNNDropout()\n",
       "), Sequential(\n",
       "  (0): WeightDropout(\n",
       "    (module): LSTM(1152, 1152, batch_first=True)\n",
       "  )\n",
       "  (1): RNNDropout()\n",
       "), Sequential(\n",
       "  (0): WeightDropout(\n",
       "    (module): LSTM(1152, 400, batch_first=True)\n",
       "  )\n",
       "  (1): RNNDropout()\n",
       "), Sequential(\n",
       "  (0): Embedding(60000, 400, padding_idx=1)\n",
       "  (1): EmbeddingDropout(\n",
       "    (emb): Embedding(60000, 400, padding_idx=1)\n",
       "  )\n",
       "  (2): LinearDecoder(\n",
       "    (decoder): Linear(in_features=400, out_features=60000, bias=True)\n",
       "    (output_dp): RNNDropout()\n",
       "  )\n",
       ")], add_time=True, silent=False)\n",
       "loss_scale: 2097152.0\n",
       "max_noskip: 1000\n",
       "dynamic: True\n",
       "clip: None\n",
       "flat_master: False\n",
       "max_scale: 16777216\n",
       "loss_fp32: True], layer_groups=[Sequential(\n",
       "  (0): WeightDropout(\n",
       "    (module): LSTM(400, 1152, batch_first=True)\n",
       "  )\n",
       "  (1): RNNDropout()\n",
       "), Sequential(\n",
       "  (0): WeightDropout(\n",
       "    (module): LSTM(1152, 1152, batch_first=True)\n",
       "  )\n",
       "  (1): RNNDropout()\n",
       "), Sequential(\n",
       "  (0): WeightDropout(\n",
       "    (module): LSTM(1152, 400, batch_first=True)\n",
       "  )\n",
       "  (1): RNNDropout()\n",
       "), Sequential(\n",
       "  (0): Embedding(60000, 400, padding_idx=1)\n",
       "  (1): EmbeddingDropout(\n",
       "    (emb): Embedding(60000, 400, padding_idx=1)\n",
       "  )\n",
       "  (2): LinearDecoder(\n",
       "    (decoder): Linear(in_features=400, out_features=60000, bias=True)\n",
       "    (output_dp): RNNDropout()\n",
       "  )\n",
       ")], add_time=True, silent=False)"
      ]
     },
     "execution_count": 77,
     "metadata": {},
     "output_type": "execute_result"
    }
   ],
   "source": [
    "learn_lm.load('fit_1')"
   ]
  },
  {
   "cell_type": "markdown",
   "metadata": {},
   "source": [
    "#### To complete the fine-tuning, we unfreeze all the weights and retrain\n",
    "Adopting the `wikitext-103` weights as initial values, our neural network will adjust them via optimization, finding new values that are specialized to the \"language\" of `IMDb` movie reviews."
   ]
  },
  {
   "cell_type": "code",
   "execution_count": 78,
   "metadata": {},
   "outputs": [],
   "source": [
    "learn_lm.unfreeze()"
   ]
  },
  {
   "cell_type": "markdown",
   "metadata": {},
   "source": [
    "Fine tuning the model takes ~30 minutes per epoch on an NVIDIA RTX-2070 GPU, with bs=48<br>\n",
    "Note the relatively low value of accuracy, which did not improve significantly beyond `epoch 4`."
   ]
  },
  {
   "cell_type": "code",
   "execution_count": 79,
   "metadata": {
    "scrolled": false
   },
   "outputs": [
    {
     "data": {
      "text/html": [
       "<table border=\"1\" class=\"dataframe\">\n",
       "  <thead>\n",
       "    <tr style=\"text-align: left;\">\n",
       "      <th>epoch</th>\n",
       "      <th>train_loss</th>\n",
       "      <th>valid_loss</th>\n",
       "      <th>accuracy</th>\n",
       "      <th>time</th>\n",
       "    </tr>\n",
       "  </thead>\n",
       "  <tbody>\n",
       "    <tr>\n",
       "      <td>0</td>\n",
       "      <td>3.750044</td>\n",
       "      <td>3.241246</td>\n",
       "      <td>0.300000</td>\n",
       "      <td>31:10</td>\n",
       "    </tr>\n",
       "  </tbody>\n",
       "</table>"
      ],
      "text/plain": [
       "<IPython.core.display.HTML object>"
      ]
     },
     "metadata": {},
     "output_type": "display_data"
    }
   ],
   "source": [
    "learn_lm.fit_one_cycle(1, lr, moms=(0.8,0.7))"
   ]
  },
  {
   "cell_type": "markdown",
   "metadata": {},
   "source": [
    "#### Save the fine-tuned **language model** and the **encoder**\n",
    "We have to save not just the `fine-tuned` **IMDb language model** but also its **encoder**. The **language model** is the part that tries to guess the next word. The **encoder** is the part that's responsible for creating and updating the hidden state. \n",
    "\n",
    "In the next part we will build a **sentiment classifier** for the IMDb movie reviews. To do this we will need the **encoder** from the **IMDb language model** that we built."
   ]
  },
  {
   "cell_type": "code",
   "execution_count": 80,
   "metadata": {},
   "outputs": [],
   "source": [
    "learn_lm.save('fine_tuned')"
   ]
  },
  {
   "cell_type": "code",
   "execution_count": 81,
   "metadata": {},
   "outputs": [],
   "source": [
    "learn_lm.save_encoder('fine_tuned_enc')"
   ]
  },
  {
   "cell_type": "markdown",
   "metadata": {
    "heading_collapsed": true
   },
   "source": [
    "#### Load the saved **model** and its **encoder**"
   ]
  },
  {
   "cell_type": "code",
   "execution_count": 82,
   "metadata": {
    "hidden": true
   },
   "outputs": [
    {
     "data": {
      "text/plain": [
       "LanguageLearner(data=TextLMDataBunch;\n",
       "\n",
       "Train: LabelList (90000 items)\n",
       "x: LMTextList\n",
       "xxbos i did n't know what to expect when i started watching this movie , by the end of it i was pulling my hairs out . xxmaj this was one of the most pathetic movies of this year ... in fact , in the last ten years . xxmaj david xxmaj dhawan should just give up his career as a director . i am yet to come across one original script that xxmaj david xxmaj dhawan has worked on . xxmaj this one was a complete bit y bit rip off xxmaj hitch . i have nothing against remakes as such , but this one is just so lousy that it makes you even hate the original one ( which was pretty decent ) . i fail to understand what actors like xxmaj salman and xxmaj govinda saw in this script . i read somewhere , that this was supposed to be xxmaj govinda 's comeback vehicle . xxmaj if that s true , then only xxmaj god can save his career . xxmaj salman just overacted to the hilt . xxmaj govinda who i think is an actor of very high caliber was completely wasted . xxmaj katrina xxmaj kaif and lara xxmaj dutta had nothing to do apart form wearing designer clothes and smiling for no rhyme or reason . xxmaj please stay away form this one !,xxbos xxmaj for several reasons , this movie is simply awful . xxmaj other posters have listed some of this movie 's historical errors . xxmaj well , i have a layman 's knowledge of xxmaj roman history and even i found the inaccuracies flagrant . i usually forgive errors in historical movies because i understand that the purpose is to entertain not educate . xxmaj and shrinking a long saga down to a two hour feature requires some , let 's say , historical license . xxmaj but this movie goes well beyond mere rounding . \n",
       " \n",
       "  xxmaj there 's worse . xxmaj to tell a story from a distant period , the movie uses flashbacks which just make the story more confusing . xxmaj unless viewers have some prior knowledge of the period , they will quickly be lost . xxmaj in addition , the movie was obviously filmed simultaneously in xxmaj italian and xxmaj english with various actors being dubbed later . xxmaj at times , the actors seem as if they were in completely different movies which were then edited together . xxmaj in fact , this is not far wrong . xxmaj the actors were obviously pasted onto a cheesy computer generated ancient xxmaj rome . \n",
       " \n",
       "  xxmaj the only reason i give this boring mess any stars is because i always find xxmaj peter o'toole entertaining . xxmaj but that is no reason to rent it . xxmaj if you are curious about xxmaj roman history , there are much better movies available .,xxbos xxmaj remember those terrible war movies your grandmother forced you to watch 25 or so years ago on your old xxup vhs recorder ? \" xxmaj the xxmaj fallen \" is just a bad executed remake of those movies ! xxmaj the story is terrible , the direction is terrible , the editing is terrible , the music is terrible , and all together make an unbearable nightmare . \n",
       " \n",
       "  xxmaj it is also terribly slow ! xxmaj very slow ! i tried to sleep while watching it but i could n't do it because i had nightmares of it . \n",
       " \n",
       "  xxmaj please do n't watch this movie ! xxmaj it is xxup that bad ! xxmaj ten lines is a lot so i do n't know what else to say . \n",
       " \n",
       "  xxmaj press the eject button xxup now and you wo nt regret it !,xxbos a post - apocalyptic warrior goes off to save some kind of xxmaj nun and on the way meets some cyber - punks on skates who want to kick his ass . xxmaj this is one of the hardest to watch films ever , xxmaj there are scenes with silence that seems to last hours before somebody comes out with the next badly written , badly acted line . xxmaj there are action sequences that keep repeating - and we 're not talking the quickfire 1 - 2 - 3 action repeat on a particularly good kick that was made popular by eastern directors , we 're talking many , many repeats of long , bad fight sequences . xxmaj this is incredibly confusing at first but then quickly becomes annoying as you 're watching a 30 second sequence for the 2nd , 3rd and 4th time . xxmaj any kind of plot or vision is lost within the confusing continuity , the only thing that s keeps this film in the xxunk ( apart from the bet from a friend that i could n't watch it all the way through without begging for it to be turned off and disposed off safely so it may harm no - one else ) is the fact that although painful , this film is unintentionally hilarious , i 'm not at all a fan of those \" so bad that it 's funny \" type of films but at parts i was in tears . xxmaj other points to note are the quality of the sound and picture but this is forgiveable as it 's obvious money was a major problem in the making of this film . xxmaj final verdict - xxmaj king of the \" so bad they 're funny \" genre , anybody having that kind of genre video night should get themselves a copy . xxmaj also lets not forget that it is actually the worst film i 've ever seen .,xxbos i believe that this movie was a terrible waste of my time , and i would know after watching it 5 times in class . this movie does not show what absolutely perfectly happened during these times . no one can truly say that these things happened to the letter . if anything the only good part would be the actors , even tho that they were really really xxunk were reading the script without expression . quite boring . i would rather watch play school . so i would definitely like to never ever see this movie again in my whole life . it is a complete waste of time unless you want your time to be wasted and if you would like to see an unrealistic view of what happened back in 1981 .\n",
       "y: LMLabelList\n",
       ",,,,\n",
       "Path: /root/.fastai/data/imdb;\n",
       "\n",
       "Valid: LabelList (10000 items)\n",
       "x: LMTextList\n",
       "xxbos xxmaj this film is really bad , so bad that even xxmaj christopher xxmaj lee can not save it . a poor story an even poorer script and just plain bad direction makes this a truly outstanding horror film , the outstanding part being that it is the only horror film that i can honestly say i would never ever watch again . xxmaj this garbage make xxmaj plan nine from outerspace look like oscar material .,xxbos xxmaj for those deciding whether or not to watch this movie and are reading these comments for insight , i first offer these four words : xxmaj do n't waste your time ! \" xxmaj chungking xxmaj express \" was shoddily filmed , slapped together quickly and seems as though it were conceived in its entirety by someone standing in line at a xxmaj hong xxmaj kong xxmaj burger xxmaj king . i ca n't remember ever watching a film with an assortment of such one - dimensional characters trying to work their way through a script this mundane ! xxmaj it 's an absurd effort with philosophically ridiculous dialog ( a man wanders into his flooded apartment and offers the stunning revelation that \" tears can be dried with a tissue , but water takes time to mop up \" ) . xxmaj the same character is also seen carrying on a deep , meaningful rapport with his towels , soap , stuffed animals , dirty laundry , etc . xxmaj the shaky , wandering , hand - held camera - work was another annoying feature i could have done without . xxmaj and if that is n't enough to make you puke in your popcorn , we hear the old 60 's ode \" xxmaj california xxmaj dreaming \" by the xxmaj mamas and xxmaj papas blaring over the soundtrack over and over again during a particularly lengthy sequence . \n",
       " \n",
       "  xxmaj quentin xxmaj tarantino was responsible for bringing this loser to xxmaj america through his xxmaj rolling xxmaj thunder xxmaj productions company , though i can not for the life of me figure out why a man with his talent would bother . xxmaj he was known to have remarked , \" i 'm happy to love a movie this much . \" a lot of us , though , hope he will concentrate on making his audiences happy with more worthwhile discoveries in the future .,xxbos i had never heard of this film till it popped up on cable xxup tv and i ca n't understand why . xxmaj geena outdoes xxmaj arnold as an action hero in this film ! xxmaj geena is an ex - xxup cia assassin who is brainwashed and given an identity as a schoolteacher with a quiet family life in a rural town . xxmaj she continues that life for 8 years with a husband and daughter . xxmaj clues start coming to her that she may have been someone else , especially when someone tries to kill her . xxmaj it seems that her former employers have discovered that she never died and want to make sure that she does . xxmaj she hires xxmaj samuel xxup l. xxmaj jackson , who is a former police officer . xxmaj together they form a pair that is as entertaining as xxmaj mel xxmaj gibson & xxmaj danny xxmaj glover . xxmaj when xxmaj geena finally regains her memory she undergoes a transformation into the killing machine she once was with the song \" xxmaj she 's xxmaj not xxmaj there \" playing in the background . xxmaj what follows is xxmaj geena and xxmaj samuel have to go after the bad guys and hopefully stay alive . xxmaj all through the rest of the film xxmaj geena has to decide who she really is . xxmaj the killing unfeeling machine ? xxmaj the mother / schoolteacher with the quiet family life ? xxmaj or a combination of both ? xxmaj especially , since the bad guys grab xxmaj geena 's daughter . xxmaj great action scenes that rank up with any of the xxmaj die xxmaj hard movies !,xxbos ' xxmaj mojo ' is a story of fifties xxmaj london , a world of budding rock stars , violence and forced homosexuality . ' xxmaj mojo ' uses a technique for shooting the 1950s often seen in films that stresses the physical differences to our own time but also represents dialogue in a highly exaggerated fashion ( owing much to the way that speech was represented in films made in that period ) ; i have no idea if people actually spoke like this outside of the movies , but no films made today and set in contemporary times use such stylised language . xxmaj it 's as if the stilted discourse of 1950s screenwriters serves a common shorthand for a past that seems , in consequence , a very distant country indeed ; and therefore stresses the particular , rather than the universal , in the story . ' xxmaj mojo ' features a strong performance from xxmaj ian xxmaj hart and annoying ones from xxmaj aiden xxmaj xxunk and xxmaj ewan xxmaj bremner , the latter still struggling to build a xxunk ' career ; but feels like a period piece , a modern film incomprehensibly structured in an outdated idiom . xxmaj rather dull , actually .,xxbos i have to say , as a xxup bsg fan i was n't exactly sure what i 'd think of this show . i saw it on the big screen at the xxmaj xxunk cinema tonight ( as part of the xxmaj xxunk xxmaj center screenings ) , and the cast and film makers spoke after - wards . xxmaj ron xxmaj moore said they ' wanted to make a clean break from xxmaj battlestar , and do something different , and that yes they would lose some fans but hopefully they 'd gain others \" . \n",
       " \n",
       "  xxmaj even without their talk , i am now a fan of the new show . xxmaj but here 's what i thought of the film . \n",
       " \n",
       "  i loved it . xxmaj it was really very good . i guess i 'm a true sci - fi ( or ' syfy ' - do i really have to type that ? ) geek , because i 'd totally watch this as a series . xxmaj it has a strong and rich story , and kept my interest . \n",
       " \n",
       "  xxmaj it starts with a small group of teenagers plotting something , which to me was the weakest part and a bit confusing . xxmaj the actor playing \" xxmaj ben \" should have given us more of a glimpse into his intense beliefs . xxmaj the actress playing \" xxmaj zoe \" seemed a little xxunk , but she was playing a teenager ( and i 'm sure i wo n't be the only one who thought \" xxmaj zoe \" was a cylon at first , perils of being a xxup bsg geek ) . xxmaj if they 're hoping these will be the new xxmaj bamber / xxmaj xxunk / xxmaj park , they may want to rethink it . xxmaj surprisingly , it was the adults that captured the audiences attention . \n",
       " \n",
       "  xxmaj eric xxmaj stoltz gives a stellar performance as xxmaj daniel xxmaj xxunk , a man so haunted by his family tragedy that he jumps at the first chance of getting out of his grief and does n't let go . xxmaj he does a chilling and enthralling job of conveying his character 's sly knowledge of the inner world of computers and people , especially in a scene in which he spins a web for the young teenage friend of his daughters , traps her , then dismisses and releases her . xxmaj no sign at all of the ' serial killer ' he played on xxmaj gray 's xxmaj anatomy , really impressive acting . \n",
       " \n",
       "  xxmaj equally as strong though not in it nearly as much is xxmaj paula xxmaj xxunk as his wife xxmaj amanda xxmaj xxunk . xxmaj she is just as smart and well written and beautifully played as xxmaj stoltz 's part , and i completely believed that they are a couple , and a couple that have been together forever and have a strong relationship , something rarely seen these days . i look forward to seeing what happens with this family , and hope they give her as much to do as xxmaj roslin in xxup xxunk she is strong and smart and when she lashes out at her kid , you cringe , it 's really great . xxmaj not to mention her eyes , which could hold magical powers , that 's how intense they are . xxmaj the scene where she takes on the government xxunk very short scene , but beautifully xxunk really gives you an idea of her power . \n",
       " \n",
       "  xxmaj the other part of the show that did not work 100 % for me were the scenes with xxmaj esai xxmaj morales , and the mafia type clan of his . xxmaj he does a good job overall , but i did not believe in this mobs power , nor intimidated by their threats . i found myself wishing that this whole story line was a bit more mysterious and hard to figure out ; the way it is presented is almost an homage to the xxmaj godfather , they kind of hit you over the head with it a bit . xxmaj but given time , i can see how this will develop into an interesting ' xxmaj upstairs / downstairs ' kind of thing , with the poor minorities ( xxmaj morales et al ) versus the rich folk who rule the planet ( xxmaj stolz et al ) . xxmaj and to be honest , i did enjoy it when he spoke to his son about the origin of their name- that was a very well played scene . \n",
       " \n",
       "  xxmaj note to xxup bsg fans , the boy playing ' xxmaj willy xxmaj adama ' does n't really look much like xxmaj olmos , but he 's just a kid . xxmaj whether or not he 'll be featured any more than he was in this film , who knows ? i sure could n't tell . xxmaj but it did n't bother me , because he was n't as interesting as everything else going on around him . \n",
       " \n",
       "  xxmaj polly xxmaj walker plays ' xxmaj sister xxmaj clarice ' , and she 's chilling and odd in every scene she 's in . i 'm not sure where she 'll go or who she 'll end up with , but i was very impressed with her acting . xxmaj in this film she was sort of on the side , but obviously being set up to play a very important part later on . xxmaj she was nothing like her character in \" xxmaj rome \" , something i always find impressive in actors . \n",
       " \n",
       "  xxmaj one nice xxunk the music is actually better and less obvious than xxup bsg , even though it 's the same guy doing it , xxmaj bear xxunk . xxmaj it has a haunting and unusual approach that took me by surprise , i 'd buy this score if i had the chance . \n",
       " \n",
       "  xxmaj as to the ' panel discussion ' after the show , it was hosted by xxmaj seth xxmaj green . xxmaj ron xxmaj moore was very smart and articulate , xxmaj david xxmaj xxunk was cracking wise ( much like his video diaries ) , xxmaj esai xxmaj morales told a long story about how he was cast , and xxmaj eric xxmaj stoltz was very funny and did n't really answer the questions ( but i 've always had a thing for him ) . xxmaj paula xxmaj xxunk was tough ( she took xxmaj seth xxmaj green to task for mistakenly saying she was on ' 24 ' ) , and the girls who played xxmaj zooey and xxmaj lacey were both darling . xxmaj grace xxmaj park and xxmaj tricia xxmaj xxunk were there as well , answering questions about how they did the scenes acting with themselves on xxup bsg . xxmaj overall a very interesting and wonderful evening . \n",
       " \n",
       "  i 'm giving the show a 9 out of 10 , and very much looking forward to watching it all unfold . \n",
       " \n",
       "  xxup note : i just watched this a second time and really hope they explore what the xxup xxunk was originally made for . i have no idea what that may be , but it holds a great deal of fascination to me .\n",
       "y: LMLabelList\n",
       ",,,,\n",
       "Path: /root/.fastai/data/imdb;\n",
       "\n",
       "Test: None, model=SequentialRNN(\n",
       "  (0): AWD_LSTM(\n",
       "    (encoder): Embedding(60000, 400, padding_idx=1)\n",
       "    (encoder_dp): EmbeddingDropout(\n",
       "      (emb): Embedding(60000, 400, padding_idx=1)\n",
       "    )\n",
       "    (rnns): ModuleList(\n",
       "      (0): WeightDropout(\n",
       "        (module): LSTM(400, 1152, batch_first=True)\n",
       "      )\n",
       "      (1): WeightDropout(\n",
       "        (module): LSTM(1152, 1152, batch_first=True)\n",
       "      )\n",
       "      (2): WeightDropout(\n",
       "        (module): LSTM(1152, 400, batch_first=True)\n",
       "      )\n",
       "    )\n",
       "    (input_dp): RNNDropout()\n",
       "    (hidden_dps): ModuleList(\n",
       "      (0): RNNDropout()\n",
       "      (1): RNNDropout()\n",
       "      (2): RNNDropout()\n",
       "    )\n",
       "  )\n",
       "  (1): LinearDecoder(\n",
       "    (decoder): Linear(in_features=400, out_features=60000, bias=True)\n",
       "    (output_dp): RNNDropout()\n",
       "  )\n",
       "), opt_func=functools.partial(<class 'torch.optim.adam.Adam'>, betas=(0.9, 0.99)), loss_func=FlattenedLoss of CrossEntropyLoss(), metrics=[<function accuracy at 0x7f8020f049d8>], true_wd=True, bn_wd=True, wd=0.01, train_bn=True, path=PosixPath('/root/.fastai/data/imdb'), model_dir='models', callback_fns=[functools.partial(<class 'fastai.basic_train.Recorder'>, add_time=True, silent=False)], callbacks=[RNNTrainer\n",
       "learn: LanguageLearner(data=TextLMDataBunch;\n",
       "\n",
       "Train: LabelList (90000 items)\n",
       "x: LMTextList\n",
       "xxbos i did n't know what to expect when i started watching this movie , by the end of it i was pulling my hairs out . xxmaj this was one of the most pathetic movies of this year ... in fact , in the last ten years . xxmaj david xxmaj dhawan should just give up his career as a director . i am yet to come across one original script that xxmaj david xxmaj dhawan has worked on . xxmaj this one was a complete bit y bit rip off xxmaj hitch . i have nothing against remakes as such , but this one is just so lousy that it makes you even hate the original one ( which was pretty decent ) . i fail to understand what actors like xxmaj salman and xxmaj govinda saw in this script . i read somewhere , that this was supposed to be xxmaj govinda 's comeback vehicle . xxmaj if that s true , then only xxmaj god can save his career . xxmaj salman just overacted to the hilt . xxmaj govinda who i think is an actor of very high caliber was completely wasted . xxmaj katrina xxmaj kaif and lara xxmaj dutta had nothing to do apart form wearing designer clothes and smiling for no rhyme or reason . xxmaj please stay away form this one !,xxbos xxmaj for several reasons , this movie is simply awful . xxmaj other posters have listed some of this movie 's historical errors . xxmaj well , i have a layman 's knowledge of xxmaj roman history and even i found the inaccuracies flagrant . i usually forgive errors in historical movies because i understand that the purpose is to entertain not educate . xxmaj and shrinking a long saga down to a two hour feature requires some , let 's say , historical license . xxmaj but this movie goes well beyond mere rounding . \n",
       " \n",
       "  xxmaj there 's worse . xxmaj to tell a story from a distant period , the movie uses flashbacks which just make the story more confusing . xxmaj unless viewers have some prior knowledge of the period , they will quickly be lost . xxmaj in addition , the movie was obviously filmed simultaneously in xxmaj italian and xxmaj english with various actors being dubbed later . xxmaj at times , the actors seem as if they were in completely different movies which were then edited together . xxmaj in fact , this is not far wrong . xxmaj the actors were obviously pasted onto a cheesy computer generated ancient xxmaj rome . \n",
       " \n",
       "  xxmaj the only reason i give this boring mess any stars is because i always find xxmaj peter o'toole entertaining . xxmaj but that is no reason to rent it . xxmaj if you are curious about xxmaj roman history , there are much better movies available .,xxbos xxmaj remember those terrible war movies your grandmother forced you to watch 25 or so years ago on your old xxup vhs recorder ? \" xxmaj the xxmaj fallen \" is just a bad executed remake of those movies ! xxmaj the story is terrible , the direction is terrible , the editing is terrible , the music is terrible , and all together make an unbearable nightmare . \n",
       " \n",
       "  xxmaj it is also terribly slow ! xxmaj very slow ! i tried to sleep while watching it but i could n't do it because i had nightmares of it . \n",
       " \n",
       "  xxmaj please do n't watch this movie ! xxmaj it is xxup that bad ! xxmaj ten lines is a lot so i do n't know what else to say . \n",
       " \n",
       "  xxmaj press the eject button xxup now and you wo nt regret it !,xxbos a post - apocalyptic warrior goes off to save some kind of xxmaj nun and on the way meets some cyber - punks on skates who want to kick his ass . xxmaj this is one of the hardest to watch films ever , xxmaj there are scenes with silence that seems to last hours before somebody comes out with the next badly written , badly acted line . xxmaj there are action sequences that keep repeating - and we 're not talking the quickfire 1 - 2 - 3 action repeat on a particularly good kick that was made popular by eastern directors , we 're talking many , many repeats of long , bad fight sequences . xxmaj this is incredibly confusing at first but then quickly becomes annoying as you 're watching a 30 second sequence for the 2nd , 3rd and 4th time . xxmaj any kind of plot or vision is lost within the confusing continuity , the only thing that s keeps this film in the xxunk ( apart from the bet from a friend that i could n't watch it all the way through without begging for it to be turned off and disposed off safely so it may harm no - one else ) is the fact that although painful , this film is unintentionally hilarious , i 'm not at all a fan of those \" so bad that it 's funny \" type of films but at parts i was in tears . xxmaj other points to note are the quality of the sound and picture but this is forgiveable as it 's obvious money was a major problem in the making of this film . xxmaj final verdict - xxmaj king of the \" so bad they 're funny \" genre , anybody having that kind of genre video night should get themselves a copy . xxmaj also lets not forget that it is actually the worst film i 've ever seen .,xxbos i believe that this movie was a terrible waste of my time , and i would know after watching it 5 times in class . this movie does not show what absolutely perfectly happened during these times . no one can truly say that these things happened to the letter . if anything the only good part would be the actors , even tho that they were really really xxunk were reading the script without expression . quite boring . i would rather watch play school . so i would definitely like to never ever see this movie again in my whole life . it is a complete waste of time unless you want your time to be wasted and if you would like to see an unrealistic view of what happened back in 1981 .\n",
       "y: LMLabelList\n",
       ",,,,\n",
       "Path: /root/.fastai/data/imdb;\n",
       "\n",
       "Valid: LabelList (10000 items)\n",
       "x: LMTextList\n",
       "xxbos xxmaj this film is really bad , so bad that even xxmaj christopher xxmaj lee can not save it . a poor story an even poorer script and just plain bad direction makes this a truly outstanding horror film , the outstanding part being that it is the only horror film that i can honestly say i would never ever watch again . xxmaj this garbage make xxmaj plan nine from outerspace look like oscar material .,xxbos xxmaj for those deciding whether or not to watch this movie and are reading these comments for insight , i first offer these four words : xxmaj do n't waste your time ! \" xxmaj chungking xxmaj express \" was shoddily filmed , slapped together quickly and seems as though it were conceived in its entirety by someone standing in line at a xxmaj hong xxmaj kong xxmaj burger xxmaj king . i ca n't remember ever watching a film with an assortment of such one - dimensional characters trying to work their way through a script this mundane ! xxmaj it 's an absurd effort with philosophically ridiculous dialog ( a man wanders into his flooded apartment and offers the stunning revelation that \" tears can be dried with a tissue , but water takes time to mop up \" ) . xxmaj the same character is also seen carrying on a deep , meaningful rapport with his towels , soap , stuffed animals , dirty laundry , etc . xxmaj the shaky , wandering , hand - held camera - work was another annoying feature i could have done without . xxmaj and if that is n't enough to make you puke in your popcorn , we hear the old 60 's ode \" xxmaj california xxmaj dreaming \" by the xxmaj mamas and xxmaj papas blaring over the soundtrack over and over again during a particularly lengthy sequence . \n",
       " \n",
       "  xxmaj quentin xxmaj tarantino was responsible for bringing this loser to xxmaj america through his xxmaj rolling xxmaj thunder xxmaj productions company , though i can not for the life of me figure out why a man with his talent would bother . xxmaj he was known to have remarked , \" i 'm happy to love a movie this much . \" a lot of us , though , hope he will concentrate on making his audiences happy with more worthwhile discoveries in the future .,xxbos i had never heard of this film till it popped up on cable xxup tv and i ca n't understand why . xxmaj geena outdoes xxmaj arnold as an action hero in this film ! xxmaj geena is an ex - xxup cia assassin who is brainwashed and given an identity as a schoolteacher with a quiet family life in a rural town . xxmaj she continues that life for 8 years with a husband and daughter . xxmaj clues start coming to her that she may have been someone else , especially when someone tries to kill her . xxmaj it seems that her former employers have discovered that she never died and want to make sure that she does . xxmaj she hires xxmaj samuel xxup l. xxmaj jackson , who is a former police officer . xxmaj together they form a pair that is as entertaining as xxmaj mel xxmaj gibson & xxmaj danny xxmaj glover . xxmaj when xxmaj geena finally regains her memory she undergoes a transformation into the killing machine she once was with the song \" xxmaj she 's xxmaj not xxmaj there \" playing in the background . xxmaj what follows is xxmaj geena and xxmaj samuel have to go after the bad guys and hopefully stay alive . xxmaj all through the rest of the film xxmaj geena has to decide who she really is . xxmaj the killing unfeeling machine ? xxmaj the mother / schoolteacher with the quiet family life ? xxmaj or a combination of both ? xxmaj especially , since the bad guys grab xxmaj geena 's daughter . xxmaj great action scenes that rank up with any of the xxmaj die xxmaj hard movies !,xxbos ' xxmaj mojo ' is a story of fifties xxmaj london , a world of budding rock stars , violence and forced homosexuality . ' xxmaj mojo ' uses a technique for shooting the 1950s often seen in films that stresses the physical differences to our own time but also represents dialogue in a highly exaggerated fashion ( owing much to the way that speech was represented in films made in that period ) ; i have no idea if people actually spoke like this outside of the movies , but no films made today and set in contemporary times use such stylised language . xxmaj it 's as if the stilted discourse of 1950s screenwriters serves a common shorthand for a past that seems , in consequence , a very distant country indeed ; and therefore stresses the particular , rather than the universal , in the story . ' xxmaj mojo ' features a strong performance from xxmaj ian xxmaj hart and annoying ones from xxmaj aiden xxmaj xxunk and xxmaj ewan xxmaj bremner , the latter still struggling to build a xxunk ' career ; but feels like a period piece , a modern film incomprehensibly structured in an outdated idiom . xxmaj rather dull , actually .,xxbos i have to say , as a xxup bsg fan i was n't exactly sure what i 'd think of this show . i saw it on the big screen at the xxmaj xxunk cinema tonight ( as part of the xxmaj xxunk xxmaj center screenings ) , and the cast and film makers spoke after - wards . xxmaj ron xxmaj moore said they ' wanted to make a clean break from xxmaj battlestar , and do something different , and that yes they would lose some fans but hopefully they 'd gain others \" . \n",
       " \n",
       "  xxmaj even without their talk , i am now a fan of the new show . xxmaj but here 's what i thought of the film . \n",
       " \n",
       "  i loved it . xxmaj it was really very good . i guess i 'm a true sci - fi ( or ' syfy ' - do i really have to type that ? ) geek , because i 'd totally watch this as a series . xxmaj it has a strong and rich story , and kept my interest . \n",
       " \n",
       "  xxmaj it starts with a small group of teenagers plotting something , which to me was the weakest part and a bit confusing . xxmaj the actor playing \" xxmaj ben \" should have given us more of a glimpse into his intense beliefs . xxmaj the actress playing \" xxmaj zoe \" seemed a little xxunk , but she was playing a teenager ( and i 'm sure i wo n't be the only one who thought \" xxmaj zoe \" was a cylon at first , perils of being a xxup bsg geek ) . xxmaj if they 're hoping these will be the new xxmaj bamber / xxmaj xxunk / xxmaj park , they may want to rethink it . xxmaj surprisingly , it was the adults that captured the audiences attention . \n",
       " \n",
       "  xxmaj eric xxmaj stoltz gives a stellar performance as xxmaj daniel xxmaj xxunk , a man so haunted by his family tragedy that he jumps at the first chance of getting out of his grief and does n't let go . xxmaj he does a chilling and enthralling job of conveying his character 's sly knowledge of the inner world of computers and people , especially in a scene in which he spins a web for the young teenage friend of his daughters , traps her , then dismisses and releases her . xxmaj no sign at all of the ' serial killer ' he played on xxmaj gray 's xxmaj anatomy , really impressive acting . \n",
       " \n",
       "  xxmaj equally as strong though not in it nearly as much is xxmaj paula xxmaj xxunk as his wife xxmaj amanda xxmaj xxunk . xxmaj she is just as smart and well written and beautifully played as xxmaj stoltz 's part , and i completely believed that they are a couple , and a couple that have been together forever and have a strong relationship , something rarely seen these days . i look forward to seeing what happens with this family , and hope they give her as much to do as xxmaj roslin in xxup xxunk she is strong and smart and when she lashes out at her kid , you cringe , it 's really great . xxmaj not to mention her eyes , which could hold magical powers , that 's how intense they are . xxmaj the scene where she takes on the government xxunk very short scene , but beautifully xxunk really gives you an idea of her power . \n",
       " \n",
       "  xxmaj the other part of the show that did not work 100 % for me were the scenes with xxmaj esai xxmaj morales , and the mafia type clan of his . xxmaj he does a good job overall , but i did not believe in this mobs power , nor intimidated by their threats . i found myself wishing that this whole story line was a bit more mysterious and hard to figure out ; the way it is presented is almost an homage to the xxmaj godfather , they kind of hit you over the head with it a bit . xxmaj but given time , i can see how this will develop into an interesting ' xxmaj upstairs / downstairs ' kind of thing , with the poor minorities ( xxmaj morales et al ) versus the rich folk who rule the planet ( xxmaj stolz et al ) . xxmaj and to be honest , i did enjoy it when he spoke to his son about the origin of their name- that was a very well played scene . \n",
       " \n",
       "  xxmaj note to xxup bsg fans , the boy playing ' xxmaj willy xxmaj adama ' does n't really look much like xxmaj olmos , but he 's just a kid . xxmaj whether or not he 'll be featured any more than he was in this film , who knows ? i sure could n't tell . xxmaj but it did n't bother me , because he was n't as interesting as everything else going on around him . \n",
       " \n",
       "  xxmaj polly xxmaj walker plays ' xxmaj sister xxmaj clarice ' , and she 's chilling and odd in every scene she 's in . i 'm not sure where she 'll go or who she 'll end up with , but i was very impressed with her acting . xxmaj in this film she was sort of on the side , but obviously being set up to play a very important part later on . xxmaj she was nothing like her character in \" xxmaj rome \" , something i always find impressive in actors . \n",
       " \n",
       "  xxmaj one nice xxunk the music is actually better and less obvious than xxup bsg , even though it 's the same guy doing it , xxmaj bear xxunk . xxmaj it has a haunting and unusual approach that took me by surprise , i 'd buy this score if i had the chance . \n",
       " \n",
       "  xxmaj as to the ' panel discussion ' after the show , it was hosted by xxmaj seth xxmaj green . xxmaj ron xxmaj moore was very smart and articulate , xxmaj david xxmaj xxunk was cracking wise ( much like his video diaries ) , xxmaj esai xxmaj morales told a long story about how he was cast , and xxmaj eric xxmaj stoltz was very funny and did n't really answer the questions ( but i 've always had a thing for him ) . xxmaj paula xxmaj xxunk was tough ( she took xxmaj seth xxmaj green to task for mistakenly saying she was on ' 24 ' ) , and the girls who played xxmaj zooey and xxmaj lacey were both darling . xxmaj grace xxmaj park and xxmaj tricia xxmaj xxunk were there as well , answering questions about how they did the scenes acting with themselves on xxup bsg . xxmaj overall a very interesting and wonderful evening . \n",
       " \n",
       "  i 'm giving the show a 9 out of 10 , and very much looking forward to watching it all unfold . \n",
       " \n",
       "  xxup note : i just watched this a second time and really hope they explore what the xxup xxunk was originally made for . i have no idea what that may be , but it holds a great deal of fascination to me .\n",
       "y: LMLabelList\n",
       ",,,,\n",
       "Path: /root/.fastai/data/imdb;\n",
       "\n",
       "Test: None, model=SequentialRNN(\n",
       "  (0): AWD_LSTM(\n",
       "    (encoder): Embedding(60000, 400, padding_idx=1)\n",
       "    (encoder_dp): EmbeddingDropout(\n",
       "      (emb): Embedding(60000, 400, padding_idx=1)\n",
       "    )\n",
       "    (rnns): ModuleList(\n",
       "      (0): WeightDropout(\n",
       "        (module): LSTM(400, 1152, batch_first=True)\n",
       "      )\n",
       "      (1): WeightDropout(\n",
       "        (module): LSTM(1152, 1152, batch_first=True)\n",
       "      )\n",
       "      (2): WeightDropout(\n",
       "        (module): LSTM(1152, 400, batch_first=True)\n",
       "      )\n",
       "    )\n",
       "    (input_dp): RNNDropout()\n",
       "    (hidden_dps): ModuleList(\n",
       "      (0): RNNDropout()\n",
       "      (1): RNNDropout()\n",
       "      (2): RNNDropout()\n",
       "    )\n",
       "  )\n",
       "  (1): LinearDecoder(\n",
       "    (decoder): Linear(in_features=400, out_features=60000, bias=True)\n",
       "    (output_dp): RNNDropout()\n",
       "  )\n",
       "), opt_func=functools.partial(<class 'torch.optim.adam.Adam'>, betas=(0.9, 0.99)), loss_func=FlattenedLoss of CrossEntropyLoss(), metrics=[<function accuracy at 0x7f8020f049d8>], true_wd=True, bn_wd=True, wd=0.01, train_bn=True, path=PosixPath('/root/.fastai/data/imdb'), model_dir='models', callback_fns=[functools.partial(<class 'fastai.basic_train.Recorder'>, add_time=True, silent=False)], callbacks=[...], layer_groups=[Sequential(\n",
       "  (0): WeightDropout(\n",
       "    (module): LSTM(400, 1152, batch_first=True)\n",
       "  )\n",
       "  (1): RNNDropout()\n",
       "), Sequential(\n",
       "  (0): WeightDropout(\n",
       "    (module): LSTM(1152, 1152, batch_first=True)\n",
       "  )\n",
       "  (1): RNNDropout()\n",
       "), Sequential(\n",
       "  (0): WeightDropout(\n",
       "    (module): LSTM(1152, 400, batch_first=True)\n",
       "  )\n",
       "  (1): RNNDropout()\n",
       "), Sequential(\n",
       "  (0): Embedding(60000, 400, padding_idx=1)\n",
       "  (1): EmbeddingDropout(\n",
       "    (emb): Embedding(60000, 400, padding_idx=1)\n",
       "  )\n",
       "  (2): LinearDecoder(\n",
       "    (decoder): Linear(in_features=400, out_features=60000, bias=True)\n",
       "    (output_dp): RNNDropout()\n",
       "  )\n",
       ")], add_time=True, silent=False)\n",
       "alpha: 2.0\n",
       "beta: 1.0, MixedPrecision\n",
       "learn: LanguageLearner(data=TextLMDataBunch;\n",
       "\n",
       "Train: LabelList (90000 items)\n",
       "x: LMTextList\n",
       "xxbos i did n't know what to expect when i started watching this movie , by the end of it i was pulling my hairs out . xxmaj this was one of the most pathetic movies of this year ... in fact , in the last ten years . xxmaj david xxmaj dhawan should just give up his career as a director . i am yet to come across one original script that xxmaj david xxmaj dhawan has worked on . xxmaj this one was a complete bit y bit rip off xxmaj hitch . i have nothing against remakes as such , but this one is just so lousy that it makes you even hate the original one ( which was pretty decent ) . i fail to understand what actors like xxmaj salman and xxmaj govinda saw in this script . i read somewhere , that this was supposed to be xxmaj govinda 's comeback vehicle . xxmaj if that s true , then only xxmaj god can save his career . xxmaj salman just overacted to the hilt . xxmaj govinda who i think is an actor of very high caliber was completely wasted . xxmaj katrina xxmaj kaif and lara xxmaj dutta had nothing to do apart form wearing designer clothes and smiling for no rhyme or reason . xxmaj please stay away form this one !,xxbos xxmaj for several reasons , this movie is simply awful . xxmaj other posters have listed some of this movie 's historical errors . xxmaj well , i have a layman 's knowledge of xxmaj roman history and even i found the inaccuracies flagrant . i usually forgive errors in historical movies because i understand that the purpose is to entertain not educate . xxmaj and shrinking a long saga down to a two hour feature requires some , let 's say , historical license . xxmaj but this movie goes well beyond mere rounding . \n",
       " \n",
       "  xxmaj there 's worse . xxmaj to tell a story from a distant period , the movie uses flashbacks which just make the story more confusing . xxmaj unless viewers have some prior knowledge of the period , they will quickly be lost . xxmaj in addition , the movie was obviously filmed simultaneously in xxmaj italian and xxmaj english with various actors being dubbed later . xxmaj at times , the actors seem as if they were in completely different movies which were then edited together . xxmaj in fact , this is not far wrong . xxmaj the actors were obviously pasted onto a cheesy computer generated ancient xxmaj rome . \n",
       " \n",
       "  xxmaj the only reason i give this boring mess any stars is because i always find xxmaj peter o'toole entertaining . xxmaj but that is no reason to rent it . xxmaj if you are curious about xxmaj roman history , there are much better movies available .,xxbos xxmaj remember those terrible war movies your grandmother forced you to watch 25 or so years ago on your old xxup vhs recorder ? \" xxmaj the xxmaj fallen \" is just a bad executed remake of those movies ! xxmaj the story is terrible , the direction is terrible , the editing is terrible , the music is terrible , and all together make an unbearable nightmare . \n",
       " \n",
       "  xxmaj it is also terribly slow ! xxmaj very slow ! i tried to sleep while watching it but i could n't do it because i had nightmares of it . \n",
       " \n",
       "  xxmaj please do n't watch this movie ! xxmaj it is xxup that bad ! xxmaj ten lines is a lot so i do n't know what else to say . \n",
       " \n",
       "  xxmaj press the eject button xxup now and you wo nt regret it !,xxbos a post - apocalyptic warrior goes off to save some kind of xxmaj nun and on the way meets some cyber - punks on skates who want to kick his ass . xxmaj this is one of the hardest to watch films ever , xxmaj there are scenes with silence that seems to last hours before somebody comes out with the next badly written , badly acted line . xxmaj there are action sequences that keep repeating - and we 're not talking the quickfire 1 - 2 - 3 action repeat on a particularly good kick that was made popular by eastern directors , we 're talking many , many repeats of long , bad fight sequences . xxmaj this is incredibly confusing at first but then quickly becomes annoying as you 're watching a 30 second sequence for the 2nd , 3rd and 4th time . xxmaj any kind of plot or vision is lost within the confusing continuity , the only thing that s keeps this film in the xxunk ( apart from the bet from a friend that i could n't watch it all the way through without begging for it to be turned off and disposed off safely so it may harm no - one else ) is the fact that although painful , this film is unintentionally hilarious , i 'm not at all a fan of those \" so bad that it 's funny \" type of films but at parts i was in tears . xxmaj other points to note are the quality of the sound and picture but this is forgiveable as it 's obvious money was a major problem in the making of this film . xxmaj final verdict - xxmaj king of the \" so bad they 're funny \" genre , anybody having that kind of genre video night should get themselves a copy . xxmaj also lets not forget that it is actually the worst film i 've ever seen .,xxbos i believe that this movie was a terrible waste of my time , and i would know after watching it 5 times in class . this movie does not show what absolutely perfectly happened during these times . no one can truly say that these things happened to the letter . if anything the only good part would be the actors , even tho that they were really really xxunk were reading the script without expression . quite boring . i would rather watch play school . so i would definitely like to never ever see this movie again in my whole life . it is a complete waste of time unless you want your time to be wasted and if you would like to see an unrealistic view of what happened back in 1981 .\n",
       "y: LMLabelList\n",
       ",,,,\n",
       "Path: /root/.fastai/data/imdb;\n",
       "\n",
       "Valid: LabelList (10000 items)\n",
       "x: LMTextList\n",
       "xxbos xxmaj this film is really bad , so bad that even xxmaj christopher xxmaj lee can not save it . a poor story an even poorer script and just plain bad direction makes this a truly outstanding horror film , the outstanding part being that it is the only horror film that i can honestly say i would never ever watch again . xxmaj this garbage make xxmaj plan nine from outerspace look like oscar material .,xxbos xxmaj for those deciding whether or not to watch this movie and are reading these comments for insight , i first offer these four words : xxmaj do n't waste your time ! \" xxmaj chungking xxmaj express \" was shoddily filmed , slapped together quickly and seems as though it were conceived in its entirety by someone standing in line at a xxmaj hong xxmaj kong xxmaj burger xxmaj king . i ca n't remember ever watching a film with an assortment of such one - dimensional characters trying to work their way through a script this mundane ! xxmaj it 's an absurd effort with philosophically ridiculous dialog ( a man wanders into his flooded apartment and offers the stunning revelation that \" tears can be dried with a tissue , but water takes time to mop up \" ) . xxmaj the same character is also seen carrying on a deep , meaningful rapport with his towels , soap , stuffed animals , dirty laundry , etc . xxmaj the shaky , wandering , hand - held camera - work was another annoying feature i could have done without . xxmaj and if that is n't enough to make you puke in your popcorn , we hear the old 60 's ode \" xxmaj california xxmaj dreaming \" by the xxmaj mamas and xxmaj papas blaring over the soundtrack over and over again during a particularly lengthy sequence . \n",
       " \n",
       "  xxmaj quentin xxmaj tarantino was responsible for bringing this loser to xxmaj america through his xxmaj rolling xxmaj thunder xxmaj productions company , though i can not for the life of me figure out why a man with his talent would bother . xxmaj he was known to have remarked , \" i 'm happy to love a movie this much . \" a lot of us , though , hope he will concentrate on making his audiences happy with more worthwhile discoveries in the future .,xxbos i had never heard of this film till it popped up on cable xxup tv and i ca n't understand why . xxmaj geena outdoes xxmaj arnold as an action hero in this film ! xxmaj geena is an ex - xxup cia assassin who is brainwashed and given an identity as a schoolteacher with a quiet family life in a rural town . xxmaj she continues that life for 8 years with a husband and daughter . xxmaj clues start coming to her that she may have been someone else , especially when someone tries to kill her . xxmaj it seems that her former employers have discovered that she never died and want to make sure that she does . xxmaj she hires xxmaj samuel xxup l. xxmaj jackson , who is a former police officer . xxmaj together they form a pair that is as entertaining as xxmaj mel xxmaj gibson & xxmaj danny xxmaj glover . xxmaj when xxmaj geena finally regains her memory she undergoes a transformation into the killing machine she once was with the song \" xxmaj she 's xxmaj not xxmaj there \" playing in the background . xxmaj what follows is xxmaj geena and xxmaj samuel have to go after the bad guys and hopefully stay alive . xxmaj all through the rest of the film xxmaj geena has to decide who she really is . xxmaj the killing unfeeling machine ? xxmaj the mother / schoolteacher with the quiet family life ? xxmaj or a combination of both ? xxmaj especially , since the bad guys grab xxmaj geena 's daughter . xxmaj great action scenes that rank up with any of the xxmaj die xxmaj hard movies !,xxbos ' xxmaj mojo ' is a story of fifties xxmaj london , a world of budding rock stars , violence and forced homosexuality . ' xxmaj mojo ' uses a technique for shooting the 1950s often seen in films that stresses the physical differences to our own time but also represents dialogue in a highly exaggerated fashion ( owing much to the way that speech was represented in films made in that period ) ; i have no idea if people actually spoke like this outside of the movies , but no films made today and set in contemporary times use such stylised language . xxmaj it 's as if the stilted discourse of 1950s screenwriters serves a common shorthand for a past that seems , in consequence , a very distant country indeed ; and therefore stresses the particular , rather than the universal , in the story . ' xxmaj mojo ' features a strong performance from xxmaj ian xxmaj hart and annoying ones from xxmaj aiden xxmaj xxunk and xxmaj ewan xxmaj bremner , the latter still struggling to build a xxunk ' career ; but feels like a period piece , a modern film incomprehensibly structured in an outdated idiom . xxmaj rather dull , actually .,xxbos i have to say , as a xxup bsg fan i was n't exactly sure what i 'd think of this show . i saw it on the big screen at the xxmaj xxunk cinema tonight ( as part of the xxmaj xxunk xxmaj center screenings ) , and the cast and film makers spoke after - wards . xxmaj ron xxmaj moore said they ' wanted to make a clean break from xxmaj battlestar , and do something different , and that yes they would lose some fans but hopefully they 'd gain others \" . \n",
       " \n",
       "  xxmaj even without their talk , i am now a fan of the new show . xxmaj but here 's what i thought of the film . \n",
       " \n",
       "  i loved it . xxmaj it was really very good . i guess i 'm a true sci - fi ( or ' syfy ' - do i really have to type that ? ) geek , because i 'd totally watch this as a series . xxmaj it has a strong and rich story , and kept my interest . \n",
       " \n",
       "  xxmaj it starts with a small group of teenagers plotting something , which to me was the weakest part and a bit confusing . xxmaj the actor playing \" xxmaj ben \" should have given us more of a glimpse into his intense beliefs . xxmaj the actress playing \" xxmaj zoe \" seemed a little xxunk , but she was playing a teenager ( and i 'm sure i wo n't be the only one who thought \" xxmaj zoe \" was a cylon at first , perils of being a xxup bsg geek ) . xxmaj if they 're hoping these will be the new xxmaj bamber / xxmaj xxunk / xxmaj park , they may want to rethink it . xxmaj surprisingly , it was the adults that captured the audiences attention . \n",
       " \n",
       "  xxmaj eric xxmaj stoltz gives a stellar performance as xxmaj daniel xxmaj xxunk , a man so haunted by his family tragedy that he jumps at the first chance of getting out of his grief and does n't let go . xxmaj he does a chilling and enthralling job of conveying his character 's sly knowledge of the inner world of computers and people , especially in a scene in which he spins a web for the young teenage friend of his daughters , traps her , then dismisses and releases her . xxmaj no sign at all of the ' serial killer ' he played on xxmaj gray 's xxmaj anatomy , really impressive acting . \n",
       " \n",
       "  xxmaj equally as strong though not in it nearly as much is xxmaj paula xxmaj xxunk as his wife xxmaj amanda xxmaj xxunk . xxmaj she is just as smart and well written and beautifully played as xxmaj stoltz 's part , and i completely believed that they are a couple , and a couple that have been together forever and have a strong relationship , something rarely seen these days . i look forward to seeing what happens with this family , and hope they give her as much to do as xxmaj roslin in xxup xxunk she is strong and smart and when she lashes out at her kid , you cringe , it 's really great . xxmaj not to mention her eyes , which could hold magical powers , that 's how intense they are . xxmaj the scene where she takes on the government xxunk very short scene , but beautifully xxunk really gives you an idea of her power . \n",
       " \n",
       "  xxmaj the other part of the show that did not work 100 % for me were the scenes with xxmaj esai xxmaj morales , and the mafia type clan of his . xxmaj he does a good job overall , but i did not believe in this mobs power , nor intimidated by their threats . i found myself wishing that this whole story line was a bit more mysterious and hard to figure out ; the way it is presented is almost an homage to the xxmaj godfather , they kind of hit you over the head with it a bit . xxmaj but given time , i can see how this will develop into an interesting ' xxmaj upstairs / downstairs ' kind of thing , with the poor minorities ( xxmaj morales et al ) versus the rich folk who rule the planet ( xxmaj stolz et al ) . xxmaj and to be honest , i did enjoy it when he spoke to his son about the origin of their name- that was a very well played scene . \n",
       " \n",
       "  xxmaj note to xxup bsg fans , the boy playing ' xxmaj willy xxmaj adama ' does n't really look much like xxmaj olmos , but he 's just a kid . xxmaj whether or not he 'll be featured any more than he was in this film , who knows ? i sure could n't tell . xxmaj but it did n't bother me , because he was n't as interesting as everything else going on around him . \n",
       " \n",
       "  xxmaj polly xxmaj walker plays ' xxmaj sister xxmaj clarice ' , and she 's chilling and odd in every scene she 's in . i 'm not sure where she 'll go or who she 'll end up with , but i was very impressed with her acting . xxmaj in this film she was sort of on the side , but obviously being set up to play a very important part later on . xxmaj she was nothing like her character in \" xxmaj rome \" , something i always find impressive in actors . \n",
       " \n",
       "  xxmaj one nice xxunk the music is actually better and less obvious than xxup bsg , even though it 's the same guy doing it , xxmaj bear xxunk . xxmaj it has a haunting and unusual approach that took me by surprise , i 'd buy this score if i had the chance . \n",
       " \n",
       "  xxmaj as to the ' panel discussion ' after the show , it was hosted by xxmaj seth xxmaj green . xxmaj ron xxmaj moore was very smart and articulate , xxmaj david xxmaj xxunk was cracking wise ( much like his video diaries ) , xxmaj esai xxmaj morales told a long story about how he was cast , and xxmaj eric xxmaj stoltz was very funny and did n't really answer the questions ( but i 've always had a thing for him ) . xxmaj paula xxmaj xxunk was tough ( she took xxmaj seth xxmaj green to task for mistakenly saying she was on ' 24 ' ) , and the girls who played xxmaj zooey and xxmaj lacey were both darling . xxmaj grace xxmaj park and xxmaj tricia xxmaj xxunk were there as well , answering questions about how they did the scenes acting with themselves on xxup bsg . xxmaj overall a very interesting and wonderful evening . \n",
       " \n",
       "  i 'm giving the show a 9 out of 10 , and very much looking forward to watching it all unfold . \n",
       " \n",
       "  xxup note : i just watched this a second time and really hope they explore what the xxup xxunk was originally made for . i have no idea what that may be , but it holds a great deal of fascination to me .\n",
       "y: LMLabelList\n",
       ",,,,\n",
       "Path: /root/.fastai/data/imdb;\n",
       "\n",
       "Test: None, model=SequentialRNN(\n",
       "  (0): AWD_LSTM(\n",
       "    (encoder): Embedding(60000, 400, padding_idx=1)\n",
       "    (encoder_dp): EmbeddingDropout(\n",
       "      (emb): Embedding(60000, 400, padding_idx=1)\n",
       "    )\n",
       "    (rnns): ModuleList(\n",
       "      (0): WeightDropout(\n",
       "        (module): LSTM(400, 1152, batch_first=True)\n",
       "      )\n",
       "      (1): WeightDropout(\n",
       "        (module): LSTM(1152, 1152, batch_first=True)\n",
       "      )\n",
       "      (2): WeightDropout(\n",
       "        (module): LSTM(1152, 400, batch_first=True)\n",
       "      )\n",
       "    )\n",
       "    (input_dp): RNNDropout()\n",
       "    (hidden_dps): ModuleList(\n",
       "      (0): RNNDropout()\n",
       "      (1): RNNDropout()\n",
       "      (2): RNNDropout()\n",
       "    )\n",
       "  )\n",
       "  (1): LinearDecoder(\n",
       "    (decoder): Linear(in_features=400, out_features=60000, bias=True)\n",
       "    (output_dp): RNNDropout()\n",
       "  )\n",
       "), opt_func=functools.partial(<class 'torch.optim.adam.Adam'>, betas=(0.9, 0.99)), loss_func=FlattenedLoss of CrossEntropyLoss(), metrics=[<function accuracy at 0x7f8020f049d8>], true_wd=True, bn_wd=True, wd=0.01, train_bn=True, path=PosixPath('/root/.fastai/data/imdb'), model_dir='models', callback_fns=[functools.partial(<class 'fastai.basic_train.Recorder'>, add_time=True, silent=False)], callbacks=[...], layer_groups=[Sequential(\n",
       "  (0): WeightDropout(\n",
       "    (module): LSTM(400, 1152, batch_first=True)\n",
       "  )\n",
       "  (1): RNNDropout()\n",
       "), Sequential(\n",
       "  (0): WeightDropout(\n",
       "    (module): LSTM(1152, 1152, batch_first=True)\n",
       "  )\n",
       "  (1): RNNDropout()\n",
       "), Sequential(\n",
       "  (0): WeightDropout(\n",
       "    (module): LSTM(1152, 400, batch_first=True)\n",
       "  )\n",
       "  (1): RNNDropout()\n",
       "), Sequential(\n",
       "  (0): Embedding(60000, 400, padding_idx=1)\n",
       "  (1): EmbeddingDropout(\n",
       "    (emb): Embedding(60000, 400, padding_idx=1)\n",
       "  )\n",
       "  (2): LinearDecoder(\n",
       "    (decoder): Linear(in_features=400, out_features=60000, bias=True)\n",
       "    (output_dp): RNNDropout()\n",
       "  )\n",
       ")], add_time=True, silent=False)\n",
       "loss_scale: 2097152.0\n",
       "max_noskip: 1000\n",
       "dynamic: True\n",
       "clip: None\n",
       "flat_master: False\n",
       "max_scale: 16777216\n",
       "loss_fp32: True], layer_groups=[Sequential(\n",
       "  (0): WeightDropout(\n",
       "    (module): LSTM(400, 1152, batch_first=True)\n",
       "  )\n",
       "  (1): RNNDropout()\n",
       "), Sequential(\n",
       "  (0): WeightDropout(\n",
       "    (module): LSTM(1152, 1152, batch_first=True)\n",
       "  )\n",
       "  (1): RNNDropout()\n",
       "), Sequential(\n",
       "  (0): WeightDropout(\n",
       "    (module): LSTM(1152, 400, batch_first=True)\n",
       "  )\n",
       "  (1): RNNDropout()\n",
       "), Sequential(\n",
       "  (0): Embedding(60000, 400, padding_idx=1)\n",
       "  (1): EmbeddingDropout(\n",
       "    (emb): Embedding(60000, 400, padding_idx=1)\n",
       "  )\n",
       "  (2): LinearDecoder(\n",
       "    (decoder): Linear(in_features=400, out_features=60000, bias=True)\n",
       "    (output_dp): RNNDropout()\n",
       "  )\n",
       ")], add_time=True, silent=False)"
      ]
     },
     "execution_count": 82,
     "metadata": {},
     "output_type": "execute_result"
    }
   ],
   "source": [
    "learn_lm.load('fine_tuned')"
   ]
  },
  {
   "cell_type": "markdown",
   "metadata": {
    "hidden": true
   },
   "source": [
    "Now that we've trained our model, different representations have been learned for the words that were in `IMDb` but not `wikitext-103` (remember that at the beginning we had initialized them all to the same thing):"
   ]
  },
  {
   "cell_type": "code",
   "execution_count": 83,
   "metadata": {
    "hidden": true
   },
   "outputs": [],
   "source": [
    "enc = learn_lm.model[0].encoder"
   ]
  },
  {
   "cell_type": "code",
   "execution_count": 86,
   "metadata": {
    "hidden": true
   },
   "outputs": [
    {
     "data": {
      "text/plain": [
       "False"
      ]
     },
     "execution_count": 86,
     "metadata": {},
     "output_type": "execute_result"
    }
   ],
   "source": [
    "np.allclose(enc.weight[vocab.stoi[\"30-something\"], :].cpu().detach().numpy(), \n",
    "            enc.weight[vocab.stoi[\"linklater\"], :].cpu().detach().numpy())"
   ]
  },
  {
   "cell_type": "code",
   "execution_count": 88,
   "metadata": {
    "hidden": true
   },
   "outputs": [
    {
     "data": {
      "text/plain": [
       "False"
      ]
     },
     "execution_count": 88,
     "metadata": {},
     "output_type": "execute_result"
    }
   ],
   "source": [
    "np.allclose(enc.weight[vocab.stoi[\"30-something\"], :].cpu().detach().numpy(), new_word_vec.cpu().detach().numpy())"
   ]
  },
  {
   "cell_type": "markdown",
   "metadata": {
    "heading_collapsed": true
   },
   "source": [
    "#### Generate movie review-like text, with the **fine-tuned** ` IMDb` language model\n",
    "Compare these texts to the ones generated with the **untrained** `IMDb model` in part **2A**. Do they seem qualitatively better?"
   ]
  },
  {
   "cell_type": "markdown",
   "metadata": {
    "hidden": true
   },
   "source": [
    "How good is our fine-tuned IMDb language model? Well let's try to see what it predicts when given a phrase that might appear in a movie review."
   ]
  },
  {
   "cell_type": "code",
   "execution_count": 89,
   "metadata": {
    "hidden": true
   },
   "outputs": [],
   "source": [
    "TEXT = \"i liked this movie because\"\n",
    "N_WORDS = 40\n",
    "N_SENTENCES = 2"
   ]
  },
  {
   "cell_type": "code",
   "execution_count": 90,
   "metadata": {
    "hidden": true
   },
   "outputs": [
    {
     "name": "stdout",
     "output_type": "stream",
     "text": [
      "i liked this movie because i liked Will Smith and Emmanuelle Paulson , but i love Jason Lee in Rambo , and The Affair of Murder is NOT the best of them .\n",
      "i liked this movie because it was the first movie i read , and i am a huge fan of the original . The movie is good , but i think that Kelly was brave . It was not a good movie\n"
     ]
    }
   ],
   "source": [
    "print(\"\\n\".join(learn_lm.predict(TEXT, N_WORDS, temperature=0.75) for _ in range(N_SENTENCES)))"
   ]
  },
  {
   "cell_type": "code",
   "execution_count": 91,
   "metadata": {
    "hidden": true
   },
   "outputs": [],
   "source": [
    "TEXT = \"This movie was\"\n",
    "N_WORDS = 30\n",
    "N_SENTENCES = 2"
   ]
  },
  {
   "cell_type": "code",
   "execution_count": 92,
   "metadata": {
    "hidden": true
   },
   "outputs": [
    {
     "name": "stdout",
     "output_type": "stream",
     "text": [
      "This movie was terrible . i do n't remember the word \" WTF \" in my book -- it was n't . It was so poorly edited and badly acted in\n",
      "This movie was the worst of the worst movies i 've ever seen . i did n't expect much and was n't expecting anything much from it . If it was n't\n"
     ]
    }
   ],
   "source": [
    "print(\"\\n\".join(learn_lm.predict(TEXT, N_WORDS, temperature=0.75) for _ in range(N_SENTENCES)))"
   ]
  },
  {
   "cell_type": "code",
   "execution_count": 93,
   "metadata": {
    "hidden": true
   },
   "outputs": [],
   "source": [
    "TEXT = \"I hated this movie\"\n",
    "N_WORDS = 40\n",
    "N_SENTENCES = 2"
   ]
  },
  {
   "cell_type": "code",
   "execution_count": 94,
   "metadata": {
    "hidden": true
   },
   "outputs": [
    {
     "name": "stdout",
     "output_type": "stream",
     "text": [
      "I hated this movie . It , i do n't know , could have been a bit better . It had a lot of potential , but the characters did not make it that good . The story was not original\n",
      "I hated this movie . It was so bad i was rooting for it . The only thing you thought was the idea of the movie was about a zombie attack on a drug addict , but it 's not .\n"
     ]
    }
   ],
   "source": [
    "print(\"\\n\".join(learn_lm.predict(TEXT, N_WORDS, temperature=0.75) for _ in range(N_SENTENCES)))"
   ]
  },
  {
   "cell_type": "markdown",
   "metadata": {
    "heading_collapsed": true
   },
   "source": [
    "#### Risks of language models"
   ]
  },
  {
   "cell_type": "markdown",
   "metadata": {
    "hidden": true
   },
   "source": [
    "We will talk about ethical concerns raised by very accurate language models in lesson 7, but here are a few brief notes:\n",
    "\n",
    "In reference to [OpenAI's GPT-2](https://www.theverge.com/2019/2/14/18224704/ai-machine-learning-language-models-read-write-openai-gpt2): Jeremy Howard said, *I’ve been trying to warn people about this for a while. We have the technology to totally fill Twitter, email, and the web up with reasonable-sounding, context-appropriate prose, which would drown out all other speech and be impossible to filter.*\n",
    "\n",
    "For a small example, consider when completely incorrect (but reasonable sounding) ML generated answers were [posted to StackOverflow](https://meta.stackoverflow.com/questions/384596/completely-incorrect-machine-learning-generated-answers?stw=2):\n",
    "\n",
    "<img src=\"images/robot-overflow.png\" alt=\"Roboflow\" style=\"width: 80%\"/>"
   ]
  },
  {
   "cell_type": "markdown",
   "metadata": {
    "hidden": true
   },
   "source": [
    "<img src=\"images/husain-tweet.png\" alt=\"Roboflow\" style=\"width: 60%\"/>"
   ]
  },
  {
   "cell_type": "markdown",
   "metadata": {},
   "source": [
    "## 3. Building an `IMDb Sentiment Classifier`\n",
    "#### We'll now use **transfer learning** to create a `classifier`, again starting from the pretrained weights of the `wikitext-103` language model.  We'll also need the `IMDb language model` **encoder** that we saved previously. "
   ]
  },
  {
   "cell_type": "markdown",
   "metadata": {},
   "source": [
    "### 3A. Load and preprocess the data, and form a `databunch`\n",
    "Using fastai's flexible API, we will now create a different kind of `databunch` object, one that is suitable for a **classifier** rather than a for **language model** (as we did in **2A**). This time we'll keep the labels for the `IMDb` movie reviews data. \n",
    "\n",
    "Add the `try-except` wrapper workaround for the bug in the `fastai Text API`\n",
    "\n",
    "Here the batch size is decreased from 48 to 8, to avoid a `CUDA out of memory error`; your hardware may be able to handle a larger batch, in which case training will likely be faster.\n",
    "\n",
    "Again, this takes a bit of time."
   ]
  },
  {
   "cell_type": "code",
   "execution_count": 10,
   "metadata": {},
   "outputs": [],
   "source": [
    "bs=24"
   ]
  },
  {
   "cell_type": "code",
   "execution_count": 11,
   "metadata": {
    "hidden": true
   },
   "outputs": [
    {
     "data": {
      "text/html": [],
      "text/plain": [
       "<IPython.core.display.HTML object>"
      ]
     },
     "metadata": {},
     "output_type": "display_data"
    },
    {
     "data": {
      "text/html": [],
      "text/plain": [
       "<IPython.core.display.HTML object>"
      ]
     },
     "metadata": {},
     "output_type": "display_data"
    },
    {
     "name": "stdout",
     "output_type": "stream",
     "text": [
      "failure count is 0\n",
      "\n",
      "CPU times: user 15.6 s, sys: 5.41 s, total: 21 s\n",
      "Wall time: 48.4 s\n"
     ]
    }
   ],
   "source": [
    "%%time\n",
    "\n",
    "# throws `BrokenProcessPool' Error sometimes. Keep trying `till it works!\n",
    "#    the progress bar has to complete three consecutive steps. Why three? \n",
    "#    fails nearly 100 times, and doesn't respond to interrupt\n",
    "count = 0\n",
    "error = True\n",
    "while error:\n",
    "    try: \n",
    "        # Preprocessing steps\n",
    "        data_clas = (TextList.from_folder(path, vocab=data_lm.vocab)\n",
    "             #grab all the text files in path\n",
    "             .split_by_folder(valid='test')\n",
    "             #split by train and valid folder (that only keeps 'train' and 'test' so no need to filter)\n",
    "             .label_from_folder(classes=['neg', 'pos']))\n",
    "             #label them all with their folders\n",
    "             #.databunch(bs=bs, num_workers=1))\n",
    "        error = False\n",
    "        print(f'failure count is {count}\\n')   \n",
    "        \n",
    "    except: # catch *all* exceptions\n",
    "        # accumulate failure count\n",
    "        count = count + 1\n",
    "        print(f'failure count is {count}')"
   ]
  },
  {
   "cell_type": "markdown",
   "metadata": {},
   "source": [
    "#### Form the preprocessed data into a `databunch`"
   ]
  },
  {
   "cell_type": "code",
   "execution_count": 12,
   "metadata": {},
   "outputs": [],
   "source": [
    "data_clas = data_clas.databunch(bs=bs, num_workers=1)"
   ]
  },
  {
   "cell_type": "markdown",
   "metadata": {},
   "source": [
    "#### Save the databunch (since it took so long to make) and load it"
   ]
  },
  {
   "cell_type": "code",
   "execution_count": 98,
   "metadata": {},
   "outputs": [],
   "source": [
    "data_clas.save('imdb_textlist_class')"
   ]
  },
  {
   "cell_type": "code",
   "execution_count": 9,
   "metadata": {},
   "outputs": [],
   "source": [
    "bs = 24"
   ]
  },
  {
   "cell_type": "code",
   "execution_count": 10,
   "metadata": {},
   "outputs": [],
   "source": [
    "data_clas = load_data(path, 'imdb_textlist_class', bs=bs, num_workers=1)"
   ]
  },
  {
   "cell_type": "code",
   "execution_count": 21,
   "metadata": {},
   "outputs": [
    {
     "data": {
      "text/html": [
       "<table border=\"1\" class=\"dataframe\">\n",
       "  <thead>\n",
       "    <tr style=\"text-align: right;\">\n",
       "      <th>text</th>\n",
       "      <th>target</th>\n",
       "    </tr>\n",
       "  </thead>\n",
       "  <tbody>\n",
       "    <tr>\n",
       "      <td>xxbos xxmaj match 1 : xxmaj tag xxmaj team xxmaj table xxmaj match xxmaj bubba xxmaj ray and xxmaj spike xxmaj dudley vs xxmaj eddie xxmaj guerrero and xxmaj chris xxmaj benoit xxmaj bubba xxmaj ray and xxmaj spike xxmaj dudley started things off with a xxmaj tag xxmaj team xxmaj table xxmaj match against xxmaj eddie xxmaj guerrero and xxmaj chris xxmaj benoit . xxmaj according to the rules</td>\n",
       "      <td>pos</td>\n",
       "    </tr>\n",
       "    <tr>\n",
       "      <td>xxbos * * * xxup spoilers * * * * * * xxup spoilers * * * xxmaj continued ... \\n \\n  xxmaj from here on in the whole movie collapses in on itself . xxmaj first we meet a rogue program with the indication we 're gon na get ghosts and vampires and werewolves and the like . xxmaj we get a guy with a retarded accent talking</td>\n",
       "      <td>neg</td>\n",
       "    </tr>\n",
       "    <tr>\n",
       "      <td>xxbos 8 xxmaj simple xxmaj rules for xxmaj dating xxmaj my xxmaj teenage xxmaj daughter had an auspicious start . xxmaj the supremely - talented xxmaj tom xxmaj shadyac was involved in the project . xxmaj this meant that the comedy would be nothing less of spectacular , and that 's exactly what happened : the show remains one of the freshest , funniest , wittiest shows made in a</td>\n",
       "      <td>pos</td>\n",
       "    </tr>\n",
       "    <tr>\n",
       "      <td>xxbos xxmaj warning : xxmaj spoilers xxmaj galore ! \\n \\n  xxmaj tim xxmaj burton remaking this sui generis movie is about as sensible as remaking xxmaj psycho - oh , that 's right , some idiot already did that - i rest my case . \\n \\n  xxmaj movie opens with xxunk blundering a simulation , proving he 's not that smart from the outset . xxmaj</td>\n",
       "      <td>neg</td>\n",
       "    </tr>\n",
       "    <tr>\n",
       "      <td>xxbos xxmaj office work , especially in this era of computers , multi - functional copy machines , e - mail , voice mail , snail mail and ` temps , ' is territory ripe with satirical possibilities , a vein previously tapped in such films as ` xxmaj clockwatchers ' and ` xxmaj office xxmaj space , ' and very successfully . xxmaj this latest addition to the temp</td>\n",
       "      <td>neg</td>\n",
       "    </tr>\n",
       "  </tbody>\n",
       "</table>"
      ],
      "text/plain": [
       "<IPython.core.display.HTML object>"
      ]
     },
     "metadata": {},
     "output_type": "display_data"
    }
   ],
   "source": [
    "data_clas.show_batch()"
   ]
  },
  {
   "cell_type": "markdown",
   "metadata": {},
   "source": [
    "### 3B. Create a model to **classify** the `IMDb` reviews, and load the **encoder** we saved before.\n",
    "#### Freeze the weights for all but the last layer and find a good value for the learning rate. "
   ]
  },
  {
   "cell_type": "code",
   "execution_count": 11,
   "metadata": {},
   "outputs": [],
   "source": [
    "learn_c = text_classifier_learner(data_clas, AWD_LSTM, drop_mult=0.3).to_fp16()\n",
    "learn_c.load_encoder('fine_tuned_enc')\n",
    "learn_c.freeze()"
   ]
  },
  {
   "cell_type": "code",
   "execution_count": 102,
   "metadata": {},
   "outputs": [
    {
     "data": {
      "text/html": [
       "\n",
       "    <div>\n",
       "        <style>\n",
       "            /* Turns off some styling */\n",
       "            progress {\n",
       "                /* gets rid of default border in Firefox and Opera. */\n",
       "                border: none;\n",
       "                /* Needs to be in here for Safari polyfill so background images work as expected. */\n",
       "                background-size: auto;\n",
       "            }\n",
       "            .progress-bar-interrupted, .progress-bar-interrupted::-webkit-progress-bar {\n",
       "                background: #F44336;\n",
       "            }\n",
       "        </style>\n",
       "      <progress value='0' class='' max='1' style='width:300px; height:20px; vertical-align: middle;'></progress>\n",
       "      0.00% [0/1 00:00<00:00]\n",
       "    </div>\n",
       "    \n",
       "<table border=\"1\" class=\"dataframe\">\n",
       "  <thead>\n",
       "    <tr style=\"text-align: left;\">\n",
       "      <th>epoch</th>\n",
       "      <th>train_loss</th>\n",
       "      <th>valid_loss</th>\n",
       "      <th>accuracy</th>\n",
       "      <th>time</th>\n",
       "    </tr>\n",
       "  </thead>\n",
       "  <tbody>\n",
       "  </tbody>\n",
       "</table><p>\n",
       "\n",
       "    <div>\n",
       "        <style>\n",
       "            /* Turns off some styling */\n",
       "            progress {\n",
       "                /* gets rid of default border in Firefox and Opera. */\n",
       "                border: none;\n",
       "                /* Needs to be in here for Safari polyfill so background images work as expected. */\n",
       "                background-size: auto;\n",
       "            }\n",
       "            .progress-bar-interrupted, .progress-bar-interrupted::-webkit-progress-bar {\n",
       "                background: #F44336;\n",
       "            }\n",
       "        </style>\n",
       "      <progress value='93' class='' max='3125' style='width:300px; height:20px; vertical-align: middle;'></progress>\n",
       "      2.98% [93/3125 00:17<09:42 2.0055]\n",
       "    </div>\n",
       "    "
      ],
      "text/plain": [
       "<IPython.core.display.HTML object>"
      ]
     },
     "metadata": {},
     "output_type": "display_data"
    },
    {
     "name": "stdout",
     "output_type": "stream",
     "text": [
      "LR Finder is complete, type {learner_name}.recorder.plot() to see the graph.\n"
     ]
    }
   ],
   "source": [
    "learn_c.lr_find()"
   ]
  },
  {
   "cell_type": "code",
   "execution_count": 103,
   "metadata": {},
   "outputs": [
    {
     "data": {
      "image/png": "[encoded data removed]",
      "text/plain": [
       "<Figure size 432x288 with 1 Axes>"
      ]
     },
     "metadata": {
      "needs_background": "light"
     },
     "output_type": "display_data"
    }
   ],
   "source": [
    "learn_c.recorder.plot()"
   ]
  },
  {
   "cell_type": "markdown",
   "metadata": {},
   "source": [
    "### 3C. Training and fine-tuning the `IMDb sentiment classifier`"
   ]
  },
  {
   "cell_type": "markdown",
   "metadata": {},
   "source": [
    "#### Train for one cycle, save intermediate result"
   ]
  },
  {
   "cell_type": "code",
   "execution_count": null,
   "metadata": {
    "scrolled": false
   },
   "outputs": [
    {
     "data": {
      "text/html": [
       "\n",
       "    <div>\n",
       "        <style>\n",
       "            /* Turns off some styling */\n",
       "            progress {\n",
       "                /* gets rid of default border in Firefox and Opera. */\n",
       "                border: none;\n",
       "                /* Needs to be in here for Safari polyfill so background images work as expected. */\n",
       "                background-size: auto;\n",
       "            }\n",
       "            .progress-bar-interrupted, .progress-bar-interrupted::-webkit-progress-bar {\n",
       "                background: #F44336;\n",
       "            }\n",
       "        </style>\n",
       "      <progress value='0' class='' max='1' style='width:300px; height:20px; vertical-align: middle;'></progress>\n",
       "      0.00% [0/1 00:00<00:00]\n",
       "    </div>\n",
       "    \n",
       "<table border=\"1\" class=\"dataframe\">\n",
       "  <thead>\n",
       "    <tr style=\"text-align: left;\">\n",
       "      <th>epoch</th>\n",
       "      <th>train_loss</th>\n",
       "      <th>valid_loss</th>\n",
       "      <th>accuracy</th>\n",
       "      <th>time</th>\n",
       "    </tr>\n",
       "  </thead>\n",
       "  <tbody>\n",
       "  </tbody>\n",
       "</table><p>\n",
       "\n",
       "    <div>\n",
       "        <style>\n",
       "            /* Turns off some styling */\n",
       "            progress {\n",
       "                /* gets rid of default border in Firefox and Opera. */\n",
       "                border: none;\n",
       "                /* Needs to be in here for Safari polyfill so background images work as expected. */\n",
       "                background-size: auto;\n",
       "            }\n",
       "            .progress-bar-interrupted, .progress-bar-interrupted::-webkit-progress-bar {\n",
       "                background: #F44336;\n",
       "            }\n",
       "        </style>\n",
       "      <progress value='581' class='' max='3125' style='width:300px; height:20px; vertical-align: middle;'></progress>\n",
       "      18.59% [581/3125 01:13<05:23 0.3436]\n",
       "    </div>\n",
       "    "
      ],
      "text/plain": [
       "<IPython.core.display.HTML object>"
      ]
     },
     "metadata": {},
     "output_type": "display_data"
    }
   ],
   "source": [
    "learn_c.fit_one_cycle(1, 2e-2, moms=(0.8,0.7))"
   ]
  },
  {
   "cell_type": "code",
   "execution_count": 17,
   "metadata": {},
   "outputs": [],
   "source": [
    "learn_c.save('first')"
   ]
  },
  {
   "cell_type": "code",
   "execution_count": 18,
   "metadata": {},
   "outputs": [],
   "source": [
    "learn_c.load('first');"
   ]
  },
  {
   "cell_type": "markdown",
   "metadata": {},
   "source": [
    "#### Unfreeze last two layers and train for one cycle, save intermediate result."
   ]
  },
  {
   "cell_type": "code",
   "execution_count": 106,
   "metadata": {},
   "outputs": [
    {
     "data": {
      "text/html": [
       "<table border=\"1\" class=\"dataframe\">\n",
       "  <thead>\n",
       "    <tr style=\"text-align: left;\">\n",
       "      <th>epoch</th>\n",
       "      <th>train_loss</th>\n",
       "      <th>valid_loss</th>\n",
       "      <th>accuracy</th>\n",
       "      <th>time</th>\n",
       "    </tr>\n",
       "  </thead>\n",
       "  <tbody>\n",
       "    <tr>\n",
       "      <td>0</td>\n",
       "      <td>0.247930</td>\n",
       "      <td>0.184820</td>\n",
       "      <td>0.935480</td>\n",
       "      <td>11:58</td>\n",
       "    </tr>\n",
       "  </tbody>\n",
       "</table>"
      ],
      "text/plain": [
       "<IPython.core.display.HTML object>"
      ]
     },
     "metadata": {},
     "output_type": "display_data"
    }
   ],
   "source": [
    "learn_c.freeze_to(-2)\n",
    "learn_c.fit_one_cycle(1, slice(1e-2/(2.6**4),1e-2), moms=(0.8,0.7))"
   ]
  },
  {
   "cell_type": "code",
   "execution_count": 107,
   "metadata": {},
   "outputs": [],
   "source": [
    "learn_c.save('2nd')"
   ]
  },
  {
   "cell_type": "markdown",
   "metadata": {},
   "source": [
    "#### Unfreeze the last three layers, and train for one cycle, and save intermediate result.\n",
    "At this point we've already beaten the 2017 (pre-transfer learning) state of the art!"
   ]
  },
  {
   "cell_type": "code",
   "execution_count": 108,
   "metadata": {},
   "outputs": [
    {
     "data": {
      "text/html": [
       "<table border=\"1\" class=\"dataframe\">\n",
       "  <thead>\n",
       "    <tr style=\"text-align: left;\">\n",
       "      <th>epoch</th>\n",
       "      <th>train_loss</th>\n",
       "      <th>valid_loss</th>\n",
       "      <th>accuracy</th>\n",
       "      <th>time</th>\n",
       "    </tr>\n",
       "  </thead>\n",
       "  <tbody>\n",
       "    <tr>\n",
       "      <td>0</td>\n",
       "      <td>0.246327</td>\n",
       "      <td>0.165970</td>\n",
       "      <td>0.942120</td>\n",
       "      <td>14:29</td>\n",
       "    </tr>\n",
       "  </tbody>\n",
       "</table>"
      ],
      "text/plain": [
       "<IPython.core.display.HTML object>"
      ]
     },
     "metadata": {},
     "output_type": "display_data"
    }
   ],
   "source": [
    "learn_c.freeze_to(-3)\n",
    "learn_c.fit_one_cycle(1, slice(5e-3/(2.6**4),5e-3), moms=(0.8,0.7))"
   ]
  },
  {
   "cell_type": "code",
   "execution_count": 109,
   "metadata": {},
   "outputs": [],
   "source": [
    "learn_c.save('3rd')"
   ]
  },
  {
   "cell_type": "code",
   "execution_count": 12,
   "metadata": {},
   "outputs": [
    {
     "data": {
      "text/plain": [
       "RNNLearner(data=TextClasDataBunch;\n",
       "\n",
       "Train: LabelList (25000 items)\n",
       "x: TextList\n",
       "xxbos i was bored , around 10 pm , so i watched this movie . xxmaj and i could not stop laughing . xxmaj everything was so ridiculous . xxmaj the way the kids were acting like they were older than 11 just cracked me up . xxmaj one of the kids had a ring , that supposedly killed people after 3 or so years . xxmaj it gave me the impression that he wanted to be a gangster . \n",
       " \n",
       "  xxmaj it 's pretty hard to take little kids seriously , especially when it has to do with eating worms . xxmaj they act like everything is such a big deal , like if xxmaj billy ( the main character ) does n't eat the worms then the world will end . \n",
       " \n",
       "  xxmaj this is a good movie for little kids ( excluding the fact that a 5 year old says ' penis ' ) , but not for teens or adults who do n't want to waste their time .,xxbos xxmaj bill ( xxmaj buddy xxmaj rogers ) is sent to xxmaj new xxmaj york by his uncle ( xxmaj richard xxmaj tucker ) to experience life before he inherits $ xxunk . xxmaj his uncle has paid 3 women xxmaj xxunk ( xxmaj kathryn xxmaj crawford ) , xxmaj maxine ( xxmaj josephine xxmaj dunn ) and xxmaj pauline ( xxmaj carole xxmaj lombard ) to chaperone him and ensure that he does not fall foul of gold - diggers . xxmaj one such lady xxmaj cleo ( xxmaj geneva xxmaj mitchell ) turns up on the scene to the xxunk of the women . xxmaj we follow the tale as the girls are offered more money to appear in a show instead of their escorting role that they have agreed to carry out for the 3 months that xxmaj bill is in xxmaj new xxmaj york , while xxmaj bill meets with xxmaj cleo and another woman . xxmaj at the end , love is in the air for xxmaj bill and one other xxrep 13 . \n",
       " \n",
       "  xxmaj the picture quality and sound quality are poor in this film . xxmaj the story is interspersed with musical numbers but the songs are bad and xxmaj kathryn xxmaj crawford has a terrible voice . xxmaj rogers is n't that good either . xxmaj he 's pleasant enough but only really comes to life when playing the drums or trombone . xxmaj there is a very irritating character who plays a cab driver ( xxmaj roscoe xxmaj karns ) and the film is just dull .,xxbos ( xxunk one truly memorable part of this otherwise rather dull and tepid bit of xxmaj british cuisine is xxmaj steiner 's henna rinse , one of the worst dye jobs ever . xxmaj that , and the magnificent caterpillar eyebrows on the old evil dude who was trying to steal xxmaj steiner 's invention . xxup mst3 k does an admirable job of making a wretchedly boring and grey film funny . i particularly like it when xxmaj crow kills xxmaj mike with his ' touch of death ' , and when he revives him in the theatre , xxmaj mike cries \" xxmaj guys , i died , i saw eternal truth and beauty ! oh , it 's this movie ... \" xxmaj that would be a letdown , having to come back from the afterlife to watch the rest of xxmaj the xxmaj projected xxmaj man . xxmaj the film could make a fortune being sold as a sleep aide . xxmaj some of the puns in the film were wicked : police xxunk ! \" xxunk , is n't it ? \" police xxunk 's lowe , all right \" xxmaj tom xxunk low , right down by the floor ! \" police xxunk i get on ? \" xxmaj tom xxunk 's dead , but knock yourself out \" xxup mst3 k is definitely the only way to watch this snoozer .,xxbos i have seen it . xxmaj it 's not \" good \" but interesting in an understated way . xxmaj the boys in it are quite naturalistic but xxrep 16 . the graphic / gratuitous final gang rape scene is repugnant and -oh xxunk the arbitrary insertion of second world war footage is offensive in the way it attempts to compare real horror with this misogynistic contrivance . xxmaj real atrocity is xxunk this film is just atrocious . xxmaj however , the film has a look which can draw you in . xxmaj but it seems to me that is the \" xxmaj emperor 's xxmaj new xxmaj clothes \" , but in fact in reverse . xxmaj the film looks good , but the direction , story , content and final feeling you take away from this film is vacuous . xxmaj if a feeling can be vacuous - this is it .,xxbos xxmaj and i repeat , please do not see this movie ! xxmaj this is more than a review . xxmaj this is a warning . xxmaj this sets the record for the worst , most effortless comedy ever made . xxmaj at least with most of the recent comedies nowadays , the gags are crude and flat , but the writers and directors put in at least some sort of effort into making them funny . i never get tired of repeating one of my favorite xxunk : xxmaj everyone thinks they can do comedy , and only 10 percent of them are right . xxmaj comedy is hard ! xxmaj this is not some genre any fool can play around with . i think it 's atrocious that the filmmakers are comparing this piece of garbage to \" xxmaj kentucky xxmaj fried xxmaj movie . \" xxmaj basically , these bozos are comparing their so - called comic talents to those of the brilliant xxmaj jim xxmaj abrahams and the xxmaj zucker xxmaj brothers . xxmaj come on , i 've seen xxmaj pauly xxmaj shore movies that are 10 times funnier than \" xxmaj the xxmaj underground xxmaj comedy xxmaj movie . \" xxmaj here 's a sample of the comedy for those curious about seeing this movie : xxmaj one sketch involves a superhero dressed like a penis named xxmaj xxunk . xxmaj the whole joke is that he defeats his enemies by squirting them with semen . xxmaj that 's it . xxmaj that 's the whole joke . xxmaj wow . xxmaj this is enough to make xxmaj carrot xxmaj top roll his eyes . xxmaj another sketch involves a man having sex with a dead person in a porn movie . xxmaj and in another sketch , there 's a bag lady beauty contest , in which we 're exposed to the horrible sights of bikini - clad middle - aged women with beer guts and stretch marks . xxmaj plus , making fun of the homeless is more sad than funny . xxmaj it 's a step away from mocking the mentally handicapped . xxmaj the whole movie is supposed to be a satire . i think the filmmakers forgot that a key element of satire ... is xxup truth ! ! ! xxmaj for anybody who actually enjoyed this crap , explain to me what is truthful about xxup any of these gags ! xxmaj some of the sketches might 've sounded funny on paper , but anybody who 's taken any screen writing classes knows that if a sight gag sounds too funny on paper , it probably wo n't be funny on screen . xxmaj if i tell someone about a big , black , muscular gay virgin , who 's saving himself for the right man , he or she would probably laugh . xxmaj but watching the premise played out on screen for about 10 minutes is a complete drag . i hate how whenever people criticize a low - brow comedy like this for not being funny , they 're regarded as stuck - up squares . i just saw \" xxmaj white xxmaj chicks \" recently . xxmaj that 's another low - brow , politically incorrect comedy , but i laughed my head off . xxmaj the most offensive thing about \" xxmaj the xxmaj underground xxmaj comedy xxmaj movie \" is it 's not funny ! xxmaj what the writers and directors do n't understand is that merely being filthy and tasteless does n't work . xxmaj there has to be more ! xxmaj just think of the famous scene from \" xxmaj there 's xxmaj something xxmaj about xxmaj mary \" ( ironically , enough the bozo filmmakers put the xxmaj farrellys on their special thanks list ) . xxmaj the joke about the semen was n't just funny because it involved bodily fluids . xxmaj there was a buildup . xxmaj ben xxmaj stiller was masturbating in the bathroom to make sure he did n't go out on a date with a \" loaded gun . \" xxmaj then he looked around to see where all the semen went after it was released . a knock is on the door , and he has to answer it . xxmaj his date , xxmaj mary , is at the door and that 's when it 's revealed that the semen is hanging off xxmaj ben 's ear . xxmaj in this movie , there are multiple gags involving characters squirting loads of semen at people , with no buildup whatsoever . xxmaj as xxmaj jay xxmaj leno always says , \" xxmaj this comedy thing 's not so easy , is it ? \" xxmaj keep that in mind , xxmaj vince xxmaj offer , 'cause you were n't cut out for this genre ! ! xxmaj the only reason people might laugh at these gags is because they want to feel hip . xxmaj let 's face it , nowadays it 's hip to laugh at anything politically incorrect . i know comedy is subjective ... but this movie should n't be funny to anybody , except maybe the filmmakers themselves . xxmaj as a side note , the movie had to have been made before xxmaj michael xxmaj clarke xxmaj duncan 's fame in movies like \" xxmaj armageddon \" and \" xxmaj the xxmaj green xxmaj mile . \" xxmaj there ca n't be any other reason why an actor of his caliber would volunteer to be part of this amateurish freak show . xxmaj all the others in the cast are either non - actors , has - been actors or b - movie stars . xxmaj karen xxmaj black made a good impression in \" xxmaj five xxmaj easy xxmaj pieces , \" but i do n't think she 's done anything of value ever since . xxmaj slash was probably drugged into being in this film . xxmaj gina xxmaj lee xxmaj xxunk is nothing without \" xxmaj baywatch . \" xxmaj xxunk is the film 's biggest star ( keeping in mind xxmaj duncan was n't famous at the time ) , and there are still probably a ton of people who have n't heard of her -- for good reason . xxmaj usually , i 'm in support of extremely low - budget flicks , but this one deserves to drift into obscurity . i hope to xxmaj lord this does n't become a cult classic ! xxmaj should n't there be a law against distributing crap like this ?\n",
       "y: CategoryList\n",
       "neg,neg,neg,neg,neg\n",
       "Path: /root/.fastai/data/imdb;\n",
       "\n",
       "Valid: LabelList (25000 items)\n",
       "x: TextList\n",
       "xxbos i did n't know what to expect when i started watching this movie , by the end of it i was pulling my hairs out . xxmaj this was one of the most pathetic movies of this year ... in fact , in the last ten years . xxmaj david xxmaj dhawan should just give up his career as a director . i am yet to come across one original script that xxmaj david xxmaj dhawan has worked on . xxmaj this one was a complete bit y bit rip off xxmaj hitch . i have nothing against remakes as such , but this one is just so lousy that it makes you even hate the original one ( which was pretty decent ) . i fail to understand what actors like xxmaj salman and xxmaj govinda saw in this script . i read somewhere , that this was supposed to be xxmaj govinda 's comeback vehicle . xxmaj if that s true , then only xxmaj god can save his career . xxmaj salman just overacted to the hilt . xxmaj govinda who i think is an actor of very high caliber was completely wasted . xxmaj katrina xxmaj kaif and lara xxmaj dutta had nothing to do apart form wearing designer clothes and smiling for no rhyme or reason . xxmaj please stay away form this one !,xxbos xxmaj for several reasons , this movie is simply awful . xxmaj other posters have listed some of this movie 's historical errors . xxmaj well , i have a layman 's knowledge of xxmaj roman history and even i found the inaccuracies flagrant . i usually forgive errors in historical movies because i understand that the purpose is to entertain not educate . xxmaj and shrinking a long saga down to a two hour feature requires some , let 's say , historical license . xxmaj but this movie goes well beyond mere rounding . \n",
       " \n",
       "  xxmaj there 's worse . xxmaj to tell a story from a distant period , the movie uses flashbacks which just make the story more confusing . xxmaj unless viewers have some prior knowledge of the period , they will quickly be lost . xxmaj in addition , the movie was obviously filmed simultaneously in xxmaj italian and xxmaj english with various actors being dubbed later . xxmaj at times , the actors seem as if they were in completely different movies which were then edited together . xxmaj in fact , this is not far wrong . xxmaj the actors were obviously pasted onto a cheesy computer generated ancient xxmaj rome . \n",
       " \n",
       "  xxmaj the only reason i give this boring mess any stars is because i always find xxmaj peter o'toole entertaining . xxmaj but that is no reason to rent it . xxmaj if you are curious about xxmaj roman history , there are much better movies available .,xxbos xxmaj remember those terrible war movies your grandmother forced you to watch 25 or so years ago on your old xxup vhs recorder ? \" xxmaj the xxmaj fallen \" is just a bad executed remake of those movies ! xxmaj the story is terrible , the direction is terrible , the editing is terrible , the music is terrible , and all together make an unbearable nightmare . \n",
       " \n",
       "  xxmaj it is also terribly slow ! xxmaj very slow ! i tried to sleep while watching it but i could n't do it because i had nightmares of it . \n",
       " \n",
       "  xxmaj please do n't watch this movie ! xxmaj it is xxup that bad ! xxmaj ten lines is a lot so i do n't know what else to say . \n",
       " \n",
       "  xxmaj press the eject button xxup now and you wo nt regret it !,xxbos a post - apocalyptic warrior goes off to save some kind of xxmaj nun and on the way meets some cyber - punks on skates who want to kick his ass . xxmaj this is one of the hardest to watch films ever , xxmaj there are scenes with silence that seems to last hours before somebody comes out with the next badly written , badly acted line . xxmaj there are action sequences that keep repeating - and we 're not talking the quickfire 1 - 2 - 3 action repeat on a particularly good kick that was made popular by eastern directors , we 're talking many , many repeats of long , bad fight sequences . xxmaj this is incredibly confusing at first but then quickly becomes annoying as you 're watching a 30 second sequence for the 2nd , 3rd and 4th time . xxmaj any kind of plot or vision is lost within the confusing continuity , the only thing that s keeps this film in the xxunk ( apart from the bet from a friend that i could n't watch it all the way through without begging for it to be turned off and disposed off safely so it may harm no - one else ) is the fact that although painful , this film is unintentionally hilarious , i 'm not at all a fan of those \" so bad that it 's funny \" type of films but at parts i was in tears . xxmaj other points to note are the quality of the sound and picture but this is forgiveable as it 's obvious money was a major problem in the making of this film . xxmaj final verdict - xxmaj king of the \" so bad they 're funny \" genre , anybody having that kind of genre video night should get themselves a copy . xxmaj also lets not forget that it is actually the worst film i 've ever seen .,xxbos i believe that this movie was a terrible waste of my time , and i would know after watching it 5 times in class . this movie does not show what absolutely perfectly happened during these times . no one can truly say that these things happened to the letter . if anything the only good part would be the actors , even tho that they were really really xxunk were reading the script without expression . quite boring . i would rather watch play school . so i would definitely like to never ever see this movie again in my whole life . it is a complete waste of time unless you want your time to be wasted and if you would like to see an unrealistic view of what happened back in 1981 .\n",
       "y: CategoryList\n",
       "neg,neg,neg,neg,neg\n",
       "Path: /root/.fastai/data/imdb;\n",
       "\n",
       "Test: None, model=SequentialRNN(\n",
       "  (0): MultiBatchEncoder(\n",
       "    (module): AWD_LSTM(\n",
       "      (encoder): Embedding(60000, 400, padding_idx=1)\n",
       "      (encoder_dp): EmbeddingDropout(\n",
       "        (emb): Embedding(60000, 400, padding_idx=1)\n",
       "      )\n",
       "      (rnns): ModuleList(\n",
       "        (0): WeightDropout(\n",
       "          (module): LSTM(400, 1152, batch_first=True)\n",
       "        )\n",
       "        (1): WeightDropout(\n",
       "          (module): LSTM(1152, 1152, batch_first=True)\n",
       "        )\n",
       "        (2): WeightDropout(\n",
       "          (module): LSTM(1152, 400, batch_first=True)\n",
       "        )\n",
       "      )\n",
       "      (input_dp): RNNDropout()\n",
       "      (hidden_dps): ModuleList(\n",
       "        (0): RNNDropout()\n",
       "        (1): RNNDropout()\n",
       "        (2): RNNDropout()\n",
       "      )\n",
       "    )\n",
       "  )\n",
       "  (1): PoolingLinearClassifier(\n",
       "    (layers): Sequential(\n",
       "      (0): BatchNorm1d(1200, eps=1e-05, momentum=0.1, affine=True, track_running_stats=True)\n",
       "      (1): Dropout(p=0.12, inplace=False)\n",
       "      (2): Linear(in_features=1200, out_features=50, bias=True)\n",
       "      (3): ReLU(inplace=True)\n",
       "      (4): BatchNorm1d(50, eps=1e-05, momentum=0.1, affine=True, track_running_stats=True)\n",
       "      (5): Dropout(p=0.1, inplace=False)\n",
       "      (6): Linear(in_features=50, out_features=2, bias=True)\n",
       "    )\n",
       "  )\n",
       "), opt_func=functools.partial(<class 'torch.optim.adam.Adam'>, betas=(0.9, 0.99)), loss_func=FlattenedLoss of CrossEntropyLoss(), metrics=[<function accuracy at 0x7f5b3c89a9d8>], true_wd=True, bn_wd=True, wd=0.01, train_bn=True, path=PosixPath('/root/.fastai/data/imdb'), model_dir='models', callback_fns=[functools.partial(<class 'fastai.basic_train.Recorder'>, add_time=True, silent=False)], callbacks=[RNNTrainer\n",
       "learn: RNNLearner(data=TextClasDataBunch;\n",
       "\n",
       "Train: LabelList (25000 items)\n",
       "x: TextList\n",
       "xxbos i was bored , around 10 pm , so i watched this movie . xxmaj and i could not stop laughing . xxmaj everything was so ridiculous . xxmaj the way the kids were acting like they were older than 11 just cracked me up . xxmaj one of the kids had a ring , that supposedly killed people after 3 or so years . xxmaj it gave me the impression that he wanted to be a gangster . \n",
       " \n",
       "  xxmaj it 's pretty hard to take little kids seriously , especially when it has to do with eating worms . xxmaj they act like everything is such a big deal , like if xxmaj billy ( the main character ) does n't eat the worms then the world will end . \n",
       " \n",
       "  xxmaj this is a good movie for little kids ( excluding the fact that a 5 year old says ' penis ' ) , but not for teens or adults who do n't want to waste their time .,xxbos xxmaj bill ( xxmaj buddy xxmaj rogers ) is sent to xxmaj new xxmaj york by his uncle ( xxmaj richard xxmaj tucker ) to experience life before he inherits $ xxunk . xxmaj his uncle has paid 3 women xxmaj xxunk ( xxmaj kathryn xxmaj crawford ) , xxmaj maxine ( xxmaj josephine xxmaj dunn ) and xxmaj pauline ( xxmaj carole xxmaj lombard ) to chaperone him and ensure that he does not fall foul of gold - diggers . xxmaj one such lady xxmaj cleo ( xxmaj geneva xxmaj mitchell ) turns up on the scene to the xxunk of the women . xxmaj we follow the tale as the girls are offered more money to appear in a show instead of their escorting role that they have agreed to carry out for the 3 months that xxmaj bill is in xxmaj new xxmaj york , while xxmaj bill meets with xxmaj cleo and another woman . xxmaj at the end , love is in the air for xxmaj bill and one other xxrep 13 . \n",
       " \n",
       "  xxmaj the picture quality and sound quality are poor in this film . xxmaj the story is interspersed with musical numbers but the songs are bad and xxmaj kathryn xxmaj crawford has a terrible voice . xxmaj rogers is n't that good either . xxmaj he 's pleasant enough but only really comes to life when playing the drums or trombone . xxmaj there is a very irritating character who plays a cab driver ( xxmaj roscoe xxmaj karns ) and the film is just dull .,xxbos ( xxunk one truly memorable part of this otherwise rather dull and tepid bit of xxmaj british cuisine is xxmaj steiner 's henna rinse , one of the worst dye jobs ever . xxmaj that , and the magnificent caterpillar eyebrows on the old evil dude who was trying to steal xxmaj steiner 's invention . xxup mst3 k does an admirable job of making a wretchedly boring and grey film funny . i particularly like it when xxmaj crow kills xxmaj mike with his ' touch of death ' , and when he revives him in the theatre , xxmaj mike cries \" xxmaj guys , i died , i saw eternal truth and beauty ! oh , it 's this movie ... \" xxmaj that would be a letdown , having to come back from the afterlife to watch the rest of xxmaj the xxmaj projected xxmaj man . xxmaj the film could make a fortune being sold as a sleep aide . xxmaj some of the puns in the film were wicked : police xxunk ! \" xxunk , is n't it ? \" police xxunk 's lowe , all right \" xxmaj tom xxunk low , right down by the floor ! \" police xxunk i get on ? \" xxmaj tom xxunk 's dead , but knock yourself out \" xxup mst3 k is definitely the only way to watch this snoozer .,xxbos i have seen it . xxmaj it 's not \" good \" but interesting in an understated way . xxmaj the boys in it are quite naturalistic but xxrep 16 . the graphic / gratuitous final gang rape scene is repugnant and -oh xxunk the arbitrary insertion of second world war footage is offensive in the way it attempts to compare real horror with this misogynistic contrivance . xxmaj real atrocity is xxunk this film is just atrocious . xxmaj however , the film has a look which can draw you in . xxmaj but it seems to me that is the \" xxmaj emperor 's xxmaj new xxmaj clothes \" , but in fact in reverse . xxmaj the film looks good , but the direction , story , content and final feeling you take away from this film is vacuous . xxmaj if a feeling can be vacuous - this is it .,xxbos xxmaj and i repeat , please do not see this movie ! xxmaj this is more than a review . xxmaj this is a warning . xxmaj this sets the record for the worst , most effortless comedy ever made . xxmaj at least with most of the recent comedies nowadays , the gags are crude and flat , but the writers and directors put in at least some sort of effort into making them funny . i never get tired of repeating one of my favorite xxunk : xxmaj everyone thinks they can do comedy , and only 10 percent of them are right . xxmaj comedy is hard ! xxmaj this is not some genre any fool can play around with . i think it 's atrocious that the filmmakers are comparing this piece of garbage to \" xxmaj kentucky xxmaj fried xxmaj movie . \" xxmaj basically , these bozos are comparing their so - called comic talents to those of the brilliant xxmaj jim xxmaj abrahams and the xxmaj zucker xxmaj brothers . xxmaj come on , i 've seen xxmaj pauly xxmaj shore movies that are 10 times funnier than \" xxmaj the xxmaj underground xxmaj comedy xxmaj movie . \" xxmaj here 's a sample of the comedy for those curious about seeing this movie : xxmaj one sketch involves a superhero dressed like a penis named xxmaj xxunk . xxmaj the whole joke is that he defeats his enemies by squirting them with semen . xxmaj that 's it . xxmaj that 's the whole joke . xxmaj wow . xxmaj this is enough to make xxmaj carrot xxmaj top roll his eyes . xxmaj another sketch involves a man having sex with a dead person in a porn movie . xxmaj and in another sketch , there 's a bag lady beauty contest , in which we 're exposed to the horrible sights of bikini - clad middle - aged women with beer guts and stretch marks . xxmaj plus , making fun of the homeless is more sad than funny . xxmaj it 's a step away from mocking the mentally handicapped . xxmaj the whole movie is supposed to be a satire . i think the filmmakers forgot that a key element of satire ... is xxup truth ! ! ! xxmaj for anybody who actually enjoyed this crap , explain to me what is truthful about xxup any of these gags ! xxmaj some of the sketches might 've sounded funny on paper , but anybody who 's taken any screen writing classes knows that if a sight gag sounds too funny on paper , it probably wo n't be funny on screen . xxmaj if i tell someone about a big , black , muscular gay virgin , who 's saving himself for the right man , he or she would probably laugh . xxmaj but watching the premise played out on screen for about 10 minutes is a complete drag . i hate how whenever people criticize a low - brow comedy like this for not being funny , they 're regarded as stuck - up squares . i just saw \" xxmaj white xxmaj chicks \" recently . xxmaj that 's another low - brow , politically incorrect comedy , but i laughed my head off . xxmaj the most offensive thing about \" xxmaj the xxmaj underground xxmaj comedy xxmaj movie \" is it 's not funny ! xxmaj what the writers and directors do n't understand is that merely being filthy and tasteless does n't work . xxmaj there has to be more ! xxmaj just think of the famous scene from \" xxmaj there 's xxmaj something xxmaj about xxmaj mary \" ( ironically , enough the bozo filmmakers put the xxmaj farrellys on their special thanks list ) . xxmaj the joke about the semen was n't just funny because it involved bodily fluids . xxmaj there was a buildup . xxmaj ben xxmaj stiller was masturbating in the bathroom to make sure he did n't go out on a date with a \" loaded gun . \" xxmaj then he looked around to see where all the semen went after it was released . a knock is on the door , and he has to answer it . xxmaj his date , xxmaj mary , is at the door and that 's when it 's revealed that the semen is hanging off xxmaj ben 's ear . xxmaj in this movie , there are multiple gags involving characters squirting loads of semen at people , with no buildup whatsoever . xxmaj as xxmaj jay xxmaj leno always says , \" xxmaj this comedy thing 's not so easy , is it ? \" xxmaj keep that in mind , xxmaj vince xxmaj offer , 'cause you were n't cut out for this genre ! ! xxmaj the only reason people might laugh at these gags is because they want to feel hip . xxmaj let 's face it , nowadays it 's hip to laugh at anything politically incorrect . i know comedy is subjective ... but this movie should n't be funny to anybody , except maybe the filmmakers themselves . xxmaj as a side note , the movie had to have been made before xxmaj michael xxmaj clarke xxmaj duncan 's fame in movies like \" xxmaj armageddon \" and \" xxmaj the xxmaj green xxmaj mile . \" xxmaj there ca n't be any other reason why an actor of his caliber would volunteer to be part of this amateurish freak show . xxmaj all the others in the cast are either non - actors , has - been actors or b - movie stars . xxmaj karen xxmaj black made a good impression in \" xxmaj five xxmaj easy xxmaj pieces , \" but i do n't think she 's done anything of value ever since . xxmaj slash was probably drugged into being in this film . xxmaj gina xxmaj lee xxmaj xxunk is nothing without \" xxmaj baywatch . \" xxmaj xxunk is the film 's biggest star ( keeping in mind xxmaj duncan was n't famous at the time ) , and there are still probably a ton of people who have n't heard of her -- for good reason . xxmaj usually , i 'm in support of extremely low - budget flicks , but this one deserves to drift into obscurity . i hope to xxmaj lord this does n't become a cult classic ! xxmaj should n't there be a law against distributing crap like this ?\n",
       "y: CategoryList\n",
       "neg,neg,neg,neg,neg\n",
       "Path: /root/.fastai/data/imdb;\n",
       "\n",
       "Valid: LabelList (25000 items)\n",
       "x: TextList\n",
       "xxbos i did n't know what to expect when i started watching this movie , by the end of it i was pulling my hairs out . xxmaj this was one of the most pathetic movies of this year ... in fact , in the last ten years . xxmaj david xxmaj dhawan should just give up his career as a director . i am yet to come across one original script that xxmaj david xxmaj dhawan has worked on . xxmaj this one was a complete bit y bit rip off xxmaj hitch . i have nothing against remakes as such , but this one is just so lousy that it makes you even hate the original one ( which was pretty decent ) . i fail to understand what actors like xxmaj salman and xxmaj govinda saw in this script . i read somewhere , that this was supposed to be xxmaj govinda 's comeback vehicle . xxmaj if that s true , then only xxmaj god can save his career . xxmaj salman just overacted to the hilt . xxmaj govinda who i think is an actor of very high caliber was completely wasted . xxmaj katrina xxmaj kaif and lara xxmaj dutta had nothing to do apart form wearing designer clothes and smiling for no rhyme or reason . xxmaj please stay away form this one !,xxbos xxmaj for several reasons , this movie is simply awful . xxmaj other posters have listed some of this movie 's historical errors . xxmaj well , i have a layman 's knowledge of xxmaj roman history and even i found the inaccuracies flagrant . i usually forgive errors in historical movies because i understand that the purpose is to entertain not educate . xxmaj and shrinking a long saga down to a two hour feature requires some , let 's say , historical license . xxmaj but this movie goes well beyond mere rounding . \n",
       " \n",
       "  xxmaj there 's worse . xxmaj to tell a story from a distant period , the movie uses flashbacks which just make the story more confusing . xxmaj unless viewers have some prior knowledge of the period , they will quickly be lost . xxmaj in addition , the movie was obviously filmed simultaneously in xxmaj italian and xxmaj english with various actors being dubbed later . xxmaj at times , the actors seem as if they were in completely different movies which were then edited together . xxmaj in fact , this is not far wrong . xxmaj the actors were obviously pasted onto a cheesy computer generated ancient xxmaj rome . \n",
       " \n",
       "  xxmaj the only reason i give this boring mess any stars is because i always find xxmaj peter o'toole entertaining . xxmaj but that is no reason to rent it . xxmaj if you are curious about xxmaj roman history , there are much better movies available .,xxbos xxmaj remember those terrible war movies your grandmother forced you to watch 25 or so years ago on your old xxup vhs recorder ? \" xxmaj the xxmaj fallen \" is just a bad executed remake of those movies ! xxmaj the story is terrible , the direction is terrible , the editing is terrible , the music is terrible , and all together make an unbearable nightmare . \n",
       " \n",
       "  xxmaj it is also terribly slow ! xxmaj very slow ! i tried to sleep while watching it but i could n't do it because i had nightmares of it . \n",
       " \n",
       "  xxmaj please do n't watch this movie ! xxmaj it is xxup that bad ! xxmaj ten lines is a lot so i do n't know what else to say . \n",
       " \n",
       "  xxmaj press the eject button xxup now and you wo nt regret it !,xxbos a post - apocalyptic warrior goes off to save some kind of xxmaj nun and on the way meets some cyber - punks on skates who want to kick his ass . xxmaj this is one of the hardest to watch films ever , xxmaj there are scenes with silence that seems to last hours before somebody comes out with the next badly written , badly acted line . xxmaj there are action sequences that keep repeating - and we 're not talking the quickfire 1 - 2 - 3 action repeat on a particularly good kick that was made popular by eastern directors , we 're talking many , many repeats of long , bad fight sequences . xxmaj this is incredibly confusing at first but then quickly becomes annoying as you 're watching a 30 second sequence for the 2nd , 3rd and 4th time . xxmaj any kind of plot or vision is lost within the confusing continuity , the only thing that s keeps this film in the xxunk ( apart from the bet from a friend that i could n't watch it all the way through without begging for it to be turned off and disposed off safely so it may harm no - one else ) is the fact that although painful , this film is unintentionally hilarious , i 'm not at all a fan of those \" so bad that it 's funny \" type of films but at parts i was in tears . xxmaj other points to note are the quality of the sound and picture but this is forgiveable as it 's obvious money was a major problem in the making of this film . xxmaj final verdict - xxmaj king of the \" so bad they 're funny \" genre , anybody having that kind of genre video night should get themselves a copy . xxmaj also lets not forget that it is actually the worst film i 've ever seen .,xxbos i believe that this movie was a terrible waste of my time , and i would know after watching it 5 times in class . this movie does not show what absolutely perfectly happened during these times . no one can truly say that these things happened to the letter . if anything the only good part would be the actors , even tho that they were really really xxunk were reading the script without expression . quite boring . i would rather watch play school . so i would definitely like to never ever see this movie again in my whole life . it is a complete waste of time unless you want your time to be wasted and if you would like to see an unrealistic view of what happened back in 1981 .\n",
       "y: CategoryList\n",
       "neg,neg,neg,neg,neg\n",
       "Path: /root/.fastai/data/imdb;\n",
       "\n",
       "Test: None, model=SequentialRNN(\n",
       "  (0): MultiBatchEncoder(\n",
       "    (module): AWD_LSTM(\n",
       "      (encoder): Embedding(60000, 400, padding_idx=1)\n",
       "      (encoder_dp): EmbeddingDropout(\n",
       "        (emb): Embedding(60000, 400, padding_idx=1)\n",
       "      )\n",
       "      (rnns): ModuleList(\n",
       "        (0): WeightDropout(\n",
       "          (module): LSTM(400, 1152, batch_first=True)\n",
       "        )\n",
       "        (1): WeightDropout(\n",
       "          (module): LSTM(1152, 1152, batch_first=True)\n",
       "        )\n",
       "        (2): WeightDropout(\n",
       "          (module): LSTM(1152, 400, batch_first=True)\n",
       "        )\n",
       "      )\n",
       "      (input_dp): RNNDropout()\n",
       "      (hidden_dps): ModuleList(\n",
       "        (0): RNNDropout()\n",
       "        (1): RNNDropout()\n",
       "        (2): RNNDropout()\n",
       "      )\n",
       "    )\n",
       "  )\n",
       "  (1): PoolingLinearClassifier(\n",
       "    (layers): Sequential(\n",
       "      (0): BatchNorm1d(1200, eps=1e-05, momentum=0.1, affine=True, track_running_stats=True)\n",
       "      (1): Dropout(p=0.12, inplace=False)\n",
       "      (2): Linear(in_features=1200, out_features=50, bias=True)\n",
       "      (3): ReLU(inplace=True)\n",
       "      (4): BatchNorm1d(50, eps=1e-05, momentum=0.1, affine=True, track_running_stats=True)\n",
       "      (5): Dropout(p=0.1, inplace=False)\n",
       "      (6): Linear(in_features=50, out_features=2, bias=True)\n",
       "    )\n",
       "  )\n",
       "), opt_func=functools.partial(<class 'torch.optim.adam.Adam'>, betas=(0.9, 0.99)), loss_func=FlattenedLoss of CrossEntropyLoss(), metrics=[<function accuracy at 0x7f5b3c89a9d8>], true_wd=True, bn_wd=True, wd=0.01, train_bn=True, path=PosixPath('/root/.fastai/data/imdb'), model_dir='models', callback_fns=[functools.partial(<class 'fastai.basic_train.Recorder'>, add_time=True, silent=False)], callbacks=[...], layer_groups=[Sequential(\n",
       "  (0): Embedding(60000, 400, padding_idx=1)\n",
       "  (1): EmbeddingDropout(\n",
       "    (emb): Embedding(60000, 400, padding_idx=1)\n",
       "  )\n",
       "), Sequential(\n",
       "  (0): WeightDropout(\n",
       "    (module): LSTM(400, 1152, batch_first=True)\n",
       "  )\n",
       "  (1): RNNDropout()\n",
       "), Sequential(\n",
       "  (0): WeightDropout(\n",
       "    (module): LSTM(1152, 1152, batch_first=True)\n",
       "  )\n",
       "  (1): RNNDropout()\n",
       "), Sequential(\n",
       "  (0): WeightDropout(\n",
       "    (module): LSTM(1152, 400, batch_first=True)\n",
       "  )\n",
       "  (1): RNNDropout()\n",
       "), Sequential(\n",
       "  (0): PoolingLinearClassifier(\n",
       "    (layers): Sequential(\n",
       "      (0): BatchNorm1d(1200, eps=1e-05, momentum=0.1, affine=True, track_running_stats=True)\n",
       "      (1): Dropout(p=0.12, inplace=False)\n",
       "      (2): Linear(in_features=1200, out_features=50, bias=True)\n",
       "      (3): ReLU(inplace=True)\n",
       "      (4): BatchNorm1d(50, eps=1e-05, momentum=0.1, affine=True, track_running_stats=True)\n",
       "      (5): Dropout(p=0.1, inplace=False)\n",
       "      (6): Linear(in_features=50, out_features=2, bias=True)\n",
       "    )\n",
       "  )\n",
       ")], add_time=True, silent=False)\n",
       "alpha: 2.0\n",
       "beta: 1.0, MixedPrecision\n",
       "learn: RNNLearner(data=TextClasDataBunch;\n",
       "\n",
       "Train: LabelList (25000 items)\n",
       "x: TextList\n",
       "xxbos i was bored , around 10 pm , so i watched this movie . xxmaj and i could not stop laughing . xxmaj everything was so ridiculous . xxmaj the way the kids were acting like they were older than 11 just cracked me up . xxmaj one of the kids had a ring , that supposedly killed people after 3 or so years . xxmaj it gave me the impression that he wanted to be a gangster . \n",
       " \n",
       "  xxmaj it 's pretty hard to take little kids seriously , especially when it has to do with eating worms . xxmaj they act like everything is such a big deal , like if xxmaj billy ( the main character ) does n't eat the worms then the world will end . \n",
       " \n",
       "  xxmaj this is a good movie for little kids ( excluding the fact that a 5 year old says ' penis ' ) , but not for teens or adults who do n't want to waste their time .,xxbos xxmaj bill ( xxmaj buddy xxmaj rogers ) is sent to xxmaj new xxmaj york by his uncle ( xxmaj richard xxmaj tucker ) to experience life before he inherits $ xxunk . xxmaj his uncle has paid 3 women xxmaj xxunk ( xxmaj kathryn xxmaj crawford ) , xxmaj maxine ( xxmaj josephine xxmaj dunn ) and xxmaj pauline ( xxmaj carole xxmaj lombard ) to chaperone him and ensure that he does not fall foul of gold - diggers . xxmaj one such lady xxmaj cleo ( xxmaj geneva xxmaj mitchell ) turns up on the scene to the xxunk of the women . xxmaj we follow the tale as the girls are offered more money to appear in a show instead of their escorting role that they have agreed to carry out for the 3 months that xxmaj bill is in xxmaj new xxmaj york , while xxmaj bill meets with xxmaj cleo and another woman . xxmaj at the end , love is in the air for xxmaj bill and one other xxrep 13 . \n",
       " \n",
       "  xxmaj the picture quality and sound quality are poor in this film . xxmaj the story is interspersed with musical numbers but the songs are bad and xxmaj kathryn xxmaj crawford has a terrible voice . xxmaj rogers is n't that good either . xxmaj he 's pleasant enough but only really comes to life when playing the drums or trombone . xxmaj there is a very irritating character who plays a cab driver ( xxmaj roscoe xxmaj karns ) and the film is just dull .,xxbos ( xxunk one truly memorable part of this otherwise rather dull and tepid bit of xxmaj british cuisine is xxmaj steiner 's henna rinse , one of the worst dye jobs ever . xxmaj that , and the magnificent caterpillar eyebrows on the old evil dude who was trying to steal xxmaj steiner 's invention . xxup mst3 k does an admirable job of making a wretchedly boring and grey film funny . i particularly like it when xxmaj crow kills xxmaj mike with his ' touch of death ' , and when he revives him in the theatre , xxmaj mike cries \" xxmaj guys , i died , i saw eternal truth and beauty ! oh , it 's this movie ... \" xxmaj that would be a letdown , having to come back from the afterlife to watch the rest of xxmaj the xxmaj projected xxmaj man . xxmaj the film could make a fortune being sold as a sleep aide . xxmaj some of the puns in the film were wicked : police xxunk ! \" xxunk , is n't it ? \" police xxunk 's lowe , all right \" xxmaj tom xxunk low , right down by the floor ! \" police xxunk i get on ? \" xxmaj tom xxunk 's dead , but knock yourself out \" xxup mst3 k is definitely the only way to watch this snoozer .,xxbos i have seen it . xxmaj it 's not \" good \" but interesting in an understated way . xxmaj the boys in it are quite naturalistic but xxrep 16 . the graphic / gratuitous final gang rape scene is repugnant and -oh xxunk the arbitrary insertion of second world war footage is offensive in the way it attempts to compare real horror with this misogynistic contrivance . xxmaj real atrocity is xxunk this film is just atrocious . xxmaj however , the film has a look which can draw you in . xxmaj but it seems to me that is the \" xxmaj emperor 's xxmaj new xxmaj clothes \" , but in fact in reverse . xxmaj the film looks good , but the direction , story , content and final feeling you take away from this film is vacuous . xxmaj if a feeling can be vacuous - this is it .,xxbos xxmaj and i repeat , please do not see this movie ! xxmaj this is more than a review . xxmaj this is a warning . xxmaj this sets the record for the worst , most effortless comedy ever made . xxmaj at least with most of the recent comedies nowadays , the gags are crude and flat , but the writers and directors put in at least some sort of effort into making them funny . i never get tired of repeating one of my favorite xxunk : xxmaj everyone thinks they can do comedy , and only 10 percent of them are right . xxmaj comedy is hard ! xxmaj this is not some genre any fool can play around with . i think it 's atrocious that the filmmakers are comparing this piece of garbage to \" xxmaj kentucky xxmaj fried xxmaj movie . \" xxmaj basically , these bozos are comparing their so - called comic talents to those of the brilliant xxmaj jim xxmaj abrahams and the xxmaj zucker xxmaj brothers . xxmaj come on , i 've seen xxmaj pauly xxmaj shore movies that are 10 times funnier than \" xxmaj the xxmaj underground xxmaj comedy xxmaj movie . \" xxmaj here 's a sample of the comedy for those curious about seeing this movie : xxmaj one sketch involves a superhero dressed like a penis named xxmaj xxunk . xxmaj the whole joke is that he defeats his enemies by squirting them with semen . xxmaj that 's it . xxmaj that 's the whole joke . xxmaj wow . xxmaj this is enough to make xxmaj carrot xxmaj top roll his eyes . xxmaj another sketch involves a man having sex with a dead person in a porn movie . xxmaj and in another sketch , there 's a bag lady beauty contest , in which we 're exposed to the horrible sights of bikini - clad middle - aged women with beer guts and stretch marks . xxmaj plus , making fun of the homeless is more sad than funny . xxmaj it 's a step away from mocking the mentally handicapped . xxmaj the whole movie is supposed to be a satire . i think the filmmakers forgot that a key element of satire ... is xxup truth ! ! ! xxmaj for anybody who actually enjoyed this crap , explain to me what is truthful about xxup any of these gags ! xxmaj some of the sketches might 've sounded funny on paper , but anybody who 's taken any screen writing classes knows that if a sight gag sounds too funny on paper , it probably wo n't be funny on screen . xxmaj if i tell someone about a big , black , muscular gay virgin , who 's saving himself for the right man , he or she would probably laugh . xxmaj but watching the premise played out on screen for about 10 minutes is a complete drag . i hate how whenever people criticize a low - brow comedy like this for not being funny , they 're regarded as stuck - up squares . i just saw \" xxmaj white xxmaj chicks \" recently . xxmaj that 's another low - brow , politically incorrect comedy , but i laughed my head off . xxmaj the most offensive thing about \" xxmaj the xxmaj underground xxmaj comedy xxmaj movie \" is it 's not funny ! xxmaj what the writers and directors do n't understand is that merely being filthy and tasteless does n't work . xxmaj there has to be more ! xxmaj just think of the famous scene from \" xxmaj there 's xxmaj something xxmaj about xxmaj mary \" ( ironically , enough the bozo filmmakers put the xxmaj farrellys on their special thanks list ) . xxmaj the joke about the semen was n't just funny because it involved bodily fluids . xxmaj there was a buildup . xxmaj ben xxmaj stiller was masturbating in the bathroom to make sure he did n't go out on a date with a \" loaded gun . \" xxmaj then he looked around to see where all the semen went after it was released . a knock is on the door , and he has to answer it . xxmaj his date , xxmaj mary , is at the door and that 's when it 's revealed that the semen is hanging off xxmaj ben 's ear . xxmaj in this movie , there are multiple gags involving characters squirting loads of semen at people , with no buildup whatsoever . xxmaj as xxmaj jay xxmaj leno always says , \" xxmaj this comedy thing 's not so easy , is it ? \" xxmaj keep that in mind , xxmaj vince xxmaj offer , 'cause you were n't cut out for this genre ! ! xxmaj the only reason people might laugh at these gags is because they want to feel hip . xxmaj let 's face it , nowadays it 's hip to laugh at anything politically incorrect . i know comedy is subjective ... but this movie should n't be funny to anybody , except maybe the filmmakers themselves . xxmaj as a side note , the movie had to have been made before xxmaj michael xxmaj clarke xxmaj duncan 's fame in movies like \" xxmaj armageddon \" and \" xxmaj the xxmaj green xxmaj mile . \" xxmaj there ca n't be any other reason why an actor of his caliber would volunteer to be part of this amateurish freak show . xxmaj all the others in the cast are either non - actors , has - been actors or b - movie stars . xxmaj karen xxmaj black made a good impression in \" xxmaj five xxmaj easy xxmaj pieces , \" but i do n't think she 's done anything of value ever since . xxmaj slash was probably drugged into being in this film . xxmaj gina xxmaj lee xxmaj xxunk is nothing without \" xxmaj baywatch . \" xxmaj xxunk is the film 's biggest star ( keeping in mind xxmaj duncan was n't famous at the time ) , and there are still probably a ton of people who have n't heard of her -- for good reason . xxmaj usually , i 'm in support of extremely low - budget flicks , but this one deserves to drift into obscurity . i hope to xxmaj lord this does n't become a cult classic ! xxmaj should n't there be a law against distributing crap like this ?\n",
       "y: CategoryList\n",
       "neg,neg,neg,neg,neg\n",
       "Path: /root/.fastai/data/imdb;\n",
       "\n",
       "Valid: LabelList (25000 items)\n",
       "x: TextList\n",
       "xxbos i did n't know what to expect when i started watching this movie , by the end of it i was pulling my hairs out . xxmaj this was one of the most pathetic movies of this year ... in fact , in the last ten years . xxmaj david xxmaj dhawan should just give up his career as a director . i am yet to come across one original script that xxmaj david xxmaj dhawan has worked on . xxmaj this one was a complete bit y bit rip off xxmaj hitch . i have nothing against remakes as such , but this one is just so lousy that it makes you even hate the original one ( which was pretty decent ) . i fail to understand what actors like xxmaj salman and xxmaj govinda saw in this script . i read somewhere , that this was supposed to be xxmaj govinda 's comeback vehicle . xxmaj if that s true , then only xxmaj god can save his career . xxmaj salman just overacted to the hilt . xxmaj govinda who i think is an actor of very high caliber was completely wasted . xxmaj katrina xxmaj kaif and lara xxmaj dutta had nothing to do apart form wearing designer clothes and smiling for no rhyme or reason . xxmaj please stay away form this one !,xxbos xxmaj for several reasons , this movie is simply awful . xxmaj other posters have listed some of this movie 's historical errors . xxmaj well , i have a layman 's knowledge of xxmaj roman history and even i found the inaccuracies flagrant . i usually forgive errors in historical movies because i understand that the purpose is to entertain not educate . xxmaj and shrinking a long saga down to a two hour feature requires some , let 's say , historical license . xxmaj but this movie goes well beyond mere rounding . \n",
       " \n",
       "  xxmaj there 's worse . xxmaj to tell a story from a distant period , the movie uses flashbacks which just make the story more confusing . xxmaj unless viewers have some prior knowledge of the period , they will quickly be lost . xxmaj in addition , the movie was obviously filmed simultaneously in xxmaj italian and xxmaj english with various actors being dubbed later . xxmaj at times , the actors seem as if they were in completely different movies which were then edited together . xxmaj in fact , this is not far wrong . xxmaj the actors were obviously pasted onto a cheesy computer generated ancient xxmaj rome . \n",
       " \n",
       "  xxmaj the only reason i give this boring mess any stars is because i always find xxmaj peter o'toole entertaining . xxmaj but that is no reason to rent it . xxmaj if you are curious about xxmaj roman history , there are much better movies available .,xxbos xxmaj remember those terrible war movies your grandmother forced you to watch 25 or so years ago on your old xxup vhs recorder ? \" xxmaj the xxmaj fallen \" is just a bad executed remake of those movies ! xxmaj the story is terrible , the direction is terrible , the editing is terrible , the music is terrible , and all together make an unbearable nightmare . \n",
       " \n",
       "  xxmaj it is also terribly slow ! xxmaj very slow ! i tried to sleep while watching it but i could n't do it because i had nightmares of it . \n",
       " \n",
       "  xxmaj please do n't watch this movie ! xxmaj it is xxup that bad ! xxmaj ten lines is a lot so i do n't know what else to say . \n",
       " \n",
       "  xxmaj press the eject button xxup now and you wo nt regret it !,xxbos a post - apocalyptic warrior goes off to save some kind of xxmaj nun and on the way meets some cyber - punks on skates who want to kick his ass . xxmaj this is one of the hardest to watch films ever , xxmaj there are scenes with silence that seems to last hours before somebody comes out with the next badly written , badly acted line . xxmaj there are action sequences that keep repeating - and we 're not talking the quickfire 1 - 2 - 3 action repeat on a particularly good kick that was made popular by eastern directors , we 're talking many , many repeats of long , bad fight sequences . xxmaj this is incredibly confusing at first but then quickly becomes annoying as you 're watching a 30 second sequence for the 2nd , 3rd and 4th time . xxmaj any kind of plot or vision is lost within the confusing continuity , the only thing that s keeps this film in the xxunk ( apart from the bet from a friend that i could n't watch it all the way through without begging for it to be turned off and disposed off safely so it may harm no - one else ) is the fact that although painful , this film is unintentionally hilarious , i 'm not at all a fan of those \" so bad that it 's funny \" type of films but at parts i was in tears . xxmaj other points to note are the quality of the sound and picture but this is forgiveable as it 's obvious money was a major problem in the making of this film . xxmaj final verdict - xxmaj king of the \" so bad they 're funny \" genre , anybody having that kind of genre video night should get themselves a copy . xxmaj also lets not forget that it is actually the worst film i 've ever seen .,xxbos i believe that this movie was a terrible waste of my time , and i would know after watching it 5 times in class . this movie does not show what absolutely perfectly happened during these times . no one can truly say that these things happened to the letter . if anything the only good part would be the actors , even tho that they were really really xxunk were reading the script without expression . quite boring . i would rather watch play school . so i would definitely like to never ever see this movie again in my whole life . it is a complete waste of time unless you want your time to be wasted and if you would like to see an unrealistic view of what happened back in 1981 .\n",
       "y: CategoryList\n",
       "neg,neg,neg,neg,neg\n",
       "Path: /root/.fastai/data/imdb;\n",
       "\n",
       "Test: None, model=SequentialRNN(\n",
       "  (0): MultiBatchEncoder(\n",
       "    (module): AWD_LSTM(\n",
       "      (encoder): Embedding(60000, 400, padding_idx=1)\n",
       "      (encoder_dp): EmbeddingDropout(\n",
       "        (emb): Embedding(60000, 400, padding_idx=1)\n",
       "      )\n",
       "      (rnns): ModuleList(\n",
       "        (0): WeightDropout(\n",
       "          (module): LSTM(400, 1152, batch_first=True)\n",
       "        )\n",
       "        (1): WeightDropout(\n",
       "          (module): LSTM(1152, 1152, batch_first=True)\n",
       "        )\n",
       "        (2): WeightDropout(\n",
       "          (module): LSTM(1152, 400, batch_first=True)\n",
       "        )\n",
       "      )\n",
       "      (input_dp): RNNDropout()\n",
       "      (hidden_dps): ModuleList(\n",
       "        (0): RNNDropout()\n",
       "        (1): RNNDropout()\n",
       "        (2): RNNDropout()\n",
       "      )\n",
       "    )\n",
       "  )\n",
       "  (1): PoolingLinearClassifier(\n",
       "    (layers): Sequential(\n",
       "      (0): BatchNorm1d(1200, eps=1e-05, momentum=0.1, affine=True, track_running_stats=True)\n",
       "      (1): Dropout(p=0.12, inplace=False)\n",
       "      (2): Linear(in_features=1200, out_features=50, bias=True)\n",
       "      (3): ReLU(inplace=True)\n",
       "      (4): BatchNorm1d(50, eps=1e-05, momentum=0.1, affine=True, track_running_stats=True)\n",
       "      (5): Dropout(p=0.1, inplace=False)\n",
       "      (6): Linear(in_features=50, out_features=2, bias=True)\n",
       "    )\n",
       "  )\n",
       "), opt_func=functools.partial(<class 'torch.optim.adam.Adam'>, betas=(0.9, 0.99)), loss_func=FlattenedLoss of CrossEntropyLoss(), metrics=[<function accuracy at 0x7f5b3c89a9d8>], true_wd=True, bn_wd=True, wd=0.01, train_bn=True, path=PosixPath('/root/.fastai/data/imdb'), model_dir='models', callback_fns=[functools.partial(<class 'fastai.basic_train.Recorder'>, add_time=True, silent=False)], callbacks=[...], layer_groups=[Sequential(\n",
       "  (0): Embedding(60000, 400, padding_idx=1)\n",
       "  (1): EmbeddingDropout(\n",
       "    (emb): Embedding(60000, 400, padding_idx=1)\n",
       "  )\n",
       "), Sequential(\n",
       "  (0): WeightDropout(\n",
       "    (module): LSTM(400, 1152, batch_first=True)\n",
       "  )\n",
       "  (1): RNNDropout()\n",
       "), Sequential(\n",
       "  (0): WeightDropout(\n",
       "    (module): LSTM(1152, 1152, batch_first=True)\n",
       "  )\n",
       "  (1): RNNDropout()\n",
       "), Sequential(\n",
       "  (0): WeightDropout(\n",
       "    (module): LSTM(1152, 400, batch_first=True)\n",
       "  )\n",
       "  (1): RNNDropout()\n",
       "), Sequential(\n",
       "  (0): PoolingLinearClassifier(\n",
       "    (layers): Sequential(\n",
       "      (0): BatchNorm1d(1200, eps=1e-05, momentum=0.1, affine=True, track_running_stats=True)\n",
       "      (1): Dropout(p=0.12, inplace=False)\n",
       "      (2): Linear(in_features=1200, out_features=50, bias=True)\n",
       "      (3): ReLU(inplace=True)\n",
       "      (4): BatchNorm1d(50, eps=1e-05, momentum=0.1, affine=True, track_running_stats=True)\n",
       "      (5): Dropout(p=0.1, inplace=False)\n",
       "      (6): Linear(in_features=50, out_features=2, bias=True)\n",
       "    )\n",
       "  )\n",
       ")], add_time=True, silent=False)\n",
       "loss_scale: 65536\n",
       "max_noskip: 1000\n",
       "dynamic: True\n",
       "clip: None\n",
       "flat_master: False\n",
       "max_scale: 16777216\n",
       "loss_fp32: True], layer_groups=[Sequential(\n",
       "  (0): Embedding(60000, 400, padding_idx=1)\n",
       "  (1): EmbeddingDropout(\n",
       "    (emb): Embedding(60000, 400, padding_idx=1)\n",
       "  )\n",
       "), Sequential(\n",
       "  (0): WeightDropout(\n",
       "    (module): LSTM(400, 1152, batch_first=True)\n",
       "  )\n",
       "  (1): RNNDropout()\n",
       "), Sequential(\n",
       "  (0): WeightDropout(\n",
       "    (module): LSTM(1152, 1152, batch_first=True)\n",
       "  )\n",
       "  (1): RNNDropout()\n",
       "), Sequential(\n",
       "  (0): WeightDropout(\n",
       "    (module): LSTM(1152, 400, batch_first=True)\n",
       "  )\n",
       "  (1): RNNDropout()\n",
       "), Sequential(\n",
       "  (0): PoolingLinearClassifier(\n",
       "    (layers): Sequential(\n",
       "      (0): BatchNorm1d(1200, eps=1e-05, momentum=0.1, affine=True, track_running_stats=True)\n",
       "      (1): Dropout(p=0.12, inplace=False)\n",
       "      (2): Linear(in_features=1200, out_features=50, bias=True)\n",
       "      (3): ReLU(inplace=True)\n",
       "      (4): BatchNorm1d(50, eps=1e-05, momentum=0.1, affine=True, track_running_stats=True)\n",
       "      (5): Dropout(p=0.1, inplace=False)\n",
       "      (6): Linear(in_features=50, out_features=2, bias=True)\n",
       "    )\n",
       "  )\n",
       ")], add_time=True, silent=False)"
      ]
     },
     "execution_count": 12,
     "metadata": {},
     "output_type": "execute_result"
    }
   ],
   "source": [
    "learn_c.load('3rd')"
   ]
  },
  {
   "cell_type": "markdown",
   "metadata": {},
   "source": [
    "#### Unfreeze all the layers, train for two cycles, and save the result."
   ]
  },
  {
   "cell_type": "markdown",
   "metadata": {},
   "source": [
    "Note: at this step I encountered a `CUDA error: unspecified launch failure`. This is a known (and unsolved) problem with PyTorch when using an LSTM. https://github.com/pytorch/pytorch/issues/27837\n",
    "\n",
    "Nothing to do but try again... and it worked on the second try."
   ]
  },
  {
   "cell_type": "code",
   "execution_count": 32,
   "metadata": {},
   "outputs": [],
   "source": [
    "learn_c.data = data_clas"
   ]
  },
  {
   "cell_type": "code",
   "execution_count": 35,
   "metadata": {},
   "outputs": [],
   "source": [
    "import torch, gc\n",
    "gc.collect()\n",
    "torch.cuda.empty_cache()"
   ]
  },
  {
   "cell_type": "code",
   "execution_count": 46,
   "metadata": {},
   "outputs": [],
   "source": [
    "def pretty_size(size):\n",
    "\t\"\"\"Pretty prints a torch.Size object\"\"\"\n",
    "\tassert(isinstance(size, torch.Size))\n",
    "\treturn \" × \".join(map(str, size))\n",
    "\n",
    "def dump_tensors(gpu_only=True):\n",
    "\t\"\"\"Prints a list of the Tensors being tracked by the garbage collector.\"\"\"\n",
    "\timport gc\n",
    "\ttotal_size = 0\n",
    "\tfor obj in gc.get_objects():\n",
    "\t\ttry:\n",
    "\t\t\tif torch.is_tensor(obj):\n",
    "\t\t\t\tif not gpu_only or obj.is_cuda:\n",
    "\t\t\t\t\tprint(\"%s:%s%s %s\" % (type(obj).__name__, \n",
    "\t\t\t\t\t\t\t\t\t\t  \" GPU\" if obj.is_cuda else \"\",\n",
    "\t\t\t\t\t\t\t\t\t\t  \" pinned\" if obj.is_pinned else \"\",\n",
    "\t\t\t\t\t\t\t\t\t\t  pretty_size(obj.size())))\n",
    "\t\t\t\t\ttotal_size += obj.numel()\n",
    "\t\t\telif hasattr(obj, \"data\") and torch.is_tensor(obj.data):\n",
    "\t\t\t\tif not gpu_only or obj.is_cuda:\n",
    "\t\t\t\t\tprint(\"%s → %s:%s%s%s%s %s\" % (type(obj).__name__, \n",
    "\t\t\t\t\t\t\t\t\t\t\t\t   type(obj.data).__name__, \n",
    "\t\t\t\t\t\t\t\t\t\t\t\t   \" GPU\" if obj.is_cuda else \"\",\n",
    "\t\t\t\t\t\t\t\t\t\t\t\t   \" pinned\" if obj.data.is_pinned else \"\",\n",
    "\t\t\t\t\t\t\t\t\t\t\t\t   \" grad\" if obj.requires_grad else \"\", \n",
    "\t\t\t\t\t\t\t\t\t\t\t\t   \" volatile\" if obj.volatile else \"\",\n",
    "\t\t\t\t\t\t\t\t\t\t\t\t   pretty_size(obj.data.size())))\n",
    "\t\t\t\t\ttotal_size += obj.data.numel()\n",
    "\t\texcept Exception as e:\n",
    "\t\t\tpass        \n",
    "\tprint(\"Total size:\", total_size)"
   ]
  },
  {
   "cell_type": "code",
   "execution_count": 47,
   "metadata": {},
   "outputs": [
    {
     "name": "stdout",
     "output_type": "stream",
     "text": [
      "Tensor: GPU pinned 1 × 1 × 1152\n",
      "Tensor: GPU pinned 1 × 1 × 1152\n",
      "Tensor: GPU pinned 1 × 1 × 1152\n",
      "Tensor: GPU pinned 1 × 1 × 1152\n",
      "Tensor: GPU pinned 1 × 1 × 400\n",
      "Tensor: GPU pinned 1 × 1 × 400\n",
      "Tensor: GPU pinned 1 × 18 × 1152\n",
      "Tensor: GPU pinned 1 × 18 × 1152\n",
      "Tensor: GPU pinned 1 × 18 × 400\n",
      "Tensor: GPU pinned 1 × 18 × 1152\n",
      "Tensor: GPU pinned 1 × 18 × 1152\n",
      "Tensor: GPU pinned 1 × 18 × 400\n"
     ]
    },
    {
     "name": "stderr",
     "output_type": "stream",
     "text": [
      "/opt/conda/lib/python3.6/site-packages/ipykernel_launcher.py:19: FutureWarning: The pandas.np module is deprecated and will be removed from pandas in a future version. Import numpy directly instead\n",
      "/opt/conda/lib/python3.6/site-packages/ipykernel_launcher.py:19: FutureWarning: The pandas.datetime class is deprecated and will be removed from pandas in a future version. Import from datetime instead.\n"
     ]
    },
    {
     "name": "stdout",
     "output_type": "stream",
     "text": [
      "Parameter: GPU pinned 60000 × 400\n",
      "Parameter: GPU pinned 4608 × 1152\n",
      "Parameter: GPU pinned 4608 × 1152\n",
      "Parameter: GPU pinned 1600 × 400\n",
      "Parameter: GPU pinned 4608 × 400\n",
      "Parameter: GPU pinned 4608\n",
      "Parameter: GPU pinned 4608\n",
      "Parameter: GPU pinned 4608 × 1152\n",
      "Parameter: GPU pinned 4608\n",
      "Parameter: GPU pinned 4608\n",
      "Parameter: GPU pinned 1600 × 1152\n",
      "Parameter: GPU pinned 1600\n",
      "Parameter: GPU pinned 1600\n",
      "Parameter: GPU pinned 1200\n",
      "Parameter: GPU pinned 1200\n",
      "Tensor: GPU pinned \n",
      "Parameter: GPU pinned 50 × 1200\n",
      "Parameter: GPU pinned 50\n",
      "Parameter: GPU pinned 50\n",
      "Parameter: GPU pinned 50\n",
      "Tensor: GPU pinned \n",
      "Parameter: GPU pinned 2 × 50\n",
      "Parameter: GPU pinned 2\n",
      "Tensor: GPU pinned 1200\n",
      "Tensor: GPU pinned 1200\n",
      "Tensor: GPU pinned 50\n",
      "Tensor: GPU pinned 50\n",
      "Tensor: GPU pinned 60000 × 400\n",
      "Tensor: GPU pinned 4608 × 1152\n",
      "Tensor: GPU pinned 4608 × 400\n",
      "Tensor: GPU pinned 4608\n",
      "Tensor: GPU pinned 4608\n",
      "Tensor: GPU pinned 4608 × 1152\n",
      "Tensor: GPU pinned 4608 × 1152\n",
      "Tensor: GPU pinned 4608\n",
      "Tensor: GPU pinned 4608\n",
      "Tensor: GPU pinned 1600 × 400\n",
      "Tensor: GPU pinned 1600 × 1152\n",
      "Tensor: GPU pinned 1600\n",
      "Tensor: GPU pinned 1600\n",
      "Tensor: GPU pinned 1200\n",
      "Tensor: GPU pinned 1200\n",
      "Tensor: GPU pinned 50 × 1200\n",
      "Tensor: GPU pinned 50\n",
      "Tensor: GPU pinned 50\n",
      "Tensor: GPU pinned 50\n",
      "Tensor: GPU pinned 2 × 50\n",
      "Tensor: GPU pinned 2\n",
      "Tensor: GPU pinned 60000 × 400\n",
      "Tensor: GPU pinned 4608 × 1152\n",
      "Tensor: GPU pinned 4608 × 400\n",
      "Tensor: GPU pinned 4608\n",
      "Tensor: GPU pinned 4608\n",
      "Tensor: GPU pinned 4608 × 1152\n",
      "Tensor: GPU pinned 4608 × 1152\n",
      "Tensor: GPU pinned 4608\n",
      "Tensor: GPU pinned 4608\n",
      "Tensor: GPU pinned 1600 × 400\n",
      "Tensor: GPU pinned 1600 × 1152\n",
      "Tensor: GPU pinned 1600\n",
      "Tensor: GPU pinned 1600\n",
      "Tensor: GPU pinned 1200\n",
      "Tensor: GPU pinned 1200\n",
      "Tensor: GPU pinned 50 × 1200\n",
      "Tensor: GPU pinned 50\n",
      "Tensor: GPU pinned 50\n",
      "Tensor: GPU pinned 50\n",
      "Tensor: GPU pinned 2 × 50\n",
      "Tensor: GPU pinned 2\n",
      "Tensor: GPU pinned 24 × 142 × 1152\n",
      "Tensor: GPU pinned 24 × 142 × 1152\n",
      "Tensor: GPU pinned 24 × 142 × 400\n",
      "Tensor: GPU pinned 24 × 142 × 1152\n",
      "Tensor: GPU pinned 24 × 142 × 1152\n",
      "Tensor: GPU pinned 24 × 142 × 400\n",
      "Tensor: GPU pinned 4608 × 1152\n",
      "Tensor: GPU pinned 4608 × 1152\n",
      "Tensor: GPU pinned 1600 × 400\n",
      "Tensor: GPU pinned 1 × 24 × 1152\n",
      "Tensor: GPU pinned 1 × 24 × 1152\n",
      "Tensor: GPU pinned 1 × 24 × 1152\n",
      "Tensor: GPU pinned 1 × 24 × 1152\n",
      "Tensor: GPU pinned 1 × 24 × 400\n",
      "Tensor: GPU pinned 1 × 24 × 400\n",
      "Tensor: GPU pinned 60000 × 400\n",
      "Tensor: GPU pinned 4608 × 1152\n",
      "Tensor: GPU pinned 4608 × 400\n",
      "Tensor: GPU pinned 4608\n",
      "Tensor: GPU pinned 4608\n",
      "Tensor: GPU pinned 4608 × 1152\n",
      "Tensor: GPU pinned 4608 × 1152\n",
      "Tensor: GPU pinned 4608\n",
      "Tensor: GPU pinned 4608\n",
      "Tensor: GPU pinned 1600 × 400\n",
      "Tensor: GPU pinned 1600 × 1152\n",
      "Tensor: GPU pinned 1600\n",
      "Tensor: GPU pinned 1600\n",
      "Tensor: GPU pinned 1200\n",
      "Tensor: GPU pinned 1200\n",
      "Tensor: GPU pinned 50 × 1200\n",
      "Tensor: GPU pinned 50\n",
      "Tensor: GPU pinned 50\n",
      "Tensor: GPU pinned 50\n",
      "Tensor: GPU pinned 2 × 50\n",
      "Tensor: GPU pinned 2\n",
      "Parameter: GPU pinned 60000 × 400\n",
      "Parameter: GPU pinned 4608 × 1152\n",
      "Parameter: GPU pinned 4608 × 1152\n",
      "Parameter: GPU pinned 1600 × 400\n",
      "Parameter: GPU pinned 4608 × 400\n",
      "Parameter: GPU pinned 4608\n",
      "Parameter: GPU pinned 4608\n",
      "Parameter: GPU pinned 4608 × 1152\n",
      "Parameter: GPU pinned 4608\n",
      "Parameter: GPU pinned 4608\n",
      "Parameter: GPU pinned 1600 × 1152\n",
      "Parameter: GPU pinned 1600\n",
      "Parameter: GPU pinned 1600\n",
      "Tensor: GPU pinned 1200\n",
      "Tensor: GPU pinned 1200\n",
      "Tensor: GPU pinned \n",
      "Tensor: GPU pinned 50\n",
      "Tensor: GPU pinned 50\n",
      "Tensor: GPU pinned \n",
      "Parameter: GPU pinned 1200\n",
      "Parameter: GPU pinned 1200\n",
      "Parameter: GPU pinned 50 × 1200\n",
      "Parameter: GPU pinned 50\n",
      "Parameter: GPU pinned 50\n",
      "Parameter: GPU pinned 50\n",
      "Parameter: GPU pinned 2 × 50\n",
      "Parameter: GPU pinned 2\n",
      "Tensor: GPU pinned 60000 × 400\n",
      "Tensor: GPU pinned 4608 × 1152\n",
      "Tensor: GPU pinned 4608 × 400\n",
      "Tensor: GPU pinned 4608\n",
      "Tensor: GPU pinned 4608\n",
      "Tensor: GPU pinned 4608 × 1152\n",
      "Tensor: GPU pinned 4608 × 1152\n",
      "Tensor: GPU pinned 4608\n",
      "Tensor: GPU pinned 4608\n",
      "Tensor: GPU pinned 1600 × 400\n",
      "Tensor: GPU pinned 1600 × 1152\n",
      "Tensor: GPU pinned 1600\n",
      "Tensor: GPU pinned 1600\n",
      "Tensor: GPU pinned 1200\n",
      "Tensor: GPU pinned 1200\n",
      "Tensor: GPU pinned 50 × 1200\n",
      "Tensor: GPU pinned 50\n",
      "Tensor: GPU pinned 50\n",
      "Tensor: GPU pinned 50\n",
      "Tensor: GPU pinned 2 × 50\n",
      "Tensor: GPU pinned 2\n",
      "Tensor: GPU pinned 1 × 24 × 1152\n",
      "Tensor: GPU pinned 1 × 24 × 1152\n",
      "Tensor: GPU pinned 24 × 3351\n",
      "Tensor: GPU pinned 24\n",
      "Tensor: GPU pinned 24 × 70\n",
      "Tensor: GPU pinned 24 × 70\n",
      "Tensor: GPU pinned 24 × 70\n",
      "Tensor: GPU pinned 24 × 70\n",
      "Tensor: GPU pinned 24 × 70\n",
      "Tensor: GPU pinned 24 × 70\n",
      "Tensor: GPU pinned 24 × 70 × 400\n",
      "Tensor: GPU pinned 24 × 70 × 1152\n",
      "Tensor: GPU pinned 24 × 70 × 1152\n",
      "Tensor: GPU pinned 24 × 70 × 1152\n",
      "Tensor: GPU pinned 24 × 70 × 1152\n",
      "Tensor: GPU pinned 24 × 70\n",
      "Tensor: GPU pinned 24 × 70 × 400\n",
      "Tensor: GPU pinned 24 × 70 × 400\n",
      "Tensor: GPU pinned 24 × 70 × 1152\n",
      "Tensor: GPU pinned 24 × 70 × 1152\n",
      "Tensor: GPU pinned 24 × 70 × 400\n",
      "Tensor: GPU pinned 24 × 70 × 1152\n",
      "Tensor: GPU pinned 24 × 70 × 1152\n",
      "Tensor: GPU pinned 24 × 70 × 400\n",
      "Tensor: GPU pinned 24 × 70 × 1152\n",
      "Tensor: GPU pinned 24 × 70 × 1152\n",
      "Tensor: GPU pinned 24 × 70 × 400\n",
      "Tensor: GPU pinned 24 × 70 × 1152\n",
      "Tensor: GPU pinned 24 × 70 × 1152\n",
      "Tensor: GPU pinned 24 × 70 × 400\n",
      "Tensor: GPU pinned 24 × 70 × 1152\n",
      "Tensor: GPU pinned 24 × 70 × 1152\n",
      "Tensor: GPU pinned 24 × 70 × 1152\n",
      "Tensor: GPU pinned 24 × 70 × 1152\n",
      "Tensor: GPU pinned 24 × 70 × 1152\n",
      "Tensor: GPU pinned 24 × 70 × 1152\n",
      "Tensor: GPU pinned 24 × 70 × 1152\n",
      "Tensor: GPU pinned 24 × 70 × 1152\n",
      "Tensor: GPU pinned 24 × 70 × 1152\n",
      "Tensor: GPU pinned 24 × 70 × 1152\n",
      "Tensor: GPU pinned 24 × 70 × 1152\n",
      "Tensor: GPU pinned 24 × 70 × 1152\n",
      "Total size: 347240580\n"
     ]
    }
   ],
   "source": [
    "dump_tensors(gpu_only=True)"
   ]
  },
  {
   "cell_type": "code",
   "execution_count": 13,
   "metadata": {},
   "outputs": [
    {
     "data": {
      "text/html": [
       "<table border=\"1\" class=\"dataframe\">\n",
       "  <thead>\n",
       "    <tr style=\"text-align: left;\">\n",
       "      <th>epoch</th>\n",
       "      <th>train_loss</th>\n",
       "      <th>valid_loss</th>\n",
       "      <th>accuracy</th>\n",
       "      <th>time</th>\n",
       "    </tr>\n",
       "  </thead>\n",
       "  <tbody>\n",
       "    <tr>\n",
       "      <td>0</td>\n",
       "      <td>0.151772</td>\n",
       "      <td>0.148647</td>\n",
       "      <td>0.943080</td>\n",
       "      <td>06:53</td>\n",
       "    </tr>\n",
       "    <tr>\n",
       "      <td>1</td>\n",
       "      <td>0.103276</td>\n",
       "      <td>0.153657</td>\n",
       "      <td>0.943960</td>\n",
       "      <td>06:56</td>\n",
       "    </tr>\n",
       "  </tbody>\n",
       "</table>"
      ],
      "text/plain": [
       "<IPython.core.display.HTML object>"
      ]
     },
     "metadata": {},
     "output_type": "display_data"
    }
   ],
   "source": [
    "learn_c.unfreeze()\n",
    "learn_c.fit_one_cycle(2, slice(1e-3/(2.6**4),1e-3), moms=(0.8,0.7))"
   ]
  },
  {
   "cell_type": "markdown",
   "metadata": {},
   "source": [
    "The state of the art for this dataset in 2017 was 94.1%, and we have crushed it!!!"
   ]
  },
  {
   "cell_type": "markdown",
   "metadata": {},
   "source": [
    "#### Save the IMDb classifer model"
   ]
  },
  {
   "cell_type": "code",
   "execution_count": 12,
   "metadata": {},
   "outputs": [],
   "source": [
    "learn_c.save('clas')"
   ]
  },
  {
   "cell_type": "markdown",
   "metadata": {},
   "source": [
    "#### Let's look at a few examples, just to check that the classifier is working as we think it should. \n",
    "The three outputs of the model predition are the label (`pos` or `neg`) and the class probability estimates for `neg` and `pos`, which meausure the model's confidence in it's prediction. As we'd expect, the model is extremely confident that the first review is `pos` and quite confident that the second review is `neg`. So it passes the test with flying colors. "
   ]
  },
  {
   "cell_type": "code",
   "execution_count": 13,
   "metadata": {},
   "outputs": [
    {
     "name": "stderr",
     "output_type": "stream",
     "text": [
      "C:\\Users\\cross-entropy\\Anaconda3\\envs\\fastai\\lib\\site-packages\\fastai\\torch_core.py:83: UserWarning: Tensor is int32: upgrading to int64; for better performance use int64 input\n",
      "  warn('Tensor is int32: upgrading to int64; for better performance use int64 input')\n"
     ]
    },
    {
     "data": {
      "text/plain": [
       "(Category pos, tensor(1), tensor([0.0161, 0.9839]))"
      ]
     },
     "execution_count": 13,
     "metadata": {},
     "output_type": "execute_result"
    }
   ],
   "source": [
    "learn_c.predict(\"I really loved that movie, it was awesome!\")"
   ]
  },
  {
   "cell_type": "code",
   "execution_count": 14,
   "metadata": {},
   "outputs": [
    {
     "name": "stderr",
     "output_type": "stream",
     "text": [
      "C:\\Users\\cross-entropy\\Anaconda3\\envs\\fastai\\lib\\site-packages\\fastai\\torch_core.py:83: UserWarning: Tensor is int32: upgrading to int64; for better performance use int64 input\n",
      "  warn('Tensor is int32: upgrading to int64; for better performance use int64 input')\n"
     ]
    },
    {
     "data": {
      "text/plain": [
       "(Category neg, tensor(0), tensor([0.9698, 0.0302]))"
      ]
     },
     "execution_count": 14,
     "metadata": {},
     "output_type": "execute_result"
    }
   ],
   "source": [
    "learn_c.predict(\"I didn't really love that movie, and I didn't think it was awesome.\")"
   ]
  },
  {
   "cell_type": "markdown",
   "metadata": {},
   "source": [
    "#### Now that we've built the model, here is the part where you get to have some fun!! Take the model for a spin, try out your own examples!!"
   ]
  },
  {
   "cell_type": "markdown",
   "metadata": {
    "heading_collapsed": true
   },
   "source": [
    "## Appendix: Language Model Zoo"
   ]
  },
  {
   "cell_type": "markdown",
   "metadata": {
    "hidden": true
   },
   "source": [
    "fast.ai alumni have applied ULMFit to dozens of different languages, and have beat the SOTA in Thai, Polish, German, Indonesian, Hindi, & Malay.\n",
    "\n",
    "They share tips and best practices in [this forum thread](https://forums.fast.ai/t/language-model-zoo-gorilla/14623) in case you are interested in getting involved!\n",
    "\n",
    "<img src=\"images/language_model_zoo.png\" alt=\"language model zoo\" style=\"width: 80%\"/>"
   ]
  },
  {
   "cell_type": "code",
   "execution_count": null,
   "metadata": {
    "hidden": true
   },
   "outputs": [],
   "source": []
  }
 ],
 "metadata": {
  "jupytext": {
   "encoding": "# -*- coding: utf-8 -*-",
   "formats": "ipynb,py:percent"
  },
  "kernelspec": {
   "display_name": "Python 3",
   "language": "python",
   "name": "python3"
  },
  "language_info": {
   "codemirror_mode": {
    "name": "ipython",
    "version": 3
   },
   "file_extension": ".py",
   "mimetype": "text/x-python",
   "name": "python",
   "nbconvert_exporter": "python",
   "pygments_lexer": "ipython3",
   "version": "3.6.9"
  }
 },
 "nbformat": 4,
 "nbformat_minor": 2
}
